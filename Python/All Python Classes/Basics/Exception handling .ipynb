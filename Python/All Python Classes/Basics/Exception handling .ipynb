{
 "cells": [
  {
   "cell_type": "code",
   "execution_count": 1,
   "id": "af54fd7c",
   "metadata": {},
   "outputs": [
    {
     "ename": "NameError",
     "evalue": "name 'a' is not defined",
     "output_type": "error",
     "traceback": [
      "\u001b[1;31m---------------------------------------------------------------------------\u001b[0m",
      "\u001b[1;31mNameError\u001b[0m                                 Traceback (most recent call last)",
      "\u001b[1;32m~\\AppData\\Local\\Temp\\ipykernel_6956\\2167009006.py\u001b[0m in \u001b[0;36m<module>\u001b[1;34m\u001b[0m\n\u001b[1;32m----> 1\u001b[1;33m \u001b[0ma\u001b[0m\u001b[1;33m\u001b[0m\u001b[1;33m\u001b[0m\u001b[0m\n\u001b[0m",
      "\u001b[1;31mNameError\u001b[0m: name 'a' is not defined"
     ]
    }
   ],
   "source": [
    "a"
   ]
  },
  {
   "cell_type": "code",
   "execution_count": 8,
   "id": "c6a6aa12",
   "metadata": {},
   "outputs": [
    {
     "name": "stdout",
     "output_type": "stream",
     "text": [
      "Enter any numberdasfghj96532.\n",
      "error\n"
     ]
    }
   ],
   "source": [
    "try:\n",
    "    a = int(input(\"Enter any number\"))\n",
    "    print(a)\n",
    "except:\n",
    "    print('error')"
   ]
  },
  {
   "cell_type": "code",
   "execution_count": 13,
   "id": "7b086911",
   "metadata": {},
   "outputs": [],
   "source": [
    "l = [1,5,8,4,\"asdfag\",\"qwerfds\",9,5,2,4]"
   ]
  },
  {
   "cell_type": "code",
   "execution_count": 16,
   "id": "983b4461",
   "metadata": {},
   "outputs": [
    {
     "name": "stdout",
     "output_type": "stream",
     "text": [
      "1 Odd\n",
      "5 Odd\n",
      "8 Even\n",
      "4 Even\n",
      "9 Odd\n",
      "5 Odd\n",
      "2 Even\n",
      "4 Even\n"
     ]
    }
   ],
   "source": [
    "for i in l:\n",
    "    try:\n",
    "        if i % 2 == 0:\n",
    "            print(i, \"Even\")\n",
    "        else:\n",
    "            print(i,\"Odd\")\n",
    "    except:\n",
    "        pass"
   ]
  },
  {
   "cell_type": "code",
   "execution_count": 18,
   "id": "41b63a96",
   "metadata": {},
   "outputs": [
    {
     "name": "stdout",
     "output_type": "stream",
     "text": [
      "enter any numadsf\n",
      "Error\n"
     ]
    }
   ],
   "source": [
    "try:\n",
    "    x = int(input(\"enter any num\"))\n",
    "    print(x)\n",
    "except:\n",
    "    print(\"Error\")"
   ]
  },
  {
   "cell_type": "code",
   "execution_count": 21,
   "id": "681c0f8d",
   "metadata": {},
   "outputs": [
    {
     "name": "stdout",
     "output_type": "stream",
     "text": [
      "adsf\n",
      "invalid literal for int() with base 10: 'adsf'\n"
     ]
    }
   ],
   "source": [
    "try:\n",
    "    print(int(input()))\n",
    "except Exception as e:\n",
    "    print(e)"
   ]
  },
  {
   "cell_type": "code",
   "execution_count": 26,
   "id": "07361a49",
   "metadata": {},
   "outputs": [
    {
     "name": "stdout",
     "output_type": "stream",
     "text": [
      "57\n",
      "3\n",
      "19.0\n",
      "name 'abc' is not defined\n"
     ]
    }
   ],
   "source": [
    "try:\n",
    "    x = int(input())\n",
    "    y = int(input())\n",
    "    print(x/y)\n",
    "    print(abc)\n",
    "except Exception as e:\n",
    "    print(e)"
   ]
  },
  {
   "cell_type": "code",
   "execution_count": 33,
   "id": "a454a42d",
   "metadata": {},
   "outputs": [
    {
     "name": "stdout",
     "output_type": "stream",
     "text": [
      "632\n",
      "4\n",
      "158.0\n",
      "name 'abc' is not defined\n"
     ]
    }
   ],
   "source": [
    "try:\n",
    "    x = int(input())\n",
    "    y = int(input())\n",
    "    print(x/y)\n",
    "    print(abc)\n",
    "# except Exception as e:\n",
    "#     print(e)\n",
    "\n",
    "except ZeroDivisionError as z:\n",
    "    print(z)\n",
    "except NameError as n:\n",
    "    print(n)"
   ]
  },
  {
   "cell_type": "code",
   "execution_count": 34,
   "id": "16162898-b027-4d1a-8bf8-2cc4cb63d7e3",
   "metadata": {},
   "outputs": [
    {
     "name": "stdout",
     "output_type": "stream",
     "text": [
      "division by zero\n",
      "\n",
      "invalid literal for int() with base 10: 'gaurav'\n"
     ]
    }
   ],
   "source": [
    "try :\n",
    "    x = 5/0\n",
    "except ZeroDivisionError as z :\n",
    "    print(z,end = '\\n\\n')\n",
    "    try : \n",
    "        y = int(\"gaurav\")\n",
    "    except ValueError as v:\n",
    "        print(v)\n",
    "    "
   ]
  },
  {
   "cell_type": "code",
   "execution_count": null,
   "id": "3ea20578",
   "metadata": {},
   "outputs": [],
   "source": []
  },
  {
   "cell_type": "code",
   "execution_count": 43,
   "id": "23bcc1f6",
   "metadata": {},
   "outputs": [
    {
     "name": "stdout",
     "output_type": "stream",
     "text": [
      "12.0\n",
      "Very Good - No Error\n",
      "Always Run\n"
     ]
    }
   ],
   "source": [
    "try:\n",
    "    a = 12/1\n",
    "    print(a)\n",
    "except Exception as e:\n",
    "    print(e)\n",
    "else:\n",
    "    print(\"Very Good - No Error\")\n",
    "finally:\n",
    "    print(\"Always Run\")"
   ]
  },
  {
   "cell_type": "code",
   "execution_count": 35,
   "id": "3a96341e-357f-4c34-bda0-5ffe9ff8bc11",
   "metadata": {},
   "outputs": [
    {
     "name": "stdout",
     "output_type": "stream",
     "text": [
      "this will execute itself once try will execute without and error\n",
      "this will be executed always\n"
     ]
    }
   ],
   "source": [
    "try :\n",
    "    x = 5/1\n",
    "except ZeroDivisionError as z :\n",
    "    print(z)\n",
    "else:\n",
    "    print(\"this will execute itself once try will execute without and error\")\n",
    "finally : \n",
    "    print(\"this will be executed always\")"
   ]
  },
  {
   "cell_type": "code",
   "execution_count": 35,
   "id": "c18ccfcd-0a28-4a8f-8606-70da33df0be8",
   "metadata": {},
   "outputs": [
    {
     "name": "stdout",
     "output_type": "stream",
     "text": [
      "'roll_no'\n",
      "this is a keyerror\n"
     ]
    }
   ],
   "source": [
    "try:\n",
    "    d = {\"name\" : \"gaurav\" , \"mobile_no\" : 65465 , \"email_id\": \"gaurav@gmail.com\"}\n",
    "    print(d[\"roll_no\"])\n",
    "except Exception as e :\n",
    "    print(e)\n",
    "    print(\"this is a keyerror\")"
   ]
  },
  {
   "cell_type": "code",
   "execution_count": 37,
   "id": "d8b83944-2569-453d-bb83-e1fc45a421d1",
   "metadata": {},
   "outputs": [
    {
     "name": "stdout",
     "output_type": "stream",
     "text": [
      "list index out of range\n"
     ]
    }
   ],
   "source": [
    "try:\n",
    "    l = [4,5,6,7,7,8]\n",
    "    print(l[10])\n",
    "except Exception as e :\n",
    "    print(e)"
   ]
  },
  {
   "cell_type": "code",
   "execution_count": 38,
   "id": "8ee57660-379a-4572-b6d8-03d3d65c6064",
   "metadata": {},
   "outputs": [
    {
     "name": "stdout",
     "output_type": "stream",
     "text": [
      "invalid literal for int() with base 10: 'gaurav'\n"
     ]
    }
   ],
   "source": [
    "try:    \n",
    "    a = \"gaurav\"\n",
    "    int(a)\n",
    "except Exception as e :\n",
    "    print(e)"
   ]
  },
  {
   "cell_type": "code",
   "execution_count": 44,
   "id": "cc14c0d9-f36a-44ae-a8f0-21f7212df2a2",
   "metadata": {},
   "outputs": [
    {
     "name": "stdout",
     "output_type": "stream",
     "text": [
      "enter a numberadsf\n",
      "user has entered invalid input or may be zero\n"
     ]
    }
   ],
   "source": [
    "try :\n",
    "    \n",
    "    n = int(input(\"enter a number\"))\n",
    "    div  = 342/n\n",
    "    print(div)\n",
    "except (ValueError,ZeroDivisionError) :\n",
    "    print(\"user has entered invalid input or may be zero\")"
   ]
  },
  {
   "cell_type": "code",
   "execution_count": 45,
   "id": "b58efd91",
   "metadata": {},
   "outputs": [
    {
     "name": "stdout",
     "output_type": "stream",
     "text": [
      "Enter54\n",
      "10817.703703703704\n"
     ]
    }
   ],
   "source": [
    "try:\n",
    "    try:\n",
    "        n = int(input(\"Enter\"))\n",
    "        div = 584156 / n\n",
    "        print(div)\n",
    "    except ZeroDivisionError as z:\n",
    "        print(z)\n",
    "except ValueError as v:\n",
    "    print(\"This is my value error\",v)"
   ]
  },
  {
   "cell_type": "code",
   "execution_count": 35,
   "id": "04af3237-e5e2-4898-bdd6-66c6022af93a",
   "metadata": {},
   "outputs": [
    {
     "name": "stdout",
     "output_type": "stream",
     "text": [
      "enter a number\n",
      "user has entered finvalid input or may b zero\n"
     ]
    }
   ],
   "source": [
    "try :\n",
    "    n = int(input(\"enter a number\"))\n",
    "    div  = 342/n\n",
    "    print(div)\n",
    "except Exception :\n",
    "    print(\"user has entered finvalid input or may b zero\")"
   ]
  },
  {
   "cell_type": "markdown",
   "id": "96992f08",
   "metadata": {},
   "source": [
    "# File Handling"
   ]
  },
  {
   "cell_type": "code",
   "execution_count": 48,
   "id": "418f1212",
   "metadata": {},
   "outputs": [
    {
     "data": {
      "text/plain": [
       "'C:\\\\Users\\\\gaura\\\\Python\\\\All Python Classes\\\\Basics'"
      ]
     },
     "execution_count": 48,
     "metadata": {},
     "output_type": "execute_result"
    }
   ],
   "source": [
    "pwd"
   ]
  },
  {
   "cell_type": "code",
   "execution_count": 49,
   "id": "a6c55e1c",
   "metadata": {
    "scrolled": false
   },
   "outputs": [
    {
     "name": "stdout",
     "output_type": "stream",
     "text": [
      " Volume in drive C has no label.\n",
      " Volume Serial Number is 2CA2-1599\n",
      "\n",
      " Directory of C:\\Users\\gaura\\Python\\All Python Classes\\Basics\n",
      "\n",
      "14-06-2025  05:34 PM    <DIR>          .\n",
      "03-04-2025  07:40 PM    <DIR>          ..\n",
      "09-04-2025  11:00 AM    <DIR>          .ipynb_checkpoints\n",
      "12-06-2025  11:27 AM                14 abc\n",
      "12-06-2025  11:26 AM                14 abc.txt\n",
      "02-06-2025  03:55 PM               900 Ankur.txt\n",
      "11-12-2024  01:18 PM            15,851 Assignment Practice.ipynb\n",
      "27-05-2025  06:27 PM            33,618 Class_1_python_basic_variables_.ipynb\n",
      "05-06-2025  05:30 PM            45,019 Class_10_functions_Practice.ipynb\n",
      "01-06-2025  06:03 PM            80,997 Class_2 Data Stucture (List,Tuple,Set,Dict).ipynb\n",
      "22-05-2025  11:48 AM            21,035 Class_3_Operators.ipynb\n",
      "02-06-2025  11:26 AM            57,564 Class_4_if else statement For Loop.ipynb\n",
      "22-08-2024  09:50 AM            20,828 Class_5_revision_conditional statement and loops.ipynb\n",
      "02-06-2025  11:50 AM            17,866 Class_6_While - break, continue, pass.ipynb\n",
      "04-06-2025  12:08 PM            14,726 Class_7_define_functions.ipynb\n",
      "30-03-2025  12:34 PM            15,413 class_8_revision.ipynb\n",
      "10-06-2025  11:28 AM            68,012 Class_9_ for loop , lambda , map , reduce ,filter.ipynb\n",
      "14-06-2025  05:34 PM            36,311 Exception handling .ipynb\n",
      "02-06-2025  04:01 PM                84 manohar.txt\n",
      "02-06-2025  12:24 PM           949,531 Matplotlib and seaborn.ipynb\n",
      "19-01-2025  04:10 PM            37,360 Numpy advance 2.ipynb\n",
      "16-04-2025  03:52 PM            18,255 Numpy Practice.ipynb\n",
      "26-05-2025  12:58 PM            72,890 Numpy_advance.ipynb\n",
      "11-04-2024  07:50 PM             5,291 numpy_arrays_faster_than_list.ipynb\n",
      "12-06-2025  03:50 PM            33,739 Numpy_basics.ipynb\n",
      "12-01-2025  02:50 PM             6,801 python_game.ipynb\n",
      "04-03-2025  08:46 PM    <DIR>          Raw_file\n",
      "02-02-2025  10:39 AM    <DIR>          Untitled Folder\n",
      "24-04-2025  03:18 PM               589 Untitled.ipynb\n",
      "              24 File(s)      1,552,708 bytes\n",
      "               5 Dir(s)  174,253,404,160 bytes free\n"
     ]
    }
   ],
   "source": [
    "ls"
   ]
  },
  {
   "cell_type": "code",
   "execution_count": 50,
   "id": "1270325d",
   "metadata": {},
   "outputs": [],
   "source": [
    "a = open(\"abcd.txt\",\"w\")"
   ]
  },
  {
   "cell_type": "code",
   "execution_count": 51,
   "id": "b5594798",
   "metadata": {},
   "outputs": [
    {
     "data": {
      "text/plain": [
       "14"
      ]
     },
     "execution_count": 51,
     "metadata": {},
     "output_type": "execute_result"
    }
   ],
   "source": [
    "a.write(\"asdfjklasdflkj\")"
   ]
  },
  {
   "cell_type": "code",
   "execution_count": 52,
   "id": "8de09dea",
   "metadata": {},
   "outputs": [],
   "source": [
    "a.close()"
   ]
  },
  {
   "cell_type": "code",
   "execution_count": 58,
   "id": "4989ee13",
   "metadata": {},
   "outputs": [],
   "source": [
    "a = open(\"abcd.txt\",\"r\")"
   ]
  },
  {
   "cell_type": "code",
   "execution_count": 59,
   "id": "0336749a",
   "metadata": {},
   "outputs": [
    {
     "data": {
      "text/plain": [
       "'asdfjklasdflkj'"
      ]
     },
     "execution_count": 59,
     "metadata": {},
     "output_type": "execute_result"
    }
   ],
   "source": [
    "a.read()"
   ]
  },
  {
   "cell_type": "code",
   "execution_count": 60,
   "id": "e8dd5f2b",
   "metadata": {},
   "outputs": [
    {
     "data": {
      "text/plain": [
       "''"
      ]
     },
     "execution_count": 60,
     "metadata": {},
     "output_type": "execute_result"
    }
   ],
   "source": [
    "a.read()"
   ]
  },
  {
   "cell_type": "code",
   "execution_count": 61,
   "id": "eceef8bf",
   "metadata": {},
   "outputs": [
    {
     "data": {
      "text/plain": [
       "1"
      ]
     },
     "execution_count": 61,
     "metadata": {},
     "output_type": "execute_result"
    }
   ],
   "source": [
    "a.seek(1)"
   ]
  },
  {
   "cell_type": "code",
   "execution_count": 62,
   "id": "6fff9cc1",
   "metadata": {},
   "outputs": [
    {
     "data": {
      "text/plain": [
       "'sdfjklasdflkj'"
      ]
     },
     "execution_count": 62,
     "metadata": {},
     "output_type": "execute_result"
    }
   ],
   "source": [
    "a.read()"
   ]
  },
  {
   "cell_type": "code",
   "execution_count": 63,
   "id": "17a022b5",
   "metadata": {},
   "outputs": [
    {
     "data": {
      "text/plain": [
       "0"
      ]
     },
     "execution_count": 63,
     "metadata": {},
     "output_type": "execute_result"
    }
   ],
   "source": [
    "a.seek(0)"
   ]
  },
  {
   "cell_type": "code",
   "execution_count": 64,
   "id": "23da035b",
   "metadata": {},
   "outputs": [
    {
     "data": {
      "text/plain": [
       "'asdfjklasdflkj'"
      ]
     },
     "execution_count": 64,
     "metadata": {},
     "output_type": "execute_result"
    }
   ],
   "source": [
    "a.read()"
   ]
  },
  {
   "cell_type": "code",
   "execution_count": 65,
   "id": "cb2be901",
   "metadata": {},
   "outputs": [],
   "source": [
    "a.close()"
   ]
  },
  {
   "cell_type": "code",
   "execution_count": null,
   "id": "23df2480",
   "metadata": {},
   "outputs": [],
   "source": []
  },
  {
   "cell_type": "code",
   "execution_count": 70,
   "id": "c9d534ec",
   "metadata": {},
   "outputs": [],
   "source": [
    "with open(\"abcd.txt\",\"a\") as ab:\n",
    "    ab.write(\" This is my extended line\")\n",
    "    \n",
    "    \n",
    "    ab.write(\"asdfkjadsf\")"
   ]
  },
  {
   "cell_type": "code",
   "execution_count": 68,
   "id": "bcea5fca",
   "metadata": {},
   "outputs": [
    {
     "ename": "ValueError",
     "evalue": "I/O operation on closed file.",
     "output_type": "error",
     "traceback": [
      "\u001b[1;31m---------------------------------------------------------------------------\u001b[0m",
      "\u001b[1;31mValueError\u001b[0m                                Traceback (most recent call last)",
      "\u001b[1;32m~\\AppData\\Local\\Temp\\ipykernel_6956\\1546636436.py\u001b[0m in \u001b[0;36m<module>\u001b[1;34m\u001b[0m\n\u001b[1;32m----> 1\u001b[1;33m \u001b[0mab\u001b[0m\u001b[1;33m.\u001b[0m\u001b[0mwrite\u001b[0m\u001b[1;33m(\u001b[0m\u001b[1;34m\"asdfkjadsf\"\u001b[0m\u001b[1;33m)\u001b[0m\u001b[1;33m\u001b[0m\u001b[1;33m\u001b[0m\u001b[0m\n\u001b[0m",
      "\u001b[1;31mValueError\u001b[0m: I/O operation on closed file."
     ]
    }
   ],
   "source": [
    "ab.write(\"asdfkjadsf\")"
   ]
  },
  {
   "cell_type": "code",
   "execution_count": null,
   "id": "01c2e3a4",
   "metadata": {},
   "outputs": [],
   "source": []
  },
  {
   "cell_type": "code",
   "execution_count": 4,
   "id": "af48b4ac",
   "metadata": {},
   "outputs": [],
   "source": [
    "x = open(\"manohar.txt\",\"r\")"
   ]
  },
  {
   "cell_type": "code",
   "execution_count": 5,
   "id": "56998e3d",
   "metadata": {},
   "outputs": [
    {
     "data": {
      "text/plain": [
       "'asfdkjhasvlkjaslkdhfjthis is another classthis is another classthis is another class'"
      ]
     },
     "execution_count": 5,
     "metadata": {},
     "output_type": "execute_result"
    }
   ],
   "source": [
    "x.read()"
   ]
  },
  {
   "cell_type": "code",
   "execution_count": 8,
   "id": "a5224c21",
   "metadata": {},
   "outputs": [
    {
     "data": {
      "text/plain": [
       "2"
      ]
     },
     "execution_count": 8,
     "metadata": {},
     "output_type": "execute_result"
    }
   ],
   "source": [
    "x.seek(2)"
   ]
  },
  {
   "cell_type": "code",
   "execution_count": 9,
   "id": "0d4a9b9e",
   "metadata": {},
   "outputs": [
    {
     "data": {
      "text/plain": [
       "'fdkjhasvlkjaslkdhfjthis is another classthis is another classthis is another class'"
      ]
     },
     "execution_count": 9,
     "metadata": {},
     "output_type": "execute_result"
    }
   ],
   "source": [
    "x.read()"
   ]
  },
  {
   "cell_type": "code",
   "execution_count": 10,
   "id": "d122c2cb",
   "metadata": {},
   "outputs": [],
   "source": [
    "x.close()"
   ]
  },
  {
   "cell_type": "code",
   "execution_count": 11,
   "id": "5bd4c555",
   "metadata": {
    "scrolled": true
   },
   "outputs": [
    {
     "ename": "ValueError",
     "evalue": "I/O operation on closed file.",
     "output_type": "error",
     "traceback": [
      "\u001b[1;31m---------------------------------------------------------------------------\u001b[0m",
      "\u001b[1;31mValueError\u001b[0m                                Traceback (most recent call last)",
      "\u001b[1;32m~\\AppData\\Local\\Temp\\ipykernel_15436\\2978891941.py\u001b[0m in \u001b[0;36m<module>\u001b[1;34m\u001b[0m\n\u001b[1;32m----> 1\u001b[1;33m \u001b[0mx\u001b[0m\u001b[1;33m.\u001b[0m\u001b[0mread\u001b[0m\u001b[1;33m(\u001b[0m\u001b[1;33m)\u001b[0m\u001b[1;33m\u001b[0m\u001b[1;33m\u001b[0m\u001b[0m\n\u001b[0m",
      "\u001b[1;31mValueError\u001b[0m: I/O operation on closed file."
     ]
    }
   ],
   "source": [
    "x.read()"
   ]
  },
  {
   "cell_type": "code",
   "execution_count": 14,
   "id": "14c68f6a",
   "metadata": {},
   "outputs": [],
   "source": [
    "x = open(\"abc.txt\",\"w\")"
   ]
  },
  {
   "cell_type": "code",
   "execution_count": 15,
   "id": "ebddacf0",
   "metadata": {
    "scrolled": true
   },
   "outputs": [
    {
     "data": {
      "text/plain": [
       "14"
      ]
     },
     "execution_count": 15,
     "metadata": {},
     "output_type": "execute_result"
    }
   ],
   "source": [
    "x.write(\"this is my abc\")"
   ]
  },
  {
   "cell_type": "code",
   "execution_count": 16,
   "id": "fa497124",
   "metadata": {},
   "outputs": [],
   "source": [
    "x.close()"
   ]
  },
  {
   "cell_type": "code",
   "execution_count": null,
   "id": "b9cfca52",
   "metadata": {},
   "outputs": [],
   "source": []
  },
  {
   "cell_type": "code",
   "execution_count": 18,
   "id": "e2bf0da7",
   "metadata": {},
   "outputs": [],
   "source": [
    "a = open(\"abc\",\"w\")"
   ]
  },
  {
   "cell_type": "code",
   "execution_count": 19,
   "id": "4d631dd5",
   "metadata": {
    "scrolled": true
   },
   "outputs": [
    {
     "data": {
      "text/plain": [
       "14"
      ]
     },
     "execution_count": 19,
     "metadata": {},
     "output_type": "execute_result"
    }
   ],
   "source": [
    "a.write(\"asdfhkjasgflkj\")"
   ]
  },
  {
   "cell_type": "code",
   "execution_count": 20,
   "id": "f3661239",
   "metadata": {},
   "outputs": [],
   "source": [
    "a.close()"
   ]
  },
  {
   "cell_type": "code",
   "execution_count": 71,
   "id": "7d4f024c",
   "metadata": {},
   "outputs": [
    {
     "data": {
      "text/plain": [
       "'C:\\\\Users\\\\gaura\\\\Python\\\\All Python Classes\\\\Basics'"
      ]
     },
     "execution_count": 71,
     "metadata": {},
     "output_type": "execute_result"
    }
   ],
   "source": [
    "pwd"
   ]
  },
  {
   "cell_type": "code",
   "execution_count": 72,
   "id": "7431936a",
   "metadata": {},
   "outputs": [
    {
     "name": "stdout",
     "output_type": "stream",
     "text": [
      "C:\\Users\\gaura\\OneDrive\\Desktop\\Practice\n"
     ]
    }
   ],
   "source": [
    "cd C:\\Users\\gaura\\OneDrive\\Desktop\\Practice"
   ]
  },
  {
   "cell_type": "code",
   "execution_count": 73,
   "id": "f4c9ce13",
   "metadata": {},
   "outputs": [
    {
     "name": "stdout",
     "output_type": "stream",
     "text": [
      " Volume in drive C has no label.\n",
      " Volume Serial Number is 2CA2-1599\n",
      "\n",
      " Directory of C:\\Users\\gaura\\OneDrive\\Desktop\\Practice\n",
      "\n",
      "12-06-2025  11:30 AM    <DIR>          .\n",
      "14-06-2025  04:22 PM    <DIR>          ..\n",
      "11-05-2025  10:42 PM    <DIR>          Excel\n",
      "25-01-2025  01:21 PM    <DIR>          FrontEnd\n",
      "05-03-2025  12:51 AM    <DIR>          isha\n",
      "20-01-2025  04:46 PM    <DIR>          Java Script\n",
      "16-04-2025  03:58 PM    <DIR>          Pizza Sales Project\n",
      "09-06-2025  09:47 AM    <DIR>          Power Bi\n",
      "26-01-2025  09:48 AM    <DIR>          Python Django\n",
      "05-02-2024  02:47 AM    <DIR>          Spam-detection-main\n",
      "               0 File(s)              0 bytes\n",
      "              10 Dir(s)  174,247,710,720 bytes free\n"
     ]
    }
   ],
   "source": [
    "ls"
   ]
  },
  {
   "cell_type": "code",
   "execution_count": 74,
   "id": "51d67da2",
   "metadata": {},
   "outputs": [],
   "source": [
    "with open(\"new.txt\",\"w\") as n:\n",
    "    n.write(\"this is my new file\")"
   ]
  },
  {
   "cell_type": "code",
   "execution_count": 75,
   "id": "e6a716d8",
   "metadata": {},
   "outputs": [],
   "source": [
    "import os"
   ]
  },
  {
   "cell_type": "code",
   "execution_count": 77,
   "id": "d0442deb",
   "metadata": {},
   "outputs": [
    {
     "data": {
      "text/plain": [
       "19"
      ]
     },
     "execution_count": 77,
     "metadata": {},
     "output_type": "execute_result"
    }
   ],
   "source": [
    "os.path.getsize('new.txt')"
   ]
  },
  {
   "cell_type": "code",
   "execution_count": 78,
   "id": "00a84569",
   "metadata": {},
   "outputs": [],
   "source": [
    "os.remove(\"new.txt\")"
   ]
  },
  {
   "cell_type": "code",
   "execution_count": 79,
   "id": "155e3f7f",
   "metadata": {},
   "outputs": [
    {
     "name": "stdout",
     "output_type": "stream",
     "text": [
      " Volume in drive C has no label.\n",
      " Volume Serial Number is 2CA2-1599\n",
      "\n",
      " Directory of C:\\Users\\gaura\\OneDrive\\Desktop\\Practice\n",
      "\n",
      "14-06-2025  05:47 PM    <DIR>          .\n",
      "14-06-2025  04:22 PM    <DIR>          ..\n",
      "11-05-2025  10:42 PM    <DIR>          Excel\n",
      "25-01-2025  01:21 PM    <DIR>          FrontEnd\n",
      "05-03-2025  12:51 AM    <DIR>          isha\n",
      "20-01-2025  04:46 PM    <DIR>          Java Script\n",
      "16-04-2025  03:58 PM    <DIR>          Pizza Sales Project\n",
      "09-06-2025  09:47 AM    <DIR>          Power Bi\n",
      "26-01-2025  09:48 AM    <DIR>          Python Django\n",
      "05-02-2024  02:47 AM    <DIR>          Spam-detection-main\n",
      "               0 File(s)              0 bytes\n",
      "              10 Dir(s)  174,251,352,064 bytes free\n"
     ]
    }
   ],
   "source": [
    "ls"
   ]
  },
  {
   "cell_type": "code",
   "execution_count": null,
   "id": "2d574916",
   "metadata": {},
   "outputs": [],
   "source": []
  },
  {
   "cell_type": "code",
   "execution_count": null,
   "id": "2cdad81a",
   "metadata": {},
   "outputs": [],
   "source": []
  },
  {
   "cell_type": "code",
   "execution_count": null,
   "id": "f89642fe",
   "metadata": {},
   "outputs": [],
   "source": []
  },
  {
   "cell_type": "code",
   "execution_count": null,
   "id": "1bd747ff",
   "metadata": {},
   "outputs": [],
   "source": []
  },
  {
   "cell_type": "code",
   "execution_count": null,
   "id": "efdbbcd0",
   "metadata": {},
   "outputs": [],
   "source": []
  },
  {
   "cell_type": "code",
   "execution_count": null,
   "id": "69ed29ed",
   "metadata": {},
   "outputs": [],
   "source": []
  }
 ],
 "metadata": {
  "kernelspec": {
   "display_name": "Python 3 (ipykernel)",
   "language": "python",
   "name": "python3"
  },
  "language_info": {
   "codemirror_mode": {
    "name": "ipython",
    "version": 3
   },
   "file_extension": ".py",
   "mimetype": "text/x-python",
   "name": "python",
   "nbconvert_exporter": "python",
   "pygments_lexer": "ipython3",
   "version": "3.9.13"
  }
 },
 "nbformat": 4,
 "nbformat_minor": 5
}
