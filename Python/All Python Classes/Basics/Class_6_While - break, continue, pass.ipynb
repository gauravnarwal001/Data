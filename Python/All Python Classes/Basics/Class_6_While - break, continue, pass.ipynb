{
 "cells": [
  {
   "cell_type": "raw",
   "id": "3a62c29f",
   "metadata": {},
   "source": [
    "while <condition>:\n",
    "    Code "
   ]
  },
  {
   "cell_type": "code",
   "execution_count": 1,
   "id": "fe6fe976",
   "metadata": {},
   "outputs": [
    {
     "name": "stdout",
     "output_type": "stream",
     "text": [
      "1\n",
      "2\n",
      "3\n",
      "4\n",
      "5\n",
      "6\n",
      "7\n",
      "8\n",
      "9\n"
     ]
    }
   ],
   "source": [
    "a = 1\n",
    "while a < 10:\n",
    "    print(a)\n",
    "    a += 1"
   ]
  },
  {
   "cell_type": "code",
   "execution_count": 3,
   "id": "b95f24ad",
   "metadata": {},
   "outputs": [
    {
     "name": "stdout",
     "output_type": "stream",
     "text": [
      "1\n",
      "2\n",
      "3\n",
      "4\n"
     ]
    }
   ],
   "source": [
    "a = 1\n",
    "while a < 10:\n",
    "    if a == 5:\n",
    "        break\n",
    "    print(a)  \n",
    "    a += 1\n",
    "    "
   ]
  },
  {
   "cell_type": "code",
   "execution_count": 8,
   "id": "974148ef",
   "metadata": {},
   "outputs": [
    {
     "name": "stdout",
     "output_type": "stream",
     "text": [
      "1\n",
      "2\n",
      "3\n",
      "4\n",
      "6\n",
      "7\n",
      "8\n",
      "9\n"
     ]
    }
   ],
   "source": [
    "a = 1\n",
    "while a < 10:\n",
    "    if a == 5:\n",
    "        a += 1\n",
    "        continue\n",
    "        \n",
    "    print(a)  \n",
    "    a += 1\n",
    "    "
   ]
  },
  {
   "cell_type": "code",
   "execution_count": 9,
   "id": "3ca0aa49",
   "metadata": {},
   "outputs": [
    {
     "name": "stdout",
     "output_type": "stream",
     "text": [
      "10\n",
      "9\n",
      "8\n",
      "7\n",
      "6\n",
      "5\n",
      "4\n",
      "3\n",
      "2\n",
      "1\n"
     ]
    }
   ],
   "source": [
    "a = 10\n",
    "while a > 0:\n",
    "    print(a)\n",
    "    a -= 1"
   ]
  },
  {
   "cell_type": "code",
   "execution_count": 10,
   "id": "fac80e04",
   "metadata": {},
   "outputs": [
    {
     "name": "stdout",
     "output_type": "stream",
     "text": [
      "Enter your table number :- 5\n",
      "5\n",
      "10\n",
      "15\n",
      "20\n",
      "25\n",
      "30\n",
      "35\n",
      "40\n",
      "45\n",
      "50\n"
     ]
    }
   ],
   "source": [
    "num = int(input('Enter your table number :- '))\n",
    "\n",
    "x = 1\n",
    "\n",
    "while x<=10:\n",
    "    print(x*num)\n",
    "    x += 1"
   ]
  },
  {
   "cell_type": "code",
   "execution_count": 5,
   "id": "bcb55d0f",
   "metadata": {},
   "outputs": [
    {
     "name": "stdout",
     "output_type": "stream",
     "text": [
      "Enter your table number:- 5\n",
      "5\n",
      "10\n",
      "15\n",
      "20\n",
      "25\n",
      "30\n",
      "35\n",
      "40\n",
      "45\n",
      "50\n"
     ]
    }
   ],
   "source": [
    "table_num = int(input(\"Enter your table number:- \"))\n",
    "\n",
    "for i in range(1,11):\n",
    "    print(table_num*i)"
   ]
  },
  {
   "cell_type": "code",
   "execution_count": 6,
   "id": "23531131",
   "metadata": {},
   "outputs": [
    {
     "name": "stdout",
     "output_type": "stream",
     "text": [
      "Enter your table number :- 5\n",
      "1 * 5 = 5\n",
      "2 * 5 = 10\n",
      "3 * 5 = 15\n",
      "4 * 5 = 20\n",
      "5 * 5 = 25\n",
      "6 * 5 = 30\n",
      "7 * 5 = 35\n",
      "8 * 5 = 40\n",
      "9 * 5 = 45\n",
      "10 * 5 = 50\n"
     ]
    }
   ],
   "source": [
    "num = int(input('Enter your table number :- '))\n",
    "\n",
    "for i in range(1,11):\n",
    "    print(f\"{i} * {num} = {num*i}\")"
   ]
  },
  {
   "cell_type": "code",
   "execution_count": null,
   "id": "7ae85bf8",
   "metadata": {},
   "outputs": [],
   "source": []
  },
  {
   "cell_type": "code",
   "execution_count": 8,
   "id": "4ecd1f82",
   "metadata": {},
   "outputs": [
    {
     "name": "stdout",
     "output_type": "stream",
     "text": [
      "10\n",
      "9\n",
      "8\n"
     ]
    }
   ],
   "source": [
    "a = 10\n",
    "while a > 0:\n",
    "    if a == 7:\n",
    "        break\n",
    "    print(a)\n",
    "    a -= 1"
   ]
  },
  {
   "cell_type": "code",
   "execution_count": 10,
   "id": "5c091d57",
   "metadata": {},
   "outputs": [
    {
     "name": "stdout",
     "output_type": "stream",
     "text": [
      "0\n",
      "1\n",
      "2\n",
      "3\n",
      "4\n",
      "5\n",
      "6\n",
      "8\n",
      "9\n"
     ]
    }
   ],
   "source": [
    "for i in range(10):\n",
    "    if i == 7:\n",
    "        continue\n",
    "    print(i)"
   ]
  },
  {
   "cell_type": "code",
   "execution_count": 15,
   "id": "408c77df",
   "metadata": {},
   "outputs": [
    {
     "name": "stdout",
     "output_type": "stream",
     "text": [
      "10\n",
      "9\n",
      "8\n",
      "6\n",
      "5\n",
      "4\n",
      "3\n",
      "2\n",
      "1\n"
     ]
    }
   ],
   "source": [
    "a = 10\n",
    "while a > 0:\n",
    "    if a == 7:\n",
    "        a -= 1\n",
    "        continue\n",
    "        \n",
    "    print(a)\n",
    "    a -= 1"
   ]
  },
  {
   "cell_type": "code",
   "execution_count": 16,
   "id": "cc7f1a98",
   "metadata": {},
   "outputs": [],
   "source": [
    "l = [\"abc\",'Himanshu',\"Sunny\",'Mukta']"
   ]
  },
  {
   "cell_type": "code",
   "execution_count": 17,
   "id": "e631bd23",
   "metadata": {
    "scrolled": true
   },
   "outputs": [
    {
     "name": "stdout",
     "output_type": "stream",
     "text": [
      "abc\n",
      "Himanshu\n"
     ]
    }
   ],
   "source": [
    "for i in l:\n",
    "    if i == \"Sunny\":\n",
    "        break\n",
    "    print(i)"
   ]
  },
  {
   "cell_type": "code",
   "execution_count": 18,
   "id": "996cc1d8",
   "metadata": {},
   "outputs": [
    {
     "name": "stdout",
     "output_type": "stream",
     "text": [
      "abc\n",
      "Sunny\n",
      "Mukta\n"
     ]
    }
   ],
   "source": [
    "for i in l:\n",
    "    if i == \"Himanshu\":\n",
    "        continue\n",
    "        \n",
    "    print(i)"
   ]
  },
  {
   "cell_type": "code",
   "execution_count": 19,
   "id": "d2aa5823",
   "metadata": {},
   "outputs": [
    {
     "name": "stdout",
     "output_type": "stream",
     "text": [
      "0\n",
      "1\n",
      "3\n",
      "4\n",
      "5\n",
      "6\n",
      "7\n",
      "8\n",
      "9\n"
     ]
    }
   ],
   "source": [
    "i = 0\n",
    "while i < 10:\n",
    "    if i == 2:\n",
    "        i += 1\n",
    "        continue\n",
    "        \n",
    "    \n",
    "    print(i)\n",
    "    i += 1\n",
    "    "
   ]
  },
  {
   "cell_type": "code",
   "execution_count": null,
   "id": "598a7084",
   "metadata": {},
   "outputs": [],
   "source": []
  },
  {
   "cell_type": "code",
   "execution_count": 20,
   "id": "306a9148",
   "metadata": {},
   "outputs": [],
   "source": [
    "while i == 100:\n",
    "    pass"
   ]
  },
  {
   "cell_type": "code",
   "execution_count": 21,
   "id": "9ed13cdb",
   "metadata": {},
   "outputs": [],
   "source": [
    "for i in range(10):\n",
    "    pass"
   ]
  },
  {
   "cell_type": "code",
   "execution_count": 22,
   "id": "0a74e045",
   "metadata": {},
   "outputs": [],
   "source": [
    "if True:\n",
    "    pass"
   ]
  },
  {
   "cell_type": "code",
   "execution_count": null,
   "id": "78274100",
   "metadata": {},
   "outputs": [],
   "source": []
  },
  {
   "cell_type": "code",
   "execution_count": 23,
   "id": "6ca23a3e",
   "metadata": {},
   "outputs": [
    {
     "data": {
      "text/plain": [
       "False"
      ]
     },
     "execution_count": 23,
     "metadata": {},
     "output_type": "execute_result"
    }
   ],
   "source": [
    "4 > 5"
   ]
  },
  {
   "cell_type": "code",
   "execution_count": 12,
   "id": "be4955d6",
   "metadata": {},
   "outputs": [],
   "source": [
    "while False:\n",
    "    pass"
   ]
  },
  {
   "cell_type": "code",
   "execution_count": 14,
   "id": "8acb3da2",
   "metadata": {},
   "outputs": [],
   "source": [
    "while not(True):\n",
    "    pass"
   ]
  },
  {
   "cell_type": "code",
   "execution_count": 18,
   "id": "01a58651-afb5-4172-9169-ca30b764cb01",
   "metadata": {
    "scrolled": false
   },
   "outputs": [
    {
     "name": "stdout",
     "output_type": "stream",
     "text": [
      "How much money you have:- 1\n",
      "you don't have enough balance in you wallet\n"
     ]
    }
   ],
   "source": [
    "money_in_hand = int(input(\"How much money you have:- \"))\n",
    "while money_in_hand >= 4 :\n",
    "    print('\\n Money_in_hand :- ',money_in_hand)\n",
    "    choice = input(\"enter your choice(1.biscuit , 2.chips , 3.snacks , 4.burger , 5. For Exit:- )\")\n",
    "    if choice == '1':\n",
    "        print(\"take your biscuit\")\n",
    "        money_in_hand = money_in_hand - 4 \n",
    "    elif choice == '2' :\n",
    "        print(\"take your chips\")\n",
    "        money_in_hand = money_in_hand - 5\n",
    "        \n",
    "    elif choice == '3' :\n",
    "        print(\"take your snacks\")\n",
    "        money_in_hand = money_in_hand - 10 \n",
    "    elif choice == '4' :\n",
    "        print(\"take your burger\")\n",
    "        money_in_hand = money_in_hand - 8 \n",
    "        \n",
    "    elif choice == '5':\n",
    "        print(\"Thanks you for coming\")\n",
    "        break\n",
    "        \n",
    "    else :\n",
    "        print(\"you have not entered the correct choice\")\n",
    "        \n",
    "else:\n",
    "    print(\"you don't have enough balance in you wallet\")\n"
   ]
  },
  {
   "cell_type": "code",
   "execution_count": 29,
   "id": "56cb3ad1",
   "metadata": {},
   "outputs": [
    {
     "name": "stdout",
     "output_type": "stream",
     "text": [
      "0\n",
      "1\n",
      "2\n",
      "3\n",
      "4\n",
      "5\n",
      "6\n",
      "7\n",
      "8\n",
      "9\n",
      "Finished\n"
     ]
    }
   ],
   "source": [
    "i = 0\n",
    "while i < 10:\n",
    "    print(i)\n",
    "    i += 1\n",
    "else:\n",
    "    print(\"Finished\")"
   ]
  },
  {
   "cell_type": "code",
   "execution_count": null,
   "id": "a368783b",
   "metadata": {},
   "outputs": [],
   "source": []
  },
  {
   "cell_type": "code",
   "execution_count": 30,
   "id": "441ad055",
   "metadata": {},
   "outputs": [
    {
     "name": "stdout",
     "output_type": "stream",
     "text": [
      "enter your user id for account :- 22.\n",
      "thi is \n",
      "your user id is incorrect try again\n",
      "enter your user id for account :- 421\n",
      "thi is \n",
      "your user id is incorrect try again\n",
      "enter your user id for account :- 421\n",
      "thi is \n",
      "your user id is incorrect try again\n",
      "\n",
      "you have attempted maximum times and your account is locked \n"
     ]
    }
   ],
   "source": [
    "user_id = \"gaurav\"\n",
    "password = \"gaurav@123\"\n",
    "counter = 1\n",
    "user_id_check = False\n",
    "user_input = ''\n",
    "while counter <=3 :\n",
    "    if user_id != user_input:\n",
    "        user_input = input(\"enter your user id for account :- \").lower()\n",
    "        print('thi is ')\n",
    "\n",
    "    \n",
    "    if user_input == user_id :\n",
    "        user_id_check = True\n",
    "    else :\n",
    "        print(\"your user id is incorrect try again\")\n",
    "    if user_id_check == True :\n",
    "        pswd = input(\"enter your password for respective user id :- \").lower()\n",
    "        if pswd == password :\n",
    "            print(\"you have logged in succefully\")\n",
    "            break\n",
    "    counter = counter + 1\n",
    "if counter > 3 :\n",
    "    print()\n",
    "    print(\"you have attempted maximum times and your account is locked \") "
   ]
  },
  {
   "cell_type": "code",
   "execution_count": null,
   "id": "3df17862",
   "metadata": {},
   "outputs": [],
   "source": []
  },
  {
   "cell_type": "code",
   "execution_count": 31,
   "id": "d12fc10e",
   "metadata": {},
   "outputs": [
    {
     "name": "stdout",
     "output_type": "stream",
     "text": [
      "enter your user id for account :- gaurav\n",
      "this is your user_input :- gaurav\n",
      "Enter your password :- asdf\n",
      "Enter your password :- adf\n",
      "Enter your password :- asdf\n",
      "\n",
      "Id Lock\n"
     ]
    }
   ],
   "source": [
    "user_id = \"gaurav\"\n",
    "password = \"gaurav@123\"\n",
    "counter = 1\n",
    "user_input = \"\"\n",
    "user_id_check = False\n",
    "\n",
    "while counter <= 3:\n",
    "\n",
    "    if user_id != user_input:\n",
    "        user_input = input(\"enter your user id for account :- \").lower()\n",
    "        print('this is your user_input :-',user_input)\n",
    "\n",
    "    if user_id == user_input:\n",
    "        user_id_check = True\n",
    "        \n",
    "    if user_id_check:\n",
    "        input_password = input(\"Enter your password :- \")\n",
    "        if password == input_password:\n",
    "            print(\"Login\")\n",
    "            break\n",
    "\n",
    "    counter += 1\n",
    "\n",
    "else:`\n",
    "    print(\"\\nId Lock\")"
   ]
  },
  {
   "cell_type": "code",
   "execution_count": null,
   "id": "57dd9bff",
   "metadata": {},
   "outputs": [],
   "source": []
  },
  {
   "cell_type": "code",
   "execution_count": null,
   "id": "2b41238f",
   "metadata": {},
   "outputs": [],
   "source": []
  },
  {
   "cell_type": "code",
   "execution_count": null,
   "id": "90bc1e5d",
   "metadata": {},
   "outputs": [],
   "source": []
  },
  {
   "cell_type": "code",
   "execution_count": 22,
   "id": "8a049b6d-c2cd-41ad-b832-291138440870",
   "metadata": {},
   "outputs": [
    {
     "name": "stdout",
     "output_type": "stream",
     "text": [
      "enter your todo task:- reading\n",
      "enter n id you want to add in todo list or enter y if you don't want to add:- n\n",
      "enter your todo task:- aqwer\n",
      "enter n id you want to add in todo list or enter y if you don't want to add:- n\n",
      "enter your todo task:- qwer\n",
      "enter n id you want to add in todo list or enter y if you don't want to add:- y\n",
      "my todo list is  ['reading', 'aqwer', 'qwer']\n"
     ]
    }
   ],
   "source": [
    "todo_list = []\n",
    "end_of_todo = 'n'\n",
    "while end_of_todo != 'y':\n",
    "    todo_item = input(\"enter your todo task:- \")\n",
    "    todo_list.append(todo_item)\n",
    "    end_of_todo = input(\"enter n id you want to add in todo list or enter y if you don't want to add:- \")\n",
    "print(\"my todo list is \" , todo_list)"
   ]
  },
  {
   "cell_type": "code",
   "execution_count": null,
   "id": "36262681",
   "metadata": {},
   "outputs": [],
   "source": []
  },
  {
   "cell_type": "code",
   "execution_count": null,
   "id": "3aba2347",
   "metadata": {},
   "outputs": [],
   "source": []
  },
  {
   "cell_type": "code",
   "execution_count": null,
   "id": "591dfe1c",
   "metadata": {},
   "outputs": [],
   "source": []
  },
  {
   "cell_type": "code",
   "execution_count": null,
   "id": "582aea0f",
   "metadata": {},
   "outputs": [],
   "source": []
  },
  {
   "cell_type": "code",
   "execution_count": null,
   "id": "ad9cd9a9",
   "metadata": {},
   "outputs": [],
   "source": []
  },
  {
   "cell_type": "code",
   "execution_count": 37,
   "id": "3a9f51d0",
   "metadata": {},
   "outputs": [
    {
     "name": "stdout",
     "output_type": "stream",
     "text": [
      "Enter your today's task :- asdf\n",
      "your want to continue or not? Yes or No : -asdf\n",
      "Enter your today's task :- food\n",
      "your want to continue or not? Yes or No : -yes\n",
      "Enter your today's task :- weradsf\n",
      "your want to continue or not? Yes or No : -no\n",
      "['y', 'asdf', 'yes']\n"
     ]
    }
   ],
   "source": [
    "task_list = []\n",
    "\n",
    "task = \"y\"\n",
    "\n",
    "while task != \"no\":\n",
    "    task_input = input(\"Enter your today's task :- \")\n",
    "    task_list.append(task)\n",
    "    task = input(\"your want to continue or not? Yes or No : -\").lower()\n",
    "    \n",
    "else:\n",
    "    print(task_list)"
   ]
  },
  {
   "cell_type": "code",
   "execution_count": 34,
   "id": "c6d2266e",
   "metadata": {},
   "outputs": [
    {
     "data": {
      "text/plain": [
       "['asdf', 'study', 'asfasdff', 'qwera', 'esfqwer']"
      ]
     },
     "execution_count": 34,
     "metadata": {},
     "output_type": "execute_result"
    }
   ],
   "source": [
    "task_list"
   ]
  },
  {
   "cell_type": "code",
   "execution_count": null,
   "id": "8e705cd2",
   "metadata": {},
   "outputs": [],
   "source": []
  },
  {
   "cell_type": "code",
   "execution_count": null,
   "id": "ec35fafc",
   "metadata": {},
   "outputs": [],
   "source": []
  },
  {
   "cell_type": "code",
   "execution_count": 8,
   "id": "3f3bb218",
   "metadata": {},
   "outputs": [
    {
     "name": "stdout",
     "output_type": "stream",
     "text": [
      "not hii\n"
     ]
    }
   ],
   "source": [
    "i = 0\n",
    "while i > 10:\n",
    "    print('hii')\n",
    "else:\n",
    "    print('not hii')"
   ]
  },
  {
   "cell_type": "code",
   "execution_count": null,
   "id": "4b847b05",
   "metadata": {},
   "outputs": [],
   "source": []
  }
 ],
 "metadata": {
  "kernelspec": {
   "display_name": "Python 3 (ipykernel)",
   "language": "python",
   "name": "python3"
  },
  "language_info": {
   "codemirror_mode": {
    "name": "ipython",
    "version": 3
   },
   "file_extension": ".py",
   "mimetype": "text/x-python",
   "name": "python",
   "nbconvert_exporter": "python",
   "pygments_lexer": "ipython3",
   "version": "3.9.13"
  }
 },
 "nbformat": 4,
 "nbformat_minor": 5
}
