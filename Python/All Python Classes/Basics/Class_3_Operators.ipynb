{
 "cells": [
  {
   "cell_type": "markdown",
   "id": "372ff4f4",
   "metadata": {
    "id": "1a4eec1e-7381-4990-b0ad-f64e43fadde1"
   },
   "source": [
    "\n",
    "# Logical Operator\n",
    "\n",
    "##### and\n",
    "##### or\n",
    "##### not\n"
   ]
  },
  {
   "cell_type": "raw",
   "id": "bd4774c8",
   "metadata": {},
   "source": [
    "# and\n",
    "\n",
    "True True = True\n",
    "True False = False\n",
    "False False = False\n",
    "False True = False"
   ]
  },
  {
   "cell_type": "raw",
   "id": "823ceed1",
   "metadata": {},
   "source": [
    "# or\n",
    "\n",
    "\n",
    "True True = True\n",
    "True False = True\n",
    "False False = False\n",
    "False True = True"
   ]
  },
  {
   "cell_type": "markdown",
   "id": "21eefabc",
   "metadata": {},
   "source": [
    ">\tGreater than\tx > y\t\n",
    "<\tLess than\tx < y\t\n"
   ]
  },
  {
   "cell_type": "code",
   "execution_count": 2,
   "id": "2b5af212-78a5-4395-917c-6afcc28a1aa7",
   "metadata": {
    "id": "2b5af212-78a5-4395-917c-6afcc28a1aa7"
   },
   "outputs": [],
   "source": [
    "a=10\n",
    "b=20"
   ]
  },
  {
   "cell_type": "code",
   "execution_count": 3,
   "id": "f923344b",
   "metadata": {
    "scrolled": true
   },
   "outputs": [
    {
     "data": {
      "text/plain": [
       "True"
      ]
     },
     "execution_count": 3,
     "metadata": {},
     "output_type": "execute_result"
    }
   ],
   "source": [
    "(a>6)"
   ]
  },
  {
   "cell_type": "code",
   "execution_count": 4,
   "id": "5f7fb9e4",
   "metadata": {},
   "outputs": [
    {
     "data": {
      "text/plain": [
       "False"
      ]
     },
     "execution_count": 4,
     "metadata": {},
     "output_type": "execute_result"
    }
   ],
   "source": [
    "b < 7"
   ]
  },
  {
   "cell_type": "code",
   "execution_count": 5,
   "id": "2cb1578b",
   "metadata": {},
   "outputs": [
    {
     "data": {
      "text/plain": [
       "10"
      ]
     },
     "execution_count": 5,
     "metadata": {},
     "output_type": "execute_result"
    }
   ],
   "source": [
    "a"
   ]
  },
  {
   "cell_type": "code",
   "execution_count": 6,
   "id": "9bd18627",
   "metadata": {},
   "outputs": [
    {
     "data": {
      "text/plain": [
       "20"
      ]
     },
     "execution_count": 6,
     "metadata": {},
     "output_type": "execute_result"
    }
   ],
   "source": [
    "b"
   ]
  },
  {
   "cell_type": "code",
   "execution_count": 7,
   "id": "5b298ec1-ddad-42b5-810a-1624ca182f46",
   "metadata": {
    "id": "5b298ec1-ddad-42b5-810a-1624ca182f46",
    "outputId": "d2f22271-7983-461c-ac86-dd28060827f5"
   },
   "outputs": [
    {
     "data": {
      "text/plain": [
       "False"
      ]
     },
     "execution_count": 7,
     "metadata": {},
     "output_type": "execute_result"
    }
   ],
   "source": [
    "((a>10) and (b>7))"
   ]
  },
  {
   "cell_type": "code",
   "execution_count": 8,
   "id": "4fec6833-34ce-4dfe-9c3f-d2953c371ddd",
   "metadata": {
    "id": "4fec6833-34ce-4dfe-9c3f-d2953c371ddd",
    "outputId": "d3037425-7900-4e8b-9961-cc21e972d4d1"
   },
   "outputs": [
    {
     "name": "stdout",
     "output_type": "stream",
     "text": [
      "True\n"
     ]
    }
   ],
   "source": [
    "print(True and True)"
   ]
  },
  {
   "cell_type": "code",
   "execution_count": 9,
   "id": "a0bd0835-ce0a-4b5c-bd29-ab52c9c743fe",
   "metadata": {
    "id": "a0bd0835-ce0a-4b5c-bd29-ab52c9c743fe",
    "outputId": "7d7e1eda-4018-46f8-c93c-1e0680e635b6"
   },
   "outputs": [
    {
     "name": "stdout",
     "output_type": "stream",
     "text": [
      "True\n"
     ]
    }
   ],
   "source": [
    "print(False or True)"
   ]
  },
  {
   "cell_type": "code",
   "execution_count": 10,
   "id": "58a3221f-012b-4382-b5a1-77ddd2711334",
   "metadata": {
    "id": "58a3221f-012b-4382-b5a1-77ddd2711334"
   },
   "outputs": [],
   "source": [
    "a = False"
   ]
  },
  {
   "cell_type": "code",
   "execution_count": 11,
   "id": "87fc91f9-a0ff-497d-a2be-e536a80d7843",
   "metadata": {
    "id": "87fc91f9-a0ff-497d-a2be-e536a80d7843",
    "outputId": "a9fdc2b0-704a-4f66-b709-10bdf1ece546"
   },
   "outputs": [
    {
     "data": {
      "text/plain": [
       "True"
      ]
     },
     "execution_count": 11,
     "metadata": {},
     "output_type": "execute_result"
    }
   ],
   "source": [
    "not(a)"
   ]
  },
  {
   "cell_type": "markdown",
   "id": "2074861f",
   "metadata": {
    "id": "4fdb489f-b102-4ae9-a097-5217314e5e31"
   },
   "source": [
    "& --- and\n",
    "\n",
    "| --- or"
   ]
  },
  {
   "cell_type": "code",
   "execution_count": 12,
   "id": "ec1bad23-ac7a-4fb1-a411-a41f40ceac8f",
   "metadata": {
    "id": "ec1bad23-ac7a-4fb1-a411-a41f40ceac8f"
   },
   "outputs": [],
   "source": [
    "a = 50\n",
    "b = 4 "
   ]
  },
  {
   "cell_type": "code",
   "execution_count": 13,
   "id": "d3bea730-f7a8-4c14-9561-632134d883b0",
   "metadata": {
    "id": "d3bea730-f7a8-4c14-9561-632134d883b0"
   },
   "outputs": [],
   "source": [
    "x = [1,2,3,4,5]"
   ]
  },
  {
   "cell_type": "code",
   "execution_count": 14,
   "id": "9ef2f60d",
   "metadata": {},
   "outputs": [
    {
     "data": {
      "text/plain": [
       "False"
      ]
     },
     "execution_count": 14,
     "metadata": {},
     "output_type": "execute_result"
    }
   ],
   "source": [
    "a in x"
   ]
  },
  {
   "cell_type": "code",
   "execution_count": 15,
   "id": "b684dc5a",
   "metadata": {},
   "outputs": [
    {
     "data": {
      "text/plain": [
       "True"
      ]
     },
     "execution_count": 15,
     "metadata": {},
     "output_type": "execute_result"
    }
   ],
   "source": [
    "2 in x"
   ]
  },
  {
   "cell_type": "code",
   "execution_count": 16,
   "id": "868e45bd",
   "metadata": {},
   "outputs": [
    {
     "data": {
      "text/plain": [
       "True"
      ]
     },
     "execution_count": 16,
     "metadata": {},
     "output_type": "execute_result"
    }
   ],
   "source": [
    "1 in x"
   ]
  },
  {
   "cell_type": "code",
   "execution_count": 17,
   "id": "24492e3d",
   "metadata": {},
   "outputs": [
    {
     "data": {
      "text/plain": [
       "True"
      ]
     },
     "execution_count": 17,
     "metadata": {},
     "output_type": "execute_result"
    }
   ],
   "source": [
    "b in x"
   ]
  },
  {
   "cell_type": "code",
   "execution_count": 18,
   "id": "6fe04018",
   "metadata": {},
   "outputs": [
    {
     "data": {
      "text/plain": [
       "50"
      ]
     },
     "execution_count": 18,
     "metadata": {},
     "output_type": "execute_result"
    }
   ],
   "source": [
    "a"
   ]
  },
  {
   "cell_type": "code",
   "execution_count": 27,
   "id": "fc1be296",
   "metadata": {},
   "outputs": [
    {
     "data": {
      "text/plain": [
       "True"
      ]
     },
     "execution_count": 27,
     "metadata": {},
     "output_type": "execute_result"
    }
   ],
   "source": [
    "a not in x"
   ]
  },
  {
   "cell_type": "raw",
   "id": "c2dc291a",
   "metadata": {
    "id": "d51ff6c2-54d4-4e52-8efe-39571cf4e4aa"
   },
   "source": [
    "+\tAddition\tx + y\t\n",
    "-\tSubtraction\tx - y\t\n",
    "*\tMultiplication\tx * y\t\n",
    "/\tDivision\tx / y\t\n",
    "%\tModulus\tx % y\t\n",
    "**\tExponentiation\tx ** y\t\n",
    "//\tFloor division\tx // y"
   ]
  },
  {
   "cell_type": "code",
   "execution_count": 20,
   "id": "9329366a",
   "metadata": {},
   "outputs": [
    {
     "data": {
      "text/plain": [
       "4"
      ]
     },
     "execution_count": 20,
     "metadata": {},
     "output_type": "execute_result"
    }
   ],
   "source": [
    "49%5"
   ]
  },
  {
   "cell_type": "code",
   "execution_count": 21,
   "id": "680d0cb4",
   "metadata": {},
   "outputs": [
    {
     "data": {
      "text/plain": [
       "16"
      ]
     },
     "execution_count": 21,
     "metadata": {},
     "output_type": "execute_result"
    }
   ],
   "source": [
    "2 ** 4"
   ]
  },
  {
   "cell_type": "code",
   "execution_count": 25,
   "id": "33f21bff",
   "metadata": {},
   "outputs": [
    {
     "data": {
      "text/plain": [
       "1073741824"
      ]
     },
     "execution_count": 25,
     "metadata": {},
     "output_type": "execute_result"
    }
   ],
   "source": [
    "8 ** 10"
   ]
  },
  {
   "cell_type": "code",
   "execution_count": 26,
   "id": "9186bc43",
   "metadata": {
    "scrolled": true
   },
   "outputs": [
    {
     "data": {
      "text/plain": [
       "2.8"
      ]
     },
     "execution_count": 26,
     "metadata": {},
     "output_type": "execute_result"
    }
   ],
   "source": [
    "14/5"
   ]
  },
  {
   "cell_type": "code",
   "execution_count": 27,
   "id": "348b7b4b",
   "metadata": {
    "scrolled": true
   },
   "outputs": [
    {
     "data": {
      "text/plain": [
       "2"
      ]
     },
     "execution_count": 27,
     "metadata": {},
     "output_type": "execute_result"
    }
   ],
   "source": [
    "14//5"
   ]
  },
  {
   "cell_type": "code",
   "execution_count": 28,
   "id": "6f53268b",
   "metadata": {},
   "outputs": [
    {
     "data": {
      "text/plain": [
       "10.625"
      ]
     },
     "execution_count": 28,
     "metadata": {},
     "output_type": "execute_result"
    }
   ],
   "source": [
    "85 / 8"
   ]
  },
  {
   "cell_type": "code",
   "execution_count": 29,
   "id": "46715666",
   "metadata": {},
   "outputs": [
    {
     "data": {
      "text/plain": [
       "10"
      ]
     },
     "execution_count": 29,
     "metadata": {},
     "output_type": "execute_result"
    }
   ],
   "source": [
    "85 // 8"
   ]
  },
  {
   "cell_type": "code",
   "execution_count": 30,
   "id": "61873450",
   "metadata": {
    "scrolled": true
   },
   "outputs": [
    {
     "data": {
      "text/plain": [
       "4"
      ]
     },
     "execution_count": 30,
     "metadata": {},
     "output_type": "execute_result"
    }
   ],
   "source": [
    "9%5        # remainder"
   ]
  },
  {
   "cell_type": "code",
   "execution_count": 31,
   "id": "c7778449",
   "metadata": {},
   "outputs": [
    {
     "data": {
      "text/plain": [
       "32"
      ]
     },
     "execution_count": 31,
     "metadata": {},
     "output_type": "execute_result"
    }
   ],
   "source": [
    "2**5"
   ]
  },
  {
   "cell_type": "code",
   "execution_count": 32,
   "id": "709d3988",
   "metadata": {},
   "outputs": [
    {
     "data": {
      "text/plain": [
       "17"
      ]
     },
     "execution_count": 32,
     "metadata": {},
     "output_type": "execute_result"
    }
   ],
   "source": [
    "89//5"
   ]
  },
  {
   "cell_type": "code",
   "execution_count": 33,
   "id": "faeb7350",
   "metadata": {
    "scrolled": true
   },
   "outputs": [
    {
     "data": {
      "text/plain": [
       "17.8"
      ]
     },
     "execution_count": 33,
     "metadata": {},
     "output_type": "execute_result"
    }
   ],
   "source": [
    "89/5"
   ]
  },
  {
   "cell_type": "markdown",
   "id": "8780fc8b",
   "metadata": {},
   "source": [
    "## Assignment Operators"
   ]
  },
  {
   "cell_type": "raw",
   "id": "ef91630d",
   "metadata": {},
   "source": [
    "=\t                 x = 5  ->\tx = 5\t\n",
    "+=\t                 x += 3 ->   x = x + 3\t\n",
    "-=\t                 x -= 3 ->\tx = x - 3\t\n",
    "*=\t                 x *= 3 ->\tx = x * 3\t\n",
    "/=\t                 x /= 3 ->\tx = x / 3\t\n",
    "%=\t                 x %= 3 ->\tx = x % 3\t\n",
    "//=                  x //= 3 ->\tx = x // 3\t\n",
    "**=\t                 x **= 3 ->\tx = x ** 3\t\n"
   ]
  },
  {
   "cell_type": "code",
   "execution_count": 34,
   "id": "7868e426",
   "metadata": {},
   "outputs": [],
   "source": [
    "a = 5"
   ]
  },
  {
   "cell_type": "code",
   "execution_count": 37,
   "id": "516a352d",
   "metadata": {},
   "outputs": [
    {
     "data": {
      "text/plain": [
       "20"
      ]
     },
     "execution_count": 37,
     "metadata": {},
     "output_type": "execute_result"
    }
   ],
   "source": [
    "a = a+5\n",
    "a"
   ]
  },
  {
   "cell_type": "code",
   "execution_count": 38,
   "id": "0c543006",
   "metadata": {},
   "outputs": [
    {
     "data": {
      "text/plain": [
       "20"
      ]
     },
     "execution_count": 38,
     "metadata": {},
     "output_type": "execute_result"
    }
   ],
   "source": [
    "a"
   ]
  },
  {
   "cell_type": "code",
   "execution_count": 39,
   "id": "065bccec",
   "metadata": {},
   "outputs": [],
   "source": [
    "q = 2"
   ]
  },
  {
   "cell_type": "code",
   "execution_count": 42,
   "id": "f03d56db",
   "metadata": {},
   "outputs": [
    {
     "data": {
      "text/plain": [
       "20"
      ]
     },
     "execution_count": 42,
     "metadata": {},
     "output_type": "execute_result"
    }
   ],
   "source": [
    "q += 6     # q = q+6\n",
    "q"
   ]
  },
  {
   "cell_type": "code",
   "execution_count": 43,
   "id": "146b1043",
   "metadata": {},
   "outputs": [
    {
     "data": {
      "text/plain": [
       "20"
      ]
     },
     "execution_count": 43,
     "metadata": {},
     "output_type": "execute_result"
    }
   ],
   "source": [
    "a"
   ]
  },
  {
   "cell_type": "code",
   "execution_count": 44,
   "id": "3d27d451",
   "metadata": {},
   "outputs": [],
   "source": [
    "a -= 1  # a = a - 1"
   ]
  },
  {
   "cell_type": "code",
   "execution_count": 45,
   "id": "ba1c8eb5",
   "metadata": {},
   "outputs": [
    {
     "data": {
      "text/plain": [
       "19"
      ]
     },
     "execution_count": 45,
     "metadata": {},
     "output_type": "execute_result"
    }
   ],
   "source": [
    "a"
   ]
  },
  {
   "cell_type": "code",
   "execution_count": 46,
   "id": "b5e4bb30",
   "metadata": {},
   "outputs": [
    {
     "data": {
      "text/plain": [
       "38"
      ]
     },
     "execution_count": 46,
     "metadata": {},
     "output_type": "execute_result"
    }
   ],
   "source": [
    "a *= 2\n",
    "a"
   ]
  },
  {
   "cell_type": "code",
   "execution_count": 47,
   "id": "68ec7ca0",
   "metadata": {},
   "outputs": [
    {
     "data": {
      "text/plain": [
       "38"
      ]
     },
     "execution_count": 47,
     "metadata": {},
     "output_type": "execute_result"
    }
   ],
   "source": [
    "a"
   ]
  },
  {
   "cell_type": "code",
   "execution_count": 48,
   "id": "0aff1653",
   "metadata": {},
   "outputs": [],
   "source": [
    "a /= 2"
   ]
  },
  {
   "cell_type": "code",
   "execution_count": 49,
   "id": "e1652e1d",
   "metadata": {},
   "outputs": [],
   "source": [
    "a = 325"
   ]
  },
  {
   "cell_type": "code",
   "execution_count": 50,
   "id": "cc90e6fb",
   "metadata": {},
   "outputs": [
    {
     "data": {
      "text/plain": [
       "162"
      ]
     },
     "execution_count": 50,
     "metadata": {},
     "output_type": "execute_result"
    }
   ],
   "source": [
    "a //= 2\n",
    "a"
   ]
  },
  {
   "cell_type": "code",
   "execution_count": 51,
   "id": "ed572364",
   "metadata": {},
   "outputs": [],
   "source": [
    "a = 2"
   ]
  },
  {
   "cell_type": "code",
   "execution_count": 52,
   "id": "eccf463a",
   "metadata": {},
   "outputs": [],
   "source": [
    "a **= 5      #power   a = a ** 5"
   ]
  },
  {
   "cell_type": "code",
   "execution_count": 53,
   "id": "e8d31b99",
   "metadata": {
    "scrolled": true
   },
   "outputs": [
    {
     "data": {
      "text/plain": [
       "32"
      ]
     },
     "execution_count": 53,
     "metadata": {},
     "output_type": "execute_result"
    }
   ],
   "source": [
    "a"
   ]
  },
  {
   "cell_type": "code",
   "execution_count": 54,
   "id": "aa8e4d50",
   "metadata": {},
   "outputs": [
    {
     "data": {
      "text/plain": [
       "11"
      ]
     },
     "execution_count": 54,
     "metadata": {},
     "output_type": "execute_result"
    }
   ],
   "source": [
    "56//5"
   ]
  },
  {
   "cell_type": "markdown",
   "id": "63299588",
   "metadata": {},
   "source": [
    "==\tEqual\tx == y\t\n",
    "!=\tNot equal\tx != y\t\n",
    ">\tGreater than\tx > y\t\n",
    "<\tLess than\tx < y\t\n",
    ">=\tGreater than or equal to\tx >= y\t\n",
    "<="
   ]
  },
  {
   "cell_type": "code",
   "execution_count": 56,
   "id": "a7a87da8",
   "metadata": {},
   "outputs": [
    {
     "data": {
      "text/plain": [
       "32"
      ]
     },
     "execution_count": 56,
     "metadata": {},
     "output_type": "execute_result"
    }
   ],
   "source": [
    "a"
   ]
  },
  {
   "cell_type": "code",
   "execution_count": 57,
   "id": "f2966928",
   "metadata": {},
   "outputs": [
    {
     "data": {
      "text/plain": [
       "True"
      ]
     },
     "execution_count": 57,
     "metadata": {},
     "output_type": "execute_result"
    }
   ],
   "source": [
    "a == 32"
   ]
  },
  {
   "cell_type": "code",
   "execution_count": 58,
   "id": "4780e3c7",
   "metadata": {},
   "outputs": [
    {
     "data": {
      "text/plain": [
       "True"
      ]
     },
     "execution_count": 58,
     "metadata": {},
     "output_type": "execute_result"
    }
   ],
   "source": [
    "2 * 10 == 20"
   ]
  },
  {
   "cell_type": "code",
   "execution_count": 59,
   "id": "93ce5f11",
   "metadata": {},
   "outputs": [
    {
     "data": {
      "text/plain": [
       "True"
      ]
     },
     "execution_count": 59,
     "metadata": {},
     "output_type": "execute_result"
    }
   ],
   "source": [
    "5 != 6"
   ]
  },
  {
   "cell_type": "code",
   "execution_count": 60,
   "id": "cef2f32a",
   "metadata": {},
   "outputs": [
    {
     "data": {
      "text/plain": [
       "32"
      ]
     },
     "execution_count": 60,
     "metadata": {},
     "output_type": "execute_result"
    }
   ],
   "source": [
    "a"
   ]
  },
  {
   "cell_type": "code",
   "execution_count": 61,
   "id": "87babd37",
   "metadata": {},
   "outputs": [
    {
     "data": {
      "text/plain": [
       "True"
      ]
     },
     "execution_count": 61,
     "metadata": {},
     "output_type": "execute_result"
    }
   ],
   "source": [
    "5 >= 5"
   ]
  },
  {
   "cell_type": "code",
   "execution_count": 62,
   "id": "bd46bd4f",
   "metadata": {},
   "outputs": [
    {
     "data": {
      "text/plain": [
       "False"
      ]
     },
     "execution_count": 62,
     "metadata": {},
     "output_type": "execute_result"
    }
   ],
   "source": [
    "10 <= 5"
   ]
  },
  {
   "cell_type": "code",
   "execution_count": 63,
   "id": "55dd3d4f",
   "metadata": {},
   "outputs": [
    {
     "data": {
      "text/plain": [
       "[1, 2, 3, 4, 5]"
      ]
     },
     "execution_count": 63,
     "metadata": {},
     "output_type": "execute_result"
    }
   ],
   "source": [
    "x = [1, 2, 3, 4, 5]\n",
    "x"
   ]
  },
  {
   "cell_type": "code",
   "execution_count": 64,
   "id": "ee314fb8",
   "metadata": {},
   "outputs": [
    {
     "data": {
      "text/plain": [
       "True"
      ]
     },
     "execution_count": 64,
     "metadata": {},
     "output_type": "execute_result"
    }
   ],
   "source": [
    "2 in x"
   ]
  },
  {
   "cell_type": "code",
   "execution_count": 65,
   "id": "2bbed3fd",
   "metadata": {},
   "outputs": [
    {
     "data": {
      "text/plain": [
       "False"
      ]
     },
     "execution_count": 65,
     "metadata": {},
     "output_type": "execute_result"
    }
   ],
   "source": [
    "9 in x"
   ]
  },
  {
   "cell_type": "code",
   "execution_count": 66,
   "id": "7a737356",
   "metadata": {},
   "outputs": [
    {
     "data": {
      "text/plain": [
       "True"
      ]
     },
     "execution_count": 66,
     "metadata": {},
     "output_type": "execute_result"
    }
   ],
   "source": [
    "9 not in x"
   ]
  },
  {
   "cell_type": "code",
   "execution_count": 67,
   "id": "688ec61e",
   "metadata": {},
   "outputs": [],
   "source": [
    "y = [1, 2, 3, 4]"
   ]
  },
  {
   "cell_type": "code",
   "execution_count": 68,
   "id": "04ec70d4",
   "metadata": {},
   "outputs": [
    {
     "data": {
      "text/plain": [
       "False"
      ]
     },
     "execution_count": 68,
     "metadata": {},
     "output_type": "execute_result"
    }
   ],
   "source": [
    "x == y"
   ]
  },
  {
   "cell_type": "code",
   "execution_count": null,
   "id": "85ebe36d",
   "metadata": {},
   "outputs": [],
   "source": []
  },
  {
   "cell_type": "code",
   "execution_count": null,
   "id": "ade4a3ec",
   "metadata": {},
   "outputs": [],
   "source": []
  }
 ],
 "metadata": {
  "colab": {
   "provenance": []
  },
  "kernelspec": {
   "display_name": "Python 3 (ipykernel)",
   "language": "python",
   "name": "python3"
  },
  "language_info": {
   "codemirror_mode": {
    "name": "ipython",
    "version": 3
   },
   "file_extension": ".py",
   "mimetype": "text/x-python",
   "name": "python",
   "nbconvert_exporter": "python",
   "pygments_lexer": "ipython3",
   "version": "3.9.13"
  }
 },
 "nbformat": 4,
 "nbformat_minor": 5
}
