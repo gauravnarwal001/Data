{
 "cells": [
  {
   "cell_type": "code",
   "execution_count": 2,
   "id": "6d2c5c80",
   "metadata": {
    "id": "6d2c5c80"
   },
   "outputs": [],
   "source": [
    "import numpy as np"
   ]
  },
  {
   "cell_type": "code",
   "execution_count": 3,
   "id": "b63f9cbc",
   "metadata": {
    "scrolled": true
   },
   "outputs": [
    {
     "data": {
      "text/plain": [
       "array([[1., 1., 1.],\n",
       "       [1., 1., 1.],\n",
       "       [1., 1., 1.]])"
      ]
     },
     "execution_count": 3,
     "metadata": {},
     "output_type": "execute_result"
    }
   ],
   "source": [
    "np.ones((3,3))"
   ]
  },
  {
   "cell_type": "code",
   "execution_count": 4,
   "id": "89c799fd",
   "metadata": {},
   "outputs": [
    {
     "data": {
      "text/plain": [
       "array([[0., 0., 0., 0., 0.],\n",
       "       [0., 0., 0., 0., 0.],\n",
       "       [0., 0., 0., 0., 0.],\n",
       "       [0., 0., 0., 0., 0.],\n",
       "       [0., 0., 0., 0., 0.],\n",
       "       [0., 0., 0., 0., 0.],\n",
       "       [0., 0., 0., 0., 0.]])"
      ]
     },
     "execution_count": 4,
     "metadata": {},
     "output_type": "execute_result"
    }
   ],
   "source": [
    "np.zeros((7,5))"
   ]
  },
  {
   "cell_type": "code",
   "execution_count": null,
   "id": "43b5bb0c",
   "metadata": {},
   "outputs": [],
   "source": []
  },
  {
   "cell_type": "code",
   "execution_count": 5,
   "id": "78e280f3",
   "metadata": {},
   "outputs": [],
   "source": [
    "arr = np.ones((3, 4))"
   ]
  },
  {
   "cell_type": "code",
   "execution_count": 6,
   "id": "0cf245ff",
   "metadata": {
    "id": "0cf245ff",
    "outputId": "d52e270e-7626-42e4-c3d9-015e8577e8c2"
   },
   "outputs": [
    {
     "data": {
      "text/plain": [
       "array([[1., 1., 1., 1.],\n",
       "       [1., 1., 1., 1.],\n",
       "       [1., 1., 1., 1.]])"
      ]
     },
     "execution_count": 6,
     "metadata": {},
     "output_type": "execute_result"
    }
   ],
   "source": [
    "arr"
   ]
  },
  {
   "cell_type": "code",
   "execution_count": 7,
   "id": "3e3453da",
   "metadata": {
    "id": "3e3453da",
    "outputId": "e7221802-d853-4452-96cd-e60a7fbc9208"
   },
   "outputs": [
    {
     "data": {
      "text/plain": [
       "array([[6., 6., 6., 6.],\n",
       "       [6., 6., 6., 6.],\n",
       "       [6., 6., 6., 6.]])"
      ]
     },
     "execution_count": 7,
     "metadata": {},
     "output_type": "execute_result"
    }
   ],
   "source": [
    "arr + 5"
   ]
  },
  {
   "cell_type": "code",
   "execution_count": 8,
   "id": "d8ee1828",
   "metadata": {
    "id": "d8ee1828",
    "outputId": "ddfbe077-c7aa-486c-9a44-d9ca55b9cdea"
   },
   "outputs": [
    {
     "data": {
      "text/plain": [
       "array([[5., 5., 5., 5.],\n",
       "       [5., 5., 5., 5.],\n",
       "       [5., 5., 5., 5.]])"
      ]
     },
     "execution_count": 8,
     "metadata": {},
     "output_type": "execute_result"
    }
   ],
   "source": [
    "arr*5"
   ]
  },
  {
   "cell_type": "code",
   "execution_count": 11,
   "id": "5276a22f",
   "metadata": {
    "id": "5276a22f",
    "outputId": "2ca6fc74-d1c7-4dec-9aa9-e6f2893b1100"
   },
   "outputs": [
    {
     "data": {
      "text/plain": [
       "array([[1., 0., 0., 0., 0., 0., 0., 0., 0., 0.],\n",
       "       [0., 1., 0., 0., 0., 0., 0., 0., 0., 0.],\n",
       "       [0., 0., 1., 0., 0., 0., 0., 0., 0., 0.],\n",
       "       [0., 0., 0., 1., 0., 0., 0., 0., 0., 0.],\n",
       "       [0., 0., 0., 0., 1., 0., 0., 0., 0., 0.],\n",
       "       [0., 0., 0., 0., 0., 1., 0., 0., 0., 0.],\n",
       "       [0., 0., 0., 0., 0., 0., 1., 0., 0., 0.],\n",
       "       [0., 0., 0., 0., 0., 0., 0., 1., 0., 0.],\n",
       "       [0., 0., 0., 0., 0., 0., 0., 0., 1., 0.],\n",
       "       [0., 0., 0., 0., 0., 0., 0., 0., 0., 1.]])"
      ]
     },
     "execution_count": 11,
     "metadata": {},
     "output_type": "execute_result"
    }
   ],
   "source": [
    "np.eye(10)"
   ]
  },
  {
   "cell_type": "code",
   "execution_count": 12,
   "id": "fa09cc61",
   "metadata": {
    "id": "fa09cc61",
    "outputId": "b50269a7-1941-4dcb-f205-632603be8a98"
   },
   "outputs": [
    {
     "data": {
      "text/plain": [
       "array([[1., 1., 1., 1.],\n",
       "       [1., 1., 1., 1.],\n",
       "       [1., 1., 1., 1.]])"
      ]
     },
     "execution_count": 12,
     "metadata": {},
     "output_type": "execute_result"
    }
   ],
   "source": [
    "arr"
   ]
  },
  {
   "cell_type": "markdown",
   "id": "0a7481b7",
   "metadata": {},
   "source": [
    "#### We do all this things in numpy library without importing random library"
   ]
  },
  {
   "cell_type": "code",
   "execution_count": 13,
   "id": "34b125c0",
   "metadata": {},
   "outputs": [],
   "source": [
    "import random"
   ]
  },
  {
   "cell_type": "code",
   "execution_count": 71,
   "id": "3c1493fd",
   "metadata": {
    "scrolled": true
   },
   "outputs": [
    {
     "data": {
      "text/plain": [
       "5"
      ]
     },
     "execution_count": 71,
     "metadata": {},
     "output_type": "execute_result"
    }
   ],
   "source": [
    "random.randint(1,6)"
   ]
  },
  {
   "cell_type": "code",
   "execution_count": 60,
   "id": "9f883174",
   "metadata": {
    "scrolled": true
   },
   "outputs": [
    {
     "data": {
      "text/plain": [
       "2"
      ]
     },
     "execution_count": 60,
     "metadata": {},
     "output_type": "execute_result"
    }
   ],
   "source": [
    "random.randint(2,10)"
   ]
  },
  {
   "cell_type": "code",
   "execution_count": 74,
   "id": "77846127",
   "metadata": {},
   "outputs": [
    {
     "data": {
      "text/plain": [
       "array([79, 82, 79, 94, 70, 85, 86, 97, 51, 50])"
      ]
     },
     "execution_count": 74,
     "metadata": {},
     "output_type": "execute_result"
    }
   ],
   "source": [
    "np.random.randint(50,100,10)"
   ]
  },
  {
   "cell_type": "code",
   "execution_count": 75,
   "id": "394b69d8",
   "metadata": {},
   "outputs": [
    {
     "data": {
      "text/plain": [
       "array([60, 74, 81, 51, 77, 71, 83, 53, 79, 87, 70, 62, 67, 72, 68, 90, 94,\n",
       "       67, 84, 91, 57, 62, 80, 56, 97, 94, 94, 72, 50, 83, 74, 63, 70, 60,\n",
       "       52, 79, 86, 90, 99, 79, 94, 55, 53, 80, 64, 93, 80, 78, 56, 84, 76,\n",
       "       72, 56, 65, 89, 80, 69, 57, 63, 86, 73, 86, 76, 73, 51, 91, 68, 93,\n",
       "       68, 51, 88, 67, 63, 68, 51, 57, 90, 74, 56, 65, 60, 57, 51, 85, 95,\n",
       "       62, 73, 66, 65, 91, 51, 90, 95, 92, 91, 98, 99, 61, 66, 78, 69, 92,\n",
       "       83, 95, 60, 71, 94, 84, 64, 63, 69, 83, 65, 67, 67, 54, 68, 84, 86,\n",
       "       61, 83, 76, 87, 68, 70, 84, 75, 65, 70, 50, 58, 94, 78, 61, 57, 68,\n",
       "       65, 83, 82, 65, 62, 74, 61, 69, 84, 96, 95, 63, 92, 76, 78, 60, 93,\n",
       "       67, 93, 91, 90, 93, 50, 74, 50, 56, 59, 81, 95, 73, 60, 85, 89, 93,\n",
       "       56, 69, 93, 82, 62, 78, 63, 63, 83, 55, 64, 70, 99, 91, 77, 61, 76,\n",
       "       50, 78, 70, 98, 99, 81, 67, 62, 52, 80, 52, 57, 91])"
      ]
     },
     "execution_count": 75,
     "metadata": {},
     "output_type": "execute_result"
    }
   ],
   "source": [
    "np.random.randint(50,100,size=200)"
   ]
  },
  {
   "cell_type": "code",
   "execution_count": 145,
   "id": "1112871e",
   "metadata": {
    "id": "1112871e",
    "outputId": "fc375595-e5a6-49f9-939e-1e4ccb78b11b"
   },
   "outputs": [
    {
     "data": {
      "text/plain": [
       "array([[0.73899108, 0.83721447, 0.13934211, 0.07298784, 0.90123664],\n",
       "       [0.06518791, 0.77896401, 0.4692949 , 0.343006  , 0.47211467],\n",
       "       [0.13219418, 0.48403784, 0.141211  , 0.8625505 , 0.84470878],\n",
       "       [0.97845981, 0.20063802, 0.60608956, 0.07507009, 0.31272177],\n",
       "       [0.90542806, 0.35377583, 0.11000695, 0.99617252, 0.26427151],\n",
       "       [0.99459428, 0.06030323, 0.51141148, 0.24072589, 0.29070375],\n",
       "       [0.75297449, 0.81590371, 0.17939421, 0.71315559, 0.2224888 ],\n",
       "       [0.69334335, 0.18064262, 0.98915288, 0.76958372, 0.09056002],\n",
       "       [0.54764405, 0.78212143, 0.44153132, 0.86672165, 0.32628273]])"
      ]
     },
     "execution_count": 145,
     "metadata": {},
     "output_type": "execute_result"
    }
   ],
   "source": [
    "np.random.random_sample((9,5))"
   ]
  },
  {
   "cell_type": "code",
   "execution_count": 167,
   "id": "e3c844e6",
   "metadata": {
    "scrolled": true
   },
   "outputs": [
    {
     "data": {
      "text/plain": [
       "0.6835252700411304"
      ]
     },
     "execution_count": 167,
     "metadata": {},
     "output_type": "execute_result"
    }
   ],
   "source": [
    "np.random.random_sample()"
   ]
  },
  {
   "cell_type": "code",
   "execution_count": 169,
   "id": "6515618a",
   "metadata": {
    "id": "6515618a",
    "outputId": "22fa80b0-5b3e-43f1-c5b5-7be1e835847e",
    "scrolled": true
   },
   "outputs": [
    {
     "data": {
      "text/plain": [
       "array([0.21630386, 0.95117658, 0.37394029, 0.78906109, 0.61489285,\n",
       "       0.8489829 , 0.1892272 , 0.08298534, 0.55160119, 0.94151942])"
      ]
     },
     "execution_count": 169,
     "metadata": {},
     "output_type": "execute_result"
    }
   ],
   "source": [
    "np.random.random_sample(10)"
   ]
  },
  {
   "cell_type": "code",
   "execution_count": 170,
   "id": "f016851d",
   "metadata": {
    "id": "f016851d",
    "outputId": "298be8be-560b-4e0e-8df7-8e9593c127f2"
   },
   "outputs": [
    {
     "data": {
      "text/plain": [
       "array([[0.75110347, 0.91723842],\n",
       "       [0.86663279, 0.89447651],\n",
       "       [0.71692199, 0.94284372],\n",
       "       [0.05638451, 0.51804888],\n",
       "       [0.19061477, 0.50421782],\n",
       "       [0.80875094, 0.28820999],\n",
       "       [0.4410647 , 0.94304996],\n",
       "       [0.05445353, 0.92984015],\n",
       "       [0.32500437, 0.31017969],\n",
       "       [0.63162938, 0.89626907]])"
      ]
     },
     "execution_count": 170,
     "metadata": {},
     "output_type": "execute_result"
    }
   ],
   "source": [
    "np.random.rand(10,2)"
   ]
  },
  {
   "cell_type": "code",
   "execution_count": 171,
   "id": "b406c5cf",
   "metadata": {
    "id": "b406c5cf",
    "outputId": "7ad30432-5ac0-4dd0-a89e-ad8c92a616f7"
   },
   "outputs": [
    {
     "data": {
      "text/plain": [
       "array([[0.19670188, 0.18094174, 0.21043861],\n",
       "       [0.41169785, 0.56011939, 0.66172039]])"
      ]
     },
     "execution_count": 171,
     "metadata": {},
     "output_type": "execute_result"
    }
   ],
   "source": [
    "np.random.rand(2, 3)"
   ]
  },
  {
   "cell_type": "code",
   "execution_count": 172,
   "id": "cf700afb",
   "metadata": {
    "id": "cf700afb",
    "outputId": "b4fb8452-0a43-4d26-b4b2-a41f2078a137"
   },
   "outputs": [
    {
     "data": {
      "text/plain": [
       "array([[ 0.37009593,  0.95900368, -0.3968116 ],\n",
       "       [-0.59653143, -1.43489205,  0.42585197]])"
      ]
     },
     "execution_count": 172,
     "metadata": {},
     "output_type": "execute_result"
    }
   ],
   "source": [
    "np.random.randn(2, 3)"
   ]
  },
  {
   "cell_type": "code",
   "execution_count": 173,
   "id": "d299b157",
   "metadata": {
    "id": "d299b157",
    "outputId": "fbc9d246-1e24-405a-d51c-7bce6aef74aa"
   },
   "outputs": [
    {
     "data": {
      "text/plain": [
       "0.7322529547106705"
      ]
     },
     "execution_count": 173,
     "metadata": {},
     "output_type": "execute_result"
    }
   ],
   "source": [
    "np.random.random_sample()"
   ]
  },
  {
   "cell_type": "code",
   "execution_count": 174,
   "id": "c3c0f7ec",
   "metadata": {
    "id": "c3c0f7ec",
    "outputId": "b65e0347-9587-4cee-afc3-06ed56870c3b"
   },
   "outputs": [
    {
     "data": {
      "text/plain": [
       "4"
      ]
     },
     "execution_count": 174,
     "metadata": {},
     "output_type": "execute_result"
    }
   ],
   "source": [
    "np.random.randint(1,7)"
   ]
  },
  {
   "cell_type": "code",
   "execution_count": 175,
   "id": "630208a5",
   "metadata": {
    "id": "630208a5"
   },
   "outputs": [
    {
     "data": {
      "text/plain": [
       "array([[3, 5, 4, 6, 6, 1],\n",
       "       [3, 2, 6, 6, 4, 2],\n",
       "       [5, 1, 1, 4, 3, 5],\n",
       "       [1, 1, 6, 5, 4, 3]])"
      ]
     },
     "execution_count": 175,
     "metadata": {},
     "output_type": "execute_result"
    }
   ],
   "source": [
    "np.random.randint(1,7,(4,6))"
   ]
  },
  {
   "cell_type": "code",
   "execution_count": 178,
   "id": "90051fcc",
   "metadata": {
    "id": "90051fcc",
    "outputId": "3bdad4a0-33dd-4447-a5c0-5f49ae251a00"
   },
   "outputs": [
    {
     "data": {
      "text/plain": [
       "array([[1., 1., 1., 1.],\n",
       "       [1., 1., 1., 1.],\n",
       "       [1., 1., 1., 1.]])"
      ]
     },
     "execution_count": 178,
     "metadata": {},
     "output_type": "execute_result"
    }
   ],
   "source": [
    "arr"
   ]
  },
  {
   "cell_type": "code",
   "execution_count": 179,
   "id": "304d2c66",
   "metadata": {
    "id": "304d2c66",
    "outputId": "c757b87a-fc9b-45e5-ce01-fdfa98e34f3e"
   },
   "outputs": [
    {
     "data": {
      "text/plain": [
       "12"
      ]
     },
     "execution_count": 179,
     "metadata": {},
     "output_type": "execute_result"
    }
   ],
   "source": [
    "arr.size"
   ]
  },
  {
   "cell_type": "code",
   "execution_count": 180,
   "id": "0a04274b",
   "metadata": {
    "id": "0a04274b",
    "outputId": "5bf68c1e-1940-49b3-9378-9958fec550c4"
   },
   "outputs": [
    {
     "data": {
      "text/plain": [
       "(3, 4)"
      ]
     },
     "execution_count": 180,
     "metadata": {},
     "output_type": "execute_result"
    }
   ],
   "source": [
    "arr.shape"
   ]
  },
  {
   "cell_type": "code",
   "execution_count": 187,
   "id": "936a111b",
   "metadata": {},
   "outputs": [
    {
     "data": {
      "text/plain": [
       "array([[1., 1., 1., 1.],\n",
       "       [1., 1., 1., 1.],\n",
       "       [1., 1., 1., 1.]])"
      ]
     },
     "execution_count": 187,
     "metadata": {},
     "output_type": "execute_result"
    }
   ],
   "source": [
    "arr"
   ]
  },
  {
   "cell_type": "code",
   "execution_count": 188,
   "id": "c5752c56",
   "metadata": {},
   "outputs": [
    {
     "data": {
      "text/plain": [
       "array([[1., 1.],\n",
       "       [1., 1.],\n",
       "       [1., 1.],\n",
       "       [1., 1.],\n",
       "       [1., 1.],\n",
       "       [1., 1.]])"
      ]
     },
     "execution_count": 188,
     "metadata": {},
     "output_type": "execute_result"
    }
   ],
   "source": [
    "arr.reshape(6,2)"
   ]
  },
  {
   "cell_type": "code",
   "execution_count": 189,
   "id": "1dcc9d2c",
   "metadata": {},
   "outputs": [
    {
     "data": {
      "text/plain": [
       "array([[1., 1., 1., 1., 1., 1.],\n",
       "       [1., 1., 1., 1., 1., 1.]])"
      ]
     },
     "execution_count": 189,
     "metadata": {},
     "output_type": "execute_result"
    }
   ],
   "source": [
    "arr.reshape(2,6)"
   ]
  },
  {
   "cell_type": "code",
   "execution_count": 190,
   "id": "1cce0089",
   "metadata": {
    "scrolled": true
   },
   "outputs": [
    {
     "data": {
      "text/plain": [
       "array([[1.],\n",
       "       [1.],\n",
       "       [1.],\n",
       "       [1.],\n",
       "       [1.],\n",
       "       [1.],\n",
       "       [1.],\n",
       "       [1.],\n",
       "       [1.],\n",
       "       [1.],\n",
       "       [1.],\n",
       "       [1.]])"
      ]
     },
     "execution_count": 190,
     "metadata": {},
     "output_type": "execute_result"
    }
   ],
   "source": [
    "arr.reshape(12,1)"
   ]
  },
  {
   "cell_type": "code",
   "execution_count": 198,
   "id": "400e418f",
   "metadata": {},
   "outputs": [
    {
     "data": {
      "text/plain": [
       "array([[1., 1.],\n",
       "       [1., 1.],\n",
       "       [1., 1.],\n",
       "       [1., 1.],\n",
       "       [1., 1.],\n",
       "       [1., 1.]])"
      ]
     },
     "execution_count": 198,
     "metadata": {},
     "output_type": "execute_result"
    }
   ],
   "source": [
    "arr.reshape(-1,2)"
   ]
  },
  {
   "cell_type": "code",
   "execution_count": 199,
   "id": "deb8e100",
   "metadata": {
    "id": "cc0a7eef",
    "outputId": "8f668bb6-cb06-497c-fc1e-d8f84f569f76"
   },
   "outputs": [
    {
     "data": {
      "text/plain": [
       "array([[1., 1., 1., 1., 1., 1., 1., 1., 1., 1., 1., 1.]])"
      ]
     },
     "execution_count": 199,
     "metadata": {},
     "output_type": "execute_result"
    }
   ],
   "source": [
    "arr.reshape(1,12) #array size can not change, multiples of array size"
   ]
  },
  {
   "cell_type": "code",
   "execution_count": 200,
   "id": "e2a4ab22",
   "metadata": {
    "id": "e2a4ab22",
    "outputId": "a5904249-a6be-4c76-d611-c0c9d2101cdb"
   },
   "outputs": [
    {
     "data": {
      "text/plain": [
       "array([[1., 1., 1., 1.],\n",
       "       [1., 1., 1., 1.],\n",
       "       [1., 1., 1., 1.]])"
      ]
     },
     "execution_count": 200,
     "metadata": {},
     "output_type": "execute_result"
    }
   ],
   "source": [
    "arr.reshape(3, -541)"
   ]
  },
  {
   "cell_type": "code",
   "execution_count": 201,
   "id": "de84dd66",
   "metadata": {},
   "outputs": [
    {
     "ename": "ValueError",
     "evalue": "cannot reshape array of size 12 into shape (15,newaxis)",
     "output_type": "error",
     "traceback": [
      "\u001b[1;31m---------------------------------------------------------------------------\u001b[0m",
      "\u001b[1;31mValueError\u001b[0m                                Traceback (most recent call last)",
      "\u001b[1;32m~\\AppData\\Local\\Temp\\ipykernel_11848\\128546644.py\u001b[0m in \u001b[0;36m<module>\u001b[1;34m\u001b[0m\n\u001b[1;32m----> 1\u001b[1;33m \u001b[0marr\u001b[0m\u001b[1;33m.\u001b[0m\u001b[0mreshape\u001b[0m\u001b[1;33m(\u001b[0m\u001b[1;36m15\u001b[0m\u001b[1;33m,\u001b[0m\u001b[1;33m-\u001b[0m\u001b[1;36m1\u001b[0m\u001b[1;33m)\u001b[0m\u001b[1;33m\u001b[0m\u001b[1;33m\u001b[0m\u001b[0m\n\u001b[0m",
      "\u001b[1;31mValueError\u001b[0m: cannot reshape array of size 12 into shape (15,newaxis)"
     ]
    }
   ],
   "source": [
    "arr.reshape(15,-1)"
   ]
  },
  {
   "cell_type": "code",
   "execution_count": 202,
   "id": "9b4a7848",
   "metadata": {
    "id": "9b4a7848",
    "outputId": "7839ad43-75f9-4a17-a5fa-1f41761aa489"
   },
   "outputs": [
    {
     "data": {
      "text/plain": [
       "array([[1., 1.],\n",
       "       [1., 1.],\n",
       "       [1., 1.],\n",
       "       [1., 1.],\n",
       "       [1., 1.],\n",
       "       [1., 1.]])"
      ]
     },
     "execution_count": 202,
     "metadata": {},
     "output_type": "execute_result"
    }
   ],
   "source": [
    "arr.reshape(6, -1)  \n",
    "# when we know how many rows wants but not know about columns so we use -1 it automatically decides the no. of columns"
   ]
  },
  {
   "cell_type": "code",
   "execution_count": 203,
   "id": "c91113ad",
   "metadata": {
    "id": "c91113ad",
    "outputId": "40a3644d-1c27-43dc-d217-3f9ab886fd19",
    "scrolled": true
   },
   "outputs": [
    {
     "data": {
      "text/plain": [
       "array([[[[1., 1., 1.],\n",
       "         [1., 1., 1.]],\n",
       "\n",
       "        [[1., 1., 1.],\n",
       "         [1., 1., 1.]]]])"
      ]
     },
     "execution_count": 203,
     "metadata": {},
     "output_type": "execute_result"
    }
   ],
   "source": [
    "arr.reshape(1, 2, 2, 3)"
   ]
  },
  {
   "cell_type": "code",
   "execution_count": 204,
   "id": "a561838c",
   "metadata": {
    "id": "a561838c",
    "outputId": "01d4ff7f-4da8-4ff5-ba91-840b225c836b"
   },
   "outputs": [
    {
     "data": {
      "text/plain": [
       "array([[[[[[[1.],\n",
       "            [1.],\n",
       "            [1.]],\n",
       "\n",
       "           [[1.],\n",
       "            [1.],\n",
       "            [1.]],\n",
       "\n",
       "           [[1.],\n",
       "            [1.],\n",
       "            [1.]],\n",
       "\n",
       "           [[1.],\n",
       "            [1.],\n",
       "            [1.]]]]]]])"
      ]
     },
     "execution_count": 204,
     "metadata": {},
     "output_type": "execute_result"
    }
   ],
   "source": [
    "arr.reshape(1,1,1,1,4, 3, 1)"
   ]
  },
  {
   "cell_type": "code",
   "execution_count": 206,
   "id": "a1b34382",
   "metadata": {
    "id": "a1b34382",
    "outputId": "31c930bf-d9a6-401f-a583-f3602c056723"
   },
   "outputs": [
    {
     "data": {
      "text/plain": [
       "array([[[[[[[[[[[[1., 1., 1.],\n",
       "                 [1., 1., 1.]],\n",
       "\n",
       "                [[1., 1., 1.],\n",
       "                 [1., 1., 1.]]]]]]]]]]]])"
      ]
     },
     "execution_count": 206,
     "metadata": {},
     "output_type": "execute_result"
    }
   ],
   "source": [
    "arr.reshape(1, 1, 1, 1, 1, 1, 1, 1, 1, 2, 2, 3)"
   ]
  },
  {
   "cell_type": "code",
   "execution_count": 208,
   "id": "ca5d4613",
   "metadata": {
    "id": "ca5d4613"
   },
   "outputs": [],
   "source": [
    "lis = [1, 2, 3, 4]\n",
    "arr = np.array(lis)"
   ]
  },
  {
   "cell_type": "code",
   "execution_count": 209,
   "id": "c11b423b",
   "metadata": {
    "id": "c11b423b",
    "outputId": "d5aeae7b-1a2e-4b0b-897e-04d57b793212"
   },
   "outputs": [
    {
     "data": {
      "text/plain": [
       "array([1, 2, 3, 4])"
      ]
     },
     "execution_count": 209,
     "metadata": {},
     "output_type": "execute_result"
    }
   ],
   "source": [
    "arr"
   ]
  },
  {
   "cell_type": "code",
   "execution_count": 210,
   "id": "2264e026",
   "metadata": {
    "id": "2264e026",
    "outputId": "ed3a3f1f-3aeb-4d83-9de0-56bbd9b61323"
   },
   "outputs": [
    {
     "data": {
      "text/plain": [
       "1"
      ]
     },
     "execution_count": 210,
     "metadata": {},
     "output_type": "execute_result"
    }
   ],
   "source": [
    "arr.ndim"
   ]
  },
  {
   "cell_type": "code",
   "execution_count": 211,
   "id": "ae1b54a7",
   "metadata": {
    "id": "ae1b54a7",
    "outputId": "1e5630c4-0c60-4607-d741-d8fdf033a6e9"
   },
   "outputs": [
    {
     "data": {
      "text/plain": [
       "array([[2, 3],\n",
       "       [4, 5]])"
      ]
     },
     "execution_count": 211,
     "metadata": {},
     "output_type": "execute_result"
    }
   ],
   "source": [
    "arr2 = np.array([[2, 3], [4, 5]])\n",
    "arr2"
   ]
  },
  {
   "cell_type": "code",
   "execution_count": 212,
   "id": "8399c0c7",
   "metadata": {
    "id": "8399c0c7",
    "outputId": "17ab9ea9-9ce0-48c3-ebd0-faf61ba0dfaa"
   },
   "outputs": [
    {
     "data": {
      "text/plain": [
       "2"
      ]
     },
     "execution_count": 212,
     "metadata": {},
     "output_type": "execute_result"
    }
   ],
   "source": [
    "arr2.ndim"
   ]
  },
  {
   "cell_type": "code",
   "execution_count": 213,
   "id": "3f743f0d",
   "metadata": {
    "id": "3f743f0d",
    "outputId": "9254c6e5-d6a4-45cc-92c0-40d1b4d04e29"
   },
   "outputs": [
    {
     "data": {
      "text/plain": [
       "array([[0., 0., 0., 0.],\n",
       "       [0., 0., 0., 0.],\n",
       "       [0., 0., 0., 0.]])"
      ]
     },
     "execution_count": 213,
     "metadata": {},
     "output_type": "execute_result"
    }
   ],
   "source": [
    "arr2 = np.zeros((3, 4))\n",
    "arr2"
   ]
  },
  {
   "cell_type": "code",
   "execution_count": 214,
   "id": "dbfe0fe6",
   "metadata": {
    "id": "dbfe0fe6",
    "outputId": "7e8e9074-4430-4cca-e497-08ab84e32b7a"
   },
   "outputs": [
    {
     "data": {
      "text/plain": [
       "2"
      ]
     },
     "execution_count": 214,
     "metadata": {},
     "output_type": "execute_result"
    }
   ],
   "source": [
    "arr2.ndim"
   ]
  },
  {
   "cell_type": "code",
   "execution_count": 215,
   "id": "f98f0ec1",
   "metadata": {
    "id": "f98f0ec1",
    "outputId": "82b983f6-148b-4cec-98c5-28813b819ce4"
   },
   "outputs": [
    {
     "data": {
      "text/plain": [
       "array([[[0., 0., 0., 0.],\n",
       "        [0., 0., 0., 0.],\n",
       "        [0., 0., 0., 0.]]])"
      ]
     },
     "execution_count": 215,
     "metadata": {},
     "output_type": "execute_result"
    }
   ],
   "source": [
    "arr3 = np.zeros((1, 3, 4)) # 3 rows, 4 columns >> 2d array + 1d\n",
    "arr3"
   ]
  },
  {
   "cell_type": "code",
   "execution_count": 216,
   "id": "23160134",
   "metadata": {
    "id": "23160134",
    "outputId": "b39a3532-6ca0-4d2f-aa35-840059d039c9"
   },
   "outputs": [
    {
     "data": {
      "text/plain": [
       "3"
      ]
     },
     "execution_count": 216,
     "metadata": {},
     "output_type": "execute_result"
    }
   ],
   "source": [
    "arr3.ndim"
   ]
  },
  {
   "cell_type": "code",
   "execution_count": 217,
   "id": "288b7fab",
   "metadata": {
    "id": "288b7fab",
    "outputId": "9aa00def-6bae-406a-ccb5-f89cafea63c0"
   },
   "outputs": [
    {
     "data": {
      "text/plain": [
       "array([[[0., 0., 0., 0.],\n",
       "        [0., 0., 0., 0.],\n",
       "        [0., 0., 0., 0.]],\n",
       "\n",
       "       [[0., 0., 0., 0.],\n",
       "        [0., 0., 0., 0.],\n",
       "        [0., 0., 0., 0.]]])"
      ]
     },
     "execution_count": 217,
     "metadata": {},
     "output_type": "execute_result"
    }
   ],
   "source": [
    "arr4 = np.zeros((2,3, 4)) \n",
    "arr4"
   ]
  },
  {
   "cell_type": "code",
   "execution_count": 218,
   "id": "108874e3",
   "metadata": {
    "id": "108874e3",
    "outputId": "209ed768-2370-4c37-ad50-280aed589599"
   },
   "outputs": [
    {
     "data": {
      "text/plain": [
       "3"
      ]
     },
     "execution_count": 218,
     "metadata": {},
     "output_type": "execute_result"
    }
   ],
   "source": [
    "arr4.ndim"
   ]
  },
  {
   "cell_type": "code",
   "execution_count": 219,
   "id": "4908b59b",
   "metadata": {
    "id": "4908b59b",
    "outputId": "08604db3-acc3-4ddd-e0c8-3aa4a868628d"
   },
   "outputs": [
    {
     "data": {
      "text/plain": [
       "(2, 3, 4)"
      ]
     },
     "execution_count": 219,
     "metadata": {},
     "output_type": "execute_result"
    }
   ],
   "source": [
    "arr4.shape"
   ]
  },
  {
   "cell_type": "code",
   "execution_count": 220,
   "id": "bd85dfdc",
   "metadata": {
    "id": "bd85dfdc"
   },
   "outputs": [
    {
     "data": {
      "text/plain": [
       "array([[5, 4, 9, 3, 7, 9],\n",
       "       [2, 7, 1, 5, 9, 2],\n",
       "       [1, 5, 8, 8, 5, 6],\n",
       "       [5, 7, 5, 1, 6, 9],\n",
       "       [3, 8, 3, 1, 3, 4]])"
      ]
     },
     "execution_count": 220,
     "metadata": {},
     "output_type": "execute_result"
    }
   ],
   "source": [
    "arr1 = np.random.randint(1, 10, (5, 6))\n",
    "arr1"
   ]
  },
  {
   "cell_type": "code",
   "execution_count": 229,
   "id": "f685e323",
   "metadata": {},
   "outputs": [
    {
     "data": {
      "text/plain": [
       "array([[1, 5],\n",
       "       [5, 1]])"
      ]
     },
     "execution_count": 229,
     "metadata": {},
     "output_type": "execute_result"
    }
   ],
   "source": [
    "arr1[[1,3],2:4]"
   ]
  },
  {
   "cell_type": "code",
   "execution_count": 231,
   "id": "93497be7",
   "metadata": {},
   "outputs": [
    {
     "data": {
      "text/plain": [
       "array([5, 8])"
      ]
     },
     "execution_count": 231,
     "metadata": {},
     "output_type": "execute_result"
    }
   ],
   "source": [
    "arr1[2,1:3]"
   ]
  },
  {
   "cell_type": "code",
   "execution_count": 232,
   "id": "61e7d8eb",
   "metadata": {},
   "outputs": [
    {
     "data": {
      "text/plain": [
       "array([5, 8])"
      ]
     },
     "execution_count": 232,
     "metadata": {},
     "output_type": "execute_result"
    }
   ],
   "source": [
    "arr1[2][1:3]"
   ]
  },
  {
   "cell_type": "code",
   "execution_count": 233,
   "id": "40f584c5",
   "metadata": {},
   "outputs": [
    {
     "data": {
      "text/plain": [
       "5"
      ]
     },
     "execution_count": 233,
     "metadata": {},
     "output_type": "execute_result"
    }
   ],
   "source": [
    "arr1[2][1]"
   ]
  },
  {
   "cell_type": "code",
   "execution_count": 234,
   "id": "a79517ca",
   "metadata": {},
   "outputs": [
    {
     "data": {
      "text/plain": [
       "array([[1, 5],\n",
       "       [5, 1]])"
      ]
     },
     "execution_count": 234,
     "metadata": {},
     "output_type": "execute_result"
    }
   ],
   "source": [
    "arr1[[1,3],2:4]"
   ]
  },
  {
   "cell_type": "code",
   "execution_count": 235,
   "id": "a806edf9",
   "metadata": {},
   "outputs": [
    {
     "data": {
      "text/plain": [
       "8"
      ]
     },
     "execution_count": 235,
     "metadata": {},
     "output_type": "execute_result"
    }
   ],
   "source": [
    "arr1[2,3]"
   ]
  },
  {
   "cell_type": "code",
   "execution_count": 236,
   "id": "46b2ed5e",
   "metadata": {},
   "outputs": [
    {
     "data": {
      "text/plain": [
       "array([8, 8])"
      ]
     },
     "execution_count": 236,
     "metadata": {},
     "output_type": "execute_result"
    }
   ],
   "source": [
    "arr1[2,[2,3]]"
   ]
  },
  {
   "cell_type": "code",
   "execution_count": null,
   "id": "67d6de74",
   "metadata": {},
   "outputs": [],
   "source": []
  },
  {
   "cell_type": "code",
   "execution_count": 237,
   "id": "de09b63f",
   "metadata": {},
   "outputs": [
    {
     "data": {
      "text/plain": [
       "array([9, 7, 9, 7, 9, 8, 8, 6, 7, 6, 9, 8])"
      ]
     },
     "execution_count": 237,
     "metadata": {},
     "output_type": "execute_result"
    }
   ],
   "source": [
    "arr1[arr1 > 5]"
   ]
  },
  {
   "cell_type": "code",
   "execution_count": 238,
   "id": "f6d8d6b1",
   "metadata": {},
   "outputs": [
    {
     "data": {
      "text/plain": [
       "array([5, 5, 5, 5, 5, 5])"
      ]
     },
     "execution_count": 238,
     "metadata": {},
     "output_type": "execute_result"
    }
   ],
   "source": [
    "arr1[arr1 == 5]"
   ]
  },
  {
   "cell_type": "code",
   "execution_count": 239,
   "id": "cafb05a7",
   "metadata": {},
   "outputs": [
    {
     "data": {
      "text/plain": [
       "array([9, 9, 9, 8, 8, 9, 8])"
      ]
     },
     "execution_count": 239,
     "metadata": {},
     "output_type": "execute_result"
    }
   ],
   "source": [
    "arr1[arr1 >= 8]"
   ]
  },
  {
   "cell_type": "code",
   "execution_count": 240,
   "id": "643d4086",
   "metadata": {},
   "outputs": [
    {
     "data": {
      "text/plain": [
       "array([[5, 4, 9, 3, 7, 9],\n",
       "       [2, 7, 1, 5, 9, 2],\n",
       "       [1, 5, 8, 8, 5, 6],\n",
       "       [5, 7, 5, 1, 6, 9],\n",
       "       [3, 8, 3, 1, 3, 4]])"
      ]
     },
     "execution_count": 240,
     "metadata": {},
     "output_type": "execute_result"
    }
   ],
   "source": [
    "arr1"
   ]
  },
  {
   "cell_type": "code",
   "execution_count": 241,
   "id": "4151576e",
   "metadata": {},
   "outputs": [
    {
     "data": {
      "text/plain": [
       "array([[1, 5],\n",
       "       [5, 1]])"
      ]
     },
     "execution_count": 241,
     "metadata": {},
     "output_type": "execute_result"
    }
   ],
   "source": [
    "# arr1[row,col]\n",
    "arr1[1:4:2,2:4]"
   ]
  },
  {
   "cell_type": "code",
   "execution_count": 242,
   "id": "b2147c35",
   "metadata": {},
   "outputs": [
    {
     "data": {
      "text/plain": [
       "array([[1, 5, 8, 8, 5, 6],\n",
       "       [3, 8, 3, 1, 3, 4]])"
      ]
     },
     "execution_count": 242,
     "metadata": {},
     "output_type": "execute_result"
    }
   ],
   "source": [
    "arr1[::2][1:4]"
   ]
  },
  {
   "cell_type": "code",
   "execution_count": 243,
   "id": "4f846053",
   "metadata": {},
   "outputs": [
    {
     "data": {
      "text/plain": [
       "5"
      ]
     },
     "execution_count": 243,
     "metadata": {},
     "output_type": "execute_result"
    }
   ],
   "source": [
    "arr1[2,1]"
   ]
  },
  {
   "cell_type": "code",
   "execution_count": 244,
   "id": "d1834948",
   "metadata": {},
   "outputs": [
    {
     "data": {
      "text/plain": [
       "array([8, 8])"
      ]
     },
     "execution_count": 244,
     "metadata": {},
     "output_type": "execute_result"
    }
   ],
   "source": [
    "arr1[2][2:4]"
   ]
  },
  {
   "cell_type": "code",
   "execution_count": 245,
   "id": "d5e70112",
   "metadata": {},
   "outputs": [
    {
     "data": {
      "text/plain": [
       "array([[1, 5, 8, 8, 5, 6],\n",
       "       [3, 8, 3, 1, 3, 4]])"
      ]
     },
     "execution_count": 245,
     "metadata": {},
     "output_type": "execute_result"
    }
   ],
   "source": [
    "arr1[::2][1:4]"
   ]
  },
  {
   "cell_type": "code",
   "execution_count": 246,
   "id": "5117d278",
   "metadata": {},
   "outputs": [
    {
     "data": {
      "text/plain": [
       "array([8, 8])"
      ]
     },
     "execution_count": 246,
     "metadata": {},
     "output_type": "execute_result"
    }
   ],
   "source": [
    "arr1[2,(2,3)]"
   ]
  },
  {
   "cell_type": "code",
   "execution_count": null,
   "id": "e9f1b499",
   "metadata": {},
   "outputs": [],
   "source": []
  },
  {
   "cell_type": "code",
   "execution_count": 247,
   "id": "3419d6a7",
   "metadata": {},
   "outputs": [
    {
     "data": {
      "text/plain": [
       "array([8])"
      ]
     },
     "execution_count": 247,
     "metadata": {},
     "output_type": "execute_result"
    }
   ],
   "source": [
    "arr1[[2],[2]]"
   ]
  },
  {
   "cell_type": "code",
   "execution_count": 248,
   "id": "4e07f200",
   "metadata": {},
   "outputs": [],
   "source": [
    "import numpy as np"
   ]
  },
  {
   "cell_type": "code",
   "execution_count": 249,
   "id": "15556875",
   "metadata": {
    "id": "15556875"
   },
   "outputs": [],
   "source": [
    "arr1 = np.random.randint(1, 3, (3,3))\n",
    "arr2 = np.random.randint(1, 3, (3,3))"
   ]
  },
  {
   "cell_type": "code",
   "execution_count": 253,
   "id": "3843c982",
   "metadata": {
    "id": "3843c982",
    "outputId": "7e7acdf4-631d-478a-b33b-399c01f771cc"
   },
   "outputs": [
    {
     "data": {
      "text/plain": [
       "array([[1, 2, 1],\n",
       "       [2, 2, 2],\n",
       "       [1, 2, 2]])"
      ]
     },
     "execution_count": 253,
     "metadata": {},
     "output_type": "execute_result"
    }
   ],
   "source": [
    "arr1"
   ]
  },
  {
   "cell_type": "code",
   "execution_count": 254,
   "id": "41c381ed",
   "metadata": {
    "id": "41c381ed",
    "outputId": "4365d84a-b7dc-425d-fc29-c8397845f4bc"
   },
   "outputs": [
    {
     "data": {
      "text/plain": [
       "array([[1, 1, 1],\n",
       "       [1, 2, 1],\n",
       "       [2, 1, 2]])"
      ]
     },
     "execution_count": 254,
     "metadata": {},
     "output_type": "execute_result"
    }
   ],
   "source": [
    "arr2"
   ]
  },
  {
   "cell_type": "code",
   "execution_count": 255,
   "id": "10b0c059",
   "metadata": {
    "id": "10b0c059",
    "outputId": "67ac95e8-a59a-46ab-dada-e565f5d864b7"
   },
   "outputs": [
    {
     "data": {
      "text/plain": [
       "array([[2, 3, 2],\n",
       "       [3, 4, 3],\n",
       "       [3, 3, 4]])"
      ]
     },
     "execution_count": 255,
     "metadata": {},
     "output_type": "execute_result"
    }
   ],
   "source": [
    "arr1 + arr2"
   ]
  },
  {
   "cell_type": "code",
   "execution_count": 257,
   "id": "2378ec63",
   "metadata": {
    "id": "2378ec63",
    "outputId": "f0042970-2393-4caa-a4fb-0641d0da1af4"
   },
   "outputs": [
    {
     "data": {
      "text/plain": [
       "array([[ 0,  1,  0],\n",
       "       [ 1,  0,  1],\n",
       "       [-1,  1,  0]])"
      ]
     },
     "execution_count": 257,
     "metadata": {},
     "output_type": "execute_result"
    }
   ],
   "source": [
    "arr1 - arr2"
   ]
  },
  {
   "cell_type": "code",
   "execution_count": 258,
   "id": "ac7fa4b4",
   "metadata": {},
   "outputs": [
    {
     "data": {
      "text/plain": [
       "array([[ 0, -1,  0],\n",
       "       [-1,  0, -1],\n",
       "       [ 1, -1,  0]])"
      ]
     },
     "execution_count": 258,
     "metadata": {},
     "output_type": "execute_result"
    }
   ],
   "source": [
    "arr2 - arr1"
   ]
  },
  {
   "cell_type": "code",
   "execution_count": 259,
   "id": "e47ef821",
   "metadata": {
    "id": "e47ef821",
    "outputId": "db8b5c2f-891c-4a22-aeac-917b2add6202"
   },
   "outputs": [
    {
     "data": {
      "text/plain": [
       "array([[1, 2, 1],\n",
       "       [2, 4, 2],\n",
       "       [2, 2, 4]])"
      ]
     },
     "execution_count": 259,
     "metadata": {},
     "output_type": "execute_result"
    }
   ],
   "source": [
    "arr1 * arr2"
   ]
  },
  {
   "cell_type": "code",
   "execution_count": 269,
   "id": "2e6cdaf9",
   "metadata": {},
   "outputs": [],
   "source": [
    "arr1 = np.random.randint(1, 3, (5,3))\n",
    "arr2 = np.random.randint(1, 3, (3,8))"
   ]
  },
  {
   "cell_type": "code",
   "execution_count": 270,
   "id": "5deffbb2",
   "metadata": {
    "id": "5deffbb2",
    "outputId": "792b4186-367a-4536-a12c-6a234afc442e",
    "scrolled": true
   },
   "outputs": [
    {
     "data": {
      "text/plain": [
       "array([[1, 2, 2],\n",
       "       [1, 1, 2],\n",
       "       [1, 2, 1],\n",
       "       [2, 1, 1],\n",
       "       [2, 1, 2]])"
      ]
     },
     "execution_count": 270,
     "metadata": {},
     "output_type": "execute_result"
    }
   ],
   "source": [
    "#matrix multiplication\n",
    "\n",
    "\n",
    "arr1"
   ]
  },
  {
   "cell_type": "code",
   "execution_count": 271,
   "id": "7c831294",
   "metadata": {
    "id": "7c831294",
    "outputId": "5bc3f9bc-8192-41a9-eab7-fe5365e6719b"
   },
   "outputs": [
    {
     "data": {
      "text/plain": [
       "array([[2, 2, 2, 1, 1, 2, 2, 2],\n",
       "       [1, 2, 1, 2, 1, 2, 1, 2],\n",
       "       [1, 2, 1, 2, 2, 1, 2, 2]])"
      ]
     },
     "execution_count": 271,
     "metadata": {},
     "output_type": "execute_result"
    }
   ],
   "source": [
    "arr2"
   ]
  },
  {
   "cell_type": "code",
   "execution_count": 272,
   "id": "e756cad0",
   "metadata": {},
   "outputs": [
    {
     "data": {
      "text/plain": [
       "array([[ 6, 10,  6,  9,  7,  8,  8, 10],\n",
       "       [ 5,  8,  5,  7,  6,  6,  7,  8],\n",
       "       [ 5,  8,  5,  7,  5,  7,  6,  8],\n",
       "       [ 6,  8,  6,  6,  5,  7,  7,  8],\n",
       "       [ 7, 10,  7,  8,  7,  8,  9, 10]])"
      ]
     },
     "execution_count": 272,
     "metadata": {},
     "output_type": "execute_result"
    }
   ],
   "source": [
    "arr1 @ arr2"
   ]
  },
  {
   "cell_type": "code",
   "execution_count": 274,
   "id": "5dd21484",
   "metadata": {},
   "outputs": [
    {
     "data": {
      "text/plain": [
       "array([[ 6, 10,  6,  9,  7,  8,  8, 10],\n",
       "       [ 5,  8,  5,  7,  6,  6,  7,  8],\n",
       "       [ 5,  8,  5,  7,  5,  7,  6,  8],\n",
       "       [ 6,  8,  6,  6,  5,  7,  7,  8],\n",
       "       [ 7, 10,  7,  8,  7,  8,  9, 10]])"
      ]
     },
     "execution_count": 274,
     "metadata": {},
     "output_type": "execute_result"
    }
   ],
   "source": [
    "arr1.dot(arr2)"
   ]
  },
  {
   "cell_type": "code",
   "execution_count": 275,
   "id": "41bc2e3c",
   "metadata": {},
   "outputs": [],
   "source": [
    "arr3 = np.random.randint(1, 3, (3,4))\n",
    "arr4 = np.random.randint(1, 3, (4,4))"
   ]
  },
  {
   "cell_type": "code",
   "execution_count": 276,
   "id": "374282e8",
   "metadata": {},
   "outputs": [
    {
     "data": {
      "text/plain": [
       "array([[2, 2, 1, 1],\n",
       "       [2, 2, 2, 1],\n",
       "       [1, 2, 2, 2]])"
      ]
     },
     "execution_count": 276,
     "metadata": {},
     "output_type": "execute_result"
    }
   ],
   "source": [
    "arr3"
   ]
  },
  {
   "cell_type": "code",
   "execution_count": 277,
   "id": "2a4b7b21",
   "metadata": {},
   "outputs": [
    {
     "data": {
      "text/plain": [
       "array([[2, 1, 1, 2],\n",
       "       [1, 2, 1, 1],\n",
       "       [1, 1, 1, 1],\n",
       "       [1, 2, 2, 2]])"
      ]
     },
     "execution_count": 277,
     "metadata": {},
     "output_type": "execute_result"
    }
   ],
   "source": [
    "arr4"
   ]
  },
  {
   "cell_type": "code",
   "execution_count": 278,
   "id": "81625e34",
   "metadata": {},
   "outputs": [
    {
     "data": {
      "text/plain": [
       "array([[ 8,  9,  7,  9],\n",
       "       [ 9, 10,  8, 10],\n",
       "       [ 8, 11,  9, 10]])"
      ]
     },
     "execution_count": 278,
     "metadata": {},
     "output_type": "execute_result"
    }
   ],
   "source": [
    "arr3 @ arr4"
   ]
  },
  {
   "cell_type": "code",
   "execution_count": 279,
   "id": "c69beefc",
   "metadata": {
    "id": "c69beefc",
    "outputId": "4609875c-e6e4-49e8-d1a1-03145d00a3e6"
   },
   "outputs": [
    {
     "data": {
      "text/plain": [
       "array([[1, 2, 2],\n",
       "       [1, 1, 2],\n",
       "       [1, 2, 1],\n",
       "       [2, 1, 1],\n",
       "       [2, 1, 2]])"
      ]
     },
     "execution_count": 279,
     "metadata": {},
     "output_type": "execute_result"
    }
   ],
   "source": [
    "arr1"
   ]
  },
  {
   "cell_type": "code",
   "execution_count": 280,
   "id": "7a2660f8",
   "metadata": {
    "id": "7a2660f8",
    "outputId": "02684fb7-7a98-4eb1-f1e3-d3ba53be3d1d"
   },
   "outputs": [
    {
     "data": {
      "text/plain": [
       "array([[2, 2, 2, 1, 1, 2, 2, 2],\n",
       "       [1, 2, 1, 2, 1, 2, 1, 2],\n",
       "       [1, 2, 1, 2, 2, 1, 2, 2]])"
      ]
     },
     "execution_count": 280,
     "metadata": {},
     "output_type": "execute_result"
    }
   ],
   "source": [
    "arr2"
   ]
  },
  {
   "cell_type": "code",
   "execution_count": 281,
   "id": "f28fff19",
   "metadata": {
    "id": "f28fff19",
    "outputId": "d3526741-40a3-4627-d11c-7ff2dee36098"
   },
   "outputs": [
    {
     "name": "stderr",
     "output_type": "stream",
     "text": [
      "C:\\Users\\gaura\\AppData\\Local\\Temp\\ipykernel_11848\\824215542.py:1: RuntimeWarning: divide by zero encountered in true_divide\n",
      "  arr1 / 0\n"
     ]
    },
    {
     "data": {
      "text/plain": [
       "array([[inf, inf, inf],\n",
       "       [inf, inf, inf],\n",
       "       [inf, inf, inf],\n",
       "       [inf, inf, inf],\n",
       "       [inf, inf, inf]])"
      ]
     },
     "execution_count": 281,
     "metadata": {},
     "output_type": "execute_result"
    }
   ],
   "source": [
    "arr1 / 0"
   ]
  },
  {
   "cell_type": "code",
   "execution_count": 282,
   "id": "ed83f78a",
   "metadata": {},
   "outputs": [],
   "source": [
    "a = np.array([[1, 2, 3]])"
   ]
  },
  {
   "cell_type": "code",
   "execution_count": 283,
   "id": "9e5f9e07",
   "metadata": {},
   "outputs": [
    {
     "data": {
      "text/plain": [
       "(1, 3)"
      ]
     },
     "execution_count": 283,
     "metadata": {},
     "output_type": "execute_result"
    }
   ],
   "source": [
    "a.shape"
   ]
  },
  {
   "cell_type": "code",
   "execution_count": 284,
   "id": "2a6da2f9",
   "metadata": {},
   "outputs": [
    {
     "data": {
      "text/plain": [
       "array([[1, 2, 3]])"
      ]
     },
     "execution_count": 284,
     "metadata": {},
     "output_type": "execute_result"
    }
   ],
   "source": [
    "a"
   ]
  },
  {
   "cell_type": "code",
   "execution_count": 285,
   "id": "200aab46",
   "metadata": {
    "id": "200aab46",
    "outputId": "79ac639f-699b-4d37-cdfa-74d06dc0e732"
   },
   "outputs": [
    {
     "data": {
      "text/plain": [
       "array([[1],\n",
       "       [2],\n",
       "       [3]])"
      ]
     },
     "execution_count": 285,
     "metadata": {},
     "output_type": "execute_result"
    }
   ],
   "source": [
    "a.T"
   ]
  },
  {
   "cell_type": "code",
   "execution_count": 286,
   "id": "e1bb7c93",
   "metadata": {},
   "outputs": [
    {
     "data": {
      "text/plain": [
       "(3, 1)"
      ]
     },
     "execution_count": 286,
     "metadata": {},
     "output_type": "execute_result"
    }
   ],
   "source": [
    "a.T.shape"
   ]
  },
  {
   "cell_type": "code",
   "execution_count": 288,
   "id": "f2be4d51",
   "metadata": {
    "id": "f2be4d51",
    "outputId": "a8525e70-36df-4373-8d7f-c7fc7ee96918",
    "scrolled": true
   },
   "outputs": [],
   "source": [
    "arr = np.array([[1, 1., 1., 1.],\n",
    "       [2., 2., 2., 2.],\n",
    "       [3., 3., 3., 3.]])"
   ]
  },
  {
   "cell_type": "code",
   "execution_count": 289,
   "id": "518f92e8",
   "metadata": {},
   "outputs": [
    {
     "data": {
      "text/plain": [
       "array([[1., 1., 1., 1.],\n",
       "       [2., 2., 2., 2.],\n",
       "       [3., 3., 3., 3.]])"
      ]
     },
     "execution_count": 289,
     "metadata": {},
     "output_type": "execute_result"
    }
   ],
   "source": [
    "arr"
   ]
  },
  {
   "cell_type": "code",
   "execution_count": 290,
   "id": "923ea3eb",
   "metadata": {},
   "outputs": [
    {
     "data": {
      "text/plain": [
       "array([[1., 2., 3.],\n",
       "       [1., 2., 3.],\n",
       "       [1., 2., 3.],\n",
       "       [1., 2., 3.]])"
      ]
     },
     "execution_count": 290,
     "metadata": {},
     "output_type": "execute_result"
    }
   ],
   "source": [
    "arr.T"
   ]
  },
  {
   "cell_type": "code",
   "execution_count": 291,
   "id": "c1d91aa4",
   "metadata": {
    "id": "c1d91aa4",
    "outputId": "a65dcd85-e3c6-4a01-c150-89fe19a3f19c"
   },
   "outputs": [
    {
     "data": {
      "text/plain": [
       "array([[1, 2, 3]])"
      ]
     },
     "execution_count": 291,
     "metadata": {},
     "output_type": "execute_result"
    }
   ],
   "source": [
    "a"
   ]
  },
  {
   "cell_type": "code",
   "execution_count": 292,
   "id": "0ff4ee08",
   "metadata": {},
   "outputs": [
    {
     "data": {
      "text/plain": [
       "array([[1., 1., 1., 1.],\n",
       "       [2., 2., 2., 2.],\n",
       "       [3., 3., 3., 3.]])"
      ]
     },
     "execution_count": 292,
     "metadata": {},
     "output_type": "execute_result"
    }
   ],
   "source": [
    "arr"
   ]
  },
  {
   "cell_type": "code",
   "execution_count": 293,
   "id": "81197e9e",
   "metadata": {
    "id": "81197e9e",
    "outputId": "7eee3184-22d8-4f3b-d531-d9759d52e871"
   },
   "outputs": [
    {
     "data": {
      "text/plain": [
       "array([[2., 2., 2., 2.],\n",
       "       [4., 4., 4., 4.],\n",
       "       [6., 6., 6., 6.]])"
      ]
     },
     "execution_count": 293,
     "metadata": {},
     "output_type": "execute_result"
    }
   ],
   "source": [
    "arr + a.T"
   ]
  },
  {
   "cell_type": "code",
   "execution_count": 294,
   "id": "86439d80",
   "metadata": {
    "id": "86439d80",
    "outputId": "4d5ed508-45e9-4d86-d958-b8af61554e68"
   },
   "outputs": [
    {
     "data": {
      "text/plain": [
       "array([1, 2, 3])"
      ]
     },
     "execution_count": 294,
     "metadata": {},
     "output_type": "execute_result"
    }
   ],
   "source": [
    "a = np.array([1, 2, 3])\n",
    "a.T"
   ]
  },
  {
   "cell_type": "code",
   "execution_count": 295,
   "id": "9a3d6d14",
   "metadata": {
    "id": "9a3d6d14",
    "outputId": "e8dbc96d-8743-48b8-c804-94c188aedc6e"
   },
   "outputs": [
    {
     "data": {
      "text/plain": [
       "array([[1, 2, 2],\n",
       "       [1, 1, 2],\n",
       "       [1, 2, 1],\n",
       "       [2, 1, 1],\n",
       "       [2, 1, 2]])"
      ]
     },
     "execution_count": 295,
     "metadata": {},
     "output_type": "execute_result"
    }
   ],
   "source": [
    "arr1"
   ]
  },
  {
   "cell_type": "code",
   "execution_count": 298,
   "id": "82b980a2",
   "metadata": {
    "id": "82b980a2",
    "outputId": "0f233448-9cc6-4503-ba26-ab367c47804c"
   },
   "outputs": [
    {
     "data": {
      "text/plain": [
       "array([[1.        , 1.41421356, 1.41421356],\n",
       "       [1.        , 1.        , 1.41421356],\n",
       "       [1.        , 1.41421356, 1.        ],\n",
       "       [1.41421356, 1.        , 1.        ],\n",
       "       [1.41421356, 1.        , 1.41421356]])"
      ]
     },
     "execution_count": 298,
     "metadata": {},
     "output_type": "execute_result"
    }
   ],
   "source": [
    "np.sqrt(arr1)"
   ]
  },
  {
   "cell_type": "code",
   "execution_count": 299,
   "id": "bc34ee7d",
   "metadata": {},
   "outputs": [
    {
     "data": {
      "text/plain": [
       "array([[1, 4, 4],\n",
       "       [1, 1, 4],\n",
       "       [1, 4, 1],\n",
       "       [4, 1, 1],\n",
       "       [4, 1, 4]], dtype=int32)"
      ]
     },
     "execution_count": 299,
     "metadata": {},
     "output_type": "execute_result"
    }
   ],
   "source": [
    "np.square(arr1)"
   ]
  },
  {
   "cell_type": "code",
   "execution_count": 300,
   "id": "7dd0a1a0",
   "metadata": {
    "id": "7dd0a1a0",
    "outputId": "26d40362-a40c-46b1-cefa-f84d938630e8"
   },
   "outputs": [
    {
     "data": {
      "text/plain": [
       "array([[0.     , 0.30103, 0.30103],\n",
       "       [0.     , 0.     , 0.30103],\n",
       "       [0.     , 0.30103, 0.     ],\n",
       "       [0.30103, 0.     , 0.     ],\n",
       "       [0.30103, 0.     , 0.30103]])"
      ]
     },
     "execution_count": 300,
     "metadata": {},
     "output_type": "execute_result"
    }
   ],
   "source": [
    "np.log10(arr1)"
   ]
  },
  {
   "cell_type": "code",
   "execution_count": 301,
   "id": "0f87492c",
   "metadata": {
    "id": "0f87492c",
    "outputId": "888aa66f-d9e6-4bc3-fca3-50c48c510166"
   },
   "outputs": [
    {
     "data": {
      "text/plain": [
       "array([1, 2, 3])"
      ]
     },
     "execution_count": 301,
     "metadata": {},
     "output_type": "execute_result"
    }
   ],
   "source": [
    "a"
   ]
  },
  {
   "cell_type": "code",
   "execution_count": 302,
   "id": "854f7be9",
   "metadata": {
    "id": "854f7be9",
    "outputId": "303b34f0-88de-4ee2-8688-d051fa811396"
   },
   "outputs": [
    {
     "data": {
      "text/plain": [
       "1"
      ]
     },
     "execution_count": 302,
     "metadata": {},
     "output_type": "execute_result"
    }
   ],
   "source": [
    "np.min(a)"
   ]
  },
  {
   "cell_type": "code",
   "execution_count": 303,
   "id": "a58505c9",
   "metadata": {},
   "outputs": [
    {
     "data": {
      "text/plain": [
       "3"
      ]
     },
     "execution_count": 303,
     "metadata": {},
     "output_type": "execute_result"
    }
   ],
   "source": [
    "np.max(a)"
   ]
  },
  {
   "cell_type": "code",
   "execution_count": 304,
   "id": "1434339a",
   "metadata": {},
   "outputs": [
    {
     "data": {
      "text/plain": [
       "2.0"
      ]
     },
     "execution_count": 304,
     "metadata": {},
     "output_type": "execute_result"
    }
   ],
   "source": [
    "np.mean(a)"
   ]
  },
  {
   "cell_type": "code",
   "execution_count": 305,
   "id": "56de792d",
   "metadata": {},
   "outputs": [
    {
     "data": {
      "text/plain": [
       "2.0"
      ]
     },
     "execution_count": 305,
     "metadata": {},
     "output_type": "execute_result"
    }
   ],
   "source": [
    "np.median(a)"
   ]
  },
  {
   "cell_type": "code",
   "execution_count": 306,
   "id": "30baf192",
   "metadata": {},
   "outputs": [
    {
     "data": {
      "text/plain": [
       "0.816496580927726"
      ]
     },
     "execution_count": 306,
     "metadata": {},
     "output_type": "execute_result"
    }
   ],
   "source": [
    "np.std(a)"
   ]
  },
  {
   "cell_type": "code",
   "execution_count": 307,
   "id": "2323674f",
   "metadata": {},
   "outputs": [
    {
     "data": {
      "text/plain": [
       "0.6666666666666666"
      ]
     },
     "execution_count": 307,
     "metadata": {},
     "output_type": "execute_result"
    }
   ],
   "source": [
    "np.var(a)"
   ]
  },
  {
   "cell_type": "code",
   "execution_count": 309,
   "id": "1f91f13b",
   "metadata": {
    "id": "1f91f13b",
    "outputId": "e1e304ba-60f9-4a2f-aec5-45cbabec7727"
   },
   "outputs": [
    {
     "data": {
      "text/plain": [
       "1"
      ]
     },
     "execution_count": 309,
     "metadata": {},
     "output_type": "execute_result"
    }
   ],
   "source": [
    "np.min(arr1)"
   ]
  },
  {
   "cell_type": "code",
   "execution_count": 310,
   "id": "87265817",
   "metadata": {
    "id": "87265817",
    "outputId": "f9ee6d10-66fe-46ac-ad70-75a31bc88c16"
   },
   "outputs": [
    {
     "data": {
      "text/plain": [
       "2"
      ]
     },
     "execution_count": 310,
     "metadata": {},
     "output_type": "execute_result"
    }
   ],
   "source": [
    "np.max(arr1)"
   ]
  },
  {
   "cell_type": "code",
   "execution_count": 311,
   "id": "41e1309e",
   "metadata": {
    "id": "41e1309e",
    "outputId": "8252e18e-cf10-4aeb-e955-e274647ca962"
   },
   "outputs": [
    {
     "data": {
      "text/plain": [
       "array([[1, 2, 2],\n",
       "       [1, 1, 2],\n",
       "       [1, 2, 1],\n",
       "       [2, 1, 1],\n",
       "       [2, 1, 2]])"
      ]
     },
     "execution_count": 311,
     "metadata": {},
     "output_type": "execute_result"
    }
   ],
   "source": [
    "arr1"
   ]
  },
  {
   "cell_type": "code",
   "execution_count": 314,
   "id": "87daa1c9",
   "metadata": {},
   "outputs": [
    {
     "data": {
      "text/plain": [
       "array([1, 2, 2, 1, 1, 2, 1, 2, 1, 2, 1, 1, 2, 1, 2])"
      ]
     },
     "execution_count": 314,
     "metadata": {},
     "output_type": "execute_result"
    }
   ],
   "source": [
    "arr1.flatten()"
   ]
  },
  {
   "cell_type": "code",
   "execution_count": 315,
   "id": "f63f6a3b",
   "metadata": {
    "id": "f63f6a3b",
    "outputId": "e0382a51-3943-4c79-d6aa-ccead203a451"
   },
   "outputs": [
    {
     "data": {
      "text/plain": [
       "array([[1, 1, 1, 2, 2],\n",
       "       [2, 1, 2, 1, 1],\n",
       "       [2, 2, 1, 1, 2]])"
      ]
     },
     "execution_count": 315,
     "metadata": {},
     "output_type": "execute_result"
    }
   ],
   "source": [
    "arr1.T"
   ]
  },
  {
   "cell_type": "code",
   "execution_count": 316,
   "id": "dd2ba35e",
   "metadata": {},
   "outputs": [],
   "source": [
    "a = np.array([[[[[1,2,3],[4,5,6]]]]])"
   ]
  },
  {
   "cell_type": "code",
   "execution_count": 317,
   "id": "832f033d",
   "metadata": {},
   "outputs": [
    {
     "data": {
      "text/plain": [
       "array([[[[[1, 2, 3],\n",
       "          [4, 5, 6]]]]])"
      ]
     },
     "execution_count": 317,
     "metadata": {},
     "output_type": "execute_result"
    }
   ],
   "source": [
    "a"
   ]
  },
  {
   "cell_type": "code",
   "execution_count": 318,
   "id": "9b6c862b",
   "metadata": {},
   "outputs": [
    {
     "data": {
      "text/plain": [
       "array([1, 2, 3, 4, 5, 6])"
      ]
     },
     "execution_count": 318,
     "metadata": {},
     "output_type": "execute_result"
    }
   ],
   "source": [
    "a.flatten()"
   ]
  },
  {
   "cell_type": "code",
   "execution_count": 319,
   "id": "e2a97e60",
   "metadata": {
    "id": "e2a97e60",
    "outputId": "23c15265-39e6-48fd-91ec-5f30117505bf"
   },
   "outputs": [
    {
     "data": {
      "text/plain": [
       "array([1, 2, 2, 1, 1, 2, 1, 2, 1, 2, 1, 1, 2, 1, 2])"
      ]
     },
     "execution_count": 319,
     "metadata": {},
     "output_type": "execute_result"
    }
   ],
   "source": [
    "arr1.flatten() #reduce higher dimension to 1 d"
   ]
  },
  {
   "cell_type": "code",
   "execution_count": 320,
   "id": "cbddb1a5",
   "metadata": {},
   "outputs": [
    {
     "data": {
      "text/plain": [
       "array([[1, 2, 2],\n",
       "       [1, 1, 2],\n",
       "       [1, 2, 1],\n",
       "       [2, 1, 1],\n",
       "       [2, 1, 2]])"
      ]
     },
     "execution_count": 320,
     "metadata": {},
     "output_type": "execute_result"
    }
   ],
   "source": [
    "arr1"
   ]
  },
  {
   "cell_type": "code",
   "execution_count": 321,
   "id": "48a65036",
   "metadata": {
    "id": "48a65036"
   },
   "outputs": [],
   "source": [
    "arr = np.array([[1, 2, 3], [4, 5, 6], [1, 2, 3]])"
   ]
  },
  {
   "cell_type": "code",
   "execution_count": 322,
   "id": "d68d5563",
   "metadata": {
    "id": "d68d5563",
    "outputId": "43d3897f-ac13-43d5-ee5f-880c0970aa2b"
   },
   "outputs": [
    {
     "data": {
      "text/plain": [
       "array([[1, 2, 3],\n",
       "       [4, 5, 6],\n",
       "       [1, 2, 3]])"
      ]
     },
     "execution_count": 322,
     "metadata": {},
     "output_type": "execute_result"
    }
   ],
   "source": [
    "arr"
   ]
  },
  {
   "cell_type": "code",
   "execution_count": 323,
   "id": "e13ccc5e",
   "metadata": {
    "id": "e13ccc5e",
    "outputId": "a7cf451e-d5fe-44f7-d212-e0638464532e"
   },
   "outputs": [
    {
     "data": {
      "text/plain": [
       "27"
      ]
     },
     "execution_count": 323,
     "metadata": {},
     "output_type": "execute_result"
    }
   ],
   "source": [
    "np.sum(arr)"
   ]
  },
  {
   "cell_type": "code",
   "execution_count": 324,
   "id": "54b15d83",
   "metadata": {},
   "outputs": [
    {
     "data": {
      "text/plain": [
       "array([ 6, 15,  6])"
      ]
     },
     "execution_count": 324,
     "metadata": {},
     "output_type": "execute_result"
    }
   ],
   "source": [
    "np.sum(arr,axis = 1)"
   ]
  },
  {
   "cell_type": "code",
   "execution_count": 325,
   "id": "aa58a3a3",
   "metadata": {},
   "outputs": [
    {
     "data": {
      "text/plain": [
       "array([ 6,  9, 12])"
      ]
     },
     "execution_count": 325,
     "metadata": {},
     "output_type": "execute_result"
    }
   ],
   "source": [
    "np.sum(arr,axis = 0)"
   ]
  },
  {
   "cell_type": "code",
   "execution_count": 326,
   "id": "cb8dd6cc",
   "metadata": {
    "id": "cb8dd6cc",
    "outputId": "c2afb581-e509-478c-b81e-11b369a2f77e"
   },
   "outputs": [
    {
     "data": {
      "text/plain": [
       "array([[1, 2, 3, 4],\n",
       "       [1, 2, 3, 4]])"
      ]
     },
     "execution_count": 326,
     "metadata": {},
     "output_type": "execute_result"
    }
   ],
   "source": [
    "#expand_dims >>expand the dimension of array\n",
    "arr = np.array([[1, 2, 3, 4],[1, 2, 3, 4]])\n",
    "arr"
   ]
  },
  {
   "cell_type": "code",
   "execution_count": 327,
   "id": "8dac2abb",
   "metadata": {
    "id": "8dac2abb",
    "outputId": "7b856c84-1730-4992-d990-c8db6279386b"
   },
   "outputs": [
    {
     "data": {
      "text/plain": [
       "2"
      ]
     },
     "execution_count": 327,
     "metadata": {},
     "output_type": "execute_result"
    }
   ],
   "source": [
    "arr.ndim"
   ]
  },
  {
   "cell_type": "code",
   "execution_count": 349,
   "id": "d2c32faa",
   "metadata": {
    "id": "d2c32faa",
    "outputId": "da54cf80-da54-4904-e845-f947f0198fbd"
   },
   "outputs": [
    {
     "data": {
      "text/plain": [
       "array([[[[[[[[[[[[[[[[[[[[[[[[1, 2, 3, 4],\n",
       "                             [1, 2, 3, 4]]]]]]]]]]]]]]]]]]]]]]]])"
      ]
     },
     "execution_count": 349,
     "metadata": {},
     "output_type": "execute_result"
    }
   ],
   "source": [
    "arr = np.expand_dims(arr, axis = 0)\n",
    "arr"
   ]
  },
  {
   "cell_type": "code",
   "execution_count": 350,
   "id": "16c72f70",
   "metadata": {
    "id": "16c72f70",
    "outputId": "25c5be56-a55f-4018-f732-cebf2a767c1e"
   },
   "outputs": [
    {
     "data": {
      "text/plain": [
       "24"
      ]
     },
     "execution_count": 350,
     "metadata": {},
     "output_type": "execute_result"
    }
   ],
   "source": [
    "arr.ndim"
   ]
  },
  {
   "cell_type": "code",
   "execution_count": 351,
   "id": "49f0ac0a",
   "metadata": {},
   "outputs": [
    {
     "data": {
      "text/plain": [
       "array([1, 2, 3, 4, 1, 2, 3, 4])"
      ]
     },
     "execution_count": 351,
     "metadata": {},
     "output_type": "execute_result"
    }
   ],
   "source": [
    "arr.flatten()"
   ]
  },
  {
   "cell_type": "code",
   "execution_count": 352,
   "id": "4a3e0065",
   "metadata": {},
   "outputs": [
    {
     "data": {
      "text/plain": [
       "array([[1, 2, 2],\n",
       "       [1, 1, 2],\n",
       "       [1, 2, 1],\n",
       "       [2, 1, 1],\n",
       "       [2, 1, 2]])"
      ]
     },
     "execution_count": 352,
     "metadata": {},
     "output_type": "execute_result"
    }
   ],
   "source": [
    "arr1"
   ]
  },
  {
   "cell_type": "code",
   "execution_count": 353,
   "id": "aee06f68",
   "metadata": {
    "id": "aee06f68",
    "outputId": "c7e62a8f-cf76-472f-e011-d0f0bea304bb"
   },
   "outputs": [
    {
     "data": {
      "text/plain": [
       "array([[[2, 2, 2, 1, 1, 2, 2, 2],\n",
       "        [1, 2, 1, 2, 1, 2, 1, 2],\n",
       "        [1, 2, 1, 2, 2, 1, 2, 2]]])"
      ]
     },
     "execution_count": 353,
     "metadata": {},
     "output_type": "execute_result"
    }
   ],
   "source": [
    "arr2 = np.expand_dims(arr2, axis = 0)\n",
    "arr2"
   ]
  },
  {
   "cell_type": "code",
   "execution_count": 354,
   "id": "6b0d0564",
   "metadata": {
    "id": "6b0d0564",
    "outputId": "de2e3ebe-ad37-4ae7-da0f-b98aece158f0"
   },
   "outputs": [
    {
     "data": {
      "text/plain": [
       "(1, 3, 8)"
      ]
     },
     "execution_count": 354,
     "metadata": {},
     "output_type": "execute_result"
    }
   ],
   "source": [
    "arr2.shape"
   ]
  },
  {
   "cell_type": "code",
   "execution_count": 355,
   "id": "0e2c334a",
   "metadata": {
    "id": "0e2c334a",
    "outputId": "d0285e70-251a-4e95-bb68-7d5f50e3c9b9"
   },
   "outputs": [
    {
     "data": {
      "text/plain": [
       "array([[[[[[[[[[[[[[[[[[[[[[[[1, 2, 3, 4],\n",
       "                             [1, 2, 3, 4]]]]]]]]]]]]]]]]]]]]]]]])"
      ]
     },
     "execution_count": 355,
     "metadata": {},
     "output_type": "execute_result"
    }
   ],
   "source": [
    "arr"
   ]
  },
  {
   "cell_type": "code",
   "execution_count": 356,
   "id": "776f2f79",
   "metadata": {
    "id": "776f2f79",
    "outputId": "6fe547ca-d1e1-4b9b-c9e1-9f6b6be4b34f"
   },
   "outputs": [
    {
     "data": {
      "text/plain": [
       "array([[[[[[[[[[[[[[[[[[[[[[[[[1, 2, 3, 4],\n",
       "                              [1, 2, 3, 4]]]]]]]]]]]]]]]]]]]]]]]]])"
      ]
     },
     "execution_count": 356,
     "metadata": {},
     "output_type": "execute_result"
    }
   ],
   "source": [
    "arr1 = np.expand_dims(arr, axis = 1)\n",
    "arr1"
   ]
  },
  {
   "cell_type": "code",
   "execution_count": 357,
   "id": "5c457c71",
   "metadata": {},
   "outputs": [
    {
     "data": {
      "text/plain": [
       "array([1, 2, 3, 4, 1, 2, 3, 4])"
      ]
     },
     "execution_count": 357,
     "metadata": {},
     "output_type": "execute_result"
    }
   ],
   "source": [
    "arr.flatten()"
   ]
  },
  {
   "cell_type": "code",
   "execution_count": 358,
   "id": "5355ca8f",
   "metadata": {
    "id": "5355ca8f"
   },
   "outputs": [],
   "source": [
    "arr = np.zeros((3, 4))"
   ]
  },
  {
   "cell_type": "code",
   "execution_count": 359,
   "id": "94077756",
   "metadata": {
    "id": "94077756",
    "outputId": "b15f84ca-0bb2-4293-9fa3-0fadebcd6f9f"
   },
   "outputs": [
    {
     "data": {
      "text/plain": [
       "array([[0., 0., 0., 0.],\n",
       "       [0., 0., 0., 0.],\n",
       "       [0., 0., 0., 0.]])"
      ]
     },
     "execution_count": 359,
     "metadata": {},
     "output_type": "execute_result"
    }
   ],
   "source": [
    "arr"
   ]
  },
  {
   "cell_type": "code",
   "execution_count": 360,
   "id": "3d3e77d7",
   "metadata": {
    "id": "3d3e77d7",
    "outputId": "6b5d6887-7715-4fec-ec1d-6bad6dd6e15f"
   },
   "outputs": [
    {
     "data": {
      "text/plain": [
       "array([[[0., 0., 0., 0.]],\n",
       "\n",
       "       [[0., 0., 0., 0.]],\n",
       "\n",
       "       [[0., 0., 0., 0.]]])"
      ]
     },
     "execution_count": 360,
     "metadata": {},
     "output_type": "execute_result"
    }
   ],
   "source": [
    "arr1 = np.expand_dims(arr, axis = 1)\n",
    "arr1"
   ]
  },
  {
   "cell_type": "code",
   "execution_count": 361,
   "id": "5b28036c",
   "metadata": {
    "id": "5b28036c",
    "outputId": "25a6f2b4-aea0-488f-b519-c20b44995309"
   },
   "outputs": [
    {
     "data": {
      "text/plain": [
       "array([[[[0., 0., 0., 0.]],\n",
       "\n",
       "        [[0., 0., 0., 0.]],\n",
       "\n",
       "        [[0., 0., 0., 0.]]]])"
      ]
     },
     "execution_count": 361,
     "metadata": {},
     "output_type": "execute_result"
    }
   ],
   "source": [
    "arr2 = np.expand_dims(arr1, axis = 0)\n",
    "arr2"
   ]
  },
  {
   "cell_type": "code",
   "execution_count": null,
   "id": "f7f66d49",
   "metadata": {
    "id": "f7f66d49"
   },
   "outputs": [],
   "source": []
  },
  {
   "cell_type": "code",
   "execution_count": null,
   "id": "d9e05c43",
   "metadata": {},
   "outputs": [],
   "source": []
  },
  {
   "cell_type": "code",
   "execution_count": null,
   "id": "ff5ff237",
   "metadata": {},
   "outputs": [],
   "source": []
  }
 ],
 "metadata": {
  "colab": {
   "provenance": []
  },
  "kernelspec": {
   "display_name": "Python 3 (ipykernel)",
   "language": "python",
   "name": "python3"
  },
  "language_info": {
   "codemirror_mode": {
    "name": "ipython",
    "version": 3
   },
   "file_extension": ".py",
   "mimetype": "text/x-python",
   "name": "python",
   "nbconvert_exporter": "python",
   "pygments_lexer": "ipython3",
   "version": "3.9.13"
  }
 },
 "nbformat": 4,
 "nbformat_minor": 5
}
