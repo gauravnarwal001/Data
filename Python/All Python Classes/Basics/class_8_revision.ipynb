{
 "cells": [
  {
   "cell_type": "code",
   "execution_count": 2,
   "id": "1e3b397b-2cc2-4302-9eb4-494130734223",
   "metadata": {},
   "outputs": [
    {
     "name": "stdout",
     "output_type": "stream",
     "text": [
      "negative number\n",
      "this is always prints\n"
     ]
    }
   ],
   "source": [
    "number = -1\n",
    "\n",
    "if number > 0:\n",
    "    print(\"positive number\")\n",
    "elif number == 0:\n",
    "    print(\"zer0\")\n",
    "else:\n",
    "    print(\"negative number\")\n",
    "    \n",
    "print(\"this is always prints\")"
   ]
  },
  {
   "cell_type": "code",
   "execution_count": 3,
   "id": "9f38e075-5444-49a8-bf5e-046aa86f7c5f",
   "metadata": {},
   "outputs": [
    {
     "name": "stdout",
     "output_type": "stream",
     "text": [
      "0\n",
      "1\n",
      "2\n",
      "3\n",
      "4\n"
     ]
    }
   ],
   "source": [
    "for i in range(5):\n",
    "    print(i)"
   ]
  },
  {
   "cell_type": "code",
   "execution_count": 4,
   "id": "d0041729-2f3b-4f9c-9465-959b9cf92a95",
   "metadata": {},
   "outputs": [
    {
     "name": "stdout",
     "output_type": "stream",
     "text": [
      "today is mon\n",
      "today is tue\n",
      "today is wed\n",
      "today is thu\n",
      "today is fri\n",
      "today is sat\n",
      "today is sun\n"
     ]
    }
   ],
   "source": [
    "days=0\n",
    "week=['mon','tue','wed','thu','fri','sat','sun']\n",
    "\n",
    "while days<7:\n",
    "    print(\"today is \" + week[days])\n",
    "    days +=1\n",
    "    # days= days+1"
   ]
  },
  {
   "cell_type": "code",
   "execution_count": 5,
   "id": "28d480ec-244d-477c-81dd-85fe3d4a5bdd",
   "metadata": {},
   "outputs": [
    {
     "data": {
      "text/plain": [
       "'mon'"
      ]
     },
     "execution_count": 5,
     "metadata": {},
     "output_type": "execute_result"
    }
   ],
   "source": [
    "week[0]"
   ]
  },
  {
   "cell_type": "code",
   "execution_count": 5,
   "id": "a0cb7f8f-b6d1-489a-b47b-5d619b34db20",
   "metadata": {},
   "outputs": [],
   "source": [
    "# split"
   ]
  },
  {
   "cell_type": "code",
   "execution_count": 6,
   "id": "d18920dc-18db-4b29-801d-dd3ff73e4bb4",
   "metadata": {},
   "outputs": [
    {
     "data": {
      "text/plain": [
       "['i', 'write', 'code']"
      ]
     },
     "execution_count": 6,
     "metadata": {},
     "output_type": "execute_result"
    }
   ],
   "source": [
    "text=\" i write code\"\n",
    "\n",
    "text.split()"
   ]
  },
  {
   "cell_type": "code",
   "execution_count": 7,
   "id": "7b8cbeca-e429-4872-8c34-d95aca8d951c",
   "metadata": {},
   "outputs": [
    {
     "data": {
      "text/plain": [
       "['i', 'love', 'python']"
      ]
     },
     "execution_count": 7,
     "metadata": {},
     "output_type": "execute_result"
    }
   ],
   "source": [
    "text='i love python'\n",
    "\n",
    "text.split()"
   ]
  },
  {
   "cell_type": "code",
   "execution_count": 8,
   "id": "848584fc-3ebf-42c7-a8c2-37303301a707",
   "metadata": {},
   "outputs": [],
   "source": [
    "y=1"
   ]
  },
  {
   "cell_type": "code",
   "execution_count": 9,
   "id": "6b85770e-f1d0-4e69-8ada-c510d47dc571",
   "metadata": {},
   "outputs": [],
   "source": [
    "y,w=2,3"
   ]
  },
  {
   "cell_type": "code",
   "execution_count": null,
   "id": "efe37b39",
   "metadata": {},
   "outputs": [],
   "source": []
  },
  {
   "cell_type": "code",
   "execution_count": 10,
   "id": "e94dd25b-1f38-477e-a763-20654f3bffe2",
   "metadata": {},
   "outputs": [
    {
     "name": "stdout",
     "output_type": "stream",
     "text": [
      "Enter three wordsa b c\n"
     ]
    }
   ],
   "source": [
    "x = input('Enter three words')\n",
    "word1,word2,word3=x.split()"
   ]
  },
  {
   "cell_type": "code",
   "execution_count": 11,
   "id": "24ee1c5b-fe22-40f1-b1b8-46e0a42fe9cd",
   "metadata": {},
   "outputs": [
    {
     "data": {
      "text/plain": [
       "'a'"
      ]
     },
     "execution_count": 11,
     "metadata": {},
     "output_type": "execute_result"
    }
   ],
   "source": [
    "word1"
   ]
  },
  {
   "cell_type": "code",
   "execution_count": 12,
   "id": "0fa10f8b-71fc-426e-8513-179668437074",
   "metadata": {},
   "outputs": [
    {
     "data": {
      "text/plain": [
       "'b'"
      ]
     },
     "execution_count": 12,
     "metadata": {},
     "output_type": "execute_result"
    }
   ],
   "source": [
    "word2"
   ]
  },
  {
   "cell_type": "code",
   "execution_count": 13,
   "id": "1a8c75a7-c6e5-46bb-9b41-0a9030ca3966",
   "metadata": {},
   "outputs": [
    {
     "data": {
      "text/plain": [
       "'c'"
      ]
     },
     "execution_count": 13,
     "metadata": {},
     "output_type": "execute_result"
    }
   ],
   "source": [
    "word3"
   ]
  },
  {
   "cell_type": "code",
   "execution_count": 14,
   "id": "9aa3388e-bbf0-4cdb-9157-dbe3967d135b",
   "metadata": {},
   "outputs": [
    {
     "name": "stdout",
     "output_type": "stream",
     "text": [
      "enter two number74 56\n",
      "130\n"
     ]
    }
   ],
   "source": [
    "a,b= input(\"enter two number\").split()\n",
    "c= int(a)+int(b)\n",
    "\n",
    "print(c)"
   ]
  },
  {
   "cell_type": "code",
   "execution_count": 15,
   "id": "82490984-f95e-4911-98b8-57f531685c49",
   "metadata": {},
   "outputs": [
    {
     "name": "stdout",
     "output_type": "stream",
     "text": [
      "enter two number sepreated by spaces54 63\n",
      "54 63\n",
      "117\n"
     ]
    }
   ],
   "source": [
    "x = input(\"enter two number sepreated by spaces\")\n",
    "print(x)\n",
    "sum = int(x.split()[0]) + int(x.split()[1])\n",
    "print(sum)\n"
   ]
  },
  {
   "cell_type": "code",
   "execution_count": 24,
   "id": "af8af6d2-3656-46a5-bd2e-0ef282a4d714",
   "metadata": {},
   "outputs": [
    {
     "name": "stdout",
     "output_type": "stream",
     "text": [
      "enter roll no, name and percentage :- 1 vaibhav 90\n",
      "roll_no -  1\n",
      "name -  vaibhav\n",
      "percentage - 90%\n"
     ]
    }
   ],
   "source": [
    "s= input(\"enter roll no, name and percentage :- \")\n",
    "print('roll_no - ',s.split()[0])\n",
    "print('name - ',s.split()[1])\n",
    "print('percentage - ',s.split()[2],\"%\",sep = '')"
   ]
  },
  {
   "cell_type": "code",
   "execution_count": 21,
   "id": "620009cf-225b-4d18-91f4-8bdee1a7fb3e",
   "metadata": {
    "scrolled": true
   },
   "outputs": [
    {
     "name": "stdout",
     "output_type": "stream",
     "text": [
      "['A', 'B', 'C D E F']\n"
     ]
    }
   ],
   "source": [
    "s1=\"A B C D E F\"\n",
    "print(s1.split(' ',2))"
   ]
  },
  {
   "cell_type": "code",
   "execution_count": 22,
   "id": "4e1c506f-7616-4e05-8bb3-31e202620634",
   "metadata": {},
   "outputs": [
    {
     "data": {
      "text/plain": [
       "['HI', 'HI', 'HI', 'HI@HI']"
      ]
     },
     "execution_count": 22,
     "metadata": {},
     "output_type": "execute_result"
    }
   ],
   "source": [
    "s1=\"HI@HI@HI@HI@HI\"\n",
    "\n",
    "s1.split('@',3)"
   ]
  },
  {
   "cell_type": "code",
   "execution_count": 23,
   "id": "8eaaf304-887b-4391-8ea1-ebcabd187c9b",
   "metadata": {},
   "outputs": [
    {
     "name": "stdout",
     "output_type": "stream",
     "text": [
      "letter S\n",
      "letter o\n",
      "letter f\n",
      "letter t\n",
      "letter c\n",
      "letter r\n",
      "letter a\n",
      "letter y\n",
      "letter o\n",
      "letter n\n",
      "letter s\n"
     ]
    }
   ],
   "source": [
    "for letter in \"Softcrayons\":\n",
    "    print('letter', letter)"
   ]
  },
  {
   "cell_type": "code",
   "execution_count": 24,
   "id": "5ac9715b-6c72-47af-8b43-0a81fe79968f",
   "metadata": {},
   "outputs": [
    {
     "name": "stdout",
     "output_type": "stream",
     "text": [
      "letter S\n",
      "letter o\n",
      "letter f\n",
      "letter t\n",
      "letter c\n",
      "letter r\n",
      "letter a\n",
      "letter y\n",
      "letter o\n",
      "letter n\n",
      "letter s\n"
     ]
    }
   ],
   "source": [
    "for letter in \"Softcrayons\":\n",
    "    if letter == \"l\":\n",
    "        break\n",
    "    print('letter', letter)"
   ]
  },
  {
   "cell_type": "code",
   "execution_count": 25,
   "id": "3ba6676b-a4da-4b5a-a84b-d844a13038d7",
   "metadata": {},
   "outputs": [
    {
     "name": "stdout",
     "output_type": "stream",
     "text": [
      "0\n",
      "1\n",
      "2\n"
     ]
    }
   ],
   "source": [
    "for i in range(5):\n",
    "    if i==3:\n",
    "        break\n",
    "    print(i)"
   ]
  },
  {
   "cell_type": "code",
   "execution_count": 26,
   "id": "def1f291-9fb5-47e1-a492-a4a900bf0224",
   "metadata": {},
   "outputs": [
    {
     "data": {
      "text/plain": [
       "[0, 1, 2, 3, 4]"
      ]
     },
     "execution_count": 26,
     "metadata": {},
     "output_type": "execute_result"
    }
   ],
   "source": [
    "list(range(5))"
   ]
  },
  {
   "cell_type": "code",
   "execution_count": 27,
   "id": "72b9b3c4-96c6-4ddb-ad22-92c2040fa811",
   "metadata": {},
   "outputs": [
    {
     "name": "stdout",
     "output_type": "stream",
     "text": [
      "1\n",
      "2\n",
      "3\n",
      "4\n",
      "5\n"
     ]
    }
   ],
   "source": [
    "i = 1\n",
    "\n",
    "while i<=10:\n",
    "    print(i)\n",
    "    \n",
    "    if i >=5:\n",
    "        break\n",
    "    i=i+1"
   ]
  },
  {
   "cell_type": "code",
   "execution_count": 28,
   "id": "12d7c31e-64b8-40e9-9fed-001c32f70e8d",
   "metadata": {},
   "outputs": [
    {
     "name": "stdout",
     "output_type": "stream",
     "text": [
      "10\n",
      "20\n",
      "30\n",
      "40\n"
     ]
    }
   ],
   "source": [
    "numbers = [10,20,30,40,120,230]\n",
    "\n",
    "for i in numbers:\n",
    "    if i>100:\n",
    "        break\n",
    "    print(i)"
   ]
  },
  {
   "cell_type": "code",
   "execution_count": 29,
   "id": "7b4d43eb-f7e3-4947-803c-1a4ea12e509d",
   "metadata": {},
   "outputs": [
    {
     "name": "stdout",
     "output_type": "stream",
     "text": [
      "h\n",
      "e\n",
      "l\n",
      "l\n",
      "o\n",
      " \n",
      "w\n",
      "o\n",
      "r\n",
      "l\n",
      "d\n"
     ]
    }
   ],
   "source": [
    "s= \"hello, world\"\n",
    "for char in s:\n",
    "    if char == ',':\n",
    "        continue\n",
    "    print(char)\n"
   ]
  },
  {
   "cell_type": "code",
   "execution_count": 30,
   "id": "6019e9ee-4eb4-432a-b9e6-f004be19c61c",
   "metadata": {},
   "outputs": [
    {
     "name": "stdout",
     "output_type": "stream",
     "text": [
      "S\n",
      "o\n",
      "f\n",
      "t\n",
      "c\n",
      "r\n",
      "a\n",
      "y\n",
      "o\n",
      "n\n",
      "s\n"
     ]
    }
   ],
   "source": [
    "for letter in \"Softcrayons\":\n",
    "    if letter == 'l':\n",
    "        continue\n",
    "    print(letter)"
   ]
  },
  {
   "cell_type": "code",
   "execution_count": 31,
   "id": "a970ee8f-983f-411b-87df-bd0b9f67e0b1",
   "metadata": {},
   "outputs": [
    {
     "name": "stdout",
     "output_type": "stream",
     "text": [
      "0\n",
      "1\n",
      "2\n",
      "4\n"
     ]
    }
   ],
   "source": [
    "for i in range(5):\n",
    "    if i ==3:\n",
    "        continue\n",
    "    print(i)\n",
    "    \n",
    "    \n",
    "# break --- end the loop\n",
    "# continue -- skip the loop"
   ]
  },
  {
   "cell_type": "code",
   "execution_count": 32,
   "id": "fd3478f5-8d69-49b4-9a16-49077af1ab44",
   "metadata": {},
   "outputs": [],
   "source": [
    "# write a program to print odd number from 1 to 10"
   ]
  },
  {
   "cell_type": "code",
   "execution_count": 33,
   "id": "43fecdf5-3309-44e4-bdba-cb4ad26029ee",
   "metadata": {},
   "outputs": [
    {
     "name": "stdout",
     "output_type": "stream",
     "text": [
      "1\n",
      "3\n",
      "5\n",
      "7\n",
      "9\n"
     ]
    }
   ],
   "source": [
    "for i in range (1,11):\n",
    "    if i%2==0:\n",
    "        continue\n",
    "    print(i)\n"
   ]
  },
  {
   "cell_type": "code",
   "execution_count": 34,
   "id": "65c8737e-c11f-48c4-8f42-32b788153a9f",
   "metadata": {},
   "outputs": [
    {
     "name": "stdout",
     "output_type": "stream",
     "text": [
      "1\n",
      "3\n",
      "5\n",
      "7\n",
      "9\n"
     ]
    }
   ],
   "source": [
    "for i in range(1,11):\n",
    "    if i%2!=0:\n",
    "        print(i)\n",
    "    else:\n",
    "        continue\n"
   ]
  },
  {
   "cell_type": "code",
   "execution_count": 35,
   "id": "a6ed787f-b4cd-4828-82a8-4a4815452d6c",
   "metadata": {},
   "outputs": [
    {
     "name": "stdout",
     "output_type": "stream",
     "text": [
      "1\n",
      "3\n",
      "5\n",
      "7\n",
      "9\n"
     ]
    }
   ],
   "source": [
    "# write a program to print odd numbers from 1 to 10\n",
    "for i in range(1,11):\n",
    "    if i % 2 == 0:\n",
    "        continue\n",
    "    print(i)\n"
   ]
  },
  {
   "cell_type": "code",
   "execution_count": 36,
   "id": "594b9098-4e3b-4782-9ef6-d139fcdfd5c8",
   "metadata": {},
   "outputs": [
    {
     "name": "stdout",
     "output_type": "stream",
     "text": [
      "hello\n"
     ]
    }
   ],
   "source": [
    "n=10\n",
    "\n",
    "if n > 10:\n",
    "    pass\n",
    "\n",
    "print('hello')"
   ]
  },
  {
   "cell_type": "code",
   "execution_count": 1,
   "id": "db02daeb-fa71-4b3c-8e6c-8477083e53e4",
   "metadata": {},
   "outputs": [],
   "source": [
    "for i in range(5):\n",
    "    pass\n"
   ]
  },
  {
   "cell_type": "code",
   "execution_count": 2,
   "id": "ef18a6ca-ce4a-47a4-9312-37847a13f957",
   "metadata": {},
   "outputs": [
    {
     "ename": "IndentationError",
     "evalue": "expected an indented block (3139233531.py, line 3)",
     "output_type": "error",
     "traceback": [
      "\u001b[1;36m  File \u001b[1;32m\"C:\\Users\\gaura\\AppData\\Local\\Temp\\ipykernel_2792\\3139233531.py\"\u001b[1;36m, line \u001b[1;32m3\u001b[0m\n\u001b[1;33m    \u001b[0m\n\u001b[1;37m    ^\u001b[0m\n\u001b[1;31mIndentationError\u001b[0m\u001b[1;31m:\u001b[0m expected an indented block\n"
     ]
    }
   ],
   "source": [
    "if n>45:\n",
    "    \n",
    "    "
   ]
  },
  {
   "cell_type": "code",
   "execution_count": 1,
   "id": "89726fcd-2518-470c-a617-24d42add2280",
   "metadata": {},
   "outputs": [
    {
     "name": "stdout",
     "output_type": "stream",
     "text": [
      "P\n",
      "y\n",
      "t\n",
      "h\n",
      "o\n",
      "n\n",
      " \n",
      "C\n",
      "l\n",
      "a\n",
      "s\n",
      "s\n"
     ]
    }
   ],
   "source": [
    "for letter in \"Python Class\":\n",
    "    if letter == 'f':\n",
    "        pass\n",
    "    \n",
    "    print(letter)"
   ]
  },
  {
   "cell_type": "code",
   "execution_count": null,
   "id": "e7980a07",
   "metadata": {},
   "outputs": [],
   "source": []
  }
 ],
 "metadata": {
  "kernelspec": {
   "display_name": "Python 3 (ipykernel)",
   "language": "python",
   "name": "python3"
  },
  "language_info": {
   "codemirror_mode": {
    "name": "ipython",
    "version": 3
   },
   "file_extension": ".py",
   "mimetype": "text/x-python",
   "name": "python",
   "nbconvert_exporter": "python",
   "pygments_lexer": "ipython3",
   "version": "3.9.13"
  }
 },
 "nbformat": 4,
 "nbformat_minor": 5
}
