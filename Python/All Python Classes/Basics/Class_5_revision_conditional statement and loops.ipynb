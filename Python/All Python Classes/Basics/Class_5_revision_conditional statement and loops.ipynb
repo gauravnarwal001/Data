{
 "cells": [
  {
   "cell_type": "code",
   "execution_count": 1,
   "id": "9bbea8d0-111a-4d39-be1e-1f4de9043f2b",
   "metadata": {},
   "outputs": [],
   "source": [
    "a = 500\n",
    "price = 850\n",
    "if price <= 500:\n",
    "    print(\"yes i will be able to buy\")"
   ]
  },
  {
   "cell_type": "code",
   "execution_count": 2,
   "id": "abe5c146-eeb2-4277-91c3-3fe33aa4a6ef",
   "metadata": {},
   "outputs": [
    {
     "data": {
      "text/plain": [
       "False"
      ]
     },
     "execution_count": 2,
     "metadata": {},
     "output_type": "execute_result"
    }
   ],
   "source": [
    "price <=500"
   ]
  },
  {
   "cell_type": "code",
   "execution_count": 3,
   "id": "020d3a60-5c72-4d22-a35b-960c53f9b552",
   "metadata": {},
   "outputs": [
    {
     "data": {
      "text/plain": [
       "False"
      ]
     },
     "execution_count": 3,
     "metadata": {},
     "output_type": "execute_result"
    }
   ],
   "source": [
    "850<=500"
   ]
  },
  {
   "cell_type": "code",
   "execution_count": 4,
   "id": "d71ce49b-30c4-4da1-a509-3d1c15de02d3",
   "metadata": {},
   "outputs": [
    {
     "name": "stdout",
     "output_type": "stream",
     "text": [
      "this is a testing block\n",
      "i will try to buy shirt\n"
     ]
    }
   ],
   "source": [
    "a  = 500\n",
    "shirt_price = 200\n",
    "pant_price = 500\n",
    "coat_price = 800\n",
    "\n",
    "if True:\n",
    "    print(\"this is a testing block\")\n",
    "\n",
    "if coat_price <= a :\n",
    "    print(\"i will try to buy coat\")\n",
    "elif pant_price < 500 :\n",
    "    print(\"i will try to buy pant\")\n",
    "elif shirt_price < 500 :\n",
    "    print(\"i will try to buy shirt\")\n",
    "else :\n",
    "    print(\"i wont be able to buy\")"
   ]
  },
  {
   "cell_type": "code",
   "execution_count": 5,
   "id": "4ae1ad6c-cbbd-4cc6-80a5-d3ca911a070d",
   "metadata": {},
   "outputs": [
    {
     "data": {
      "text/plain": [
       "False"
      ]
     },
     "execution_count": 5,
     "metadata": {},
     "output_type": "execute_result"
    }
   ],
   "source": [
    "500<500"
   ]
  },
  {
   "cell_type": "code",
   "execution_count": 14,
   "id": "d3e588d0",
   "metadata": {},
   "outputs": [],
   "source": [
    "a = list(range(10))"
   ]
  },
  {
   "cell_type": "code",
   "execution_count": 16,
   "id": "b967afdb",
   "metadata": {},
   "outputs": [
    {
     "data": {
      "text/plain": [
       "[0, 1, 2, 3, 4, 5, 6, 7, 8, 9]"
      ]
     },
     "execution_count": 16,
     "metadata": {},
     "output_type": "execute_result"
    }
   ],
   "source": [
    "a"
   ]
  },
  {
   "cell_type": "code",
   "execution_count": 17,
   "id": "00ac6e6b",
   "metadata": {},
   "outputs": [
    {
     "data": {
      "text/plain": [
       "[0, 2, 4, 6, 8]"
      ]
     },
     "execution_count": 17,
     "metadata": {},
     "output_type": "execute_result"
    }
   ],
   "source": [
    "[i for i in a if i%2 == 0]"
   ]
  },
  {
   "cell_type": "code",
   "execution_count": 14,
   "id": "34d21c00",
   "metadata": {},
   "outputs": [
    {
     "name": "stdout",
     "output_type": "stream",
     "text": [
      "Enter Your Budget :- 900\n",
      "Under Budget\n",
      "Enter Your Size (L , XL, S , XXL , XXXL , M ) :- l\n",
      "Size is available\n",
      "Enter Your Color [white , red , blue,orange]  :- asd\n",
      "pls try something else\n",
      "Enter Exit for Exit \n",
      "Enter Your Color [white , red , blue,orange]  :- asdfasd\n",
      "pls try something else\n",
      "Enter Exit for Exit \n",
      "Enter Your Color [white , red , blue,orange]  :- asdf\n",
      "pls try something else\n",
      "Enter Exit for Exit \n",
      "Enter Your Color [white , red , blue,orange]  :- exit\n",
      "pls try something else\n",
      "Enter Exit for Exit \n",
      "Enter Your Color [white , red , blue,orange]  :- asd\n",
      "pls try something else\n",
      "Enter Exit for Exit \n",
      "Enter Your Color [white , red , blue,orange]  :- exit\n",
      "pls try something else\n",
      "Enter Exit for Exit \n",
      "Enter Your Color [white , red , blue,orange]  :- vikash\n",
      "pls try something else\n",
      "Enter Exit for Exit \n"
     ]
    }
   ],
   "source": [
    "amount =int(input('Enter Your Budget :- '))\n",
    "if amount >= 200:\n",
    "    print('Under Budget')\n",
    "    my_size  = input('Enter Your Size (L , XL, S , XXL , XXXL , M ) :- ').upper()\n",
    "    size_store = ['L' , 'XL','S','XXL','XXXL','M']\n",
    "    \n",
    "    if my_size in size_store:\n",
    "        print('Size is available')\n",
    "        \n",
    "        my_fav_clr = 0\n",
    "        while my_fav_clr != 'exit':\n",
    "            my_fav_clr = input('Enter Your Color [white , red , blue,orange]  :- ').lower()\n",
    "            store_clr = ['white' , 'red' , 'blue','orange']\n",
    "            if my_fav_clr in store_clr:\n",
    "                print('Pls try')\n",
    "                break\n",
    "            else:\n",
    "                print('pls try something else')\n",
    "                print('Enter Exit for Exit ')\n",
    "    else:\n",
    "        print('Invalid Size')\n",
    "else:\n",
    "    print('Out of budget')"
   ]
  },
  {
   "cell_type": "code",
   "execution_count": null,
   "id": "2f2a3a97",
   "metadata": {},
   "outputs": [],
   "source": []
  },
  {
   "cell_type": "code",
   "execution_count": null,
   "id": "55e24acb",
   "metadata": {},
   "outputs": [],
   "source": []
  },
  {
   "cell_type": "code",
   "execution_count": 17,
   "id": "839b5af0",
   "metadata": {},
   "outputs": [
    {
     "name": "stdout",
     "output_type": "stream",
     "text": [
      "5043\n",
      "enter your choice(1.pepsi, 2.coke, 3.monster)1\n",
      "here's your pepsi\n",
      "5042\n",
      "enter your choice(1.pepsi, 2.coke, 3.monster)1\n",
      "here's your pepsi\n",
      "5041\n",
      "enter your choice(1.pepsi, 2.coke, 3.monster)1\n",
      "here's your pepsi\n",
      "5040\n",
      "enter your choice(1.pepsi, 2.coke, 3.monster)1\n",
      "here's your pepsi\n",
      "5039\n",
      "enter your choice(1.pepsi, 2.coke, 3.monster)2\n",
      "here's coke\n",
      "not enough money\n"
     ]
    }
   ],
   "source": [
    "money_in_hand = 5043\n",
    "while money_in_hand >= 4:\n",
    "    print(money_in_hand)\n",
    "    choice = int(input(\"enter your choice(1.pepsi, 2.coke, 3.monster)\"))\n",
    "    if choice == 1:\n",
    "        print(\"here's your pepsi\")\n",
    "        money_in_hand = money_in_hand - 1\n",
    "    if choice == 2:\n",
    "        print(\"here's coke\")\n",
    "        money_in_hand = money_in_hand -2\n",
    "    if choice == 3:\n",
    "        print(\"here's monster\")\n",
    "        money_in_hand = money_in_hand - 3\n",
    "else:\n",
    "    print(\"not enough money\")"
   ]
  },
  {
   "cell_type": "code",
   "execution_count": null,
   "id": "2d5dce78",
   "metadata": {},
   "outputs": [],
   "source": []
  },
  {
   "cell_type": "code",
   "execution_count": 1,
   "id": "2d513802",
   "metadata": {},
   "outputs": [
    {
     "name": "stdout",
     "output_type": "stream",
     "text": [
      "enter your todo task 6385\n",
      "enter n id you want to add in todo list or enter y if you dont want to add Y\n",
      "enter your todo task jg\n",
      "enter n id you want to add in todo list or enter y if you dont want to add 'y\n",
      "enter your todo task h\n",
      "enter n id you want to add in todo list or enter y if you dont want to add y\n",
      "my todo list is  ['6385', 'jg', 'h']\n"
     ]
    }
   ],
   "source": [
    "todo_list = []\n",
    "end_of_todo = 'n'\n",
    "while end_of_todo != 'y':\n",
    "    todo_item = input(\"enter your todo task \")\n",
    "    todo_list.append(todo_item)\n",
    "    end_of_todo = input(\"enter n id you want to add in todo list or enter y if you dont want to add \")\n",
    "print(\"my todo list is \" , todo_list)"
   ]
  },
  {
   "cell_type": "code",
   "execution_count": null,
   "id": "78762be0",
   "metadata": {},
   "outputs": [],
   "source": []
  },
  {
   "cell_type": "code",
   "execution_count": null,
   "id": "bc99a3f3",
   "metadata": {},
   "outputs": [],
   "source": []
  },
  {
   "cell_type": "code",
   "execution_count": null,
   "id": "1f7bf0a1",
   "metadata": {},
   "outputs": [],
   "source": []
  },
  {
   "cell_type": "code",
   "execution_count": 5,
   "id": "4182695d-57f6-48ce-bba4-318715bf9a96",
   "metadata": {},
   "outputs": [],
   "source": [
    "course = ['DSM', 'DSA','java' , 'big data' , 'DA']\n",
    "price = 20000\n",
    "mentor = \"Gaurav Narwal\"\n",
    "if 'DSM' in course  and price == 1000 and \"Gaurav Narwal\" == mentor:\n",
    "    print(\"yes i am doing this course \")\n"
   ]
  },
  {
   "cell_type": "code",
   "execution_count": 6,
   "id": "3d400f44-d0dc-4754-8466-1f85344e3578",
   "metadata": {},
   "outputs": [
    {
     "name": "stdout",
     "output_type": "stream",
     "text": [
      "its out of my budget\n"
     ]
    }
   ],
   "source": [
    "course_price = 20000\n",
    "\n",
    "if 10000<= course_price <=15000:\n",
    "    print(\"i will try to buy a course\")\n",
    "    \n",
    "else :\n",
    "    print(\"its out of my budget\")"
   ]
  },
  {
   "cell_type": "code",
   "execution_count": 7,
   "id": "12eba2ba-e434-4fbc-9d6e-b9fce48d6e0d",
   "metadata": {},
   "outputs": [
    {
     "data": {
      "text/plain": [
       "False"
      ]
     },
     "execution_count": 7,
     "metadata": {},
     "output_type": "execute_result"
    }
   ],
   "source": [
    "10000<= course_price <=15000"
   ]
  },
  {
   "cell_type": "code",
   "execution_count": 8,
   "id": "3ec9bc21-6d79-4554-908f-d5bef1419ad9",
   "metadata": {},
   "outputs": [
    {
     "name": "stdout",
     "output_type": "stream",
     "text": [
      "enter your usernameasdf\n",
      "enter correct username and password \n"
     ]
    }
   ],
   "source": [
    "user_name = \"gaurav\"\n",
    "password = \"gaurav@1234\"\n",
    "\n",
    "if user_name == input(\"enter your username\") and  password == input(\"enter your password\"):\n",
    "    print(\"you have loged in succefully \")\n",
    "else:\n",
    "    print(\"enter correct username and password \")\n",
    "    "
   ]
  },
  {
   "cell_type": "code",
   "execution_count": null,
   "id": "0dfd4bd1",
   "metadata": {},
   "outputs": [],
   "source": []
  },
  {
   "cell_type": "code",
   "execution_count": 9,
   "id": "d2db4e75-5885-4f18-8675-cef66e449396",
   "metadata": {},
   "outputs": [
    {
     "name": "stdout",
     "output_type": "stream",
     "text": [
      "enter your registered mo no\n"
     ]
    },
    {
     "ename": "ValueError",
     "evalue": "invalid literal for int() with base 10: ''",
     "output_type": "error",
     "traceback": [
      "\u001b[1;31m---------------------------------------------------------------------------\u001b[0m",
      "\u001b[1;31mValueError\u001b[0m                                Traceback (most recent call last)",
      "\u001b[1;32m~\\AppData\\Local\\Temp\\ipykernel_16472\\3848908940.py\u001b[0m in \u001b[0;36m<module>\u001b[1;34m\u001b[0m\n\u001b[0;32m      1\u001b[0m \u001b[0mmobile_no\u001b[0m \u001b[1;33m=\u001b[0m \u001b[1;36m123456\u001b[0m\u001b[1;33m\u001b[0m\u001b[1;33m\u001b[0m\u001b[0m\n\u001b[0;32m      2\u001b[0m \u001b[0motp\u001b[0m \u001b[1;33m=\u001b[0m \u001b[1;36m1234\u001b[0m\u001b[1;33m\u001b[0m\u001b[1;33m\u001b[0m\u001b[0m\n\u001b[1;32m----> 3\u001b[1;33m \u001b[1;32mif\u001b[0m \u001b[0mmobile_no\u001b[0m \u001b[1;33m==\u001b[0m \u001b[0mint\u001b[0m\u001b[1;33m(\u001b[0m\u001b[0minput\u001b[0m\u001b[1;33m(\u001b[0m\u001b[1;34m\"enter your registered mo no\"\u001b[0m\u001b[1;33m)\u001b[0m\u001b[1;33m)\u001b[0m\u001b[1;33m:\u001b[0m\u001b[1;33m\u001b[0m\u001b[1;33m\u001b[0m\u001b[0m\n\u001b[0m\u001b[0;32m      4\u001b[0m     \u001b[0mprint\u001b[0m\u001b[1;33m(\u001b[0m\u001b[1;34m\"yes you are a registered user\"\u001b[0m\u001b[1;33m)\u001b[0m\u001b[1;33m\u001b[0m\u001b[1;33m\u001b[0m\u001b[0m\n\u001b[0;32m      5\u001b[0m     \u001b[1;32mif\u001b[0m \u001b[0motp\u001b[0m \u001b[1;33m==\u001b[0m \u001b[0mint\u001b[0m\u001b[1;33m(\u001b[0m\u001b[0minput\u001b[0m\u001b[1;33m(\u001b[0m\u001b[1;34m\"enter otp that we have sent on your mo no\"\u001b[0m\u001b[1;33m)\u001b[0m\u001b[1;33m)\u001b[0m\u001b[1;33m:\u001b[0m\u001b[1;33m\u001b[0m\u001b[1;33m\u001b[0m\u001b[0m\n",
      "\u001b[1;31mValueError\u001b[0m: invalid literal for int() with base 10: ''"
     ]
    }
   ],
   "source": [
    "mobile_no = 123456\n",
    "otp = 1234\n",
    "if mobile_no == int(input(\"enter your registered mo no\")):\n",
    "    print(\"yes you are a registered user\")\n",
    "    if otp == int(input(\"enter otp that we have sent on your mo no\")):\n",
    "        print(\"you have logged in succefully\")\n",
    "    else :\n",
    "        print(\"otp is not correct please try to enter again\")\n",
    "else :\n",
    "    print(\"you have not entered a valid mobile no\")"
   ]
  },
  {
   "cell_type": "code",
   "execution_count": 38,
   "id": "868e15cb-1902-42f7-ac5a-2371fb9a3e43",
   "metadata": {},
   "outputs": [
    {
     "name": "stdin",
     "output_type": "stream",
     "text": [
      "enter your registered mo no 23432\n"
     ]
    },
    {
     "name": "stdout",
     "output_type": "stream",
     "text": [
      "yes you are a registered user\n"
     ]
    },
    {
     "name": "stdin",
     "output_type": "stream",
     "text": [
      "enter otp that we have sent on your mo no 1234\n"
     ]
    },
    {
     "name": "stdout",
     "output_type": "stream",
     "text": [
      "you have logged in succefully\n"
     ]
    }
   ],
   "source": [
    "mobile_no = {2343243,3543534,45654646,23432,345345,345343}\n",
    "otp = 1234\n",
    "if int(input(\"enter your registered mo no\")) in mobile_no:\n",
    "    print(\"yes you are a registered user\")\n",
    "    if otp == int(input(\"enter otp that we have sent on your mo no\")):\n",
    "        print(\"you have logged in succefully\")\n",
    "    else :\n",
    "        print(\"otp is not correct please try to enter again\")\n",
    "else :\n",
    "    print(\"you have not entered a valid mo no\")"
   ]
  },
  {
   "cell_type": "code",
   "execution_count": 44,
   "id": "a40e26e8-bc3d-4479-81e7-8b7909d8d4fa",
   "metadata": {},
   "outputs": [
    {
     "name": "stdout",
     "output_type": "stream",
     "text": [
      "2343243\n",
      "3543534\n",
      "45654646\n",
      "23432\n",
      "yes user is registered\n",
      "yes student details are avaible in DB \n",
      "course accessed to this user is  ['dsa', 'dsm', 'big data']\n",
      "345345\n",
      "345343\n"
     ]
    }
   ],
   "source": [
    "l= [12,3,3,4,5,6,6]\n",
    "mobile_no = [2343243,3543534,45654646,23432,345345,345343]\n",
    "stud_mo = 23432\n",
    "stud_details = {'mobile_no' : 23432 ,'course' : ['dsa' , 'dsm' , 'big data']}\n",
    "\n",
    "for i in mobile_no:\n",
    "    print(i)\n",
    "    if i == stud_mo:\n",
    "        print(\"yes user is registered\")\n",
    "        if i == stud_details['mobile_no']:\n",
    "            print(\"yes student details are avaible in DB \")\n",
    "            print(\"course accessed to this user is \" , stud_details['course'])"
   ]
  },
  {
   "cell_type": "code",
   "execution_count": 48,
   "id": "1bf63065-5a37-4331-bcef-bd95b72ad34b",
   "metadata": {},
   "outputs": [],
   "source": [
    "t = (12,3,4,5,56,345.565)\n",
    "l_int = []\n",
    "l_str = []\n",
    "for i in t :\n",
    "    if type(i) == str :\n",
    "        l_str.append(i)\n",
    "    elif type(i) == int:\n",
    "        l_int.append(i)\n"
   ]
  },
  {
   "cell_type": "code",
   "execution_count": 49,
   "id": "c616d3fe-88de-4023-aa21-78ac9d68949b",
   "metadata": {},
   "outputs": [
    {
     "data": {
      "text/plain": [
       "[12, 3, 4, 5, 56]"
      ]
     },
     "execution_count": 49,
     "metadata": {},
     "output_type": "execute_result"
    }
   ],
   "source": [
    "l_int"
   ]
  },
  {
   "cell_type": "code",
   "execution_count": 50,
   "id": "8909569d-a1f8-4770-a59d-a6cbbfa54f4b",
   "metadata": {},
   "outputs": [
    {
     "data": {
      "text/plain": [
       "['sudh', 'kumar']"
      ]
     },
     "execution_count": 50,
     "metadata": {},
     "output_type": "execute_result"
    }
   ],
   "source": [
    "l_str"
   ]
  },
  {
   "cell_type": "code",
   "execution_count": 51,
   "id": "230bdd7c-7834-4c97-b365-31d1d82c7680",
   "metadata": {},
   "outputs": [],
   "source": [
    "s = {3,4,5,56,76,7,7,8,8}"
   ]
  },
  {
   "cell_type": "code",
   "execution_count": 52,
   "id": "611ca652-1688-45cb-bd9a-646805fb4545",
   "metadata": {},
   "outputs": [
    {
     "data": {
      "text/plain": [
       "{3, 4, 5, 7, 8, 56, 76}"
      ]
     },
     "execution_count": 52,
     "metadata": {},
     "output_type": "execute_result"
    }
   ],
   "source": [
    "s"
   ]
  },
  {
   "cell_type": "code",
   "execution_count": 53,
   "id": "bfbf0312-5b88-4259-a124-2af90ec4882a",
   "metadata": {},
   "outputs": [
    {
     "name": "stdout",
     "output_type": "stream",
     "text": [
      "3\n",
      "4\n",
      "5\n",
      "7\n",
      "8\n",
      "56\n",
      "76\n"
     ]
    }
   ],
   "source": [
    "for i in s :\n",
    "    print(i)"
   ]
  },
  {
   "cell_type": "code",
   "execution_count": 1,
   "id": "5b91581a-a9d6-4872-957a-3c430ec82d8f",
   "metadata": {},
   "outputs": [],
   "source": [
    "d = {\"name\":\"sudh\" , 'class' :[\"big data\" , \"data analytics\",\"data science \" , \"DSA\" , \"architecture\", \"system design\"],\n",
    "'mobile no' : 345353453, \"email_id\":'abc@gmail.com'}"
   ]
  },
  {
   "cell_type": "code",
   "execution_count": null,
   "id": "0f0582de",
   "metadata": {},
   "outputs": [],
   "source": []
  },
  {
   "cell_type": "code",
   "execution_count": null,
   "id": "dacdbb07",
   "metadata": {},
   "outputs": [],
   "source": []
  },
  {
   "cell_type": "code",
   "execution_count": 2,
   "id": "e045d162-e2a5-452b-bfd6-10be81ada105",
   "metadata": {},
   "outputs": [
    {
     "data": {
      "text/plain": [
       "{'name': 'sudh',\n",
       " 'class': ['big data',\n",
       "  'data analytics',\n",
       "  'data science ',\n",
       "  'DSA',\n",
       "  'architecture',\n",
       "  'system design'],\n",
       " 'mobile no': 345353453,\n",
       " 'email_id': 'abc@gmail.com'}"
      ]
     },
     "execution_count": 2,
     "metadata": {},
     "output_type": "execute_result"
    }
   ],
   "source": [
    "d"
   ]
  },
  {
   "cell_type": "code",
   "execution_count": 56,
   "id": "941154a7-05f6-4673-985e-c2993ce77218",
   "metadata": {},
   "outputs": [
    {
     "data": {
      "text/plain": [
       "dict_values(['sudh', ['big data', 'data analytics', 'data science ', 'DSA', 'architecture', 'system design'], 345353453, 'sskumari787y@gmail.com'])"
      ]
     },
     "execution_count": 56,
     "metadata": {},
     "output_type": "execute_result"
    }
   ],
   "source": [
    "d.values()"
   ]
  },
  {
   "cell_type": "code",
   "execution_count": 62,
   "id": "e4d8d1bf-98e4-4ba6-8a03-89ce6abc10c6",
   "metadata": {},
   "outputs": [
    {
     "name": "stdout",
     "output_type": "stream",
     "text": [
      "yes this mentor teach system design\n"
     ]
    }
   ],
   "source": [
    "for i in d.values():\n",
    "    if type(i) == list and 'system design' in i :\n",
    "            print(\"yes this mentor teach system design\")"
   ]
  },
  {
   "cell_type": "code",
   "execution_count": 60,
   "id": "9045805c-0f75-4a50-bd6a-9cbe0e6150d2",
   "metadata": {},
   "outputs": [
    {
     "name": "stdout",
     "output_type": "stream",
     "text": [
      "big data\n",
      "data analytics\n",
      "data science \n",
      "DSA\n",
      "architecture\n",
      "system design\n"
     ]
    }
   ],
   "source": [
    "for i in d.values():\n",
    "    if type(i) == list:\n",
    "        for j in i :\n",
    "            print(j)"
   ]
  },
  {
   "cell_type": "code",
   "execution_count": null,
   "id": "43b62b76-a71c-47b7-8679-789d3ba920d2",
   "metadata": {},
   "outputs": [],
   "source": []
  }
 ],
 "metadata": {
  "kernelspec": {
   "display_name": "Python 3 (ipykernel)",
   "language": "python",
   "name": "python3"
  },
  "language_info": {
   "codemirror_mode": {
    "name": "ipython",
    "version": 3
   },
   "file_extension": ".py",
   "mimetype": "text/x-python",
   "name": "python",
   "nbconvert_exporter": "python",
   "pygments_lexer": "ipython3",
   "version": "3.9.13"
  }
 },
 "nbformat": 4,
 "nbformat_minor": 5
}
