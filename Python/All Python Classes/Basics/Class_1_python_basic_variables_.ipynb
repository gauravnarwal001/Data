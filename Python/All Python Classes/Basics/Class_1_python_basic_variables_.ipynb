{
 "cells": [
  {
   "cell_type": "code",
   "execution_count": 8,
   "id": "af1a018f",
   "metadata": {},
   "outputs": [],
   "source": [
    "a = '125'"
   ]
  },
  {
   "cell_type": "code",
   "execution_count": 9,
   "id": "e2abaa6e",
   "metadata": {},
   "outputs": [
    {
     "data": {
      "text/plain": [
       "str"
      ]
     },
     "execution_count": 9,
     "metadata": {},
     "output_type": "execute_result"
    }
   ],
   "source": [
    "type(a)"
   ]
  },
  {
   "cell_type": "code",
   "execution_count": 10,
   "id": "763e9a87",
   "metadata": {},
   "outputs": [],
   "source": [
    "a = \"P\""
   ]
  },
  {
   "cell_type": "code",
   "execution_count": 11,
   "id": "3741f268",
   "metadata": {},
   "outputs": [
    {
     "data": {
      "text/plain": [
       "'P'"
      ]
     },
     "execution_count": 11,
     "metadata": {},
     "output_type": "execute_result"
    }
   ],
   "source": [
    "a"
   ]
  },
  {
   "cell_type": "code",
   "execution_count": 12,
   "id": "1c669d54",
   "metadata": {},
   "outputs": [
    {
     "data": {
      "text/plain": [
       "'P'"
      ]
     },
     "execution_count": 12,
     "metadata": {},
     "output_type": "execute_result"
    }
   ],
   "source": [
    "a"
   ]
  },
  {
   "cell_type": "code",
   "execution_count": 13,
   "id": "7bcee826",
   "metadata": {},
   "outputs": [],
   "source": [
    "A = 123"
   ]
  },
  {
   "cell_type": "code",
   "execution_count": 14,
   "id": "3dc7a16d",
   "metadata": {},
   "outputs": [
    {
     "data": {
      "text/plain": [
       "'P'"
      ]
     },
     "execution_count": 14,
     "metadata": {},
     "output_type": "execute_result"
    }
   ],
   "source": [
    "a"
   ]
  },
  {
   "cell_type": "code",
   "execution_count": 15,
   "id": "f2aab04e",
   "metadata": {},
   "outputs": [
    {
     "data": {
      "text/plain": [
       "123"
      ]
     },
     "execution_count": 15,
     "metadata": {},
     "output_type": "execute_result"
    }
   ],
   "source": [
    "A"
   ]
  },
  {
   "cell_type": "markdown",
   "id": "c9a47599",
   "metadata": {},
   "source": [
    "##### A variable name must start with a letter or the underscore character\n",
    "##### A variable name cannot start with a number\n",
    "##### A variable name can only contain alpha-numeric characters and underscores (A-z, 0-9, and _ )\n",
    "##### Variable names are case-sensitive (age, Age and AGE are three different variables)\n",
    "##### A variable name cannot be any of the Python keywords."
   ]
  },
  {
   "cell_type": "code",
   "execution_count": 17,
   "id": "1f33a79f",
   "metadata": {},
   "outputs": [
    {
     "ename": "SyntaxError",
     "evalue": "cannot assign to literal (926506944.py, line 1)",
     "output_type": "error",
     "traceback": [
      "\u001b[1;36m  File \u001b[1;32m\"C:\\Users\\gaura\\AppData\\Local\\Temp\\ipykernel_15076\\926506944.py\"\u001b[1;36m, line \u001b[1;32m1\u001b[0m\n\u001b[1;33m    1 = 123\u001b[0m\n\u001b[1;37m    ^\u001b[0m\n\u001b[1;31mSyntaxError\u001b[0m\u001b[1;31m:\u001b[0m cannot assign to literal\n"
     ]
    }
   ],
   "source": [
    "1 = 123"
   ]
  },
  {
   "cell_type": "code",
   "execution_count": 18,
   "id": "35328d1c",
   "metadata": {},
   "outputs": [
    {
     "ename": "SyntaxError",
     "evalue": "invalid syntax (3205522983.py, line 1)",
     "output_type": "error",
     "traceback": [
      "\u001b[1;36m  File \u001b[1;32m\"C:\\Users\\gaura\\AppData\\Local\\Temp\\ipykernel_15076\\3205522983.py\"\u001b[1;36m, line \u001b[1;32m1\u001b[0m\n\u001b[1;33m    @ = 123\u001b[0m\n\u001b[1;37m      ^\u001b[0m\n\u001b[1;31mSyntaxError\u001b[0m\u001b[1;31m:\u001b[0m invalid syntax\n"
     ]
    }
   ],
   "source": [
    "@ = 123"
   ]
  },
  {
   "cell_type": "code",
   "execution_count": null,
   "id": "9cd5738a",
   "metadata": {},
   "outputs": [],
   "source": []
  },
  {
   "cell_type": "code",
   "execution_count": null,
   "id": "e1dd4cde",
   "metadata": {},
   "outputs": [],
   "source": []
  },
  {
   "cell_type": "code",
   "execution_count": 2,
   "id": "7053df5a",
   "metadata": {},
   "outputs": [],
   "source": [
    "a1 = 52742"
   ]
  },
  {
   "cell_type": "code",
   "execution_count": 3,
   "id": "43febd0f",
   "metadata": {},
   "outputs": [],
   "source": [
    "_a = \"asdf\""
   ]
  },
  {
   "cell_type": "code",
   "execution_count": 18,
   "id": "9f6d0e14",
   "metadata": {},
   "outputs": [],
   "source": [
    "ab = 57427"
   ]
  },
  {
   "cell_type": "code",
   "execution_count": 19,
   "id": "4dcf90b0",
   "metadata": {},
   "outputs": [],
   "source": [
    "_a = 8754"
   ]
  },
  {
   "cell_type": "code",
   "execution_count": 20,
   "id": "9b13f900",
   "metadata": {},
   "outputs": [],
   "source": [
    "a1 = \"abc\""
   ]
  },
  {
   "cell_type": "code",
   "execution_count": 21,
   "id": "691bb5d8",
   "metadata": {},
   "outputs": [
    {
     "ename": "SyntaxError",
     "evalue": "cannot assign to literal (59264961.py, line 1)",
     "output_type": "error",
     "traceback": [
      "\u001b[1;36m  File \u001b[1;32m\"C:\\Users\\gaura\\AppData\\Local\\Temp\\ipykernel_2796\\59264961.py\"\u001b[1;36m, line \u001b[1;32m1\u001b[0m\n\u001b[1;33m    1 = \"asdf\"\u001b[0m\n\u001b[1;37m    ^\u001b[0m\n\u001b[1;31mSyntaxError\u001b[0m\u001b[1;31m:\u001b[0m cannot assign to literal\n"
     ]
    }
   ],
   "source": [
    "1 = \"asdf\""
   ]
  },
  {
   "cell_type": "markdown",
   "id": "410b0a02",
   "metadata": {},
   "source": [
    "# Number Swap"
   ]
  },
  {
   "cell_type": "code",
   "execution_count": 19,
   "id": "3656e2e9",
   "metadata": {},
   "outputs": [],
   "source": [
    "a = 10\n",
    "b = 20"
   ]
  },
  {
   "cell_type": "code",
   "execution_count": 23,
   "id": "5bec7ee7",
   "metadata": {},
   "outputs": [
    {
     "name": "stdout",
     "output_type": "stream",
     "text": [
      "10\n",
      "20\n"
     ]
    }
   ],
   "source": [
    "print(a)\n",
    "print(b)"
   ]
  },
  {
   "cell_type": "code",
   "execution_count": 24,
   "id": "141fead6",
   "metadata": {},
   "outputs": [],
   "source": [
    "c = a\n",
    "a = b\n",
    "b = c"
   ]
  },
  {
   "cell_type": "code",
   "execution_count": 25,
   "id": "57b068b2",
   "metadata": {},
   "outputs": [
    {
     "name": "stdout",
     "output_type": "stream",
     "text": [
      "20\n",
      "10\n"
     ]
    }
   ],
   "source": [
    "print(a)\n",
    "print(b)"
   ]
  },
  {
   "cell_type": "code",
   "execution_count": 26,
   "id": "51b012fb",
   "metadata": {},
   "outputs": [],
   "source": [
    "a, b = b , a"
   ]
  },
  {
   "cell_type": "code",
   "execution_count": 27,
   "id": "bcb44813",
   "metadata": {},
   "outputs": [
    {
     "name": "stdout",
     "output_type": "stream",
     "text": [
      "10\n",
      "20\n"
     ]
    }
   ],
   "source": [
    "print(a)\n",
    "print(b)"
   ]
  },
  {
   "cell_type": "markdown",
   "id": "8284774f",
   "metadata": {},
   "source": [
    "## String Formating"
   ]
  },
  {
   "cell_type": "code",
   "execution_count": 40,
   "id": "6301333f",
   "metadata": {},
   "outputs": [],
   "source": [
    "name = \"Ankit\"\n",
    "age = 120"
   ]
  },
  {
   "cell_type": "code",
   "execution_count": 45,
   "id": "f556ec16",
   "metadata": {},
   "outputs": [
    {
     "name": "stdout",
     "output_type": "stream",
     "text": [
      "My name is Ankit and my age is 120\n"
     ]
    }
   ],
   "source": [
    "print(\"My name is\",name,\"and my age is\",age)"
   ]
  },
  {
   "cell_type": "code",
   "execution_count": 48,
   "id": "1d0377e4",
   "metadata": {},
   "outputs": [
    {
     "name": "stdout",
     "output_type": "stream",
     "text": [
      "My name is Ankit and my age is 120\n"
     ]
    }
   ],
   "source": [
    "print(f\"My name is {name} and my age is {age}\")"
   ]
  },
  {
   "cell_type": "markdown",
   "id": "8f8d92a3",
   "metadata": {},
   "source": [
    "## Boolean Values"
   ]
  },
  {
   "cell_type": "raw",
   "id": "9c9bdcb2",
   "metadata": {},
   "source": [
    "bool value ---------> True and False"
   ]
  },
  {
   "cell_type": "code",
   "execution_count": 62,
   "id": "aac20f75-01ff-4b88-b97f-03508238d070",
   "metadata": {
    "id": "aac20f75-01ff-4b88-b97f-03508238d070"
   },
   "outputs": [],
   "source": [
    "b1 = True          # this is my boolean value"
   ]
  },
  {
   "cell_type": "code",
   "execution_count": 63,
   "id": "d080827c-c72c-416e-b6fb-6787247807eb",
   "metadata": {
    "id": "d080827c-c72c-416e-b6fb-6787247807eb"
   },
   "outputs": [],
   "source": [
    "b2 = False         #0"
   ]
  },
  {
   "cell_type": "markdown",
   "id": "c096cf51",
   "metadata": {},
   "source": [
    "## Comment"
   ]
  },
  {
   "cell_type": "code",
   "execution_count": 75,
   "id": "979669d6",
   "metadata": {},
   "outputs": [],
   "source": [
    "a = \"abc\"               #  a is my variable\n",
    "\n",
    "\"\"\"\n",
    "class - 2\n",
    "\n",
    "print\n",
    "variable\n",
    "\n",
    "\"\"\"\n",
    "\n",
    "b = 57421"
   ]
  },
  {
   "cell_type": "code",
   "execution_count": 76,
   "id": "1eced765",
   "metadata": {},
   "outputs": [],
   "source": [
    "a = \"This is my first python class\"       # this code for my class"
   ]
  },
  {
   "cell_type": "code",
   "execution_count": 77,
   "id": "a4383fc3-6c7b-4780-8816-f5eeeddcebac",
   "metadata": {
    "id": "a4383fc3-6c7b-4780-8816-f5eeeddcebac"
   },
   "outputs": [
    {
     "name": "stdout",
     "output_type": "stream",
     "text": [
      "this is my first python class\n"
     ]
    }
   ],
   "source": [
    "s3='this is my first python class'      # This is my first python code\n",
    "print(s3)  # display s3"
   ]
  },
  {
   "cell_type": "code",
   "execution_count": 78,
   "id": "62368315",
   "metadata": {},
   "outputs": [],
   "source": [
    "\"\"\"this is my first python class\n",
    "str\n",
    "int\n",
    "float\"\"\"\n",
    "\n",
    "\n",
    "a = 45"
   ]
  },
  {
   "cell_type": "code",
   "execution_count": null,
   "id": "1116e725",
   "metadata": {},
   "outputs": [],
   "source": []
  },
  {
   "cell_type": "markdown",
   "id": "81d4cfd2",
   "metadata": {},
   "source": [
    "### Type Casting"
   ]
  },
  {
   "cell_type": "code",
   "execution_count": 92,
   "id": "ed6cd194",
   "metadata": {},
   "outputs": [],
   "source": [
    "x = \"Python\""
   ]
  },
  {
   "cell_type": "code",
   "execution_count": 93,
   "id": "8546edad",
   "metadata": {},
   "outputs": [],
   "source": [
    "y = \"Class\""
   ]
  },
  {
   "cell_type": "code",
   "execution_count": 95,
   "id": "b4035d26",
   "metadata": {},
   "outputs": [
    {
     "data": {
      "text/plain": [
       "'Python Class'"
      ]
     },
     "execution_count": 95,
     "metadata": {},
     "output_type": "execute_result"
    }
   ],
   "source": [
    "x + \" \" + y"
   ]
  },
  {
   "cell_type": "code",
   "execution_count": 98,
   "id": "dc70db75",
   "metadata": {},
   "outputs": [
    {
     "data": {
      "text/plain": [
       "'Python'"
      ]
     },
     "execution_count": 98,
     "metadata": {},
     "output_type": "execute_result"
    }
   ],
   "source": [
    "x"
   ]
  },
  {
   "cell_type": "code",
   "execution_count": 103,
   "id": "d3abc0ff",
   "metadata": {},
   "outputs": [],
   "source": [
    "a = 123"
   ]
  },
  {
   "cell_type": "code",
   "execution_count": 104,
   "id": "fc369c29",
   "metadata": {},
   "outputs": [
    {
     "ename": "TypeError",
     "evalue": "can only concatenate str (not \"int\") to str",
     "output_type": "error",
     "traceback": [
      "\u001b[1;31m---------------------------------------------------------------------------\u001b[0m",
      "\u001b[1;31mTypeError\u001b[0m                                 Traceback (most recent call last)",
      "\u001b[1;32m~\\AppData\\Local\\Temp\\ipykernel_15076\\993417601.py\u001b[0m in \u001b[0;36m<module>\u001b[1;34m\u001b[0m\n\u001b[1;32m----> 1\u001b[1;33m \u001b[0mx\u001b[0m \u001b[1;33m+\u001b[0m \u001b[0ma\u001b[0m\u001b[1;33m\u001b[0m\u001b[1;33m\u001b[0m\u001b[0m\n\u001b[0m",
      "\u001b[1;31mTypeError\u001b[0m: can only concatenate str (not \"int\") to str"
     ]
    }
   ],
   "source": [
    "x + a"
   ]
  },
  {
   "cell_type": "code",
   "execution_count": 105,
   "id": "bb08991d",
   "metadata": {},
   "outputs": [
    {
     "data": {
      "text/plain": [
       "'Python 123'"
      ]
     },
     "execution_count": 105,
     "metadata": {},
     "output_type": "execute_result"
    }
   ],
   "source": [
    "x + \" \" + str(a)"
   ]
  },
  {
   "cell_type": "code",
   "execution_count": 106,
   "id": "d6b0d20c",
   "metadata": {},
   "outputs": [
    {
     "data": {
      "text/plain": [
       "10"
      ]
     },
     "execution_count": 106,
     "metadata": {},
     "output_type": "execute_result"
    }
   ],
   "source": [
    "8 + 2"
   ]
  },
  {
   "cell_type": "code",
   "execution_count": 107,
   "id": "e643d69b",
   "metadata": {},
   "outputs": [
    {
     "data": {
      "text/plain": [
       "7.5"
      ]
     },
     "execution_count": 107,
     "metadata": {},
     "output_type": "execute_result"
    }
   ],
   "source": [
    "2.5 + 5"
   ]
  },
  {
   "cell_type": "code",
   "execution_count": 108,
   "id": "f61ddcfa",
   "metadata": {},
   "outputs": [
    {
     "data": {
      "text/plain": [
       "5.0"
      ]
     },
     "execution_count": 108,
     "metadata": {},
     "output_type": "execute_result"
    }
   ],
   "source": [
    "2.5 + 2.5"
   ]
  },
  {
   "cell_type": "code",
   "execution_count": 110,
   "id": "30f604ee",
   "metadata": {},
   "outputs": [
    {
     "ename": "ValueError",
     "evalue": "invalid literal for int() with base 10: 'Python'",
     "output_type": "error",
     "traceback": [
      "\u001b[1;31m---------------------------------------------------------------------------\u001b[0m",
      "\u001b[1;31mValueError\u001b[0m                                Traceback (most recent call last)",
      "\u001b[1;32m~\\AppData\\Local\\Temp\\ipykernel_15076\\173064326.py\u001b[0m in \u001b[0;36m<module>\u001b[1;34m\u001b[0m\n\u001b[1;32m----> 1\u001b[1;33m \u001b[0mint\u001b[0m\u001b[1;33m(\u001b[0m\u001b[0mx\u001b[0m\u001b[1;33m)\u001b[0m\u001b[1;33m\u001b[0m\u001b[1;33m\u001b[0m\u001b[0m\n\u001b[0m",
      "\u001b[1;31mValueError\u001b[0m: invalid literal for int() with base 10: 'Python'"
     ]
    }
   ],
   "source": [
    "int(x)"
   ]
  },
  {
   "cell_type": "code",
   "execution_count": 111,
   "id": "8f8e49d0",
   "metadata": {},
   "outputs": [
    {
     "data": {
      "text/plain": [
       "857"
      ]
     },
     "execution_count": 111,
     "metadata": {},
     "output_type": "execute_result"
    }
   ],
   "source": [
    "int(857.5)"
   ]
  },
  {
   "cell_type": "code",
   "execution_count": null,
   "id": "84032a5b",
   "metadata": {},
   "outputs": [],
   "source": []
  },
  {
   "cell_type": "code",
   "execution_count": 112,
   "id": "20a849b8",
   "metadata": {},
   "outputs": [],
   "source": [
    "ab = '8976453128654'"
   ]
  },
  {
   "cell_type": "code",
   "execution_count": 113,
   "id": "1cdda14c",
   "metadata": {},
   "outputs": [
    {
     "data": {
      "text/plain": [
       "str"
      ]
     },
     "execution_count": 113,
     "metadata": {},
     "output_type": "execute_result"
    }
   ],
   "source": [
    "type(ab)"
   ]
  },
  {
   "cell_type": "code",
   "execution_count": 114,
   "id": "18daf262",
   "metadata": {},
   "outputs": [
    {
     "data": {
      "text/plain": [
       "8976453128654"
      ]
     },
     "execution_count": 114,
     "metadata": {},
     "output_type": "execute_result"
    }
   ],
   "source": [
    "int(ab)"
   ]
  },
  {
   "cell_type": "code",
   "execution_count": null,
   "id": "910b92c6",
   "metadata": {},
   "outputs": [],
   "source": []
  },
  {
   "cell_type": "code",
   "execution_count": null,
   "id": "d10c3207",
   "metadata": {},
   "outputs": [],
   "source": []
  },
  {
   "cell_type": "code",
   "execution_count": null,
   "id": "06833d68",
   "metadata": {},
   "outputs": [],
   "source": []
  },
  {
   "cell_type": "code",
   "execution_count": null,
   "id": "e8e25b27",
   "metadata": {},
   "outputs": [],
   "source": []
  },
  {
   "cell_type": "code",
   "execution_count": null,
   "id": "97220bbb",
   "metadata": {},
   "outputs": [],
   "source": []
  },
  {
   "cell_type": "code",
   "execution_count": null,
   "id": "d1609692",
   "metadata": {},
   "outputs": [],
   "source": []
  },
  {
   "cell_type": "code",
   "execution_count": null,
   "id": "ec1248b2",
   "metadata": {},
   "outputs": [],
   "source": []
  },
  {
   "cell_type": "code",
   "execution_count": null,
   "id": "0690ad51",
   "metadata": {},
   "outputs": [],
   "source": []
  },
  {
   "cell_type": "code",
   "execution_count": null,
   "id": "89b22a65",
   "metadata": {},
   "outputs": [],
   "source": []
  },
  {
   "cell_type": "code",
   "execution_count": 81,
   "id": "c8117218",
   "metadata": {},
   "outputs": [
    {
     "data": {
      "text/plain": [
       "'PythonClass'"
      ]
     },
     "execution_count": 81,
     "metadata": {},
     "output_type": "execute_result"
    }
   ],
   "source": [
    "x + y"
   ]
  },
  {
   "cell_type": "code",
   "execution_count": 82,
   "id": "094e1d4b",
   "metadata": {},
   "outputs": [
    {
     "data": {
      "text/plain": [
       "'Python Class'"
      ]
     },
     "execution_count": 82,
     "metadata": {},
     "output_type": "execute_result"
    }
   ],
   "source": [
    "x + \" \" + y"
   ]
  },
  {
   "cell_type": "code",
   "execution_count": 83,
   "id": "d067fb68",
   "metadata": {},
   "outputs": [],
   "source": [
    "num = 10"
   ]
  },
  {
   "cell_type": "code",
   "execution_count": 84,
   "id": "522c7cb8",
   "metadata": {},
   "outputs": [
    {
     "ename": "TypeError",
     "evalue": "can only concatenate str (not \"int\") to str",
     "output_type": "error",
     "traceback": [
      "\u001b[1;31m---------------------------------------------------------------------------\u001b[0m",
      "\u001b[1;31mTypeError\u001b[0m                                 Traceback (most recent call last)",
      "\u001b[1;32m~\\AppData\\Local\\Temp\\ipykernel_15076\\4017138547.py\u001b[0m in \u001b[0;36m<module>\u001b[1;34m\u001b[0m\n\u001b[1;32m----> 1\u001b[1;33m \u001b[0mx\u001b[0m \u001b[1;33m+\u001b[0m \u001b[0mnum\u001b[0m\u001b[1;33m\u001b[0m\u001b[1;33m\u001b[0m\u001b[0m\n\u001b[0m",
      "\u001b[1;31mTypeError\u001b[0m: can only concatenate str (not \"int\") to str"
     ]
    }
   ],
   "source": [
    "x + num"
   ]
  },
  {
   "cell_type": "code",
   "execution_count": null,
   "id": "12740543",
   "metadata": {},
   "outputs": [],
   "source": [
    "str(num)"
   ]
  },
  {
   "cell_type": "code",
   "execution_count": null,
   "id": "30acf21c",
   "metadata": {},
   "outputs": [],
   "source": [
    "x + str(num)"
   ]
  },
  {
   "cell_type": "code",
   "execution_count": null,
   "id": "f69aa1b5",
   "metadata": {},
   "outputs": [],
   "source": [
    "int(x)"
   ]
  },
  {
   "cell_type": "code",
   "execution_count": null,
   "id": "0f0cefe3",
   "metadata": {},
   "outputs": [],
   "source": [
    "int(\"987654a321\")"
   ]
  },
  {
   "cell_type": "code",
   "execution_count": null,
   "id": "2697ce43",
   "metadata": {},
   "outputs": [],
   "source": [
    "123 + 2.5"
   ]
  },
  {
   "cell_type": "code",
   "execution_count": null,
   "id": "0680b509",
   "metadata": {},
   "outputs": [],
   "source": []
  },
  {
   "cell_type": "markdown",
   "id": "e9be58bf",
   "metadata": {},
   "source": [
    "### Input Function"
   ]
  },
  {
   "cell_type": "code",
   "execution_count": 1,
   "id": "62fb5bd0",
   "metadata": {},
   "outputs": [],
   "source": [
    "a = 6452"
   ]
  },
  {
   "cell_type": "code",
   "execution_count": 14,
   "id": "3cd70b6e",
   "metadata": {},
   "outputs": [
    {
     "name": "stdout",
     "output_type": "stream",
     "text": [
      "Enter your name 986532\n"
     ]
    }
   ],
   "source": [
    "x = input(\"Enter your name \")"
   ]
  },
  {
   "cell_type": "code",
   "execution_count": 21,
   "id": "408cee9b",
   "metadata": {},
   "outputs": [
    {
     "name": "stdout",
     "output_type": "stream",
     "text": [
      "Enter your number574210\n"
     ]
    }
   ],
   "source": [
    "num = int(input(\"Enter your number\"))"
   ]
  },
  {
   "cell_type": "code",
   "execution_count": 22,
   "id": "60267fae",
   "metadata": {},
   "outputs": [
    {
     "data": {
      "text/plain": [
       "574210"
      ]
     },
     "execution_count": 22,
     "metadata": {},
     "output_type": "execute_result"
    }
   ],
   "source": [
    "num"
   ]
  },
  {
   "cell_type": "markdown",
   "id": "42e0d41b",
   "metadata": {},
   "source": [
    "## Indexing"
   ]
  },
  {
   "cell_type": "code",
   "execution_count": 23,
   "id": "cdc0a0a0-80f6-415b-bb33-523220a52c88",
   "metadata": {
    "id": "cdc0a0a0-80f6-415b-bb33-523220a52c88"
   },
   "outputs": [],
   "source": [
    "s = \"This is my python class\""
   ]
  },
  {
   "cell_type": "code",
   "execution_count": 24,
   "id": "854536c3",
   "metadata": {},
   "outputs": [
    {
     "data": {
      "text/plain": [
       "'This is my python class'"
      ]
     },
     "execution_count": 24,
     "metadata": {},
     "output_type": "execute_result"
    }
   ],
   "source": [
    "s"
   ]
  },
  {
   "cell_type": "code",
   "execution_count": 30,
   "id": "ac9b1efd",
   "metadata": {},
   "outputs": [
    {
     "data": {
      "text/plain": [
       "'T'"
      ]
     },
     "execution_count": 30,
     "metadata": {},
     "output_type": "execute_result"
    }
   ],
   "source": [
    "s[0]"
   ]
  },
  {
   "cell_type": "code",
   "execution_count": 29,
   "id": "76269be7",
   "metadata": {
    "scrolled": true
   },
   "outputs": [
    {
     "data": {
      "text/plain": [
       "'T'"
      ]
     },
     "execution_count": 29,
     "metadata": {},
     "output_type": "execute_result"
    }
   ],
   "source": [
    "s[-23]"
   ]
  },
  {
   "cell_type": "code",
   "execution_count": 25,
   "id": "053427a4",
   "metadata": {},
   "outputs": [
    {
     "data": {
      "text/plain": [
       "'n'"
      ]
     },
     "execution_count": 25,
     "metadata": {},
     "output_type": "execute_result"
    }
   ],
   "source": [
    "s[16]"
   ]
  },
  {
   "cell_type": "code",
   "execution_count": 28,
   "id": "088c574a",
   "metadata": {},
   "outputs": [
    {
     "data": {
      "text/plain": [
       "'T'"
      ]
     },
     "execution_count": 28,
     "metadata": {},
     "output_type": "execute_result"
    }
   ],
   "source": [
    "s[0]"
   ]
  },
  {
   "cell_type": "code",
   "execution_count": 27,
   "id": "070ab8d1",
   "metadata": {},
   "outputs": [
    {
     "ename": "IndexError",
     "evalue": "string index out of range",
     "output_type": "error",
     "traceback": [
      "\u001b[1;31m---------------------------------------------------------------------------\u001b[0m",
      "\u001b[1;31mIndexError\u001b[0m                                Traceback (most recent call last)",
      "\u001b[1;32m~\\AppData\\Local\\Temp\\ipykernel_16416\\1231969932.py\u001b[0m in \u001b[0;36m<module>\u001b[1;34m\u001b[0m\n\u001b[1;32m----> 1\u001b[1;33m \u001b[0ms\u001b[0m\u001b[1;33m[\u001b[0m\u001b[1;36m23\u001b[0m\u001b[1;33m]\u001b[0m\u001b[1;33m\u001b[0m\u001b[1;33m\u001b[0m\u001b[0m\n\u001b[0m",
      "\u001b[1;31mIndexError\u001b[0m: string index out of range"
     ]
    }
   ],
   "source": [
    "s[23]"
   ]
  },
  {
   "cell_type": "code",
   "execution_count": null,
   "id": "69fcf254",
   "metadata": {},
   "outputs": [],
   "source": []
  },
  {
   "cell_type": "code",
   "execution_count": null,
   "id": "f517a0a9",
   "metadata": {},
   "outputs": [],
   "source": []
  },
  {
   "cell_type": "code",
   "execution_count": null,
   "id": "ee8b9a66",
   "metadata": {},
   "outputs": [],
   "source": []
  },
  {
   "cell_type": "code",
   "execution_count": null,
   "id": "84ec6738",
   "metadata": {},
   "outputs": [],
   "source": []
  },
  {
   "cell_type": "code",
   "execution_count": null,
   "id": "2b4ccf8d",
   "metadata": {},
   "outputs": [],
   "source": []
  },
  {
   "cell_type": "code",
   "execution_count": null,
   "id": "1431f5c3",
   "metadata": {},
   "outputs": [],
   "source": []
  },
  {
   "cell_type": "code",
   "execution_count": null,
   "id": "8c3ff5fa",
   "metadata": {},
   "outputs": [],
   "source": []
  },
  {
   "cell_type": "code",
   "execution_count": null,
   "id": "1417a6a5",
   "metadata": {},
   "outputs": [],
   "source": []
  },
  {
   "cell_type": "markdown",
   "id": "ea9237bc",
   "metadata": {},
   "source": [
    "# Slicing"
   ]
  },
  {
   "cell_type": "code",
   "execution_count": 48,
   "id": "e3e30459",
   "metadata": {},
   "outputs": [],
   "source": [
    "s = \"This is my python class\""
   ]
  },
  {
   "cell_type": "code",
   "execution_count": 55,
   "id": "ed7a1bad",
   "metadata": {},
   "outputs": [
    {
     "data": {
      "text/plain": [
       "'i si'"
      ]
     },
     "execution_count": 55,
     "metadata": {},
     "output_type": "execute_result"
    }
   ],
   "source": [
    "s[5:1:-1]"
   ]
  },
  {
   "cell_type": "code",
   "execution_count": 54,
   "id": "c306190a",
   "metadata": {},
   "outputs": [
    {
     "data": {
      "text/plain": [
       "'is my'"
      ]
     },
     "execution_count": 54,
     "metadata": {},
     "output_type": "execute_result"
    }
   ],
   "source": [
    "s[-18:-13]"
   ]
  },
  {
   "cell_type": "code",
   "execution_count": 52,
   "id": "036e8d2c",
   "metadata": {},
   "outputs": [
    {
     "data": {
      "text/plain": [
       "'sihT'"
      ]
     },
     "execution_count": 52,
     "metadata": {},
     "output_type": "execute_result"
    }
   ],
   "source": [
    "s[3::-1]"
   ]
  },
  {
   "cell_type": "code",
   "execution_count": 53,
   "id": "88f4e79a",
   "metadata": {},
   "outputs": [
    {
     "data": {
      "text/plain": [
       "'sihT'"
      ]
     },
     "execution_count": 53,
     "metadata": {},
     "output_type": "execute_result"
    }
   ],
   "source": [
    "s[-20::-1]"
   ]
  },
  {
   "cell_type": "code",
   "execution_count": 49,
   "id": "b06a2da6",
   "metadata": {},
   "outputs": [
    {
     "data": {
      "text/plain": [
       "'ssalc nohtyp ym si sihT'"
      ]
     },
     "execution_count": 49,
     "metadata": {},
     "output_type": "execute_result"
    }
   ],
   "source": [
    "s[::-1]"
   ]
  },
  {
   "cell_type": "code",
   "execution_count": 47,
   "id": "98dd14e1",
   "metadata": {},
   "outputs": [
    {
     "data": {
      "text/plain": [
       "'cas'"
      ]
     },
     "execution_count": 47,
     "metadata": {},
     "output_type": "execute_result"
    }
   ],
   "source": [
    "s[-5::2]"
   ]
  },
  {
   "cell_type": "code",
   "execution_count": 44,
   "id": "629b6397",
   "metadata": {},
   "outputs": [
    {
     "data": {
      "text/plain": [
       "'Ti sm'"
      ]
     },
     "execution_count": 44,
     "metadata": {},
     "output_type": "execute_result"
    }
   ],
   "source": [
    "s[:10:2]"
   ]
  },
  {
   "cell_type": "code",
   "execution_count": null,
   "id": "d69c19bc",
   "metadata": {},
   "outputs": [],
   "source": []
  },
  {
   "cell_type": "code",
   "execution_count": null,
   "id": "e409f748",
   "metadata": {},
   "outputs": [],
   "source": []
  },
  {
   "cell_type": "code",
   "execution_count": null,
   "id": "a122fc2e",
   "metadata": {},
   "outputs": [],
   "source": []
  },
  {
   "cell_type": "code",
   "execution_count": null,
   "id": "4dd7b287",
   "metadata": {},
   "outputs": [],
   "source": []
  },
  {
   "cell_type": "code",
   "execution_count": 41,
   "id": "833d79af",
   "metadata": {},
   "outputs": [
    {
     "data": {
      "text/plain": [
       "'ssalc'"
      ]
     },
     "execution_count": 41,
     "metadata": {},
     "output_type": "execute_result"
    }
   ],
   "source": [
    "s[-1:-6:-1]"
   ]
  },
  {
   "cell_type": "code",
   "execution_count": 39,
   "id": "93d1d933",
   "metadata": {},
   "outputs": [
    {
     "data": {
      "text/plain": [
       "'s'"
      ]
     },
     "execution_count": 39,
     "metadata": {},
     "output_type": "execute_result"
    }
   ],
   "source": [
    "s[-1:]"
   ]
  },
  {
   "cell_type": "code",
   "execution_count": 37,
   "id": "2b307b6b",
   "metadata": {},
   "outputs": [
    {
     "data": {
      "text/plain": [
       "'class'"
      ]
     },
     "execution_count": 37,
     "metadata": {},
     "output_type": "execute_result"
    }
   ],
   "source": [
    "s[-5: ]"
   ]
  },
  {
   "cell_type": "code",
   "execution_count": 36,
   "id": "e53c270d",
   "metadata": {},
   "outputs": [
    {
     "data": {
      "text/plain": [
       "'class'"
      ]
     },
     "execution_count": 36,
     "metadata": {},
     "output_type": "execute_result"
    }
   ],
   "source": [
    "s[18:2300000000]"
   ]
  },
  {
   "cell_type": "code",
   "execution_count": 33,
   "id": "53cc28d3",
   "metadata": {},
   "outputs": [
    {
     "data": {
      "text/plain": [
       "'python'"
      ]
     },
     "execution_count": 33,
     "metadata": {},
     "output_type": "execute_result"
    }
   ],
   "source": [
    "s[11:17]"
   ]
  },
  {
   "cell_type": "code",
   "execution_count": 35,
   "id": "2bda5e4e",
   "metadata": {},
   "outputs": [
    {
     "data": {
      "text/plain": [
       "'is my'"
      ]
     },
     "execution_count": 35,
     "metadata": {},
     "output_type": "execute_result"
    }
   ],
   "source": [
    "s[5:10]"
   ]
  },
  {
   "cell_type": "code",
   "execution_count": null,
   "id": "ce652598",
   "metadata": {},
   "outputs": [],
   "source": []
  },
  {
   "cell_type": "code",
   "execution_count": null,
   "id": "75af5457",
   "metadata": {},
   "outputs": [],
   "source": []
  },
  {
   "cell_type": "code",
   "execution_count": null,
   "id": "5ca017a2",
   "metadata": {},
   "outputs": [],
   "source": []
  },
  {
   "cell_type": "code",
   "execution_count": null,
   "id": "a3eaa822",
   "metadata": {},
   "outputs": [],
   "source": []
  },
  {
   "cell_type": "code",
   "execution_count": null,
   "id": "710881a7",
   "metadata": {},
   "outputs": [],
   "source": []
  },
  {
   "cell_type": "code",
   "execution_count": null,
   "id": "f1325725",
   "metadata": {},
   "outputs": [],
   "source": []
  },
  {
   "cell_type": "code",
   "execution_count": null,
   "id": "b3701aa7",
   "metadata": {},
   "outputs": [],
   "source": []
  },
  {
   "cell_type": "code",
   "execution_count": null,
   "id": "a6da7827",
   "metadata": {},
   "outputs": [],
   "source": []
  },
  {
   "cell_type": "code",
   "execution_count": null,
   "id": "cc33c792",
   "metadata": {},
   "outputs": [],
   "source": []
  },
  {
   "cell_type": "code",
   "execution_count": null,
   "id": "aaa7b0d7",
   "metadata": {},
   "outputs": [],
   "source": []
  },
  {
   "cell_type": "code",
   "execution_count": null,
   "id": "61314576",
   "metadata": {},
   "outputs": [],
   "source": []
  },
  {
   "cell_type": "code",
   "execution_count": null,
   "id": "e0ac62f3",
   "metadata": {},
   "outputs": [],
   "source": []
  },
  {
   "cell_type": "code",
   "execution_count": null,
   "id": "a64c4c82",
   "metadata": {},
   "outputs": [],
   "source": []
  },
  {
   "cell_type": "code",
   "execution_count": null,
   "id": "2c7989d4",
   "metadata": {},
   "outputs": [],
   "source": []
  },
  {
   "cell_type": "code",
   "execution_count": null,
   "id": "3ea69539",
   "metadata": {},
   "outputs": [],
   "source": []
  },
  {
   "cell_type": "code",
   "execution_count": null,
   "id": "669e39fb",
   "metadata": {},
   "outputs": [],
   "source": []
  },
  {
   "cell_type": "code",
   "execution_count": null,
   "id": "fb72634e",
   "metadata": {},
   "outputs": [],
   "source": []
  },
  {
   "cell_type": "code",
   "execution_count": null,
   "id": "89c6fd06",
   "metadata": {},
   "outputs": [],
   "source": []
  },
  {
   "cell_type": "code",
   "execution_count": null,
   "id": "bc792a3e",
   "metadata": {},
   "outputs": [],
   "source": []
  },
  {
   "cell_type": "code",
   "execution_count": null,
   "id": "e5acde8f",
   "metadata": {},
   "outputs": [],
   "source": []
  },
  {
   "cell_type": "code",
   "execution_count": null,
   "id": "2c8efed5",
   "metadata": {},
   "outputs": [],
   "source": []
  },
  {
   "cell_type": "code",
   "execution_count": null,
   "id": "cea27342",
   "metadata": {},
   "outputs": [],
   "source": []
  },
  {
   "cell_type": "code",
   "execution_count": null,
   "id": "764ec576",
   "metadata": {},
   "outputs": [],
   "source": []
  },
  {
   "cell_type": "code",
   "execution_count": null,
   "id": "70789e89",
   "metadata": {},
   "outputs": [],
   "source": []
  },
  {
   "cell_type": "code",
   "execution_count": null,
   "id": "5dcdfb55",
   "metadata": {},
   "outputs": [],
   "source": []
  },
  {
   "cell_type": "code",
   "execution_count": null,
   "id": "2a7483f0",
   "metadata": {},
   "outputs": [],
   "source": []
  },
  {
   "cell_type": "code",
   "execution_count": null,
   "id": "b26f3be3",
   "metadata": {},
   "outputs": [],
   "source": []
  },
  {
   "cell_type": "code",
   "execution_count": null,
   "id": "6e1b850b",
   "metadata": {},
   "outputs": [],
   "source": []
  },
  {
   "cell_type": "code",
   "execution_count": null,
   "id": "6c2a6d52",
   "metadata": {},
   "outputs": [],
   "source": []
  },
  {
   "cell_type": "code",
   "execution_count": null,
   "id": "6501aaaa",
   "metadata": {},
   "outputs": [],
   "source": []
  },
  {
   "cell_type": "code",
   "execution_count": null,
   "id": "19b7c128",
   "metadata": {},
   "outputs": [],
   "source": []
  },
  {
   "cell_type": "code",
   "execution_count": null,
   "id": "587092dd",
   "metadata": {},
   "outputs": [],
   "source": []
  },
  {
   "cell_type": "code",
   "execution_count": 26,
   "id": "552daccb",
   "metadata": {},
   "outputs": [
    {
     "data": {
      "text/plain": [
       "'hsi y'"
      ]
     },
     "execution_count": 26,
     "metadata": {},
     "output_type": "execute_result"
    }
   ],
   "source": [
    "s[1:10:2]"
   ]
  },
  {
   "cell_type": "code",
   "execution_count": 25,
   "id": "2089461f",
   "metadata": {},
   "outputs": [
    {
     "data": {
      "text/plain": [
       "'sa'"
      ]
     },
     "execution_count": 25,
     "metadata": {},
     "output_type": "execute_result"
    }
   ],
   "source": [
    "s[-1:-5:-2]"
   ]
  },
  {
   "cell_type": "code",
   "execution_count": null,
   "id": "f9b9520c",
   "metadata": {},
   "outputs": [],
   "source": []
  },
  {
   "cell_type": "code",
   "execution_count": 21,
   "id": "abaf622c",
   "metadata": {},
   "outputs": [
    {
     "data": {
      "text/plain": [
       "'python'"
      ]
     },
     "execution_count": 21,
     "metadata": {},
     "output_type": "execute_result"
    }
   ],
   "source": [
    "s[-12:-6]"
   ]
  },
  {
   "cell_type": "code",
   "execution_count": null,
   "id": "64eb3147",
   "metadata": {},
   "outputs": [],
   "source": []
  },
  {
   "cell_type": "code",
   "execution_count": 18,
   "id": "ce92f384",
   "metadata": {},
   "outputs": [
    {
     "data": {
      "text/plain": [
       "'ssalc nohtyp ym si sihT'"
      ]
     },
     "execution_count": 18,
     "metadata": {},
     "output_type": "execute_result"
    }
   ],
   "source": [
    "s[::-1]"
   ]
  },
  {
   "cell_type": "code",
   "execution_count": null,
   "id": "870e5b77",
   "metadata": {},
   "outputs": [],
   "source": []
  },
  {
   "cell_type": "code",
   "execution_count": 15,
   "id": "6dd0d459",
   "metadata": {},
   "outputs": [
    {
     "data": {
      "text/plain": [
       "'class'"
      ]
     },
     "execution_count": 15,
     "metadata": {},
     "output_type": "execute_result"
    }
   ],
   "source": [
    "s[-5:]"
   ]
  },
  {
   "cell_type": "code",
   "execution_count": 12,
   "id": "f06b6195",
   "metadata": {},
   "outputs": [
    {
     "data": {
      "text/plain": [
       "'class'"
      ]
     },
     "execution_count": 12,
     "metadata": {},
     "output_type": "execute_result"
    }
   ],
   "source": [
    "s[18:23000]"
   ]
  },
  {
   "cell_type": "code",
   "execution_count": null,
   "id": "82847e5e",
   "metadata": {},
   "outputs": [],
   "source": []
  },
  {
   "cell_type": "code",
   "execution_count": 6,
   "id": "a2bd1b56",
   "metadata": {},
   "outputs": [
    {
     "data": {
      "text/plain": [
       "'python'"
      ]
     },
     "execution_count": 6,
     "metadata": {},
     "output_type": "execute_result"
    }
   ],
   "source": [
    "s[-12:-6]"
   ]
  },
  {
   "cell_type": "code",
   "execution_count": 8,
   "id": "56570a8c",
   "metadata": {},
   "outputs": [
    {
     "data": {
      "text/plain": [
       "'nohtyp'"
      ]
     },
     "execution_count": 8,
     "metadata": {},
     "output_type": "execute_result"
    }
   ],
   "source": [
    "s[-7:-13:-1]"
   ]
  },
  {
   "cell_type": "code",
   "execution_count": 2,
   "id": "c114439c",
   "metadata": {},
   "outputs": [
    {
     "data": {
      "text/plain": [
       "'python'"
      ]
     },
     "execution_count": 2,
     "metadata": {},
     "output_type": "execute_result"
    }
   ],
   "source": [
    "s[11:17]"
   ]
  },
  {
   "cell_type": "code",
   "execution_count": 3,
   "id": "d5d8661d",
   "metadata": {},
   "outputs": [
    {
     "data": {
      "text/plain": [
       "'is my'"
      ]
     },
     "execution_count": 3,
     "metadata": {},
     "output_type": "execute_result"
    }
   ],
   "source": [
    "s[5:10]"
   ]
  },
  {
   "cell_type": "code",
   "execution_count": null,
   "id": "1fab691e",
   "metadata": {},
   "outputs": [],
   "source": []
  },
  {
   "cell_type": "code",
   "execution_count": null,
   "id": "ee3ab6b6",
   "metadata": {},
   "outputs": [],
   "source": []
  },
  {
   "cell_type": "code",
   "execution_count": null,
   "id": "32571abf",
   "metadata": {},
   "outputs": [],
   "source": []
  },
  {
   "cell_type": "code",
   "execution_count": null,
   "id": "1b47cdfa",
   "metadata": {},
   "outputs": [],
   "source": []
  },
  {
   "cell_type": "code",
   "execution_count": null,
   "id": "ecc79fa7",
   "metadata": {},
   "outputs": [],
   "source": []
  },
  {
   "cell_type": "code",
   "execution_count": null,
   "id": "733b17b2",
   "metadata": {},
   "outputs": [],
   "source": []
  },
  {
   "cell_type": "code",
   "execution_count": null,
   "id": "6ab65095",
   "metadata": {},
   "outputs": [],
   "source": []
  },
  {
   "cell_type": "code",
   "execution_count": null,
   "id": "3bd927cb",
   "metadata": {},
   "outputs": [],
   "source": []
  },
  {
   "cell_type": "code",
   "execution_count": null,
   "id": "32bc941a",
   "metadata": {},
   "outputs": [],
   "source": []
  },
  {
   "cell_type": "code",
   "execution_count": null,
   "id": "f1fb2e55",
   "metadata": {},
   "outputs": [],
   "source": []
  },
  {
   "cell_type": "code",
   "execution_count": null,
   "id": "54498872",
   "metadata": {},
   "outputs": [],
   "source": []
  },
  {
   "cell_type": "code",
   "execution_count": null,
   "id": "a986e588",
   "metadata": {},
   "outputs": [],
   "source": []
  },
  {
   "cell_type": "code",
   "execution_count": null,
   "id": "39c65d06",
   "metadata": {},
   "outputs": [],
   "source": []
  }
 ],
 "metadata": {
  "colab": {
   "provenance": []
  },
  "kernelspec": {
   "display_name": "Python 3 (ipykernel)",
   "language": "python",
   "name": "python3"
  },
  "language_info": {
   "codemirror_mode": {
    "name": "ipython",
    "version": 3
   },
   "file_extension": ".py",
   "mimetype": "text/x-python",
   "name": "python",
   "nbconvert_exporter": "python",
   "pygments_lexer": "ipython3",
   "version": "3.9.13"
  }
 },
 "nbformat": 4,
 "nbformat_minor": 5
}
