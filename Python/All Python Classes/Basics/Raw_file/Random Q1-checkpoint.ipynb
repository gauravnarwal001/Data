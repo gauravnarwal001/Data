{
 "cells": [
  {
   "cell_type": "code",
   "execution_count": 4,
   "id": "c700c928",
   "metadata": {},
   "outputs": [
    {
     "name": "stdout",
     "output_type": "stream",
     "text": [
      "what is your answer?,hope that is correct8\n",
      "that is above 8\n",
      "what is your answer?,hope that is correct6\n",
      "that is above 6\n",
      "what is your answer?,hope that is correct4\n",
      "that is above 4\n"
     ]
    }
   ],
   "source": [
    "#guess the number\n",
    "import random\n",
    "secret_number=random.randint(1,20)\n",
    "answer=0\n",
    "tries=0\n",
    "\n",
    "while answer!= secret_number and tries <3:\n",
    "    answer=  int(input('what is your answer?,hope that is correct'))\n",
    "    if answer > secret_number:\n",
    "        print ('that is above',answer)\n",
    "    else:\n",
    "        answer < secret_number\n",
    "        print('that is below',answer)\n",
    "    tries += 1"
   ]
  },
  {
   "cell_type": "code",
   "execution_count": 5,
   "id": "5060d184",
   "metadata": {},
   "outputs": [
    {
     "data": {
      "text/plain": [
       "2"
      ]
     },
     "execution_count": 5,
     "metadata": {},
     "output_type": "execute_result"
    }
   ],
   "source": [
    "secret_number"
   ]
  },
  {
   "cell_type": "code",
   "execution_count": null,
   "id": "e912f865",
   "metadata": {},
   "outputs": [],
   "source": []
  }
 ],
 "metadata": {
  "kernelspec": {
   "display_name": "Python 3 (ipykernel)",
   "language": "python",
   "name": "python3"
  },
  "language_info": {
   "codemirror_mode": {
    "name": "ipython",
    "version": 3
   },
   "file_extension": ".py",
   "mimetype": "text/x-python",
   "name": "python",
   "nbconvert_exporter": "python",
   "pygments_lexer": "ipython3",
   "version": "3.9.13"
  }
 },
 "nbformat": 4,
 "nbformat_minor": 5
}
