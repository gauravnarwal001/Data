{
 "cells": [
  {
   "cell_type": "raw",
   "id": "f2f40dcc",
   "metadata": {},
   "source": [
    "list ---->  [  ]\n",
    "\n",
    "-> Mutable\n",
    "-> Store Multiple datatype values"
   ]
  },
  {
   "cell_type": "code",
   "execution_count": null,
   "id": "68a7b069",
   "metadata": {},
   "outputs": [],
   "source": [
    "[1,2,5,7,9,\"Abc\"]"
   ]
  },
  {
   "cell_type": "raw",
   "id": "faf0abb5",
   "metadata": {},
   "source": [
    "tuple ---> ( )\n",
    "\n",
    "-> Immutable (Not Changable)\n",
    "-> Store Multiple datatype values"
   ]
  },
  {
   "cell_type": "code",
   "execution_count": 1,
   "id": "a90531a2",
   "metadata": {},
   "outputs": [
    {
     "data": {
      "text/plain": [
       "(1, 5, 47, 6, 82)"
      ]
     },
     "execution_count": 1,
     "metadata": {},
     "output_type": "execute_result"
    }
   ],
   "source": [
    "(1,5,47,6,82)"
   ]
  },
  {
   "cell_type": "raw",
   "id": "efc60d53",
   "metadata": {},
   "source": [
    "sets ---> { }\n",
    "\n",
    "{1,2,3,4,5}\n",
    "\n",
    "-> Duplicates Not Allowed\n",
    "-> Store Multiple datatype values"
   ]
  },
  {
   "cell_type": "code",
   "execution_count": 2,
   "id": "ce99f53a",
   "metadata": {},
   "outputs": [
    {
     "data": {
      "text/plain": [
       "{1, 2, 3, 4, 5}"
      ]
     },
     "execution_count": 2,
     "metadata": {},
     "output_type": "execute_result"
    }
   ],
   "source": [
    "{1,2,3,4,5,5,5,5}"
   ]
  },
  {
   "cell_type": "raw",
   "id": "d17a38d0",
   "metadata": {},
   "source": [
    "dict ---> {Keys : Values}"
   ]
  },
  {
   "cell_type": "code",
   "execution_count": 9,
   "id": "06ba0072",
   "metadata": {},
   "outputs": [],
   "source": [
    "a = {\"Name\":[\"Vinay\",\"Gaurav\"],\"Age\":28,\"Location\":\"Gurugram\",\"N\":'Gurugram'}"
   ]
  },
  {
   "cell_type": "code",
   "execution_count": 10,
   "id": "29849709",
   "metadata": {},
   "outputs": [
    {
     "data": {
      "text/plain": [
       "{'Name': ['Vinay', 'Gaurav'],\n",
       " 'Age': 28,\n",
       " 'Location': 'Gurugram',\n",
       " 'N': 'Gurugram'}"
      ]
     },
     "execution_count": 10,
     "metadata": {},
     "output_type": "execute_result"
    }
   ],
   "source": [
    "a"
   ]
  },
  {
   "cell_type": "code",
   "execution_count": null,
   "id": "e76275ed",
   "metadata": {},
   "outputs": [],
   "source": []
  },
  {
   "cell_type": "code",
   "execution_count": 3,
   "id": "ab6f88a7",
   "metadata": {},
   "outputs": [
    {
     "ename": "SyntaxError",
     "evalue": "cannot assign to literal (1332709619.py, line 1)",
     "output_type": "error",
     "traceback": [
      "\u001b[1;36m  File \u001b[1;32m\"C:\\Users\\gaura\\AppData\\Local\\Temp\\ipykernel_19912\\1332709619.py\"\u001b[1;36m, line \u001b[1;32m1\u001b[0m\n\u001b[1;33m    name = \"Vinay\",age = 28, Location = \"Gurugram\"\u001b[0m\n\u001b[1;37m           ^\u001b[0m\n\u001b[1;31mSyntaxError\u001b[0m\u001b[1;31m:\u001b[0m cannot assign to literal\n"
     ]
    }
   ],
   "source": [
    "name = \"Vinay\",age = 28, Location = \"Gurugram\""
   ]
  },
  {
   "cell_type": "code",
   "execution_count": null,
   "id": "d51e76c6",
   "metadata": {},
   "outputs": [],
   "source": []
  },
  {
   "cell_type": "code",
   "execution_count": null,
   "id": "6283385e",
   "metadata": {},
   "outputs": [],
   "source": []
  },
  {
   "cell_type": "code",
   "execution_count": null,
   "id": "44724347",
   "metadata": {},
   "outputs": [],
   "source": []
  },
  {
   "cell_type": "code",
   "execution_count": null,
   "id": "a3929a6c",
   "metadata": {},
   "outputs": [],
   "source": []
  },
  {
   "cell_type": "code",
   "execution_count": null,
   "id": "3cb5b728",
   "metadata": {},
   "outputs": [],
   "source": []
  },
  {
   "cell_type": "code",
   "execution_count": null,
   "id": "7f5c28b4",
   "metadata": {},
   "outputs": [],
   "source": []
  },
  {
   "cell_type": "raw",
   "id": "497e3184",
   "metadata": {},
   "source": [
    "dict ---> "
   ]
  },
  {
   "cell_type": "code",
   "execution_count": null,
   "id": "9c071d11",
   "metadata": {},
   "outputs": [],
   "source": []
  }
 ],
 "metadata": {
  "kernelspec": {
   "display_name": "Python 3 (ipykernel)",
   "language": "python",
   "name": "python3"
  },
  "language_info": {
   "codemirror_mode": {
    "name": "ipython",
    "version": 3
   },
   "file_extension": ".py",
   "mimetype": "text/x-python",
   "name": "python",
   "nbconvert_exporter": "python",
   "pygments_lexer": "ipython3",
   "version": "3.9.13"
  }
 },
 "nbformat": 4,
 "nbformat_minor": 5
}
