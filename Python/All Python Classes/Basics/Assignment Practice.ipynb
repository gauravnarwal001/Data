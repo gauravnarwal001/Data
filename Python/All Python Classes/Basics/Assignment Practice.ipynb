{
 "cells": [
  {
   "cell_type": "markdown",
   "id": "6609f0a3",
   "metadata": {},
   "source": [
    "##### Write a Python program to print \"Hello, World!\"."
   ]
  },
  {
   "cell_type": "code",
   "execution_count": 1,
   "id": "ba6a3e29",
   "metadata": {},
   "outputs": [
    {
     "name": "stdout",
     "output_type": "stream",
     "text": [
      "Hello, World!\n"
     ]
    }
   ],
   "source": [
    "print(\"Hello, World!\")"
   ]
  },
  {
   "cell_type": "markdown",
   "id": "fad03489",
   "metadata": {},
   "source": [
    "##### Write a program to print your name, age, and favorite color in separate lines."
   ]
  },
  {
   "cell_type": "code",
   "execution_count": 3,
   "id": "34b476b5",
   "metadata": {},
   "outputs": [
    {
     "name": "stdout",
     "output_type": "stream",
     "text": [
      "abc\n",
      "blue\n",
      "10\n"
     ]
    }
   ],
   "source": [
    "name = \"abc\"\n",
    "color = \"blue\"\n",
    "age = 10\n",
    "\n",
    "print(name,color,age,sep = \"\\n\")"
   ]
  },
  {
   "cell_type": "markdown",
   "id": "391631ea",
   "metadata": {},
   "source": [
    "#####  Print the following pattern using the print() function: "
   ]
  },
  {
   "cell_type": "raw",
   "id": "891647fa",
   "metadata": {},
   "source": [
    "* \n",
    "** \n",
    "*** \n",
    "**** \n",
    "*****"
   ]
  },
  {
   "cell_type": "code",
   "execution_count": 4,
   "id": "0228f1f9",
   "metadata": {},
   "outputs": [
    {
     "name": "stdout",
     "output_type": "stream",
     "text": [
      "*\n",
      "**\n",
      "***\n",
      "****\n",
      "*****\n"
     ]
    }
   ],
   "source": [
    "star = \"*\"\n",
    "print(1* star)\n",
    "print(2* star)\n",
    "print(3* star)\n",
    "print(4* star)\n",
    "print(5* star)"
   ]
  },
  {
   "cell_type": "code",
   "execution_count": 12,
   "id": "0797444e",
   "metadata": {},
   "outputs": [
    {
     "name": "stdout",
     "output_type": "stream",
     "text": [
      "*\n",
      "**\n",
      "***\n",
      "****\n",
      "*****\n"
     ]
    }
   ],
   "source": [
    "print(1*star,2*star,3*star,4*star,5*star,sep = \"\\n\")"
   ]
  },
  {
   "cell_type": "code",
   "execution_count": null,
   "id": "238a97d8",
   "metadata": {},
   "outputs": [],
   "source": []
  },
  {
   "cell_type": "markdown",
   "id": "089026f3",
   "metadata": {},
   "source": [
    "##### Write a program to print your full name with a tab space between the first and last name. "
   ]
  },
  {
   "cell_type": "code",
   "execution_count": 22,
   "id": "cecb0eae",
   "metadata": {},
   "outputs": [
    {
     "name": "stdout",
     "output_type": "stream",
     "text": [
      "Python Code\n",
      "Python\tCode\n",
      "Python\tCode\n",
      "Python\tCode\n",
      "Python\tCode\n"
     ]
    }
   ],
   "source": [
    "first = \"Python\"\n",
    "last = \"Code\"\n",
    "print(first,last)\n",
    "print(first+\"\\t\"+last)\n",
    "first = \"Python\"\n",
    "last = \"Code\"\n",
    "print(f\"{first}\\t{last}\")\n",
    "print(first,last,sep = \"\\t\")\n",
    "print(f\"{first}\\t{last}\")"
   ]
  },
  {
   "cell_type": "markdown",
   "id": "797325c6",
   "metadata": {},
   "source": [
    "##### Write a Python program to print a quote with double quotes around it, like this: \"This is a quote\". "
   ]
  },
  {
   "cell_type": "code",
   "execution_count": 28,
   "id": "d105b661",
   "metadata": {},
   "outputs": [
    {
     "name": "stdout",
     "output_type": "stream",
     "text": [
      "\"this is a quote\"\n",
      "\"This is a quote\"\n",
      "\" this is a quote\"\n"
     ]
    }
   ],
   "source": [
    "print('\"this is a quote\"')\n",
    "print(\"\\\"This is a quote\\\"\")\n",
    "print('\" this is a quote\"')\n"
   ]
  },
  {
   "cell_type": "code",
   "execution_count": 36,
   "id": "868f4fc4",
   "metadata": {},
   "outputs": [
    {
     "name": "stdout",
     "output_type": "stream",
     "text": [
      "'This is a quotes'\n"
     ]
    }
   ],
   "source": [
    "print(\"'This is a quotes'\")"
   ]
  },
  {
   "cell_type": "code",
   "execution_count": 34,
   "id": "ae1f0c05",
   "metadata": {},
   "outputs": [
    {
     "name": "stdout",
     "output_type": "stream",
     "text": [
      "Hello \" world\n"
     ]
    }
   ],
   "source": [
    "print(\"Hello \\\" world\")"
   ]
  },
  {
   "cell_type": "code",
   "execution_count": null,
   "id": "05a9b4bc",
   "metadata": {},
   "outputs": [],
   "source": []
  },
  {
   "cell_type": "code",
   "execution_count": null,
   "id": "0e96083e",
   "metadata": {},
   "outputs": [],
   "source": []
  },
  {
   "cell_type": "markdown",
   "id": "ccbc60f1",
   "metadata": {},
   "source": [
    "### Use print() to display the following text on separate lines using escape characters: \n",
    "Hello \n",
    "\n",
    "Welcome to Python Programming!"
   ]
  },
  {
   "cell_type": "code",
   "execution_count": 37,
   "id": "b7766cf5",
   "metadata": {},
   "outputs": [
    {
     "name": "stdout",
     "output_type": "stream",
     "text": [
      "Hello\n",
      "Welcome to Python Programming!\n"
     ]
    }
   ],
   "source": [
    "print(\"Hello\\nWelcome to Python Programming!\")"
   ]
  },
  {
   "cell_type": "markdown",
   "id": "08c7efaa",
   "metadata": {},
   "source": [
    "### Create variables for your first name, last name, and age, and then print a sentence like \"My name is John Doe, and I am 25 years old.\" "
   ]
  },
  {
   "cell_type": "code",
   "execution_count": 38,
   "id": "3ca6be4f",
   "metadata": {},
   "outputs": [
    {
     "name": "stdout",
     "output_type": "stream",
     "text": [
      "enter your nameabc\n",
      "enter your age50\n",
      "My name is abc , and I am 50 year old.\n"
     ]
    }
   ],
   "source": [
    "name = input(\"enter your name\")\n",
    "age = input(\"enter your age\")\n",
    "print(\"My name is\",name,\", and I am\",age,\"year old.\")"
   ]
  },
  {
   "cell_type": "code",
   "execution_count": 48,
   "id": "c4b340dd",
   "metadata": {},
   "outputs": [
    {
     "name": "stdout",
     "output_type": "stream",
     "text": [
      "My name is abc, and I am 20 year old.\n"
     ]
    }
   ],
   "source": [
    "print(f\"My name is {name}, and I am {age} year old.\")"
   ]
  },
  {
   "cell_type": "code",
   "execution_count": 46,
   "id": "b7e0c9ca",
   "metadata": {},
   "outputs": [
    {
     "name": "stdout",
     "output_type": "stream",
     "text": [
      "My name is Manisha Maurya and I am 20 years old\n"
     ]
    }
   ],
   "source": [
    "name1=\"Manisha\"\n",
    "name2=\"Maurya\"\n",
    "age=20\n",
    "print(\"My name is\", name1, name2, \"and I am\" ,age,\"years old\" )"
   ]
  },
  {
   "cell_type": "markdown",
   "id": "3e0178dc",
   "metadata": {},
   "source": [
    "###  Write a program that takes two variables, a and b, and prints their values in a single line separated by a comma. "
   ]
  },
  {
   "cell_type": "code",
   "execution_count": 49,
   "id": "84335019",
   "metadata": {},
   "outputs": [
    {
     "name": "stdout",
     "output_type": "stream",
     "text": [
      "20,30\n"
     ]
    }
   ],
   "source": [
    "a=20\n",
    "b=30\n",
    "print(a,b, sep=\",\")"
   ]
  },
  {
   "cell_type": "markdown",
   "id": "e4a91e43",
   "metadata": {},
   "source": [
    "### Write a program that prints the sum, difference, product, and quotient of two numbers, num1 and num2. "
   ]
  },
  {
   "cell_type": "code",
   "execution_count": 50,
   "id": "c87cc008",
   "metadata": {},
   "outputs": [
    {
     "name": "stdout",
     "output_type": "stream",
     "text": [
      "45\n",
      "45\n",
      "90\n",
      "0\n",
      "2025\n",
      "1.0\n"
     ]
    }
   ],
   "source": [
    "num1=int(input())\n",
    "num2=int(input())\n",
    "print(num1+num2)\n",
    "print(num1-num2)\n",
    "print(num1*num2)\n",
    "print(num1/num2)"
   ]
  },
  {
   "cell_type": "markdown",
   "id": "9d9acea6",
   "metadata": {},
   "source": [
    "### Print the square of a number in the format \"The square of 5 is 25\"."
   ]
  },
  {
   "cell_type": "code",
   "execution_count": 51,
   "id": "8c58a4b4",
   "metadata": {},
   "outputs": [
    {
     "name": "stdout",
     "output_type": "stream",
     "text": [
      "Enter any number for square4\n",
      "The square of 4 is 16\n"
     ]
    }
   ],
   "source": [
    "num = int(input(\"Enter any number for square\"))\n",
    "print(f\"The square of {num} is {num *num}\")"
   ]
  },
  {
   "cell_type": "markdown",
   "id": "c28c4760",
   "metadata": {},
   "source": [
    "### Write a program to print the following using escape sequences: \n",
    "\n",
    "Line1 \n",
    "\n",
    "    Line2 \n",
    "           Line3 "
   ]
  },
  {
   "cell_type": "code",
   "execution_count": 52,
   "id": "73ec5fb3",
   "metadata": {},
   "outputs": [
    {
     "name": "stdout",
     "output_type": "stream",
     "text": [
      "Line1\n",
      "\tLine2\n",
      "\t\tLine3\n"
     ]
    }
   ],
   "source": [
    "print(\"Line1\\n\\tLine2\\n\\t\\tLine3\")"
   ]
  },
  {
   "cell_type": "markdown",
   "id": "778095b6",
   "metadata": {},
   "source": [
    "### Print a string that includes both single and double quotes, such as: \n",
    "It's a \"beautiful\" day!"
   ]
  },
  {
   "cell_type": "code",
   "execution_count": 56,
   "id": "b380907b",
   "metadata": {},
   "outputs": [
    {
     "name": "stdout",
     "output_type": "stream",
     "text": [
      "It's a \"beautiful\" day!\n"
     ]
    }
   ],
   "source": [
    "print('It\\'s a \"beautiful\" day!')"
   ]
  },
  {
   "cell_type": "markdown",
   "id": "c4d44190",
   "metadata": {},
   "source": [
    "### Use an f-string to print \"Hello, [name]!\" where [name] is a variable holding your name."
   ]
  },
  {
   "cell_type": "code",
   "execution_count": 57,
   "id": "8ffec284",
   "metadata": {},
   "outputs": [
    {
     "name": "stdout",
     "output_type": "stream",
     "text": [
      "Hello, Manisha!\n"
     ]
    }
   ],
   "source": [
    "name=\"Manisha\"\n",
    "print(f\"Hello, {name}!\")"
   ]
  },
  {
   "cell_type": "markdown",
   "id": "5cd2b76e",
   "metadata": {},
   "source": [
    "### Given two variables, x and y, print them in the format \"x = [x_value], y = [y_value]\" using f-strings. "
   ]
  },
  {
   "cell_type": "code",
   "execution_count": 64,
   "id": "b301d89f",
   "metadata": {},
   "outputs": [
    {
     "name": "stdout",
     "output_type": "stream",
     "text": [
      "x = [12] , y = [54]\n"
     ]
    }
   ],
   "source": [
    "x = 12\n",
    "y = 54\n",
    "print(f\"x = [{x}] , y = [{y}]\")"
   ]
  },
  {
   "cell_type": "markdown",
   "id": "5e0b19b2",
   "metadata": {},
   "source": [
    "### Write a program that prints numbers from 1 to 5 in a single line, separated by a comma. "
   ]
  },
  {
   "cell_type": "code",
   "execution_count": 59,
   "id": "3b7b9e9e",
   "metadata": {},
   "outputs": [
    {
     "name": "stdout",
     "output_type": "stream",
     "text": [
      "x = 10, y = 3\n",
      "1,2,3,4,5\n"
     ]
    }
   ],
   "source": [
    "x = 10\n",
    "y = 3\n",
    "print(f\"x = {x}, y = {y}\")\n",
    "print(*range(1,6),sep=',')"
   ]
  },
  {
   "cell_type": "markdown",
   "id": "fa5f6edb",
   "metadata": {},
   "source": [
    "### Create a program that prints the following formatted text: "
   ]
  },
  {
   "cell_type": "raw",
   "id": "99c5cd78",
   "metadata": {},
   "source": [
    "\n",
    "Name     Age    City \n",
    "\n",
    "Alice    25     New York \n",
    "\n",
    "Bob      30     Los Angeles \n",
    "\n",
    "Charlie  35     Chicago"
   ]
  },
  {
   "cell_type": "code",
   "execution_count": 70,
   "id": "feb81051",
   "metadata": {},
   "outputs": [
    {
     "name": "stdout",
     "output_type": "stream",
     "text": [
      "name     Age      City\n",
      "name     Age      City\n"
     ]
    }
   ],
   "source": [
    "print(f\"{'name':<8} {'Age':<8} {'City'}\")\n"
   ]
  },
  {
   "cell_type": "code",
   "execution_count": 71,
   "id": "efbb5d23",
   "metadata": {},
   "outputs": [
    {
     "name": "stdout",
     "output_type": "stream",
     "text": [
      "name     Age      City\n",
      "Alice   25      New york\n"
     ]
    }
   ],
   "source": [
    "print(f\"{'name':<8} {'Age':<8} {'City'}\\n{'Alice':<8}{'25':<8}{'New york':<8}\")"
   ]
  },
  {
   "cell_type": "code",
   "execution_count": 72,
   "id": "8957abc5",
   "metadata": {},
   "outputs": [
    {
     "name": "stdout",
     "output_type": "stream",
     "text": [
      "name   Age    City\n",
      "Alice  25     New York\n",
      "Bob    30     Los Angeles\n",
      "Charlie 35     Chicago\n"
     ]
    }
   ],
   "source": [
    "print(f\"{'name':<6} {'Age':<6} {'City'}\")\n",
    "print(f\"{'Alice':<6} {'25':<6} {'New York'}\")\n",
    "print(f\"{'Bob':<6} {'30':<6} {'Los Angeles'}\")\n",
    "print(f\"{'Charlie':<6} {'35':<6} {'Chicago'}\")"
   ]
  },
  {
   "cell_type": "markdown",
   "id": "da48becb",
   "metadata": {},
   "source": [
    "### Print a number with 2 decimal places, for example, \"The price is 45.67 dollars.\""
   ]
  },
  {
   "cell_type": "code",
   "execution_count": 80,
   "id": "85707dd4",
   "metadata": {},
   "outputs": [
    {
     "name": "stdout",
     "output_type": "stream",
     "text": [
      "The price is 45.68 dollars.\n",
      "The price is 45.6789 dollars.\n"
     ]
    }
   ],
   "source": [
    "price = 45.6789\n",
    "print(f\"The price is {price:.2f} dollars.\")\n",
    "price = 45.6789\n",
    "print(f\"The price is {price} dollars.\")"
   ]
  },
  {
   "cell_type": "raw",
   "id": "c1eac803",
   "metadata": {},
   "source": [
    "Create a program that prints the multiplication table of a given number up to 10. For example, if the number is 3, the output should be: \n",
    "3 x 1 = 3 \n",
    "3 x 2 = 6 \n",
    "... \n",
    "3 x 10 = 30 "
   ]
  },
  {
   "cell_type": "code",
   "execution_count": 73,
   "id": "6ce8717b",
   "metadata": {},
   "outputs": [
    {
     "name": "stdout",
     "output_type": "stream",
     "text": [
      "3 x 1 = 3\n",
      "3 x 2 = 6\n",
      "3 x 3 = 9\n",
      "3 x 4 = 12\n",
      "3 x 5 = 15\n",
      "3 x 6 = 18\n",
      "3 x 7 = 21\n",
      "3 x 8 = 24\n",
      "3 x 9 = 27\n",
      "3 x 10 = 30\n"
     ]
    }
   ],
   "source": [
    "number = 3\n",
    "for i in range(1, 11):                                         # Challenge Questions\n",
    "    print(f\"{number} x {i} = {number * i}\")"
   ]
  },
  {
   "cell_type": "code",
   "execution_count": 74,
   "id": "b51c692a",
   "metadata": {},
   "outputs": [
    {
     "name": "stdout",
     "output_type": "stream",
     "text": [
      "84\n",
      "3 x 1 = 84\n",
      "3 x 2 = 168\n",
      "3 x 3 = 252\n",
      "3 x 4 = 336\n",
      "3 x 5 = 420\n",
      "3 x 6 = 504\n",
      "3 x 7 = 588\n",
      "3 x 8 = 672\n",
      "3 x 9 = 756\n",
      "3 x 10 = 840\n"
     ]
    }
   ],
   "source": [
    "a=int(input())\n",
    "for i in range(1, 11):\n",
    "     print(\"3\",\"x\",i,\"=\",a*i)"
   ]
  },
  {
   "cell_type": "code",
   "execution_count": null,
   "id": "ce003d69",
   "metadata": {},
   "outputs": [],
   "source": []
  },
  {
   "cell_type": "code",
   "execution_count": null,
   "id": "4c9e93c1",
   "metadata": {},
   "outputs": [],
   "source": []
  }
 ],
 "metadata": {
  "kernelspec": {
   "display_name": "Python 3 (ipykernel)",
   "language": "python",
   "name": "python3"
  },
  "language_info": {
   "codemirror_mode": {
    "name": "ipython",
    "version": 3
   },
   "file_extension": ".py",
   "mimetype": "text/x-python",
   "name": "python",
   "nbconvert_exporter": "python",
   "pygments_lexer": "ipython3",
   "version": "3.9.13"
  }
 },
 "nbformat": 4,
 "nbformat_minor": 5
}
