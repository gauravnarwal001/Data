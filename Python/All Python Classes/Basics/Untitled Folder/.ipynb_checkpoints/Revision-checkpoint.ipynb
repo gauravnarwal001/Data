{
 "cells": [
  {
   "cell_type": "code",
   "execution_count": 1,
   "id": "6fbfb233",
   "metadata": {},
   "outputs": [],
   "source": [
    "a = 1523"
   ]
  },
  {
   "cell_type": "code",
   "execution_count": 2,
   "id": "d62d9c73",
   "metadata": {},
   "outputs": [
    {
     "data": {
      "text/plain": [
       "1523"
      ]
     },
     "execution_count": 2,
     "metadata": {},
     "output_type": "execute_result"
    }
   ],
   "source": [
    "a"
   ]
  },
  {
   "cell_type": "code",
   "execution_count": 3,
   "id": "3fa2f89a",
   "metadata": {},
   "outputs": [
    {
     "data": {
      "text/plain": [
       "int"
      ]
     },
     "execution_count": 3,
     "metadata": {},
     "output_type": "execute_result"
    }
   ],
   "source": [
    "type(a)"
   ]
  },
  {
   "cell_type": "code",
   "execution_count": 4,
   "id": "38889ecb",
   "metadata": {},
   "outputs": [
    {
     "name": "stdout",
     "output_type": "stream",
     "text": [
      "asdf\n"
     ]
    }
   ],
   "source": [
    "print('asdf')"
   ]
  },
  {
   "cell_type": "code",
   "execution_count": 5,
   "id": "169c4ea7",
   "metadata": {},
   "outputs": [
    {
     "name": "stdout",
     "output_type": "stream",
     "text": [
      "1254\n"
     ]
    }
   ],
   "source": [
    "print(1254)"
   ]
  },
  {
   "cell_type": "code",
   "execution_count": 6,
   "id": "47cec23a",
   "metadata": {},
   "outputs": [
    {
     "data": {
      "text/plain": [
       "'87645'"
      ]
     },
     "execution_count": 6,
     "metadata": {},
     "output_type": "execute_result"
    }
   ],
   "source": [
    "\"87645\""
   ]
  },
  {
   "cell_type": "code",
   "execution_count": 7,
   "id": "a80a3f7e",
   "metadata": {},
   "outputs": [
    {
     "ename": "SyntaxError",
     "evalue": "invalid syntax (142249795.py, line 1)",
     "output_type": "error",
     "traceback": [
      "\u001b[1;36m  File \u001b[1;32m\"C:\\Users\\gaura\\AppData\\Local\\Temp\\ipykernel_13432\\142249795.py\"\u001b[1;36m, line \u001b[1;32m1\u001b[0m\n\u001b[1;33m    1a = 123\u001b[0m\n\u001b[1;37m     ^\u001b[0m\n\u001b[1;31mSyntaxError\u001b[0m\u001b[1;31m:\u001b[0m invalid syntax\n"
     ]
    }
   ],
   "source": [
    "1a = 123"
   ]
  },
  {
   "cell_type": "code",
   "execution_count": 8,
   "id": "196e9d23",
   "metadata": {},
   "outputs": [],
   "source": [
    "_a = 54"
   ]
  },
  {
   "cell_type": "code",
   "execution_count": 9,
   "id": "77584d2c",
   "metadata": {},
   "outputs": [
    {
     "ename": "SyntaxError",
     "evalue": "invalid syntax (1450566686.py, line 1)",
     "output_type": "error",
     "traceback": [
      "\u001b[1;36m  File \u001b[1;32m\"C:\\Users\\gaura\\AppData\\Local\\Temp\\ipykernel_13432\\1450566686.py\"\u001b[1;36m, line \u001b[1;32m1\u001b[0m\n\u001b[1;33m    @ = 41\u001b[0m\n\u001b[1;37m      ^\u001b[0m\n\u001b[1;31mSyntaxError\u001b[0m\u001b[1;31m:\u001b[0m invalid syntax\n"
     ]
    }
   ],
   "source": [
    "@ = 41"
   ]
  },
  {
   "cell_type": "code",
   "execution_count": 10,
   "id": "053d32b8",
   "metadata": {},
   "outputs": [],
   "source": [
    "name = \"python\"\n",
    "age = 5"
   ]
  },
  {
   "cell_type": "code",
   "execution_count": 14,
   "id": "9761dcc6",
   "metadata": {},
   "outputs": [
    {
     "name": "stdout",
     "output_type": "stream",
     "text": [
      "My name is python and my age is 5\n"
     ]
    }
   ],
   "source": [
    "print(\"My name is\",name,\"and my age is\",age)"
   ]
  },
  {
   "cell_type": "code",
   "execution_count": 16,
   "id": "dfbf8142",
   "metadata": {},
   "outputs": [
    {
     "name": "stdout",
     "output_type": "stream",
     "text": [
      "my name is python and my age is 5\n"
     ]
    }
   ],
   "source": [
    "print(f\"my name is {name} and my age is {age}\")"
   ]
  },
  {
   "cell_type": "code",
   "execution_count": 18,
   "id": "cb712105",
   "metadata": {},
   "outputs": [
    {
     "ename": "TypeError",
     "evalue": "can only concatenate str (not \"int\") to str",
     "output_type": "error",
     "traceback": [
      "\u001b[1;31m---------------------------------------------------------------------------\u001b[0m",
      "\u001b[1;31mTypeError\u001b[0m                                 Traceback (most recent call last)",
      "\u001b[1;32m~\\AppData\\Local\\Temp\\ipykernel_13432\\1722999566.py\u001b[0m in \u001b[0;36m<module>\u001b[1;34m\u001b[0m\n\u001b[1;32m----> 1\u001b[1;33m \u001b[0mname\u001b[0m \u001b[1;33m+\u001b[0m \u001b[0mage\u001b[0m\u001b[1;33m\u001b[0m\u001b[1;33m\u001b[0m\u001b[0m\n\u001b[0m",
      "\u001b[1;31mTypeError\u001b[0m: can only concatenate str (not \"int\") to str"
     ]
    }
   ],
   "source": [
    "name + age"
   ]
  },
  {
   "cell_type": "code",
   "execution_count": 19,
   "id": "2e95a52a",
   "metadata": {},
   "outputs": [
    {
     "data": {
      "text/plain": [
       "'5'"
      ]
     },
     "execution_count": 19,
     "metadata": {},
     "output_type": "execute_result"
    }
   ],
   "source": [
    "str(age)"
   ]
  },
  {
   "cell_type": "code",
   "execution_count": 20,
   "id": "10f63b1b",
   "metadata": {},
   "outputs": [
    {
     "data": {
      "text/plain": [
       "'python5'"
      ]
     },
     "execution_count": 20,
     "metadata": {},
     "output_type": "execute_result"
    }
   ],
   "source": [
    "name + str(age)"
   ]
  },
  {
   "cell_type": "code",
   "execution_count": 26,
   "id": "75d43f17",
   "metadata": {},
   "outputs": [
    {
     "name": "stdout",
     "output_type": "stream",
     "text": [
      "Enter your namegaurav\n"
     ]
    }
   ],
   "source": [
    "a = input(\"Enter your name\")"
   ]
  },
  {
   "cell_type": "code",
   "execution_count": 27,
   "id": "ae258bc5",
   "metadata": {},
   "outputs": [
    {
     "data": {
      "text/plain": [
       "'gaurav'"
      ]
     },
     "execution_count": 27,
     "metadata": {},
     "output_type": "execute_result"
    }
   ],
   "source": [
    "a"
   ]
  },
  {
   "cell_type": "code",
   "execution_count": 30,
   "id": "a259663d",
   "metadata": {},
   "outputs": [
    {
     "name": "stdout",
     "output_type": "stream",
     "text": [
      "545\n"
     ]
    }
   ],
   "source": [
    "n = int(input())"
   ]
  },
  {
   "cell_type": "code",
   "execution_count": 31,
   "id": "1a29a09a",
   "metadata": {},
   "outputs": [
    {
     "data": {
      "text/plain": [
       "545"
      ]
     },
     "execution_count": 31,
     "metadata": {},
     "output_type": "execute_result"
    }
   ],
   "source": [
    "n"
   ]
  },
  {
   "cell_type": "code",
   "execution_count": null,
   "id": "2b10ef1c",
   "metadata": {},
   "outputs": [],
   "source": []
  },
  {
   "cell_type": "code",
   "execution_count": 32,
   "id": "0a3778ae",
   "metadata": {},
   "outputs": [],
   "source": [
    "a = \"This is our revision class\""
   ]
  },
  {
   "cell_type": "code",
   "execution_count": 44,
   "id": "a100fb82",
   "metadata": {
    "scrolled": true
   },
   "outputs": [
    {
     "data": {
      "text/plain": [
       "'ssalc'"
      ]
     },
     "execution_count": 44,
     "metadata": {},
     "output_type": "execute_result"
    }
   ],
   "source": [
    "a[-1:-6:-1]"
   ]
  },
  {
   "cell_type": "code",
   "execution_count": 42,
   "id": "e28bd203",
   "metadata": {},
   "outputs": [
    {
     "data": {
      "text/plain": [
       "'class'"
      ]
     },
     "execution_count": 42,
     "metadata": {},
     "output_type": "execute_result"
    }
   ],
   "source": [
    "a[-5:]"
   ]
  },
  {
   "cell_type": "code",
   "execution_count": 39,
   "id": "13a53e0f",
   "metadata": {},
   "outputs": [
    {
     "data": {
      "text/plain": [
       "'class'"
      ]
     },
     "execution_count": 39,
     "metadata": {},
     "output_type": "execute_result"
    }
   ],
   "source": [
    "a[21:26]"
   ]
  },
  {
   "cell_type": "code",
   "execution_count": null,
   "id": "a21104a9",
   "metadata": {},
   "outputs": [],
   "source": []
  },
  {
   "cell_type": "code",
   "execution_count": null,
   "id": "b52db7ca",
   "metadata": {},
   "outputs": [],
   "source": []
  },
  {
   "cell_type": "code",
   "execution_count": 33,
   "id": "68fe582c",
   "metadata": {},
   "outputs": [
    {
     "data": {
      "text/plain": [
       "'This is our re'"
      ]
     },
     "execution_count": 33,
     "metadata": {},
     "output_type": "execute_result"
    }
   ],
   "source": [
    "a[0:14]"
   ]
  },
  {
   "cell_type": "code",
   "execution_count": 37,
   "id": "20a63eae",
   "metadata": {},
   "outputs": [
    {
     "data": {
      "text/plain": [
       "'evision class'"
      ]
     },
     "execution_count": 37,
     "metadata": {},
     "output_type": "execute_result"
    }
   ],
   "source": [
    "a[13]"
   ]
  },
  {
   "cell_type": "code",
   "execution_count": null,
   "id": "e1911578",
   "metadata": {},
   "outputs": [],
   "source": []
  },
  {
   "cell_type": "raw",
   "id": "7d4d597a",
   "metadata": {},
   "source": [
    "list [ ] - mutable, ordered, store different datatype, allow duplicates\n",
    "tuple () - immutable, ordered store different datatype, allow duplicates\n",
    "sets {} - mutable, unordered, store different datatypes, duplicate values not allowed\n",
    "dict {key : value} - key value pair, mutable, ordered, duplicates key is not allowed but values are allowed"
   ]
  },
  {
   "cell_type": "code",
   "execution_count": null,
   "id": "f1cee12c",
   "metadata": {},
   "outputs": [],
   "source": []
  },
  {
   "cell_type": "code",
   "execution_count": 46,
   "id": "84a0e40a",
   "metadata": {},
   "outputs": [],
   "source": [
    "l = [1,2,3,54,5,54,85]"
   ]
  },
  {
   "cell_type": "code",
   "execution_count": 47,
   "id": "212743dc",
   "metadata": {},
   "outputs": [],
   "source": [
    "l.append(\"Esha\")"
   ]
  },
  {
   "cell_type": "code",
   "execution_count": 48,
   "id": "a808e4c0",
   "metadata": {},
   "outputs": [
    {
     "data": {
      "text/plain": [
       "[1, 2, 3, 54, 5, 54, 85, 'Esha']"
      ]
     },
     "execution_count": 48,
     "metadata": {},
     "output_type": "execute_result"
    }
   ],
   "source": [
    "l"
   ]
  },
  {
   "cell_type": "code",
   "execution_count": 49,
   "id": "2397f646",
   "metadata": {},
   "outputs": [],
   "source": [
    "l.insert(0,\"bhumika\")"
   ]
  },
  {
   "cell_type": "code",
   "execution_count": 50,
   "id": "dc8969b5",
   "metadata": {},
   "outputs": [
    {
     "data": {
      "text/plain": [
       "['bhumika', 1, 2, 3, 54, 5, 54, 85, 'Esha']"
      ]
     },
     "execution_count": 50,
     "metadata": {},
     "output_type": "execute_result"
    }
   ],
   "source": [
    "l"
   ]
  },
  {
   "cell_type": "code",
   "execution_count": 51,
   "id": "78e0dd78",
   "metadata": {},
   "outputs": [],
   "source": [
    "l.extend([87,4,87,54])"
   ]
  },
  {
   "cell_type": "code",
   "execution_count": 52,
   "id": "1591e4fb",
   "metadata": {},
   "outputs": [
    {
     "data": {
      "text/plain": [
       "['bhumika', 1, 2, 3, 54, 5, 54, 85, 'Esha', 87, 4, 87, 54]"
      ]
     },
     "execution_count": 52,
     "metadata": {},
     "output_type": "execute_result"
    }
   ],
   "source": [
    "l"
   ]
  },
  {
   "cell_type": "code",
   "execution_count": 53,
   "id": "2cf01263",
   "metadata": {},
   "outputs": [
    {
     "data": {
      "text/plain": [
       "54"
      ]
     },
     "execution_count": 53,
     "metadata": {},
     "output_type": "execute_result"
    }
   ],
   "source": [
    "l.pop()"
   ]
  },
  {
   "cell_type": "code",
   "execution_count": 54,
   "id": "8b0a63a0",
   "metadata": {},
   "outputs": [
    {
     "data": {
      "text/plain": [
       "['bhumika', 1, 2, 3, 54, 5, 54, 85, 'Esha', 87, 4, 87]"
      ]
     },
     "execution_count": 54,
     "metadata": {},
     "output_type": "execute_result"
    }
   ],
   "source": [
    "l"
   ]
  },
  {
   "cell_type": "code",
   "execution_count": 55,
   "id": "9ba0a0af",
   "metadata": {},
   "outputs": [
    {
     "data": {
      "text/plain": [
       "54"
      ]
     },
     "execution_count": 55,
     "metadata": {},
     "output_type": "execute_result"
    }
   ],
   "source": [
    "l.pop(4)"
   ]
  },
  {
   "cell_type": "code",
   "execution_count": 56,
   "id": "be9b50d5",
   "metadata": {},
   "outputs": [
    {
     "data": {
      "text/plain": [
       "['bhumika', 1, 2, 3, 5, 54, 85, 'Esha', 87, 4, 87]"
      ]
     },
     "execution_count": 56,
     "metadata": {},
     "output_type": "execute_result"
    }
   ],
   "source": [
    "l"
   ]
  },
  {
   "cell_type": "code",
   "execution_count": 57,
   "id": "ee2b9892",
   "metadata": {},
   "outputs": [],
   "source": [
    "l.clear()"
   ]
  },
  {
   "cell_type": "code",
   "execution_count": 58,
   "id": "e38fe1ef",
   "metadata": {},
   "outputs": [
    {
     "data": {
      "text/plain": [
       "[]"
      ]
     },
     "execution_count": 58,
     "metadata": {},
     "output_type": "execute_result"
    }
   ],
   "source": [
    "l"
   ]
  },
  {
   "cell_type": "code",
   "execution_count": 59,
   "id": "abe430d0",
   "metadata": {},
   "outputs": [],
   "source": [
    "del l"
   ]
  },
  {
   "cell_type": "code",
   "execution_count": 60,
   "id": "692a3089",
   "metadata": {},
   "outputs": [
    {
     "ename": "NameError",
     "evalue": "name 'l' is not defined",
     "output_type": "error",
     "traceback": [
      "\u001b[1;31m---------------------------------------------------------------------------\u001b[0m",
      "\u001b[1;31mNameError\u001b[0m                                 Traceback (most recent call last)",
      "\u001b[1;32m~\\AppData\\Local\\Temp\\ipykernel_13432\\3723490112.py\u001b[0m in \u001b[0;36m<module>\u001b[1;34m\u001b[0m\n\u001b[1;32m----> 1\u001b[1;33m \u001b[0ml\u001b[0m\u001b[1;33m\u001b[0m\u001b[1;33m\u001b[0m\u001b[0m\n\u001b[0m",
      "\u001b[1;31mNameError\u001b[0m: name 'l' is not defined"
     ]
    }
   ],
   "source": [
    "l"
   ]
  },
  {
   "cell_type": "code",
   "execution_count": null,
   "id": "687845b3",
   "metadata": {},
   "outputs": [],
   "source": []
  },
  {
   "cell_type": "code",
   "execution_count": 61,
   "id": "1c264fc2",
   "metadata": {},
   "outputs": [],
   "source": [
    "t = (1,54,5,2,5,54,'asdf')"
   ]
  },
  {
   "cell_type": "code",
   "execution_count": 62,
   "id": "ae0d2563",
   "metadata": {},
   "outputs": [
    {
     "data": {
      "text/plain": [
       "(1, 54, 5, 2, 5, 54, 'asdf')"
      ]
     },
     "execution_count": 62,
     "metadata": {},
     "output_type": "execute_result"
    }
   ],
   "source": [
    "t"
   ]
  },
  {
   "cell_type": "code",
   "execution_count": 63,
   "id": "b9ef7b89",
   "metadata": {},
   "outputs": [],
   "source": [
    "s = {52,11,54,4,44,74,5}"
   ]
  },
  {
   "cell_type": "code",
   "execution_count": null,
   "id": "a5cc002a",
   "metadata": {},
   "outputs": [],
   "source": []
  },
  {
   "cell_type": "code",
   "execution_count": null,
   "id": "6d0ad5a2",
   "metadata": {},
   "outputs": [],
   "source": []
  },
  {
   "cell_type": "code",
   "execution_count": null,
   "id": "59643992",
   "metadata": {},
   "outputs": [],
   "source": []
  },
  {
   "cell_type": "code",
   "execution_count": null,
   "id": "f360d59f",
   "metadata": {},
   "outputs": [],
   "source": []
  }
 ],
 "metadata": {
  "kernelspec": {
   "display_name": "Python 3 (ipykernel)",
   "language": "python",
   "name": "python3"
  },
  "language_info": {
   "codemirror_mode": {
    "name": "ipython",
    "version": 3
   },
   "file_extension": ".py",
   "mimetype": "text/x-python",
   "name": "python",
   "nbconvert_exporter": "python",
   "pygments_lexer": "ipython3",
   "version": "3.9.13"
  }
 },
 "nbformat": 4,
 "nbformat_minor": 5
}
