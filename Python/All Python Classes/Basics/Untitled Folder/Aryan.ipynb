{
 "cells": [
  {
   "cell_type": "code",
   "execution_count": 3,
   "id": "9f89b19d",
   "metadata": {},
   "outputs": [
    {
     "name": "stdout",
     "output_type": "stream",
     "text": [
      "Enter a string: gaurav\n"
     ]
    },
    {
     "data": {
      "text/plain": [
       "'varuag'"
      ]
     },
     "execution_count": 3,
     "metadata": {},
     "output_type": "execute_result"
    }
   ],
   "source": [
    "def reverseString():\n",
    "    n = input(\"Enter a string: \")\n",
    "    n2 = \"\"\n",
    "    length = 0\n",
    "    for i in n:\n",
    "        length+=1\n",
    "    length+=1\n",
    "    for i in range(-1,-1*length,-1):\n",
    "        n2+=n[i]\n",
    "    return n2\n",
    "reverseString()"
   ]
  },
  {
   "cell_type": "code",
   "execution_count": null,
   "id": "636954cb",
   "metadata": {},
   "outputs": [],
   "source": []
  },
  {
   "cell_type": "code",
   "execution_count": null,
   "id": "4b4c4873",
   "metadata": {},
   "outputs": [],
   "source": []
  },
  {
   "cell_type": "code",
   "execution_count": null,
   "id": "332a68cd",
   "metadata": {},
   "outputs": [],
   "source": []
  },
  {
   "cell_type": "code",
   "execution_count": null,
   "id": "15461783",
   "metadata": {},
   "outputs": [],
   "source": []
  },
  {
   "cell_type": "raw",
   "id": "5c4ccce6",
   "metadata": {},
   "source": [
    "DataTypes ----> String, integer, float"
   ]
  },
  {
   "cell_type": "raw",
   "id": "84d8f89c",
   "metadata": {},
   "source": [
    "'This is my python class'        ------->  \"Hello aryan\""
   ]
  },
  {
   "cell_type": "code",
   "execution_count": 2,
   "id": "b14f8f8b",
   "metadata": {},
   "outputs": [],
   "source": [
    "name = 'aryan'"
   ]
  },
  {
   "cell_type": "code",
   "execution_count": 3,
   "id": "97010935",
   "metadata": {},
   "outputs": [
    {
     "data": {
      "text/plain": [
       "'aryan'"
      ]
     },
     "execution_count": 3,
     "metadata": {},
     "output_type": "execute_result"
    }
   ],
   "source": [
    "name"
   ]
  },
  {
   "cell_type": "code",
   "execution_count": 4,
   "id": "dd290a1c",
   "metadata": {},
   "outputs": [
    {
     "data": {
      "text/plain": [
       "str"
      ]
     },
     "execution_count": 4,
     "metadata": {},
     "output_type": "execute_result"
    }
   ],
   "source": [
    "type(name)"
   ]
  },
  {
   "cell_type": "code",
   "execution_count": 5,
   "id": "4b55a671",
   "metadata": {},
   "outputs": [],
   "source": [
    "# Case - Sensitive"
   ]
  },
  {
   "cell_type": "code",
   "execution_count": 6,
   "id": "e2a0d63d",
   "metadata": {},
   "outputs": [],
   "source": [
    "a = 'gaurav'"
   ]
  },
  {
   "cell_type": "code",
   "execution_count": 7,
   "id": "1a417f51",
   "metadata": {},
   "outputs": [],
   "source": [
    "A = 'Aryan'"
   ]
  },
  {
   "cell_type": "code",
   "execution_count": 8,
   "id": "9e343828",
   "metadata": {},
   "outputs": [
    {
     "data": {
      "text/plain": [
       "'gaurav'"
      ]
     },
     "execution_count": 8,
     "metadata": {},
     "output_type": "execute_result"
    }
   ],
   "source": [
    "a"
   ]
  },
  {
   "cell_type": "code",
   "execution_count": 9,
   "id": "3ddacd97",
   "metadata": {},
   "outputs": [
    {
     "data": {
      "text/plain": [
       "'Aryan'"
      ]
     },
     "execution_count": 9,
     "metadata": {},
     "output_type": "execute_result"
    }
   ],
   "source": [
    "A"
   ]
  },
  {
   "cell_type": "markdown",
   "id": "13ed991d",
   "metadata": {},
   "source": [
    "##### A variable name must start with a letter or the underscore character\n",
    "##### A variable name cannot start with a number\n",
    "##### A variable name can only contain alpha-numeric characters and underscores (A-z, 0-9, and _ )\n",
    "##### Variable names are case-sensitive (age, Age and AGE are three different variables)\n",
    "##### A variable name cannot be any of the Python keywords."
   ]
  },
  {
   "cell_type": "code",
   "execution_count": 10,
   "id": "b51c168e",
   "metadata": {},
   "outputs": [
    {
     "ename": "SyntaxError",
     "evalue": "invalid syntax (163401212.py, line 1)",
     "output_type": "error",
     "traceback": [
      "\u001b[1;36m  File \u001b[1;32m\"C:\\Users\\gaura\\AppData\\Local\\Temp\\ipykernel_680\\163401212.py\"\u001b[1;36m, line \u001b[1;32m1\u001b[0m\n\u001b[1;33m    54a = 'hello'\u001b[0m\n\u001b[1;37m      ^\u001b[0m\n\u001b[1;31mSyntaxError\u001b[0m\u001b[1;31m:\u001b[0m invalid syntax\n"
     ]
    }
   ],
   "source": [
    "54a = 'hello'"
   ]
  },
  {
   "cell_type": "code",
   "execution_count": 12,
   "id": "db4e83f9",
   "metadata": {},
   "outputs": [],
   "source": [
    "abc4asdf = 'hello'"
   ]
  },
  {
   "cell_type": "code",
   "execution_count": 13,
   "id": "f855f642",
   "metadata": {},
   "outputs": [],
   "source": [
    "this_is_my_variable = 10"
   ]
  },
  {
   "cell_type": "code",
   "execution_count": 14,
   "id": "3f220831",
   "metadata": {},
   "outputs": [],
   "source": [
    "this_var = 52"
   ]
  },
  {
   "cell_type": "code",
   "execution_count": null,
   "id": "540e89d8",
   "metadata": {},
   "outputs": [],
   "source": []
  },
  {
   "cell_type": "code",
   "execution_count": null,
   "id": "a079599d",
   "metadata": {},
   "outputs": [],
   "source": []
  },
  {
   "cell_type": "code",
   "execution_count": 15,
   "id": "1fef554a",
   "metadata": {},
   "outputs": [],
   "source": [
    "name = \"Aryan\"\n",
    "age = 12"
   ]
  },
  {
   "cell_type": "code",
   "execution_count": 16,
   "id": "bd8cf144",
   "metadata": {},
   "outputs": [
    {
     "name": "stdout",
     "output_type": "stream",
     "text": [
      "My name is Aryan and I am 12 year old\n"
     ]
    }
   ],
   "source": [
    "print('My name is',name,'and I am',age,'year old')"
   ]
  },
  {
   "cell_type": "code",
   "execution_count": 20,
   "id": "b8bb1174",
   "metadata": {},
   "outputs": [
    {
     "name": "stdout",
     "output_type": "stream",
     "text": [
      "My name is Aryan and I am 12 year old\n"
     ]
    }
   ],
   "source": [
    "print(f'My name is {name} and I am {age} year old')"
   ]
  },
  {
   "cell_type": "markdown",
   "id": "1f38391c",
   "metadata": {},
   "source": [
    "#### Boolean  ----> True, False"
   ]
  },
  {
   "cell_type": "code",
   "execution_count": 24,
   "id": "6343a6dc",
   "metadata": {},
   "outputs": [],
   "source": [
    "a = True    # 1\n",
    "b = False   # 0"
   ]
  },
  {
   "cell_type": "markdown",
   "id": "c23da930",
   "metadata": {},
   "source": [
    "# input"
   ]
  },
  {
   "cell_type": "code",
   "execution_count": 27,
   "id": "58cd0cec",
   "metadata": {},
   "outputs": [
    {
     "name": "stdout",
     "output_type": "stream",
     "text": [
      "enter your age12\n"
     ]
    }
   ],
   "source": [
    "num = input('enter your age')"
   ]
  },
  {
   "cell_type": "code",
   "execution_count": 28,
   "id": "04f2f0e0",
   "metadata": {},
   "outputs": [
    {
     "data": {
      "text/plain": [
       "'12'"
      ]
     },
     "execution_count": 28,
     "metadata": {},
     "output_type": "execute_result"
    }
   ],
   "source": [
    "num"
   ]
  },
  {
   "cell_type": "code",
   "execution_count": null,
   "id": "05a63ae4",
   "metadata": {},
   "outputs": [],
   "source": [
    "\n"
   ]
  },
  {
   "cell_type": "code",
   "execution_count": null,
   "id": "adfbd6bc",
   "metadata": {},
   "outputs": [],
   "source": []
  },
  {
   "cell_type": "code",
   "execution_count": null,
   "id": "f1d10842",
   "metadata": {},
   "outputs": [],
   "source": []
  },
  {
   "cell_type": "code",
   "execution_count": 73,
   "id": "c0011bab",
   "metadata": {},
   "outputs": [
    {
     "name": "stdout",
     "output_type": "stream",
     "text": [
      "1\n",
      "4\n"
     ]
    }
   ],
   "source": [
    "import random\n",
    "game2 = random.randint(1,3)\n",
    "print(game2)\n",
    "number = random.randint(1,10)\n",
    "print(number)"
   ]
  },
  {
   "cell_type": "code",
   "execution_count": 36,
   "id": "0044d812",
   "metadata": {},
   "outputs": [
    {
     "data": {
      "text/plain": [
       "1"
      ]
     },
     "execution_count": 36,
     "metadata": {},
     "output_type": "execute_result"
    }
   ],
   "source": [
    "game2"
   ]
  },
  {
   "cell_type": "code",
   "execution_count": null,
   "id": "d7a0de49",
   "metadata": {},
   "outputs": [],
   "source": []
  },
  {
   "cell_type": "code",
   "execution_count": null,
   "id": "c7f91689",
   "metadata": {},
   "outputs": [],
   "source": []
  }
 ],
 "metadata": {
  "kernelspec": {
   "display_name": "Python 3 (ipykernel)",
   "language": "python",
   "name": "python3"
  },
  "language_info": {
   "codemirror_mode": {
    "name": "ipython",
    "version": 3
   },
   "file_extension": ".py",
   "mimetype": "text/x-python",
   "name": "python",
   "nbconvert_exporter": "python",
   "pygments_lexer": "ipython3",
   "version": "3.9.13"
  }
 },
 "nbformat": 4,
 "nbformat_minor": 5
}
