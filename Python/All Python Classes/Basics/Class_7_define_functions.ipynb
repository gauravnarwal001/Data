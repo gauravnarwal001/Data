{
 "cells": [
  {
   "cell_type": "raw",
   "id": "9f335ca6",
   "metadata": {},
   "source": [
    "print\n",
    "type\n",
    "len\n",
    "str\n",
    "int\n",
    "float\n",
    "list"
   ]
  },
  {
   "cell_type": "code",
   "execution_count": 1,
   "id": "09beb238",
   "metadata": {},
   "outputs": [
    {
     "name": "stdout",
     "output_type": "stream",
     "text": [
      "asdf\n"
     ]
    }
   ],
   "source": [
    "print('asdf')"
   ]
  },
  {
   "cell_type": "code",
   "execution_count": 2,
   "id": "16fbf9f3",
   "metadata": {},
   "outputs": [
    {
     "data": {
      "text/plain": [
       "int"
      ]
     },
     "execution_count": 2,
     "metadata": {},
     "output_type": "execute_result"
    }
   ],
   "source": [
    "type(57421)"
   ]
  },
  {
   "cell_type": "code",
   "execution_count": 3,
   "id": "17068d3c",
   "metadata": {},
   "outputs": [
    {
     "name": "stdout",
     "output_type": "stream",
     "text": [
      "741asdf\n"
     ]
    },
    {
     "data": {
      "text/plain": [
       "'741asdf'"
      ]
     },
     "execution_count": 3,
     "metadata": {},
     "output_type": "execute_result"
    }
   ],
   "source": [
    "input()"
   ]
  },
  {
   "cell_type": "code",
   "execution_count": 1,
   "id": "95a1f03d",
   "metadata": {},
   "outputs": [
    {
     "name": "stdout",
     "output_type": "stream",
     "text": [
      "asdf\n"
     ]
    }
   ],
   "source": [
    "print(\"asdf\")"
   ]
  },
  {
   "cell_type": "code",
   "execution_count": 4,
   "id": "eff6676a",
   "metadata": {},
   "outputs": [
    {
     "data": {
      "text/plain": [
       "6"
      ]
     },
     "execution_count": 4,
     "metadata": {},
     "output_type": "execute_result"
    }
   ],
   "source": [
    "len('asdfgf')"
   ]
  },
  {
   "cell_type": "code",
   "execution_count": 5,
   "id": "faf37bfc",
   "metadata": {},
   "outputs": [],
   "source": [
    "a = \"this is my class\""
   ]
  },
  {
   "cell_type": "code",
   "execution_count": 7,
   "id": "2ead4fb0",
   "metadata": {},
   "outputs": [
    {
     "name": "stdout",
     "output_type": "stream",
     "text": [
      "16\n"
     ]
    }
   ],
   "source": [
    "c = 0\n",
    "for i in a:\n",
    "    c += 1\n",
    "print(c)"
   ]
  },
  {
   "cell_type": "code",
   "execution_count": 8,
   "id": "6c0a7925",
   "metadata": {},
   "outputs": [
    {
     "name": "stdout",
     "output_type": "stream",
     "text": [
      "6\n"
     ]
    }
   ],
   "source": [
    "a = \"Nikhil\"\n",
    "c = 0\n",
    "for i in a:\n",
    "    c += 1\n",
    "print(c)"
   ]
  },
  {
   "cell_type": "code",
   "execution_count": 2,
   "id": "08211c0a",
   "metadata": {},
   "outputs": [
    {
     "name": "stdout",
     "output_type": "stream",
     "text": [
      "16\n"
     ]
    }
   ],
   "source": [
    "a = \"this is my class\"\n",
    "count = 0\n",
    "for i in a:\n",
    "    count += 1\n",
    "print(count)"
   ]
  },
  {
   "cell_type": "code",
   "execution_count": null,
   "id": "6537373e",
   "metadata": {},
   "outputs": [],
   "source": [
    "len(\"asdfklhj\")"
   ]
  },
  {
   "cell_type": "code",
   "execution_count": 24,
   "id": "910b71cb",
   "metadata": {},
   "outputs": [],
   "source": [
    "def new_func(value):       #  Parameter\n",
    "    count = 0\n",
    "    for i in value:\n",
    "        count += 1\n",
    "    return count\n",
    "    print(\"abc\")"
   ]
  },
  {
   "cell_type": "code",
   "execution_count": 27,
   "id": "8c2bb2ef",
   "metadata": {},
   "outputs": [
    {
     "data": {
      "text/plain": [
       "int"
      ]
     },
     "execution_count": 27,
     "metadata": {},
     "output_type": "execute_result"
    }
   ],
   "source": [
    "type(new_func(\"Anushka\"))"
   ]
  },
  {
   "cell_type": "code",
   "execution_count": 28,
   "id": "e46a536c",
   "metadata": {},
   "outputs": [
    {
     "data": {
      "text/plain": [
       "9"
      ]
     },
     "execution_count": 28,
     "metadata": {},
     "output_type": "execute_result"
    }
   ],
   "source": [
    "new_func(\"abc class\")      # Arguments"
   ]
  },
  {
   "cell_type": "code",
   "execution_count": 29,
   "id": "7f381f3f",
   "metadata": {
    "scrolled": false
   },
   "outputs": [
    {
     "data": {
      "text/plain": [
       "5"
      ]
     },
     "execution_count": 29,
     "metadata": {},
     "output_type": "execute_result"
    }
   ],
   "source": [
    "len(\"tejas\")"
   ]
  },
  {
   "cell_type": "code",
   "execution_count": 30,
   "id": "17799bb5",
   "metadata": {},
   "outputs": [
    {
     "data": {
      "text/plain": [
       "5"
      ]
     },
     "execution_count": 30,
     "metadata": {},
     "output_type": "execute_result"
    }
   ],
   "source": [
    "new_func(\"tejas\")"
   ]
  },
  {
   "cell_type": "code",
   "execution_count": 31,
   "id": "864656be",
   "metadata": {},
   "outputs": [
    {
     "name": "stdout",
     "output_type": "stream",
     "text": [
      "0\n",
      "1\n",
      "2\n",
      "3\n",
      "4\n"
     ]
    }
   ],
   "source": [
    "for i in range(new_func(\"tejas\")):\n",
    "    print(i)"
   ]
  },
  {
   "cell_type": "code",
   "execution_count": 32,
   "id": "b241b20c",
   "metadata": {},
   "outputs": [],
   "source": [
    "l = [9,8,1,6,7,3,2,4,5,6,8,3,9]"
   ]
  },
  {
   "cell_type": "code",
   "execution_count": 35,
   "id": "9d56eb9d",
   "metadata": {},
   "outputs": [
    {
     "name": "stdout",
     "output_type": "stream",
     "text": [
      "even number [8, 6, 2, 4, 6, 8]\n",
      "odd number [9, 1, 7, 3, 5, 3, 9]\n"
     ]
    }
   ],
   "source": [
    "l = [9,8,1,6,7,3,2,4,5,6,8,3,9]\n",
    "even = []\n",
    "odd = []\n",
    "\n",
    "for i in l:\n",
    "    if i%2==0:\n",
    "        even.append(i)\n",
    "    else:\n",
    "        odd.append(i)\n",
    "\n",
    "print(\"even number\",even)\n",
    "print(\"odd number\",odd)"
   ]
  },
  {
   "cell_type": "code",
   "execution_count": 40,
   "id": "3ac0a56a",
   "metadata": {},
   "outputs": [],
   "source": [
    "def filter_list(list_value):\n",
    "    even = []\n",
    "    odd = []\n",
    "\n",
    "    for i in list_value:\n",
    "        if i%2==0:\n",
    "            even.append(i)\n",
    "        else:\n",
    "            odd.append(i)\n",
    "\n",
    "    print(\"even number\",even)\n",
    "    print(\"odd number\",odd)"
   ]
  },
  {
   "cell_type": "code",
   "execution_count": 41,
   "id": "a7acdc88",
   "metadata": {},
   "outputs": [
    {
     "name": "stdout",
     "output_type": "stream",
     "text": [
      "even number [8, 6, 2, 4, 6, 8]\n",
      "odd number [9, 1, 7, 3, 5, 3, 9]\n"
     ]
    }
   ],
   "source": [
    "filter_list(l)"
   ]
  },
  {
   "cell_type": "code",
   "execution_count": 44,
   "id": "5fccec85",
   "metadata": {},
   "outputs": [],
   "source": [
    "def add_list(list_value,add_value):\n",
    "    list_value.append(add_value)\n",
    "    return list_value"
   ]
  },
  {
   "cell_type": "code",
   "execution_count": 46,
   "id": "9ea464e6",
   "metadata": {},
   "outputs": [],
   "source": [
    "l = add_list(['asdf',6,9,2],111)"
   ]
  },
  {
   "cell_type": "code",
   "execution_count": 47,
   "id": "1f40994d",
   "metadata": {},
   "outputs": [
    {
     "data": {
      "text/plain": [
       "['asdf', 6, 9, 2, 111, 'abc']"
      ]
     },
     "execution_count": 47,
     "metadata": {},
     "output_type": "execute_result"
    }
   ],
   "source": [
    "add_list(l,\"abc\")"
   ]
  },
  {
   "cell_type": "code",
   "execution_count": 1,
   "id": "5b4a1306",
   "metadata": {},
   "outputs": [],
   "source": [
    "x = \"ABab\""
   ]
  },
  {
   "cell_type": "code",
   "execution_count": 12,
   "id": "f5d4fc92",
   "metadata": {},
   "outputs": [
    {
     "data": {
      "text/plain": [
       "1"
      ]
     },
     "execution_count": 12,
     "metadata": {},
     "output_type": "execute_result"
    }
   ],
   "source": [
    "x.count(\"a\")"
   ]
  },
  {
   "cell_type": "code",
   "execution_count": null,
   "id": "921f7458",
   "metadata": {},
   "outputs": [],
   "source": []
  },
  {
   "cell_type": "code",
   "execution_count": 2,
   "id": "0211381f",
   "metadata": {},
   "outputs": [
    {
     "data": {
      "text/plain": [
       "'abab'"
      ]
     },
     "execution_count": 2,
     "metadata": {},
     "output_type": "execute_result"
    }
   ],
   "source": [
    "x.lower()"
   ]
  },
  {
   "cell_type": "code",
   "execution_count": 32,
   "id": "2a7dd4e7",
   "metadata": {},
   "outputs": [],
   "source": [
    "def count_value(str_value, count_value, case_sensitive = True):\n",
    "    \n",
    "    \"\"\"\n",
    "    this is my count_value function\n",
    "    adsf\n",
    "    asdf\n",
    "    adsfsf\n",
    "    zxcvxbvh\n",
    "    rtsedfsb\n",
    "    grefgbvndgfhter\n",
    "    \n",
    "    \"\"\"\n",
    "    \n",
    "    if type(str_value) != str:\n",
    "        return 0\n",
    "    \n",
    "    \n",
    "    count = 0\n",
    "    if case_sensitive:\n",
    "        for i in str_value:\n",
    "            if i == count_value:\n",
    "                count += 1\n",
    "    else:\n",
    "        for i in str_value.lower():\n",
    "            if i == count_value.lower():\n",
    "                count += 1\n",
    "    return count"
   ]
  },
  {
   "cell_type": "code",
   "execution_count": 33,
   "id": "d58aa742",
   "metadata": {},
   "outputs": [
    {
     "data": {
      "text/plain": [
       "0"
      ]
     },
     "execution_count": 33,
     "metadata": {},
     "output_type": "execute_result"
    }
   ],
   "source": [
    "count_value(654321,\"A\")"
   ]
  },
  {
   "cell_type": "raw",
   "id": "3349c7d1",
   "metadata": {},
   "source": [
    "TypeError\n",
    "ValueError\n",
    "KeyError\n",
    "NameError\n",
    "ZeroDivisionError\n",
    "SyntaxError\n",
    "IndentationError"
   ]
  },
  {
   "cell_type": "code",
   "execution_count": null,
   "id": "b54ce522",
   "metadata": {},
   "outputs": [],
   "source": []
  },
  {
   "cell_type": "code",
   "execution_count": 42,
   "id": "94ec6a73",
   "metadata": {},
   "outputs": [],
   "source": [
    "def find_number_of_vowels(str_value):\n",
    "    count = 0\n",
    "    vowels = \"aeiou\"\n",
    "    for i in str_value:\n",
    "        if i.lower() in vowels:\n",
    "            count += 1\n",
    "    return count"
   ]
  },
  {
   "cell_type": "code",
   "execution_count": 43,
   "id": "4daeec27",
   "metadata": {},
   "outputs": [
    {
     "data": {
      "text/plain": [
       "3"
      ]
     },
     "execution_count": 43,
     "metadata": {},
     "output_type": "execute_result"
    }
   ],
   "source": [
    "find_number_of_vowels(\"Gaurav\")"
   ]
  },
  {
   "cell_type": "code",
   "execution_count": 44,
   "id": "1145ede1",
   "metadata": {},
   "outputs": [
    {
     "data": {
      "text/plain": [
       "2"
      ]
     },
     "execution_count": 44,
     "metadata": {},
     "output_type": "execute_result"
    }
   ],
   "source": [
    "find_number_of_vowels(\"Mukta\")"
   ]
  },
  {
   "cell_type": "code",
   "execution_count": 45,
   "id": "d4bf1264",
   "metadata": {},
   "outputs": [
    {
     "data": {
      "text/plain": [
       "2"
      ]
     },
     "execution_count": 45,
     "metadata": {},
     "output_type": "execute_result"
    }
   ],
   "source": [
    "find_number_of_vowels(\"Aman\")"
   ]
  },
  {
   "cell_type": "code",
   "execution_count": 56,
   "id": "a750d71a",
   "metadata": {},
   "outputs": [],
   "source": [
    "def reverse_value(value):\n",
    "    return value[::-1]"
   ]
  },
  {
   "cell_type": "code",
   "execution_count": 57,
   "id": "d3744c61",
   "metadata": {},
   "outputs": [
    {
     "data": {
      "text/plain": [
       "'najnuG'"
      ]
     },
     "execution_count": 57,
     "metadata": {},
     "output_type": "execute_result"
    }
   ],
   "source": [
    "reverse_value(\"Gunjan\")"
   ]
  },
  {
   "cell_type": "markdown",
   "id": "3a9fdf95",
   "metadata": {},
   "source": [
    "###### What Is Yield In Python? The Yield keyword in Python is similar to a return statement used for returning values or objects in Python."
   ]
  },
  {
   "cell_type": "code",
   "execution_count": null,
   "id": "c643ff0c",
   "metadata": {},
   "outputs": [],
   "source": []
  },
  {
   "cell_type": "code",
   "execution_count": 49,
   "id": "d889db80",
   "metadata": {},
   "outputs": [],
   "source": [
    "def abc(value):\n",
    "    l = []\n",
    "    for i in range(value):\n",
    "        if i % 2 == 0:\n",
    "            l.append(i)\n",
    "            \n",
    "    return l"
   ]
  },
  {
   "cell_type": "code",
   "execution_count": 50,
   "id": "d77c61ef",
   "metadata": {},
   "outputs": [
    {
     "data": {
      "text/plain": [
       "[0, 2, 4, 6, 8]"
      ]
     },
     "execution_count": 50,
     "metadata": {},
     "output_type": "execute_result"
    }
   ],
   "source": [
    "abc(9)"
   ]
  },
  {
   "cell_type": "code",
   "execution_count": 53,
   "id": "17ebf074",
   "metadata": {},
   "outputs": [],
   "source": [
    "def abc(value):\n",
    "    for i in range(value):\n",
    "        if i % 2 == 0:\n",
    "            yield i "
   ]
  },
  {
   "cell_type": "code",
   "execution_count": 55,
   "id": "8b055346",
   "metadata": {},
   "outputs": [
    {
     "data": {
      "text/plain": [
       "[0, 2, 4, 6, 8, 10, 12, 14, 16, 18]"
      ]
     },
     "execution_count": 55,
     "metadata": {},
     "output_type": "execute_result"
    }
   ],
   "source": [
    "list(abc(20))"
   ]
  },
  {
   "cell_type": "code",
   "execution_count": 123,
   "id": "7ba38ee2",
   "metadata": {},
   "outputs": [
    {
     "data": {
      "text/plain": [
       "{0, 2, 4, 6, 8, 10, 12, 14, 16, 18}"
      ]
     },
     "execution_count": 123,
     "metadata": {},
     "output_type": "execute_result"
    }
   ],
   "source": [
    "set(abc(20))"
   ]
  },
  {
   "cell_type": "code",
   "execution_count": 109,
   "id": "d85a2f5a",
   "metadata": {},
   "outputs": [],
   "source": [
    "def even(value):\n",
    "    for i in value:\n",
    "        if i % 2 == 0:\n",
    "            yield i"
   ]
  }
 ],
 "metadata": {
  "kernelspec": {
   "display_name": "Python 3 (ipykernel)",
   "language": "python",
   "name": "python3"
  },
  "language_info": {
   "codemirror_mode": {
    "name": "ipython",
    "version": 3
   },
   "file_extension": ".py",
   "mimetype": "text/x-python",
   "name": "python",
   "nbconvert_exporter": "python",
   "pygments_lexer": "ipython3",
   "version": "3.9.13"
  }
 },
 "nbformat": 4,
 "nbformat_minor": 5
}
