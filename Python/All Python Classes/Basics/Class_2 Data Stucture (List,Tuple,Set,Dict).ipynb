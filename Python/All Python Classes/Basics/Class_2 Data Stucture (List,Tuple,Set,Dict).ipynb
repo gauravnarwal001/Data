{
 "cells": [
  {
   "cell_type": "markdown",
   "id": "29ae630c",
   "metadata": {},
   "source": [
    "## List - []\n",
    "\n",
    "- Creation: Lists are created using square brackets [ ] and separating elements with commas.     lst =  [4,9,78,'asdf']\n",
    "- Mutable (changeable)\n",
    "- Accessing Elements: Elements in a list can be accessed using index notation, starting from 0. - lst[5]\n",
    "- Modifying Lists: Lists are mutable, so you can change, add, or remove elements.\n",
    "- Slicing: You can slice lists to get sublists [::]\n",
    "- Methods and Operations: Lists have many built-in methods like append(), extend(), insert(), remove(), pop(), count(), etc.\n",
    "\n",
    "\n",
    "\n",
    "### Tuples - ()\n",
    "- Definition: Tuples are ordered, immutable (unchangeable), and can contain elements of different data types.\n",
    "- Creation: Tuples are created using parentheses () and separating elements with commas.\n",
    "- Accessing Elements: Elements in a tuple can be accessed using index notation, starting from 0, similar to lists.  \n",
    "- Immutable Nature: Once created, the elements in a tuple cannot be changed.\n",
    "- Methods and Operations: Tuples have fewer built-in methods compared to lists due to their immutability.\n",
    "\n",
    "\n",
    "### Dictionaries - my_dict = {'name': 'John', 'age': 30, 'city': 'New York'}\n",
    "\n",
    "- Definition: Dictionaries are unordered, mutable (changeable), and indexed collections of key-value pairs.\n",
    "- Creation: Dictionaries are created using curly braces {} and key-value pairs separated by colons\n",
    "- Accessing Elements: Elements in a dictionary are accessed using keys rather than indices. - print(my_dict['name'])\n",
    "- Modifying Elements: You can modify, add, or remove elements in a dictionary.\n",
    "- Methods and Operations: Dictionaries have various built-in methods like keys(), values(), items(), get(), update(), pop(), popitem(), etc.\n",
    "\n",
    "\n",
    "\n",
    "### Sets -  my_set = {1, 2, 3, 'a', 'b', 'c'}\n",
    "- Definition: Sets are unordered, mutable (changeable), and do not allow duplicate elements.\n",
    "- Creation: Sets are created using curly braces {} and separating elements with commas\n",
    "- Adding and Removing Elements: You can add elements using the add() method and remove elements using the remove() or discard() method.\n",
    "- Methods and Operations: Sets have built-in methods like add(), remove(), discard(), clear(), copy(), union(), intersection(), difference(), symmetric_difference(), etc.\n",
    "- Indexing : Not Allowed\n",
    "- Slicing : Not Allowed"
   ]
  },
  {
   "cell_type": "markdown",
   "id": "615bcb3c",
   "metadata": {},
   "source": [
    "# List"
   ]
  },
  {
   "cell_type": "code",
   "execution_count": 85,
   "id": "c126b452-fa1e-434b-9d11-32e293b8d21d",
   "metadata": {
    "id": "c126b452-fa1e-434b-9d11-32e293b8d21d"
   },
   "outputs": [],
   "source": [
    "l = []"
   ]
  },
  {
   "cell_type": "code",
   "execution_count": 86,
   "id": "1066c873",
   "metadata": {},
   "outputs": [
    {
     "data": {
      "text/plain": [
       "list"
      ]
     },
     "execution_count": 86,
     "metadata": {},
     "output_type": "execute_result"
    }
   ],
   "source": [
    "type(l)"
   ]
  },
  {
   "cell_type": "code",
   "execution_count": 21,
   "id": "60fbb0a6",
   "metadata": {},
   "outputs": [
    {
     "data": {
      "text/plain": [
       "[1, 2, 3, 4987654, 5, 'Raj', 'Abhishek', 345.565, True, [3, 4, 5, 6]]"
      ]
     },
     "execution_count": 21,
     "metadata": {},
     "output_type": "execute_result"
    }
   ],
   "source": [
    "l1 = [1,2,3,4987654,5, \"Raj\" , \"Abhishek\" ,345.565, True,[3,4,5,6]]\n",
    "l1"
   ]
  },
  {
   "cell_type": "code",
   "execution_count": 22,
   "id": "49d5b1e6",
   "metadata": {},
   "outputs": [
    {
     "data": {
      "text/plain": [
       "[4987654, 5, 'Raj', 'Abhishek', 345.565]"
      ]
     },
     "execution_count": 22,
     "metadata": {},
     "output_type": "execute_result"
    }
   ],
   "source": [
    "l1[3:8]"
   ]
  },
  {
   "cell_type": "code",
   "execution_count": 23,
   "id": "837dce17",
   "metadata": {},
   "outputs": [
    {
     "data": {
      "text/plain": [
       "'Raj'"
      ]
     },
     "execution_count": 23,
     "metadata": {},
     "output_type": "execute_result"
    }
   ],
   "source": [
    "l1[5]"
   ]
  },
  {
   "cell_type": "code",
   "execution_count": 26,
   "id": "f58201ea",
   "metadata": {},
   "outputs": [
    {
     "data": {
      "text/plain": [
       "[1, 2, 10, 4987654, 5, 'Raj', 'Abhishek', 345.565, True, [3, 4, 5, 6]]"
      ]
     },
     "execution_count": 26,
     "metadata": {},
     "output_type": "execute_result"
    }
   ],
   "source": [
    "l1"
   ]
  },
  {
   "cell_type": "code",
   "execution_count": 28,
   "id": "7bf790df",
   "metadata": {},
   "outputs": [],
   "source": [
    "l1[6] = \"Python\""
   ]
  },
  {
   "cell_type": "code",
   "execution_count": 29,
   "id": "f7a7526a",
   "metadata": {},
   "outputs": [
    {
     "data": {
      "text/plain": [
       "[1, 2, 10, 4987654, 5, 'Raj', 'Python', 345.565, True, [3, 4, 5, 6]]"
      ]
     },
     "execution_count": 29,
     "metadata": {},
     "output_type": "execute_result"
    }
   ],
   "source": [
    "l1"
   ]
  },
  {
   "cell_type": "code",
   "execution_count": 31,
   "id": "ab2a8cd4",
   "metadata": {},
   "outputs": [],
   "source": [
    "for i in range(1,len(l1),2):\n",
    "    l1[i] = 0"
   ]
  },
  {
   "cell_type": "code",
   "execution_count": 32,
   "id": "d3367930",
   "metadata": {},
   "outputs": [
    {
     "data": {
      "text/plain": [
       "[1, 0, 10, 0, 5, 0, 'Python', 0, True, 0]"
      ]
     },
     "execution_count": 32,
     "metadata": {},
     "output_type": "execute_result"
    }
   ],
   "source": [
    "l1"
   ]
  },
  {
   "cell_type": "code",
   "execution_count": 33,
   "id": "993e088f",
   "metadata": {},
   "outputs": [],
   "source": [
    "l1[2] = 10"
   ]
  },
  {
   "cell_type": "code",
   "execution_count": 34,
   "id": "9a4a537a",
   "metadata": {},
   "outputs": [
    {
     "data": {
      "text/plain": [
       "[1, 0, 10, 0, 5, 0, 'Python', 0, True, 0]"
      ]
     },
     "execution_count": 34,
     "metadata": {},
     "output_type": "execute_result"
    }
   ],
   "source": [
    "l1"
   ]
  },
  {
   "cell_type": "markdown",
   "id": "40b2f87e",
   "metadata": {},
   "source": [
    "## Tuples"
   ]
  },
  {
   "cell_type": "code",
   "execution_count": 35,
   "id": "2da2a7fc",
   "metadata": {},
   "outputs": [],
   "source": [
    "t = ()"
   ]
  },
  {
   "cell_type": "code",
   "execution_count": 36,
   "id": "48d69068-551f-4d4b-8da2-71d2aa0b96c3",
   "metadata": {
    "id": "48d69068-551f-4d4b-8da2-71d2aa0b96c3",
    "outputId": "e518b8e6-e34f-44b9-b132-4878a4577b4b"
   },
   "outputs": [
    {
     "data": {
      "text/plain": [
       "tuple"
      ]
     },
     "execution_count": 36,
     "metadata": {},
     "output_type": "execute_result"
    }
   ],
   "source": [
    "type(t)"
   ]
  },
  {
   "cell_type": "code",
   "execution_count": 37,
   "id": "6af47e52",
   "metadata": {},
   "outputs": [],
   "source": [
    "t = (1,5,8,9,3,\"abc\")"
   ]
  },
  {
   "cell_type": "code",
   "execution_count": 38,
   "id": "13c64329",
   "metadata": {},
   "outputs": [
    {
     "data": {
      "text/plain": [
       "(1, 5, 8, 9, 3, 'abc')"
      ]
     },
     "execution_count": 38,
     "metadata": {},
     "output_type": "execute_result"
    }
   ],
   "source": [
    "t"
   ]
  },
  {
   "cell_type": "code",
   "execution_count": 40,
   "id": "ef187461",
   "metadata": {},
   "outputs": [
    {
     "ename": "TypeError",
     "evalue": "'tuple' object does not support item assignment",
     "output_type": "error",
     "traceback": [
      "\u001b[1;31m---------------------------------------------------------------------------\u001b[0m",
      "\u001b[1;31mTypeError\u001b[0m                                 Traceback (most recent call last)",
      "\u001b[1;32m~\\AppData\\Local\\Temp\\ipykernel_22372\\2657793449.py\u001b[0m in \u001b[0;36m<module>\u001b[1;34m\u001b[0m\n\u001b[1;32m----> 1\u001b[1;33m \u001b[0mt\u001b[0m\u001b[1;33m[\u001b[0m\u001b[1;33m-\u001b[0m\u001b[1;36m3\u001b[0m\u001b[1;33m]\u001b[0m \u001b[1;33m=\u001b[0m \u001b[1;36m90\u001b[0m\u001b[1;33m\u001b[0m\u001b[1;33m\u001b[0m\u001b[0m\n\u001b[0m",
      "\u001b[1;31mTypeError\u001b[0m: 'tuple' object does not support item assignment"
     ]
    }
   ],
   "source": [
    "t[-3] = 90"
   ]
  },
  {
   "cell_type": "code",
   "execution_count": 42,
   "id": "cea12fc2-d9ae-4046-bcc0-32c02baa420e",
   "metadata": {
    "id": "cea12fc2-d9ae-4046-bcc0-32c02baa420e"
   },
   "outputs": [
    {
     "data": {
      "text/plain": [
       "(5, 6, 7, 8, 9, [4, 6, 7])"
      ]
     },
     "execution_count": 42,
     "metadata": {},
     "output_type": "execute_result"
    }
   ],
   "source": [
    "t1 = (5,6,7,8,9,[4,6,7])\n",
    "t1\n"
   ]
  },
  {
   "cell_type": "code",
   "execution_count": 48,
   "id": "e35f7068",
   "metadata": {},
   "outputs": [],
   "source": [
    "t1[5][1] = 60"
   ]
  },
  {
   "cell_type": "code",
   "execution_count": 50,
   "id": "ebc97ea8",
   "metadata": {},
   "outputs": [
    {
     "data": {
      "text/plain": [
       "(5, 6, 7, 8, 9, [4, 60, 7])"
      ]
     },
     "execution_count": 50,
     "metadata": {},
     "output_type": "execute_result"
    }
   ],
   "source": [
    "t1"
   ]
  },
  {
   "cell_type": "code",
   "execution_count": 61,
   "id": "f160f51d",
   "metadata": {
    "scrolled": true
   },
   "outputs": [
    {
     "data": {
      "text/plain": [
       "[(1, 5, 8, 9, 3, 'abc')]"
      ]
     },
     "execution_count": 61,
     "metadata": {},
     "output_type": "execute_result"
    }
   ],
   "source": [
    "z = [t]\n",
    "z"
   ]
  },
  {
   "cell_type": "code",
   "execution_count": 65,
   "id": "fddcc958",
   "metadata": {},
   "outputs": [
    {
     "data": {
      "text/plain": [
       "8"
      ]
     },
     "execution_count": 65,
     "metadata": {},
     "output_type": "execute_result"
    }
   ],
   "source": [
    "z[0][2]"
   ]
  },
  {
   "cell_type": "code",
   "execution_count": 66,
   "id": "512b5a57-5b57-47b8-a907-809b3c1ebd31",
   "metadata": {
    "id": "512b5a57-5b57-47b8-a907-809b3c1ebd31",
    "outputId": "a0c939c4-d189-47f2-fc5b-b71b1b95c304"
   },
   "outputs": [
    {
     "data": {
      "text/plain": [
       "10"
      ]
     },
     "execution_count": 66,
     "metadata": {},
     "output_type": "execute_result"
    }
   ],
   "source": [
    "len(l1)"
   ]
  },
  {
   "cell_type": "code",
   "execution_count": 67,
   "id": "674573da",
   "metadata": {},
   "outputs": [
    {
     "data": {
      "text/plain": [
       "(9, 5, 7, 6, 4, 1)"
      ]
     },
     "execution_count": 67,
     "metadata": {},
     "output_type": "execute_result"
    }
   ],
   "source": [
    "t = (9,5,7,6,4,1)\n",
    "t"
   ]
  },
  {
   "cell_type": "code",
   "execution_count": null,
   "id": "4dcd5cb8",
   "metadata": {},
   "outputs": [],
   "source": []
  },
  {
   "cell_type": "markdown",
   "id": "34ec9ea0",
   "metadata": {},
   "source": [
    "## Sets"
   ]
  },
  {
   "cell_type": "code",
   "execution_count": 87,
   "id": "cd08dd09-9304-41a8-b43c-f5f25e3e0168",
   "metadata": {
    "id": "cd08dd09-9304-41a8-b43c-f5f25e3e0168"
   },
   "outputs": [],
   "source": [
    "s = {}"
   ]
  },
  {
   "cell_type": "code",
   "execution_count": 90,
   "id": "190694a2-a9e7-48a8-9968-686cd7421993",
   "metadata": {
    "id": "190694a2-a9e7-48a8-9968-686cd7421993",
    "outputId": "48f3445a-83dd-40a6-ce40-696c8e1b3479"
   },
   "outputs": [
    {
     "data": {
      "text/plain": [
       "dict"
      ]
     },
     "execution_count": 90,
     "metadata": {},
     "output_type": "execute_result"
    }
   ],
   "source": [
    "type(s)"
   ]
  },
  {
   "cell_type": "code",
   "execution_count": 68,
   "id": "b6cb19ef",
   "metadata": {},
   "outputs": [],
   "source": [
    "s = {80,9,7,1,2,3,4,4,4,4,4}"
   ]
  },
  {
   "cell_type": "code",
   "execution_count": 69,
   "id": "de292da3",
   "metadata": {
    "scrolled": true
   },
   "outputs": [
    {
     "data": {
      "text/plain": [
       "{1, 2, 3, 4, 7, 9, 80}"
      ]
     },
     "execution_count": 69,
     "metadata": {},
     "output_type": "execute_result"
    }
   ],
   "source": [
    "s"
   ]
  },
  {
   "cell_type": "code",
   "execution_count": 73,
   "id": "7cada5ac",
   "metadata": {},
   "outputs": [
    {
     "data": {
      "text/plain": [
       "[68, 8, 5, 78, 6, 4, 6, 2, 1, 2, 3, 1, 2, 1]"
      ]
     },
     "execution_count": 73,
     "metadata": {},
     "output_type": "execute_result"
    }
   ],
   "source": [
    "l"
   ]
  },
  {
   "cell_type": "code",
   "execution_count": null,
   "id": "052a4f44",
   "metadata": {},
   "outputs": [],
   "source": []
  },
  {
   "cell_type": "code",
   "execution_count": 74,
   "id": "18a10c98",
   "metadata": {},
   "outputs": [
    {
     "data": {
      "text/plain": [
       "{1, 100, 2, 3, 4, 5, 89, 'ABC'}"
      ]
     },
     "execution_count": 74,
     "metadata": {},
     "output_type": "execute_result"
    }
   ],
   "source": [
    "s = {5,100,1,2,3,89,4,1,2,3,\"ABC\"}\n",
    "s"
   ]
  },
  {
   "cell_type": "code",
   "execution_count": 75,
   "id": "228f3d29",
   "metadata": {},
   "outputs": [
    {
     "data": {
      "text/plain": [
       "set"
      ]
     },
     "execution_count": 75,
     "metadata": {},
     "output_type": "execute_result"
    }
   ],
   "source": [
    "type(s)"
   ]
  },
  {
   "cell_type": "code",
   "execution_count": 76,
   "id": "05761796",
   "metadata": {},
   "outputs": [
    {
     "ename": "TypeError",
     "evalue": "'set' object is not subscriptable",
     "output_type": "error",
     "traceback": [
      "\u001b[1;31m---------------------------------------------------------------------------\u001b[0m",
      "\u001b[1;31mTypeError\u001b[0m                                 Traceback (most recent call last)",
      "\u001b[1;32m~\\AppData\\Local\\Temp\\ipykernel_22372\\2635755408.py\u001b[0m in \u001b[0;36m<module>\u001b[1;34m\u001b[0m\n\u001b[1;32m----> 1\u001b[1;33m \u001b[0ms\u001b[0m\u001b[1;33m[\u001b[0m\u001b[1;36m2\u001b[0m\u001b[1;33m]\u001b[0m\u001b[1;33m\u001b[0m\u001b[1;33m\u001b[0m\u001b[0m\n\u001b[0m",
      "\u001b[1;31mTypeError\u001b[0m: 'set' object is not subscriptable"
     ]
    }
   ],
   "source": [
    "s[2]"
   ]
  },
  {
   "cell_type": "code",
   "execution_count": 63,
   "id": "c323e3a7",
   "metadata": {},
   "outputs": [
    {
     "data": {
      "text/plain": [
       "(1, 2, 3, 100, 5, 4, 'ABC', 89)"
      ]
     },
     "execution_count": 63,
     "metadata": {},
     "output_type": "execute_result"
    }
   ],
   "source": [
    "tuple(s)"
   ]
  },
  {
   "cell_type": "code",
   "execution_count": 77,
   "id": "8f3571eb",
   "metadata": {},
   "outputs": [
    {
     "data": {
      "text/plain": [
       "[1, 2, 3, 100, 5, 4, 'ABC', 89]"
      ]
     },
     "execution_count": 77,
     "metadata": {},
     "output_type": "execute_result"
    }
   ],
   "source": [
    "list(s)"
   ]
  },
  {
   "cell_type": "code",
   "execution_count": 78,
   "id": "1d814b54",
   "metadata": {},
   "outputs": [
    {
     "ename": "TypeError",
     "evalue": "'set' object is not subscriptable",
     "output_type": "error",
     "traceback": [
      "\u001b[1;31m---------------------------------------------------------------------------\u001b[0m",
      "\u001b[1;31mTypeError\u001b[0m                                 Traceback (most recent call last)",
      "\u001b[1;32m~\\AppData\\Local\\Temp\\ipykernel_22372\\2635755408.py\u001b[0m in \u001b[0;36m<module>\u001b[1;34m\u001b[0m\n\u001b[1;32m----> 1\u001b[1;33m \u001b[0ms\u001b[0m\u001b[1;33m[\u001b[0m\u001b[1;36m2\u001b[0m\u001b[1;33m]\u001b[0m\u001b[1;33m\u001b[0m\u001b[1;33m\u001b[0m\u001b[0m\n\u001b[0m",
      "\u001b[1;31mTypeError\u001b[0m: 'set' object is not subscriptable"
     ]
    }
   ],
   "source": [
    "s[2]"
   ]
  },
  {
   "cell_type": "code",
   "execution_count": null,
   "id": "cd2d4b65",
   "metadata": {},
   "outputs": [],
   "source": []
  },
  {
   "cell_type": "code",
   "execution_count": 65,
   "id": "3d5ebb12",
   "metadata": {},
   "outputs": [
    {
     "ename": "TypeError",
     "evalue": "'set' object is not subscriptable",
     "output_type": "error",
     "traceback": [
      "\u001b[1;31m---------------------------------------------------------------------------\u001b[0m",
      "\u001b[1;31mTypeError\u001b[0m                                 Traceback (most recent call last)",
      "\u001b[1;32m~\\AppData\\Local\\Temp\\ipykernel_6056\\1338137100.py\u001b[0m in \u001b[0;36m<module>\u001b[1;34m\u001b[0m\n\u001b[1;32m----> 1\u001b[1;33m \u001b[0ms\u001b[0m\u001b[1;33m[\u001b[0m\u001b[1;33m-\u001b[0m\u001b[1;36m3\u001b[0m\u001b[1;33m]\u001b[0m\u001b[1;33m\u001b[0m\u001b[1;33m\u001b[0m\u001b[0m\n\u001b[0m",
      "\u001b[1;31mTypeError\u001b[0m: 'set' object is not subscriptable"
     ]
    }
   ],
   "source": [
    "s[-3]"
   ]
  },
  {
   "cell_type": "code",
   "execution_count": 66,
   "id": "834367e2",
   "metadata": {},
   "outputs": [
    {
     "data": {
      "text/plain": [
       "set"
      ]
     },
     "execution_count": 66,
     "metadata": {},
     "output_type": "execute_result"
    }
   ],
   "source": [
    "type(s)"
   ]
  },
  {
   "cell_type": "raw",
   "id": "64aeb848",
   "metadata": {},
   "source": [
    "list()\n",
    "tuple()\n",
    "set()\n",
    "dict()"
   ]
  },
  {
   "cell_type": "code",
   "execution_count": null,
   "id": "4f6e2fb1",
   "metadata": {},
   "outputs": [],
   "source": []
  },
  {
   "cell_type": "code",
   "execution_count": 79,
   "id": "f34d8b6d",
   "metadata": {},
   "outputs": [
    {
     "data": {
      "text/plain": [
       "{1, 100, 2, 3, 4, 5, 89, 'ABC'}"
      ]
     },
     "execution_count": 79,
     "metadata": {},
     "output_type": "execute_result"
    }
   ],
   "source": [
    "s"
   ]
  },
  {
   "cell_type": "code",
   "execution_count": null,
   "id": "227c7dc4",
   "metadata": {},
   "outputs": [],
   "source": []
  },
  {
   "cell_type": "code",
   "execution_count": null,
   "id": "6eada740",
   "metadata": {},
   "outputs": [],
   "source": []
  },
  {
   "cell_type": "code",
   "execution_count": 81,
   "id": "b17f894b",
   "metadata": {},
   "outputs": [
    {
     "data": {
      "text/plain": [
       "(1, 2, 3, 100, 5, 4, 'ABC', 89)"
      ]
     },
     "execution_count": 81,
     "metadata": {},
     "output_type": "execute_result"
    }
   ],
   "source": [
    "change_set = tuple(s)\n",
    "change_set"
   ]
  },
  {
   "cell_type": "code",
   "execution_count": 82,
   "id": "f333b1fa",
   "metadata": {},
   "outputs": [
    {
     "data": {
      "text/plain": [
       "4"
      ]
     },
     "execution_count": 82,
     "metadata": {},
     "output_type": "execute_result"
    }
   ],
   "source": [
    "change_set[5]"
   ]
  },
  {
   "cell_type": "code",
   "execution_count": 83,
   "id": "3ccd0c85-0a85-425a-bf1f-c18cea395a8a",
   "metadata": {
    "id": "3ccd0c85-0a85-425a-bf1f-c18cea395a8a"
   },
   "outputs": [
    {
     "data": {
      "text/plain": [
       "{1, 2, 3, 4, 5, 8, 9}"
      ]
     },
     "execution_count": 83,
     "metadata": {},
     "output_type": "execute_result"
    }
   ],
   "source": [
    "s1 = {9,8,1,2,3,4,5,5,5,5,5}\n",
    "s1"
   ]
  },
  {
   "cell_type": "code",
   "execution_count": 84,
   "id": "b455a787-a32c-4f4a-b06e-5806e7841c4a",
   "metadata": {
    "id": "b455a787-a32c-4f4a-b06e-5806e7841c4a",
    "outputId": "c9c9ebf2-a060-4688-f32e-04d59daaef5a"
   },
   "outputs": [
    {
     "data": {
      "text/plain": [
       "set"
      ]
     },
     "execution_count": 84,
     "metadata": {},
     "output_type": "execute_result"
    }
   ],
   "source": [
    "type(s1)"
   ]
  },
  {
   "cell_type": "markdown",
   "id": "0a03cd5d",
   "metadata": {},
   "source": [
    "# Dict"
   ]
  },
  {
   "cell_type": "code",
   "execution_count": null,
   "id": "1303fd3e",
   "metadata": {},
   "outputs": [],
   "source": []
  },
  {
   "cell_type": "code",
   "execution_count": 91,
   "id": "5434d010-b1e3-4e33-b40b-bb9f602a274b",
   "metadata": {
    "id": "5434d010-b1e3-4e33-b40b-bb9f602a274b"
   },
   "outputs": [],
   "source": [
    "d= {}"
   ]
  },
  {
   "cell_type": "code",
   "execution_count": 92,
   "id": "e9532bc0-783f-4708-aeb8-32bc3070e0fe",
   "metadata": {
    "id": "e9532bc0-783f-4708-aeb8-32bc3070e0fe",
    "outputId": "669bae2b-bdbf-49ea-ed98-fb93bb7e458b"
   },
   "outputs": [
    {
     "data": {
      "text/plain": [
       "dict"
      ]
     },
     "execution_count": 92,
     "metadata": {},
     "output_type": "execute_result"
    }
   ],
   "source": [
    "type(d)"
   ]
  },
  {
   "cell_type": "code",
   "execution_count": 93,
   "id": "37fdb2f6",
   "metadata": {},
   "outputs": [],
   "source": [
    "d = {'name':\"Python\",\"age\":20,\"Marks\":10}"
   ]
  },
  {
   "cell_type": "code",
   "execution_count": 94,
   "id": "7af6c331",
   "metadata": {},
   "outputs": [
    {
     "data": {
      "text/plain": [
       "{'name': 'Python', 'age': 20, 'Marks': 10}"
      ]
     },
     "execution_count": 94,
     "metadata": {},
     "output_type": "execute_result"
    }
   ],
   "source": [
    "d"
   ]
  },
  {
   "cell_type": "code",
   "execution_count": 96,
   "id": "6abfd066",
   "metadata": {},
   "outputs": [
    {
     "data": {
      "text/plain": [
       "'Python'"
      ]
     },
     "execution_count": 96,
     "metadata": {},
     "output_type": "execute_result"
    }
   ],
   "source": [
    "d['name']"
   ]
  },
  {
   "cell_type": "code",
   "execution_count": 99,
   "id": "f90bf97c",
   "metadata": {},
   "outputs": [],
   "source": [
    "d['deepanshu'] = 123456"
   ]
  },
  {
   "cell_type": "code",
   "execution_count": 100,
   "id": "8dd24538",
   "metadata": {},
   "outputs": [
    {
     "data": {
      "text/plain": [
       "{'name': 'Python', 'age': 20, 'Marks': 10, 'deepanshu': 123456}"
      ]
     },
     "execution_count": 100,
     "metadata": {},
     "output_type": "execute_result"
    }
   ],
   "source": [
    "d"
   ]
  },
  {
   "cell_type": "code",
   "execution_count": 102,
   "id": "85f4048f",
   "metadata": {},
   "outputs": [],
   "source": [
    "d['python'] = 90"
   ]
  },
  {
   "cell_type": "code",
   "execution_count": 103,
   "id": "bebf557d",
   "metadata": {},
   "outputs": [
    {
     "data": {
      "text/plain": [
       "{'name': 'Python', 'age': 20, 'Marks': 10, 'deepanshu': 123456, 'python': 90}"
      ]
     },
     "execution_count": 103,
     "metadata": {},
     "output_type": "execute_result"
    }
   ],
   "source": [
    "d"
   ]
  },
  {
   "cell_type": "code",
   "execution_count": 104,
   "id": "228c7dfc",
   "metadata": {},
   "outputs": [],
   "source": [
    "d['python'] = 100"
   ]
  },
  {
   "cell_type": "code",
   "execution_count": 105,
   "id": "311fd70d",
   "metadata": {},
   "outputs": [
    {
     "data": {
      "text/plain": [
       "{'name': 'Python', 'age': 20, 'Marks': 10, 'deepanshu': 123456, 'python': 100}"
      ]
     },
     "execution_count": 105,
     "metadata": {},
     "output_type": "execute_result"
    }
   ],
   "source": [
    "d"
   ]
  },
  {
   "cell_type": "code",
   "execution_count": 106,
   "id": "4b1d11f0-4650-4f40-bbd5-8012bf983fc7",
   "metadata": {
    "id": "4b1d11f0-4650-4f40-bbd5-8012bf983fc7",
    "scrolled": true
   },
   "outputs": [],
   "source": [
    "d1 = {'name' : \"Mohit\" ,\"subject\" :[\"data science \" , \"big data \" , \"data analytics\"] , \"number\" :43242424}"
   ]
  },
  {
   "cell_type": "code",
   "execution_count": 107,
   "id": "f9d9c8d3-d703-4097-80bc-d75187800d47",
   "metadata": {
    "id": "f9d9c8d3-d703-4097-80bc-d75187800d47",
    "outputId": "357bfe85-c5e6-4fd2-e795-249a5e914db8"
   },
   "outputs": [
    {
     "data": {
      "text/plain": [
       "{'name': 'Mohit',\n",
       " 'subject': ['data science ', 'big data ', 'data analytics'],\n",
       " 'number': 43242424}"
      ]
     },
     "execution_count": 107,
     "metadata": {},
     "output_type": "execute_result"
    }
   ],
   "source": [
    "d1"
   ]
  },
  {
   "cell_type": "code",
   "execution_count": null,
   "id": "7d542745",
   "metadata": {},
   "outputs": [],
   "source": []
  },
  {
   "cell_type": "code",
   "execution_count": 123,
   "id": "cd2c9ed2-8ddd-4d30-94e6-27102e3d4719",
   "metadata": {
    "id": "cd2c9ed2-8ddd-4d30-94e6-27102e3d4719"
   },
   "outputs": [],
   "source": [
    "d4 = {'course': ['dsa', 'java', 'webdev', 'blockchain', 'cloud'],\n",
    " 'mentor': ('gaurav', 'krishna', 'aditiya', 'vinay', 'sunny '),\n",
    " 'price': {3500, 11000, 15000, 20000},\n",
    " 'duration': 1,\n",
    " 'access year': 1,\n",
    " 'syllabus': {'python': ['core python',\n",
    "   'oops',\n",
    "   'pandas',\n",
    "   'numpy',\n",
    "   'db',\n",
    "   'mongodb'],\n",
    "  'ml': ['supervised', 'unsupervised', 'semisupervised']}}\n"
   ]
  },
  {
   "cell_type": "code",
   "execution_count": 124,
   "id": "91b8d2c8",
   "metadata": {},
   "outputs": [],
   "source": [
    "d4['course'][-1] = \"Python\""
   ]
  },
  {
   "cell_type": "code",
   "execution_count": 125,
   "id": "db7f1fa1",
   "metadata": {},
   "outputs": [
    {
     "data": {
      "text/plain": [
       "{'course': ['dsa', 'java', 'webdev', 'blockchain', 'Python'],\n",
       " 'mentor': ('gaurav', 'krishna', 'aditiya', 'vinay', 'sunny '),\n",
       " 'price': {3500, 11000, 15000, 20000},\n",
       " 'duration': 1,\n",
       " 'access year': 1,\n",
       " 'syllabus': {'python': ['core python',\n",
       "   'oops',\n",
       "   'pandas',\n",
       "   'numpy',\n",
       "   'db',\n",
       "   'mongodb'],\n",
       "  'ml': ['supervised', 'unsupervised', 'semisupervised']}}"
      ]
     },
     "execution_count": 125,
     "metadata": {},
     "output_type": "execute_result"
    }
   ],
   "source": [
    "d4"
   ]
  },
  {
   "cell_type": "code",
   "execution_count": 127,
   "id": "4e6fa3a6",
   "metadata": {},
   "outputs": [
    {
     "data": {
      "text/plain": [
       "['gaurav', 'krishna', 'aditiya', 'vinay', 'sunny ']"
      ]
     },
     "execution_count": 127,
     "metadata": {},
     "output_type": "execute_result"
    }
   ],
   "source": [
    "list(d4['mentor'])"
   ]
  },
  {
   "cell_type": "code",
   "execution_count": null,
   "id": "d0787b89",
   "metadata": {},
   "outputs": [],
   "source": []
  },
  {
   "cell_type": "code",
   "execution_count": null,
   "id": "ecf68982",
   "metadata": {},
   "outputs": [],
   "source": []
  },
  {
   "cell_type": "code",
   "execution_count": null,
   "id": "10096f8f",
   "metadata": {},
   "outputs": [],
   "source": []
  },
  {
   "cell_type": "code",
   "execution_count": null,
   "id": "2301fd18",
   "metadata": {},
   "outputs": [],
   "source": []
  },
  {
   "cell_type": "code",
   "execution_count": 128,
   "id": "5bda9a5e",
   "metadata": {},
   "outputs": [
    {
     "data": {
      "text/plain": [
       "['gaurav', 'krishna', 'aditiya', 'vinay', 'sunny ']"
      ]
     },
     "execution_count": 128,
     "metadata": {},
     "output_type": "execute_result"
    }
   ],
   "source": [
    "n = list(d4['mentor'])\n",
    "n"
   ]
  },
  {
   "cell_type": "code",
   "execution_count": 129,
   "id": "39e8356e",
   "metadata": {},
   "outputs": [],
   "source": [
    "n[-1] = \"ABC\""
   ]
  },
  {
   "cell_type": "code",
   "execution_count": 130,
   "id": "bd6f287c",
   "metadata": {},
   "outputs": [],
   "source": [
    "d4['mentor'] = tuple(n)"
   ]
  },
  {
   "cell_type": "code",
   "execution_count": 131,
   "id": "70655b88",
   "metadata": {},
   "outputs": [
    {
     "data": {
      "text/plain": [
       "{'course': ['dsa', 'java', 'webdev', 'blockchain', 'Python'],\n",
       " 'mentor': ('gaurav', 'krishna', 'aditiya', 'vinay', 'ABC'),\n",
       " 'price': {3500, 11000, 15000, 20000},\n",
       " 'duration': 1,\n",
       " 'access year': 1,\n",
       " 'syllabus': {'python': ['core python',\n",
       "   'oops',\n",
       "   'pandas',\n",
       "   'numpy',\n",
       "   'db',\n",
       "   'mongodb'],\n",
       "  'ml': ['supervised', 'unsupervised', 'semisupervised']}}"
      ]
     },
     "execution_count": 131,
     "metadata": {},
     "output_type": "execute_result"
    }
   ],
   "source": [
    "d4"
   ]
  },
  {
   "cell_type": "code",
   "execution_count": null,
   "id": "32bbd261",
   "metadata": {},
   "outputs": [],
   "source": []
  },
  {
   "cell_type": "code",
   "execution_count": 33,
   "id": "ab34ef49",
   "metadata": {},
   "outputs": [
    {
     "data": {
      "text/plain": [
       "{'course': ['dsa', 'java', 'python', 'blockchain', 'cloud'],\n",
       " 'mentor': ('gaurav', 'krishna', 'aditiya', 'vinay', 'sunny '),\n",
       " 'price': {3500, 11000, 15000, 20000},\n",
       " 'duration': 1,\n",
       " 'access year': 1,\n",
       " 'syllabus': {'python': ['core python',\n",
       "   'oops',\n",
       "   'pandas',\n",
       "   'numpy',\n",
       "   'db',\n",
       "   'mongodb'],\n",
       "  'ml': ['supervised', 'unsupervised', 'semisupervised']}}"
      ]
     },
     "execution_count": 33,
     "metadata": {},
     "output_type": "execute_result"
    }
   ],
   "source": [
    "d4"
   ]
  },
  {
   "cell_type": "markdown",
   "id": "4b8e48e8-da73-4fd0-9dea-804606bb9593",
   "metadata": {
    "id": "4b8e48e8-da73-4fd0-9dea-804606bb9593"
   },
   "source": [
    "# 1.string\n",
    "# 2.list\n",
    "# 3.tuple\n",
    "# 4.set\n",
    "# 5.dict\n",
    "\n"
   ]
  },
  {
   "cell_type": "code",
   "execution_count": 59,
   "id": "f680c2eb-fdbd-4952-b8f5-3266cad1bd1b",
   "metadata": {
    "id": "f680c2eb-fdbd-4952-b8f5-3266cad1bd1b"
   },
   "outputs": [],
   "source": [
    "s1 = \"This is my python class\""
   ]
  },
  {
   "cell_type": "code",
   "execution_count": 66,
   "id": "af18bac6",
   "metadata": {},
   "outputs": [
    {
     "data": {
      "text/plain": [
       "11"
      ]
     },
     "execution_count": 66,
     "metadata": {},
     "output_type": "execute_result"
    }
   ],
   "source": [
    "s1.find(\"p\")"
   ]
  },
  {
   "cell_type": "code",
   "execution_count": 71,
   "id": "05d89eca",
   "metadata": {},
   "outputs": [
    {
     "data": {
      "text/plain": [
       "4"
      ]
     },
     "execution_count": 71,
     "metadata": {},
     "output_type": "execute_result"
    }
   ],
   "source": [
    "s1.count(\"s\")"
   ]
  },
  {
   "cell_type": "code",
   "execution_count": 73,
   "id": "e94bde55",
   "metadata": {},
   "outputs": [
    {
     "ename": "ValueError",
     "evalue": "substring not found",
     "output_type": "error",
     "traceback": [
      "\u001b[1;31m---------------------------------------------------------------------------\u001b[0m",
      "\u001b[1;31mValueError\u001b[0m                                Traceback (most recent call last)",
      "\u001b[1;32m~\\AppData\\Local\\Temp\\ipykernel_13892\\2723690859.py\u001b[0m in \u001b[0;36m<module>\u001b[1;34m\u001b[0m\n\u001b[1;32m----> 1\u001b[1;33m \u001b[0ms1\u001b[0m\u001b[1;33m.\u001b[0m\u001b[0mindex\u001b[0m\u001b[1;33m(\u001b[0m\u001b[1;34m\"z\"\u001b[0m\u001b[1;33m)\u001b[0m\u001b[1;33m\u001b[0m\u001b[1;33m\u001b[0m\u001b[0m\n\u001b[0m",
      "\u001b[1;31mValueError\u001b[0m: substring not found"
     ]
    }
   ],
   "source": [
    "s1.index(\"z\")"
   ]
  },
  {
   "cell_type": "code",
   "execution_count": 74,
   "id": "691cd22a",
   "metadata": {},
   "outputs": [
    {
     "data": {
      "text/plain": [
       "-1"
      ]
     },
     "execution_count": 74,
     "metadata": {},
     "output_type": "execute_result"
    }
   ],
   "source": [
    "s1.find(\"z\")"
   ]
  },
  {
   "cell_type": "code",
   "execution_count": 75,
   "id": "21d240e5",
   "metadata": {},
   "outputs": [
    {
     "data": {
      "text/plain": [
       "2"
      ]
     },
     "execution_count": 75,
     "metadata": {},
     "output_type": "execute_result"
    }
   ],
   "source": [
    "s1.count('y')"
   ]
  },
  {
   "cell_type": "code",
   "execution_count": 76,
   "id": "d83257f0",
   "metadata": {},
   "outputs": [
    {
     "data": {
      "text/plain": [
       "5"
      ]
     },
     "execution_count": 76,
     "metadata": {},
     "output_type": "execute_result"
    }
   ],
   "source": [
    "s1.index(\"i\",3)"
   ]
  },
  {
   "cell_type": "code",
   "execution_count": 77,
   "id": "7b423a00",
   "metadata": {
    "scrolled": true
   },
   "outputs": [
    {
     "data": {
      "text/plain": [
       "11"
      ]
     },
     "execution_count": 77,
     "metadata": {},
     "output_type": "execute_result"
    }
   ],
   "source": [
    "s1.find(\"p\")"
   ]
  },
  {
   "cell_type": "code",
   "execution_count": 78,
   "id": "515387b9",
   "metadata": {},
   "outputs": [
    {
     "data": {
      "text/plain": [
       "'This is my python class'"
      ]
     },
     "execution_count": 78,
     "metadata": {},
     "output_type": "execute_result"
    }
   ],
   "source": [
    "s1"
   ]
  },
  {
   "cell_type": "code",
   "execution_count": 79,
   "id": "7f71321a",
   "metadata": {},
   "outputs": [
    {
     "data": {
      "text/plain": [
       "'THIS IS MY PYTHON CLASS'"
      ]
     },
     "execution_count": 79,
     "metadata": {},
     "output_type": "execute_result"
    }
   ],
   "source": [
    "s1.upper()"
   ]
  },
  {
   "cell_type": "code",
   "execution_count": 80,
   "id": "cd9b4da7",
   "metadata": {},
   "outputs": [
    {
     "data": {
      "text/plain": [
       "'this is my python class'"
      ]
     },
     "execution_count": 80,
     "metadata": {},
     "output_type": "execute_result"
    }
   ],
   "source": [
    "s1.lower()"
   ]
  },
  {
   "cell_type": "code",
   "execution_count": 81,
   "id": "591cecdd-0f4b-487b-ad2d-b343bc7e2ef9",
   "metadata": {
    "id": "591cecdd-0f4b-487b-ad2d-b343bc7e2ef9"
   },
   "outputs": [],
   "source": [
    "s2 = \"this is my python class\""
   ]
  },
  {
   "cell_type": "code",
   "execution_count": 82,
   "id": "5a09485b-7ec2-4701-8bf0-4d398197289d",
   "metadata": {
    "id": "5a09485b-7ec2-4701-8bf0-4d398197289d",
    "outputId": "a9bcd2ea-3635-4b8c-8715-421e7a5a6bd7"
   },
   "outputs": [
    {
     "data": {
      "text/plain": [
       "'This is my python class'"
      ]
     },
     "execution_count": 82,
     "metadata": {},
     "output_type": "execute_result"
    }
   ],
   "source": [
    "s2.capitalize()"
   ]
  },
  {
   "cell_type": "code",
   "execution_count": 83,
   "id": "71f46ded",
   "metadata": {},
   "outputs": [
    {
     "data": {
      "text/plain": [
       "'This Is My Python Class'"
      ]
     },
     "execution_count": 83,
     "metadata": {},
     "output_type": "execute_result"
    }
   ],
   "source": [
    "s2.title()"
   ]
  },
  {
   "cell_type": "code",
   "execution_count": 89,
   "id": "c154281a",
   "metadata": {},
   "outputs": [
    {
     "data": {
      "text/plain": [
       "'this is my python class'"
      ]
     },
     "execution_count": 89,
     "metadata": {},
     "output_type": "execute_result"
    }
   ],
   "source": [
    "s2"
   ]
  },
  {
   "cell_type": "code",
   "execution_count": 90,
   "id": "65bec258",
   "metadata": {},
   "outputs": [
    {
     "data": {
      "text/plain": [
       "['this', 'is', 'my', 'python', 'class']"
      ]
     },
     "execution_count": 90,
     "metadata": {},
     "output_type": "execute_result"
    }
   ],
   "source": [
    "s2.split()"
   ]
  },
  {
   "cell_type": "code",
   "execution_count": 91,
   "id": "7a3f4546",
   "metadata": {},
   "outputs": [
    {
     "data": {
      "text/plain": [
       "'this is my python class'"
      ]
     },
     "execution_count": 91,
     "metadata": {},
     "output_type": "execute_result"
    }
   ],
   "source": [
    "s2"
   ]
  },
  {
   "cell_type": "code",
   "execution_count": 92,
   "id": "05b46975",
   "metadata": {},
   "outputs": [
    {
     "data": {
      "text/plain": [
       "['thi', ' i', ' my python cla', '', '']"
      ]
     },
     "execution_count": 92,
     "metadata": {},
     "output_type": "execute_result"
    }
   ],
   "source": [
    "s2.split(\"s\")"
   ]
  },
  {
   "cell_type": "code",
   "execution_count": 93,
   "id": "3ba77411",
   "metadata": {},
   "outputs": [
    {
     "data": {
      "text/plain": [
       "['th', 's ', 's my python class']"
      ]
     },
     "execution_count": 93,
     "metadata": {},
     "output_type": "execute_result"
    }
   ],
   "source": [
    "s2.split(\"i\")"
   ]
  },
  {
   "cell_type": "code",
   "execution_count": 94,
   "id": "75855dd9",
   "metadata": {},
   "outputs": [
    {
     "data": {
      "text/plain": [
       "['th', 's ', 's my python class']"
      ]
     },
     "execution_count": 94,
     "metadata": {},
     "output_type": "execute_result"
    }
   ],
   "source": [
    "x= s2.split(\"i\")\n",
    "x"
   ]
  },
  {
   "cell_type": "code",
   "execution_count": 103,
   "id": "ef3f477e",
   "metadata": {},
   "outputs": [],
   "source": [
    "l = [\"A\",\"B\",\"C\",\"D\"]"
   ]
  },
  {
   "cell_type": "code",
   "execution_count": 107,
   "id": "b5377a02",
   "metadata": {},
   "outputs": [
    {
     "data": {
      "text/plain": [
       "'ABCD'"
      ]
     },
     "execution_count": 107,
     "metadata": {},
     "output_type": "execute_result"
    }
   ],
   "source": [
    "\"\".join(l)"
   ]
  },
  {
   "cell_type": "code",
   "execution_count": 108,
   "id": "d1bc8777",
   "metadata": {},
   "outputs": [
    {
     "data": {
      "text/plain": [
       "'A*B*C*D'"
      ]
     },
     "execution_count": 108,
     "metadata": {},
     "output_type": "execute_result"
    }
   ],
   "source": [
    "\"*\".join(l)"
   ]
  },
  {
   "cell_type": "code",
   "execution_count": 109,
   "id": "047292eb",
   "metadata": {},
   "outputs": [
    {
     "data": {
      "text/plain": [
       "'this is my python class'"
      ]
     },
     "execution_count": 109,
     "metadata": {},
     "output_type": "execute_result"
    }
   ],
   "source": [
    "s2"
   ]
  },
  {
   "cell_type": "code",
   "execution_count": 110,
   "id": "75ee4929",
   "metadata": {},
   "outputs": [
    {
     "data": {
      "text/plain": [
       "'this_is_my_python_class'"
      ]
     },
     "execution_count": 110,
     "metadata": {},
     "output_type": "execute_result"
    }
   ],
   "source": [
    "s2.replace(\" \",\"_\")"
   ]
  },
  {
   "cell_type": "code",
   "execution_count": 116,
   "id": "48b1ffc6",
   "metadata": {
    "id": "a6d9dcd3-4a61-4de9-a8f4-ebd1ee0a8abd"
   },
   "outputs": [],
   "source": [
    "s3 = \"my name,is, gaurav,narwal\""
   ]
  },
  {
   "cell_type": "code",
   "execution_count": 117,
   "id": "0e82f485",
   "metadata": {},
   "outputs": [
    {
     "data": {
      "text/plain": [
       "['my name', 'is', ' gaurav', 'narwal']"
      ]
     },
     "execution_count": 117,
     "metadata": {},
     "output_type": "execute_result"
    }
   ],
   "source": [
    "s3.split(\",\")"
   ]
  },
  {
   "cell_type": "code",
   "execution_count": null,
   "id": "a913602f",
   "metadata": {},
   "outputs": [],
   "source": []
  },
  {
   "cell_type": "code",
   "execution_count": 118,
   "id": "3337fbcb",
   "metadata": {},
   "outputs": [],
   "source": [
    "split_list = ['manisha','ankur','sahil']"
   ]
  },
  {
   "cell_type": "code",
   "execution_count": 119,
   "id": "8c439e69",
   "metadata": {},
   "outputs": [
    {
     "data": {
      "text/plain": [
       "'manisha_ankur_sahil'"
      ]
     },
     "execution_count": 119,
     "metadata": {},
     "output_type": "execute_result"
    }
   ],
   "source": [
    "\"_\".join(split_list)"
   ]
  },
  {
   "cell_type": "code",
   "execution_count": 120,
   "id": "fd2dd2fd",
   "metadata": {},
   "outputs": [
    {
     "data": {
      "text/plain": [
       "'th s  s my python class'"
      ]
     },
     "execution_count": 120,
     "metadata": {},
     "output_type": "execute_result"
    }
   ],
   "source": [
    "\" \".join(x)"
   ]
  },
  {
   "cell_type": "code",
   "execution_count": 121,
   "id": "205fe529",
   "metadata": {},
   "outputs": [],
   "source": [
    "l = ['gaurav',\"mohit\",'Rohit','asdf','bhumika','Esha']"
   ]
  },
  {
   "cell_type": "code",
   "execution_count": 122,
   "id": "d8b8a075",
   "metadata": {},
   "outputs": [
    {
     "data": {
      "text/plain": [
       "'gauravmohitRohitasdfbhumikaEsha'"
      ]
     },
     "execution_count": 122,
     "metadata": {},
     "output_type": "execute_result"
    }
   ],
   "source": [
    "\"\".join(l)"
   ]
  },
  {
   "cell_type": "code",
   "execution_count": 123,
   "id": "1b7a31f1-58e2-4f8e-a902-7bbe44d5fc9e",
   "metadata": {
    "id": "1b7a31f1-58e2-4f8e-a902-7bbe44d5fc9e"
   },
   "outputs": [],
   "source": [
    "s5 = \"     Python    abc          \""
   ]
  },
  {
   "cell_type": "code",
   "execution_count": 124,
   "id": "af5a341e",
   "metadata": {},
   "outputs": [
    {
     "data": {
      "text/plain": [
       "'Python    abc'"
      ]
     },
     "execution_count": 124,
     "metadata": {},
     "output_type": "execute_result"
    }
   ],
   "source": [
    "s5.strip()"
   ]
  },
  {
   "cell_type": "code",
   "execution_count": 125,
   "id": "e2ef3137",
   "metadata": {},
   "outputs": [
    {
     "data": {
      "text/plain": [
       "'Python    abc          '"
      ]
     },
     "execution_count": 125,
     "metadata": {},
     "output_type": "execute_result"
    }
   ],
   "source": [
    "s5.lstrip()"
   ]
  },
  {
   "cell_type": "code",
   "execution_count": 126,
   "id": "d46eca28",
   "metadata": {},
   "outputs": [
    {
     "data": {
      "text/plain": [
       "'     Python    abc'"
      ]
     },
     "execution_count": 126,
     "metadata": {},
     "output_type": "execute_result"
    }
   ],
   "source": [
    "s5.rstrip()"
   ]
  },
  {
   "cell_type": "code",
   "execution_count": 134,
   "id": "5fd12dbe",
   "metadata": {},
   "outputs": [],
   "source": [
    "s1 = \"5274asd\""
   ]
  },
  {
   "cell_type": "code",
   "execution_count": 135,
   "id": "38b40276-bd19-4215-9ba8-f06613057e58",
   "metadata": {
    "id": "38b40276-bd19-4215-9ba8-f06613057e58",
    "outputId": "b6d750aa-04f1-460b-d148-a139ef0b2451",
    "scrolled": true
   },
   "outputs": [
    {
     "data": {
      "text/plain": [
       "False"
      ]
     },
     "execution_count": 135,
     "metadata": {},
     "output_type": "execute_result"
    }
   ],
   "source": [
    "s1.isnumeric()"
   ]
  },
  {
   "cell_type": "code",
   "execution_count": 136,
   "id": "2bdd473f-a8e8-4b90-8947-e730e22411f1",
   "metadata": {
    "id": "2bdd473f-a8e8-4b90-8947-e730e22411f1",
    "outputId": "fef9648d-8dd6-4415-c4bd-79dddf256121",
    "scrolled": true
   },
   "outputs": [
    {
     "data": {
      "text/plain": [
       "True"
      ]
     },
     "execution_count": 136,
     "metadata": {},
     "output_type": "execute_result"
    }
   ],
   "source": [
    "s1.islower()"
   ]
  },
  {
   "cell_type": "code",
   "execution_count": 137,
   "id": "ec981b51",
   "metadata": {},
   "outputs": [
    {
     "data": {
      "text/plain": [
       "True"
      ]
     },
     "execution_count": 137,
     "metadata": {},
     "output_type": "execute_result"
    }
   ],
   "source": [
    "s1.isalnum()"
   ]
  },
  {
   "cell_type": "code",
   "execution_count": 138,
   "id": "83938615",
   "metadata": {},
   "outputs": [
    {
     "data": {
      "text/plain": [
       "False"
      ]
     },
     "execution_count": 138,
     "metadata": {},
     "output_type": "execute_result"
    }
   ],
   "source": [
    "s1.isupper()"
   ]
  },
  {
   "cell_type": "code",
   "execution_count": 139,
   "id": "934694fc",
   "metadata": {},
   "outputs": [
    {
     "data": {
      "text/plain": [
       "False"
      ]
     },
     "execution_count": 139,
     "metadata": {},
     "output_type": "execute_result"
    }
   ],
   "source": [
    "s1.isalpha()"
   ]
  },
  {
   "cell_type": "code",
   "execution_count": 140,
   "id": "30c4e781",
   "metadata": {},
   "outputs": [
    {
     "data": {
      "text/plain": [
       "False"
      ]
     },
     "execution_count": 140,
     "metadata": {},
     "output_type": "execute_result"
    }
   ],
   "source": [
    "s1.isnumeric()"
   ]
  },
  {
   "cell_type": "code",
   "execution_count": 141,
   "id": "b2ea2c08",
   "metadata": {},
   "outputs": [
    {
     "data": {
      "text/plain": [
       "True"
      ]
     },
     "execution_count": 141,
     "metadata": {},
     "output_type": "execute_result"
    }
   ],
   "source": [
    "s1.isalnum()"
   ]
  },
  {
   "cell_type": "markdown",
   "id": "bb34f0ac",
   "metadata": {},
   "source": [
    "# List Methods"
   ]
  },
  {
   "cell_type": "code",
   "execution_count": 180,
   "id": "bf834a5f-26e3-4dbf-a300-eb52ed48780f",
   "metadata": {
    "id": "bf834a5f-26e3-4dbf-a300-eb52ed48780f",
    "outputId": "8ac1ff72-306b-4811-aac8-260254382313"
   },
   "outputs": [],
   "source": [
    "l1 = [1, 2, 3, 4, 5, 'Gaurav', 'Narwal', 345.565, True, [3, 4, 5, 6]]"
   ]
  },
  {
   "cell_type": "code",
   "execution_count": 170,
   "id": "16af8472-3b55-48bf-a78b-b0cf703b959b",
   "metadata": {
    "id": "16af8472-3b55-48bf-a78b-b0cf703b959b",
    "outputId": "32a17bd8-96b4-40f9-d6ed-99dd2ffaf109"
   },
   "outputs": [],
   "source": [
    "l2 = [3, 4, 5, 'Nikhil', 'monu']"
   ]
  },
  {
   "cell_type": "code",
   "execution_count": 158,
   "id": "d9b8536a",
   "metadata": {},
   "outputs": [
    {
     "data": {
      "text/plain": [
       "[1, 2, 3, 4, 5, 'Gaurav', 'Narwal', 345.565, True, [3, 4, 5, 6]]"
      ]
     },
     "execution_count": 158,
     "metadata": {},
     "output_type": "execute_result"
    }
   ],
   "source": [
    "l1"
   ]
  },
  {
   "cell_type": "code",
   "execution_count": 159,
   "id": "da9686a9",
   "metadata": {},
   "outputs": [
    {
     "data": {
      "text/plain": [
       "[3, 4, 5, 'Nikhil', 'monu']"
      ]
     },
     "execution_count": 159,
     "metadata": {},
     "output_type": "execute_result"
    }
   ],
   "source": [
    "l2"
   ]
  },
  {
   "cell_type": "code",
   "execution_count": 160,
   "id": "4a03fa75",
   "metadata": {},
   "outputs": [],
   "source": [
    "l2.append(\"Rahul\")"
   ]
  },
  {
   "cell_type": "code",
   "execution_count": 171,
   "id": "3afadd7c",
   "metadata": {},
   "outputs": [
    {
     "data": {
      "text/plain": [
       "[3, 4, 5, 'Nikhil', 'monu']"
      ]
     },
     "execution_count": 171,
     "metadata": {},
     "output_type": "execute_result"
    }
   ],
   "source": [
    "l2"
   ]
  },
  {
   "cell_type": "code",
   "execution_count": 172,
   "id": "aa33b961",
   "metadata": {},
   "outputs": [],
   "source": [
    "l2.insert(2,\"Suyash\")"
   ]
  },
  {
   "cell_type": "code",
   "execution_count": 173,
   "id": "5a3a75fb",
   "metadata": {},
   "outputs": [
    {
     "data": {
      "text/plain": [
       "[3, 4, 'Suyash', 5, 'Nikhil', 'monu']"
      ]
     },
     "execution_count": 173,
     "metadata": {},
     "output_type": "execute_result"
    }
   ],
   "source": [
    "l2"
   ]
  },
  {
   "cell_type": "code",
   "execution_count": 174,
   "id": "65a3f105",
   "metadata": {},
   "outputs": [
    {
     "data": {
      "text/plain": [
       "[1,\n",
       " 2,\n",
       " 3,\n",
       " 4,\n",
       " 5,\n",
       " 'Gaurav',\n",
       " 'Narwal',\n",
       " 345.565,\n",
       " True,\n",
       " [3, 4, 5, 6],\n",
       " 3,\n",
       " 4,\n",
       " 'Suyash',\n",
       " 5,\n",
       " 'Nikhil',\n",
       " 'monu']"
      ]
     },
     "execution_count": 174,
     "metadata": {},
     "output_type": "execute_result"
    }
   ],
   "source": [
    "l1 + l2"
   ]
  },
  {
   "cell_type": "code",
   "execution_count": 176,
   "id": "56e0d68f",
   "metadata": {},
   "outputs": [],
   "source": [
    "l1.append(l2)"
   ]
  },
  {
   "cell_type": "code",
   "execution_count": 177,
   "id": "4fdcc1c2",
   "metadata": {},
   "outputs": [
    {
     "data": {
      "text/plain": [
       "[1,\n",
       " 2,\n",
       " 3,\n",
       " 4,\n",
       " 5,\n",
       " 'Gaurav',\n",
       " 'Narwal',\n",
       " 345.565,\n",
       " True,\n",
       " [3, 4, 5, 6],\n",
       " [3, 4, 'Suyash', 5, 'Nikhil', 'monu']]"
      ]
     },
     "execution_count": 177,
     "metadata": {},
     "output_type": "execute_result"
    }
   ],
   "source": [
    "l1"
   ]
  },
  {
   "cell_type": "code",
   "execution_count": 178,
   "id": "b1551132",
   "metadata": {},
   "outputs": [],
   "source": [
    "l1.extend(l2)"
   ]
  },
  {
   "cell_type": "code",
   "execution_count": 179,
   "id": "92e61963",
   "metadata": {},
   "outputs": [
    {
     "data": {
      "text/plain": [
       "[1,\n",
       " 2,\n",
       " 3,\n",
       " 4,\n",
       " 5,\n",
       " 'Gaurav',\n",
       " 'Narwal',\n",
       " 345.565,\n",
       " True,\n",
       " [3, 4, 5, 6],\n",
       " [3, 4, 'Suyash', 5, 'Nikhil', 'monu'],\n",
       " 3,\n",
       " 4,\n",
       " 'Suyash',\n",
       " 5,\n",
       " 'Nikhil',\n",
       " 'monu']"
      ]
     },
     "execution_count": 179,
     "metadata": {},
     "output_type": "execute_result"
    }
   ],
   "source": [
    "l1"
   ]
  },
  {
   "cell_type": "code",
   "execution_count": 15,
   "id": "4d3b2cdc",
   "metadata": {},
   "outputs": [],
   "source": [
    "l1.append(\"Gunjan\")"
   ]
  },
  {
   "cell_type": "code",
   "execution_count": 16,
   "id": "a61720ce",
   "metadata": {},
   "outputs": [
    {
     "data": {
      "text/plain": [
       "[1, 2, 3, 4, 5, 'Gaurav', 'Narwal', 345.565, True, [3, 4, 5, 6], 'Gunjan']"
      ]
     },
     "execution_count": 16,
     "metadata": {},
     "output_type": "execute_result"
    }
   ],
   "source": [
    "l1"
   ]
  },
  {
   "cell_type": "code",
   "execution_count": 18,
   "id": "0190f2a6",
   "metadata": {},
   "outputs": [],
   "source": [
    "l1.insert(3,\"Himanshu\")"
   ]
  },
  {
   "cell_type": "code",
   "execution_count": 21,
   "id": "31c4b94c",
   "metadata": {},
   "outputs": [
    {
     "data": {
      "text/plain": [
       "[1,\n",
       " 2,\n",
       " 3,\n",
       " 'Himanshu',\n",
       " 4,\n",
       " 5,\n",
       " 'Gaurav',\n",
       " 'Narwal',\n",
       " 345.565,\n",
       " True,\n",
       " [3, 4, 5, 6],\n",
       " 'Gunjan']"
      ]
     },
     "execution_count": 21,
     "metadata": {},
     "output_type": "execute_result"
    }
   ],
   "source": [
    "l1"
   ]
  },
  {
   "cell_type": "code",
   "execution_count": 22,
   "id": "40c0c4ba",
   "metadata": {},
   "outputs": [
    {
     "data": {
      "text/plain": [
       "[3, 4, 5, 'Nikhil', 'monu']"
      ]
     },
     "execution_count": 22,
     "metadata": {},
     "output_type": "execute_result"
    }
   ],
   "source": [
    "l2"
   ]
  },
  {
   "cell_type": "code",
   "execution_count": 23,
   "id": "8fafbf44",
   "metadata": {},
   "outputs": [
    {
     "data": {
      "text/plain": [
       "[1,\n",
       " 2,\n",
       " 3,\n",
       " 'Himanshu',\n",
       " 4,\n",
       " 5,\n",
       " 'Gaurav',\n",
       " 'Narwal',\n",
       " 345.565,\n",
       " True,\n",
       " [3, 4, 5, 6],\n",
       " 'Gunjan',\n",
       " 3,\n",
       " 4,\n",
       " 5,\n",
       " 'Nikhil',\n",
       " 'monu']"
      ]
     },
     "execution_count": 23,
     "metadata": {},
     "output_type": "execute_result"
    }
   ],
   "source": [
    "l1 + l2"
   ]
  },
  {
   "cell_type": "code",
   "execution_count": 24,
   "id": "08af5647",
   "metadata": {},
   "outputs": [],
   "source": [
    "l1.append(l2)"
   ]
  },
  {
   "cell_type": "code",
   "execution_count": 25,
   "id": "3e1c0b46",
   "metadata": {},
   "outputs": [
    {
     "data": {
      "text/plain": [
       "[1,\n",
       " 2,\n",
       " 3,\n",
       " 'Himanshu',\n",
       " 4,\n",
       " 5,\n",
       " 'Gaurav',\n",
       " 'Narwal',\n",
       " 345.565,\n",
       " True,\n",
       " [3, 4, 5, 6],\n",
       " 'Gunjan',\n",
       " [3, 4, 5, 'Nikhil', 'monu']]"
      ]
     },
     "execution_count": 25,
     "metadata": {},
     "output_type": "execute_result"
    }
   ],
   "source": [
    "l1"
   ]
  },
  {
   "cell_type": "code",
   "execution_count": 26,
   "id": "513a732a",
   "metadata": {},
   "outputs": [],
   "source": [
    "l1.extend(l2)"
   ]
  },
  {
   "cell_type": "code",
   "execution_count": 186,
   "id": "fc8e71cd",
   "metadata": {},
   "outputs": [
    {
     "data": {
      "text/plain": [
       "[1, 2, 3, 4, 5, 'Gaurav', 'Narwal', 345.565, True, [3, 4, 5, 6, 'ABC']]"
      ]
     },
     "execution_count": 186,
     "metadata": {},
     "output_type": "execute_result"
    }
   ],
   "source": [
    "l1"
   ]
  },
  {
   "cell_type": "code",
   "execution_count": 189,
   "id": "6d44e976",
   "metadata": {},
   "outputs": [
    {
     "data": {
      "text/plain": [
       "True"
      ]
     },
     "execution_count": 189,
     "metadata": {},
     "output_type": "execute_result"
    }
   ],
   "source": [
    "l1.pop()"
   ]
  },
  {
   "cell_type": "code",
   "execution_count": 190,
   "id": "fe208261",
   "metadata": {},
   "outputs": [
    {
     "data": {
      "text/plain": [
       "[1, 2, 3, 4, 5, 'Gaurav', 'Narwal', 345.565]"
      ]
     },
     "execution_count": 190,
     "metadata": {},
     "output_type": "execute_result"
    }
   ],
   "source": [
    "l1"
   ]
  },
  {
   "cell_type": "code",
   "execution_count": 191,
   "id": "daea59b5",
   "metadata": {},
   "outputs": [
    {
     "data": {
      "text/plain": [
       "3"
      ]
     },
     "execution_count": 191,
     "metadata": {},
     "output_type": "execute_result"
    }
   ],
   "source": [
    "l1.pop(2)"
   ]
  },
  {
   "cell_type": "code",
   "execution_count": 192,
   "id": "0ed88cc0",
   "metadata": {},
   "outputs": [
    {
     "data": {
      "text/plain": [
       "[1, 2, 4, 5, 'Gaurav', 'Narwal', 345.565]"
      ]
     },
     "execution_count": 192,
     "metadata": {},
     "output_type": "execute_result"
    }
   ],
   "source": [
    "l1"
   ]
  },
  {
   "cell_type": "code",
   "execution_count": 193,
   "id": "de4d93dc",
   "metadata": {},
   "outputs": [
    {
     "data": {
      "text/plain": [
       "1"
      ]
     },
     "execution_count": 193,
     "metadata": {},
     "output_type": "execute_result"
    }
   ],
   "source": [
    "l1.count(5)"
   ]
  },
  {
   "cell_type": "code",
   "execution_count": 197,
   "id": "5a61f3f7",
   "metadata": {},
   "outputs": [
    {
     "data": {
      "text/plain": [
       "[1, 2, 4, 5, 'Gaurav', 'Narwal', 345.565]"
      ]
     },
     "execution_count": 197,
     "metadata": {},
     "output_type": "execute_result"
    }
   ],
   "source": [
    "l1"
   ]
  },
  {
   "cell_type": "code",
   "execution_count": 198,
   "id": "114c7d71-4fb8-4381-a884-c53f918ce234",
   "metadata": {
    "id": "114c7d71-4fb8-4381-a884-c53f918ce234"
   },
   "outputs": [],
   "source": [
    "l1.clear()"
   ]
  },
  {
   "cell_type": "code",
   "execution_count": 199,
   "id": "a7883002-4d2a-4f71-be92-dc8c64674e8f",
   "metadata": {
    "id": "a7883002-4d2a-4f71-be92-dc8c64674e8f",
    "outputId": "d37504ed-b1d0-466b-8696-f1702f77bdf4"
   },
   "outputs": [
    {
     "data": {
      "text/plain": [
       "[]"
      ]
     },
     "execution_count": 199,
     "metadata": {},
     "output_type": "execute_result"
    }
   ],
   "source": [
    "l1"
   ]
  },
  {
   "cell_type": "code",
   "execution_count": 200,
   "id": "0e1b4619",
   "metadata": {},
   "outputs": [],
   "source": [
    "del l1"
   ]
  },
  {
   "cell_type": "code",
   "execution_count": 201,
   "id": "51abf0f7",
   "metadata": {},
   "outputs": [
    {
     "ename": "NameError",
     "evalue": "name 'l1' is not defined",
     "output_type": "error",
     "traceback": [
      "\u001b[1;31m---------------------------------------------------------------------------\u001b[0m",
      "\u001b[1;31mNameError\u001b[0m                                 Traceback (most recent call last)",
      "\u001b[1;32m~\\AppData\\Local\\Temp\\ipykernel_13892\\2585568370.py\u001b[0m in \u001b[0;36m<module>\u001b[1;34m\u001b[0m\n\u001b[1;32m----> 1\u001b[1;33m \u001b[0ml1\u001b[0m\u001b[1;33m\u001b[0m\u001b[1;33m\u001b[0m\u001b[0m\n\u001b[0m",
      "\u001b[1;31mNameError\u001b[0m: name 'l1' is not defined"
     ]
    }
   ],
   "source": [
    "l1"
   ]
  },
  {
   "cell_type": "code",
   "execution_count": 202,
   "id": "56311173",
   "metadata": {},
   "outputs": [],
   "source": [
    "z = [1,8,6,7,2,2,2,2,2]"
   ]
  },
  {
   "cell_type": "code",
   "execution_count": 203,
   "id": "db24aaa7",
   "metadata": {},
   "outputs": [
    {
     "data": {
      "text/plain": [
       "5"
      ]
     },
     "execution_count": 203,
     "metadata": {},
     "output_type": "execute_result"
    }
   ],
   "source": [
    "z.count(2)"
   ]
  },
  {
   "cell_type": "code",
   "execution_count": 204,
   "id": "4961b8ae-aa3b-4b39-95bc-f458b8b4aa7d",
   "metadata": {
    "id": "4961b8ae-aa3b-4b39-95bc-f458b8b4aa7d",
    "outputId": "0845f837-e49a-40dc-f3cc-40675b60ff05"
   },
   "outputs": [],
   "source": [
    "z.sort()"
   ]
  },
  {
   "cell_type": "code",
   "execution_count": 205,
   "id": "6b7a9b31",
   "metadata": {},
   "outputs": [
    {
     "data": {
      "text/plain": [
       "[1, 2, 2, 2, 2, 2, 6, 7, 8]"
      ]
     },
     "execution_count": 205,
     "metadata": {},
     "output_type": "execute_result"
    }
   ],
   "source": [
    "z"
   ]
  },
  {
   "cell_type": "code",
   "execution_count": 206,
   "id": "a03d5c62",
   "metadata": {},
   "outputs": [],
   "source": [
    "z.sort(reverse=True)"
   ]
  },
  {
   "cell_type": "code",
   "execution_count": 207,
   "id": "a2d48b1b",
   "metadata": {},
   "outputs": [
    {
     "data": {
      "text/plain": [
       "[8, 7, 6, 2, 2, 2, 2, 2, 1]"
      ]
     },
     "execution_count": 207,
     "metadata": {},
     "output_type": "execute_result"
    }
   ],
   "source": [
    "z"
   ]
  },
  {
   "cell_type": "markdown",
   "id": "ea607092",
   "metadata": {},
   "source": [
    "# Tuple Functions"
   ]
  },
  {
   "cell_type": "code",
   "execution_count": 208,
   "id": "4b80d358-90ba-4e97-8580-adc9a0752456",
   "metadata": {
    "id": "4b80d358-90ba-4e97-8580-adc9a0752456",
    "outputId": "e192590d-b897-4b33-8142-dc72dc1b1ea9"
   },
   "outputs": [],
   "source": [
    "t = (9, 5,7, 7, 6, 4, 1,5,9,6, 7)"
   ]
  },
  {
   "cell_type": "code",
   "execution_count": 209,
   "id": "12e91965",
   "metadata": {},
   "outputs": [
    {
     "data": {
      "text/plain": [
       "(9, 5, 7, 7, 6, 4, 1, 5, 9, 6, 7)"
      ]
     },
     "execution_count": 209,
     "metadata": {},
     "output_type": "execute_result"
    }
   ],
   "source": [
    "t"
   ]
  },
  {
   "cell_type": "code",
   "execution_count": 210,
   "id": "cea97b45",
   "metadata": {},
   "outputs": [
    {
     "data": {
      "text/plain": [
       "3"
      ]
     },
     "execution_count": 210,
     "metadata": {},
     "output_type": "execute_result"
    }
   ],
   "source": [
    "t.count(7)"
   ]
  },
  {
   "cell_type": "code",
   "execution_count": 211,
   "id": "2361ebe4",
   "metadata": {},
   "outputs": [
    {
     "data": {
      "text/plain": [
       "6"
      ]
     },
     "execution_count": 211,
     "metadata": {},
     "output_type": "execute_result"
    }
   ],
   "source": [
    "t.index(1)"
   ]
  },
  {
   "cell_type": "code",
   "execution_count": null,
   "id": "1c56e311",
   "metadata": {},
   "outputs": [],
   "source": [
    "t."
   ]
  },
  {
   "cell_type": "markdown",
   "id": "1e57c050",
   "metadata": {
    "id": "612aaa5c-378b-458f-a1cd-960f17179980",
    "outputId": "443f259e-51c1-4d3b-ff47-410c673851df"
   },
   "source": [
    "# Sets"
   ]
  },
  {
   "cell_type": "code",
   "execution_count": 1,
   "id": "e2abfe20-ff95-4afd-b290-0dd69622f4e8",
   "metadata": {
    "id": "e2abfe20-ff95-4afd-b290-0dd69622f4e8"
   },
   "outputs": [],
   "source": [
    "s={3,4,54,6,6,43,3,3,3,5,5,6}"
   ]
  },
  {
   "cell_type": "code",
   "execution_count": 2,
   "id": "a811ede4",
   "metadata": {
    "scrolled": true
   },
   "outputs": [
    {
     "data": {
      "text/plain": [
       "{3, 4, 5, 6, 43, 54}"
      ]
     },
     "execution_count": 2,
     "metadata": {},
     "output_type": "execute_result"
    }
   ],
   "source": [
    "s"
   ]
  },
  {
   "cell_type": "code",
   "execution_count": 5,
   "id": "6fc9ea75",
   "metadata": {},
   "outputs": [],
   "source": [
    "s.add(50)"
   ]
  },
  {
   "cell_type": "code",
   "execution_count": 6,
   "id": "71b82db3",
   "metadata": {},
   "outputs": [
    {
     "data": {
      "text/plain": [
       "{3, 4, 5, 6, 43, 50, 54}"
      ]
     },
     "execution_count": 6,
     "metadata": {},
     "output_type": "execute_result"
    }
   ],
   "source": [
    "s"
   ]
  },
  {
   "cell_type": "code",
   "execution_count": 7,
   "id": "76238424",
   "metadata": {},
   "outputs": [],
   "source": [
    "s.add(1)"
   ]
  },
  {
   "cell_type": "code",
   "execution_count": 8,
   "id": "89d2f4dc",
   "metadata": {},
   "outputs": [
    {
     "data": {
      "text/plain": [
       "{1, 3, 4, 5, 6, 43, 50, 54}"
      ]
     },
     "execution_count": 8,
     "metadata": {},
     "output_type": "execute_result"
    }
   ],
   "source": [
    "s"
   ]
  },
  {
   "cell_type": "code",
   "execution_count": 9,
   "id": "0656a088-722c-42e2-8523-0cedb1b83a86",
   "metadata": {
    "id": "0656a088-722c-42e2-8523-0cedb1b83a86"
   },
   "outputs": [],
   "source": [
    "s.add(40)"
   ]
  },
  {
   "cell_type": "code",
   "execution_count": 10,
   "id": "e5d55e06",
   "metadata": {},
   "outputs": [
    {
     "data": {
      "text/plain": [
       "{1, 3, 4, 5, 6, 40, 43, 50, 54}"
      ]
     },
     "execution_count": 10,
     "metadata": {},
     "output_type": "execute_result"
    }
   ],
   "source": [
    "s"
   ]
  },
  {
   "cell_type": "code",
   "execution_count": 11,
   "id": "f2b9ce4b",
   "metadata": {},
   "outputs": [],
   "source": [
    "s.discard(6)"
   ]
  },
  {
   "cell_type": "code",
   "execution_count": 12,
   "id": "d314f980",
   "metadata": {},
   "outputs": [
    {
     "data": {
      "text/plain": [
       "{1, 3, 4, 5, 40, 43, 50, 54}"
      ]
     },
     "execution_count": 12,
     "metadata": {},
     "output_type": "execute_result"
    }
   ],
   "source": [
    "s"
   ]
  },
  {
   "cell_type": "code",
   "execution_count": 13,
   "id": "5992ad88",
   "metadata": {},
   "outputs": [
    {
     "data": {
      "text/plain": [
       "1"
      ]
     },
     "execution_count": 13,
     "metadata": {},
     "output_type": "execute_result"
    }
   ],
   "source": [
    "s.pop()"
   ]
  },
  {
   "cell_type": "code",
   "execution_count": 14,
   "id": "28735670",
   "metadata": {},
   "outputs": [
    {
     "data": {
      "text/plain": [
       "{3, 4, 5, 40, 43, 50, 54}"
      ]
     },
     "execution_count": 14,
     "metadata": {},
     "output_type": "execute_result"
    }
   ],
   "source": [
    "s"
   ]
  },
  {
   "cell_type": "code",
   "execution_count": 17,
   "id": "966ed521",
   "metadata": {},
   "outputs": [
    {
     "data": {
      "text/plain": [
       "3"
      ]
     },
     "execution_count": 17,
     "metadata": {},
     "output_type": "execute_result"
    }
   ],
   "source": [
    "s.pop()"
   ]
  },
  {
   "cell_type": "code",
   "execution_count": 20,
   "id": "907ecd7b",
   "metadata": {},
   "outputs": [
    {
     "ename": "KeyError",
     "evalue": "5",
     "output_type": "error",
     "traceback": [
      "\u001b[1;31m---------------------------------------------------------------------------\u001b[0m",
      "\u001b[1;31mKeyError\u001b[0m                                  Traceback (most recent call last)",
      "\u001b[1;32m~\\AppData\\Local\\Temp\\ipykernel_13112\\1954191563.py\u001b[0m in \u001b[0;36m<module>\u001b[1;34m\u001b[0m\n\u001b[1;32m----> 1\u001b[1;33m \u001b[0ms\u001b[0m\u001b[1;33m.\u001b[0m\u001b[0mremove\u001b[0m\u001b[1;33m(\u001b[0m\u001b[1;36m5\u001b[0m\u001b[1;33m)\u001b[0m\u001b[1;33m\u001b[0m\u001b[1;33m\u001b[0m\u001b[0m\n\u001b[0m",
      "\u001b[1;31mKeyError\u001b[0m: 5"
     ]
    }
   ],
   "source": [
    "s.remove(5)"
   ]
  },
  {
   "cell_type": "code",
   "execution_count": 22,
   "id": "d27e3c0c",
   "metadata": {},
   "outputs": [
    {
     "data": {
      "text/plain": [
       "{4, 40, 43, 50, 54}"
      ]
     },
     "execution_count": 22,
     "metadata": {},
     "output_type": "execute_result"
    }
   ],
   "source": [
    "s"
   ]
  },
  {
   "cell_type": "code",
   "execution_count": 23,
   "id": "5487efba",
   "metadata": {},
   "outputs": [],
   "source": [
    "s.discard(5)"
   ]
  },
  {
   "cell_type": "code",
   "execution_count": 24,
   "id": "988bb14d",
   "metadata": {},
   "outputs": [
    {
     "data": {
      "text/plain": [
       "{4, 40, 43, 50, 54}"
      ]
     },
     "execution_count": 24,
     "metadata": {},
     "output_type": "execute_result"
    }
   ],
   "source": [
    "s"
   ]
  },
  {
   "cell_type": "code",
   "execution_count": 25,
   "id": "5bad43a2",
   "metadata": {},
   "outputs": [
    {
     "ename": "KeyError",
     "evalue": "5",
     "output_type": "error",
     "traceback": [
      "\u001b[1;31m---------------------------------------------------------------------------\u001b[0m",
      "\u001b[1;31mKeyError\u001b[0m                                  Traceback (most recent call last)",
      "\u001b[1;32m~\\AppData\\Local\\Temp\\ipykernel_13112\\1954191563.py\u001b[0m in \u001b[0;36m<module>\u001b[1;34m\u001b[0m\n\u001b[1;32m----> 1\u001b[1;33m \u001b[0ms\u001b[0m\u001b[1;33m.\u001b[0m\u001b[0mremove\u001b[0m\u001b[1;33m(\u001b[0m\u001b[1;36m5\u001b[0m\u001b[1;33m)\u001b[0m\u001b[1;33m\u001b[0m\u001b[1;33m\u001b[0m\u001b[0m\n\u001b[0m",
      "\u001b[1;31mKeyError\u001b[0m: 5"
     ]
    }
   ],
   "source": [
    "s.remove(5)"
   ]
  },
  {
   "cell_type": "code",
   "execution_count": 74,
   "id": "4a0ea55f",
   "metadata": {},
   "outputs": [
    {
     "data": {
      "text/plain": [
       "{4, 43, 50, 54}"
      ]
     },
     "execution_count": 74,
     "metadata": {},
     "output_type": "execute_result"
    }
   ],
   "source": [
    "s"
   ]
  },
  {
   "cell_type": "code",
   "execution_count": 13,
   "id": "7fc7868f",
   "metadata": {},
   "outputs": [
    {
     "ename": "KeyError",
     "evalue": "66",
     "output_type": "error",
     "traceback": [
      "\u001b[1;31m---------------------------------------------------------------------------\u001b[0m",
      "\u001b[1;31mKeyError\u001b[0m                                  Traceback (most recent call last)",
      "\u001b[1;32m~\\AppData\\Local\\Temp\\ipykernel_16512\\819061111.py\u001b[0m in \u001b[0;36m<module>\u001b[1;34m\u001b[0m\n\u001b[1;32m----> 1\u001b[1;33m \u001b[0ms\u001b[0m\u001b[1;33m.\u001b[0m\u001b[0mremove\u001b[0m\u001b[1;33m(\u001b[0m\u001b[1;36m66\u001b[0m\u001b[1;33m)\u001b[0m\u001b[1;33m\u001b[0m\u001b[1;33m\u001b[0m\u001b[0m\n\u001b[0m",
      "\u001b[1;31mKeyError\u001b[0m: 66"
     ]
    }
   ],
   "source": [
    "s.remove(66)"
   ]
  },
  {
   "cell_type": "code",
   "execution_count": 14,
   "id": "dc5a9c7e",
   "metadata": {},
   "outputs": [],
   "source": [
    "s.discard(66)"
   ]
  },
  {
   "cell_type": "code",
   "execution_count": 15,
   "id": "19603a00",
   "metadata": {},
   "outputs": [
    {
     "data": {
      "text/plain": [
       "{1, 3, 5, 6, 43, 50, 54}"
      ]
     },
     "execution_count": 15,
     "metadata": {},
     "output_type": "execute_result"
    }
   ],
   "source": [
    "s"
   ]
  },
  {
   "cell_type": "code",
   "execution_count": 16,
   "id": "b92673b5",
   "metadata": {},
   "outputs": [
    {
     "data": {
      "text/plain": [
       "1"
      ]
     },
     "execution_count": 16,
     "metadata": {},
     "output_type": "execute_result"
    }
   ],
   "source": [
    "s.pop()"
   ]
  },
  {
   "cell_type": "code",
   "execution_count": 17,
   "id": "79657c0f",
   "metadata": {},
   "outputs": [
    {
     "data": {
      "text/plain": [
       "{3, 5, 6, 43, 50, 54}"
      ]
     },
     "execution_count": 17,
     "metadata": {},
     "output_type": "execute_result"
    }
   ],
   "source": [
    "s"
   ]
  },
  {
   "cell_type": "code",
   "execution_count": 18,
   "id": "cc33d6de",
   "metadata": {},
   "outputs": [],
   "source": [
    "s.discard(5)"
   ]
  },
  {
   "cell_type": "code",
   "execution_count": 19,
   "id": "f1516109",
   "metadata": {},
   "outputs": [
    {
     "data": {
      "text/plain": [
       "{3, 6, 43, 50, 54}"
      ]
     },
     "execution_count": 19,
     "metadata": {},
     "output_type": "execute_result"
    }
   ],
   "source": [
    "s"
   ]
  },
  {
   "cell_type": "code",
   "execution_count": 20,
   "id": "958222e7-2099-4540-8d2f-fed31547da57",
   "metadata": {
    "id": "958222e7-2099-4540-8d2f-fed31547da57",
    "outputId": "9b897709-da0f-4934-ce4c-51f3530b48cc",
    "scrolled": true
   },
   "outputs": [
    {
     "data": {
      "text/plain": [
       "3"
      ]
     },
     "execution_count": 20,
     "metadata": {},
     "output_type": "execute_result"
    }
   ],
   "source": [
    "s.pop()"
   ]
  },
  {
   "cell_type": "code",
   "execution_count": 21,
   "id": "13a9515b",
   "metadata": {},
   "outputs": [
    {
     "data": {
      "text/plain": [
       "{6, 43, 50, 54}"
      ]
     },
     "execution_count": 21,
     "metadata": {},
     "output_type": "execute_result"
    }
   ],
   "source": [
    "s"
   ]
  },
  {
   "cell_type": "code",
   "execution_count": 23,
   "id": "d9a52a28",
   "metadata": {},
   "outputs": [],
   "source": [
    "s = {1,2,3,4,85,85,41,58}"
   ]
  },
  {
   "cell_type": "code",
   "execution_count": 30,
   "id": "c264ffe0",
   "metadata": {},
   "outputs": [
    {
     "data": {
      "text/plain": [
       "{1, 2, 3, 4, 41, 58, 85}"
      ]
     },
     "execution_count": 30,
     "metadata": {},
     "output_type": "execute_result"
    }
   ],
   "source": [
    "s"
   ]
  },
  {
   "cell_type": "code",
   "execution_count": 24,
   "id": "71b75b04",
   "metadata": {},
   "outputs": [],
   "source": [
    "s.remove(4)"
   ]
  },
  {
   "cell_type": "code",
   "execution_count": 25,
   "id": "bed2f9d1",
   "metadata": {},
   "outputs": [
    {
     "data": {
      "text/plain": [
       "{1, 2, 3, 41, 58, 85}"
      ]
     },
     "execution_count": 25,
     "metadata": {},
     "output_type": "execute_result"
    }
   ],
   "source": [
    "s"
   ]
  },
  {
   "cell_type": "code",
   "execution_count": 26,
   "id": "0e29af37",
   "metadata": {},
   "outputs": [],
   "source": [
    "s.discard(54)"
   ]
  },
  {
   "cell_type": "code",
   "execution_count": 27,
   "id": "ca3aa12a",
   "metadata": {},
   "outputs": [
    {
     "data": {
      "text/plain": [
       "{1, 2, 3, 41, 58, 85}"
      ]
     },
     "execution_count": 27,
     "metadata": {},
     "output_type": "execute_result"
    }
   ],
   "source": [
    "s"
   ]
  },
  {
   "cell_type": "code",
   "execution_count": 28,
   "id": "48835f37",
   "metadata": {},
   "outputs": [
    {
     "ename": "KeyError",
     "evalue": "50",
     "output_type": "error",
     "traceback": [
      "\u001b[1;31m---------------------------------------------------------------------------\u001b[0m",
      "\u001b[1;31mKeyError\u001b[0m                                  Traceback (most recent call last)",
      "\u001b[1;32m~\\AppData\\Local\\Temp\\ipykernel_16512\\2383628386.py\u001b[0m in \u001b[0;36m<module>\u001b[1;34m\u001b[0m\n\u001b[1;32m----> 1\u001b[1;33m \u001b[0ms\u001b[0m\u001b[1;33m.\u001b[0m\u001b[0mremove\u001b[0m\u001b[1;33m(\u001b[0m\u001b[1;36m50\u001b[0m\u001b[1;33m)\u001b[0m\u001b[1;33m\u001b[0m\u001b[1;33m\u001b[0m\u001b[0m\n\u001b[0m",
      "\u001b[1;31mKeyError\u001b[0m: 50"
     ]
    }
   ],
   "source": [
    "s.remove(50)"
   ]
  },
  {
   "cell_type": "code",
   "execution_count": 29,
   "id": "8513054b",
   "metadata": {},
   "outputs": [],
   "source": [
    "s.add(80)"
   ]
  },
  {
   "cell_type": "code",
   "execution_count": 30,
   "id": "8864ee97",
   "metadata": {},
   "outputs": [
    {
     "data": {
      "text/plain": [
       "{1, 2, 3, 41, 58, 80, 85}"
      ]
     },
     "execution_count": 30,
     "metadata": {},
     "output_type": "execute_result"
    }
   ],
   "source": [
    "s"
   ]
  },
  {
   "cell_type": "code",
   "execution_count": 31,
   "id": "a61c4e64-7867-4169-b282-3fc2f96b5999",
   "metadata": {
    "id": "a61c4e64-7867-4169-b282-3fc2f96b5999",
    "outputId": "3870fa52-db28-4968-b744-95e6b8717660"
   },
   "outputs": [
    {
     "data": {
      "text/plain": [
       "80"
      ]
     },
     "execution_count": 31,
     "metadata": {},
     "output_type": "execute_result"
    }
   ],
   "source": [
    "s.pop()"
   ]
  },
  {
   "cell_type": "code",
   "execution_count": 32,
   "id": "a8b7e22c",
   "metadata": {},
   "outputs": [
    {
     "data": {
      "text/plain": [
       "{1, 2, 3, 41, 58, 85}"
      ]
     },
     "execution_count": 32,
     "metadata": {},
     "output_type": "execute_result"
    }
   ],
   "source": [
    "s"
   ]
  },
  {
   "cell_type": "code",
   "execution_count": 33,
   "id": "66649867-49f9-4463-b074-bbb35bf315b3",
   "metadata": {
    "id": "66649867-49f9-4463-b074-bbb35bf315b3"
   },
   "outputs": [],
   "source": [
    "s.remove(58)"
   ]
  },
  {
   "cell_type": "code",
   "execution_count": 41,
   "id": "bd216bc9",
   "metadata": {
    "scrolled": true
   },
   "outputs": [
    {
     "data": {
      "text/plain": [
       "{1, 2, 3, 41, 85}"
      ]
     },
     "execution_count": 41,
     "metadata": {},
     "output_type": "execute_result"
    }
   ],
   "source": [
    "s"
   ]
  },
  {
   "cell_type": "markdown",
   "id": "a92d3f47",
   "metadata": {},
   "source": [
    "# Dict Functions"
   ]
  },
  {
   "cell_type": "code",
   "execution_count": 26,
   "id": "257f1f6e-a805-473e-8df2-a90db87f8492",
   "metadata": {
    "id": "257f1f6e-a805-473e-8df2-a90db87f8492",
    "outputId": "98cc1b16-ab8f-41c4-fcd1-a414e247b5b0"
   },
   "outputs": [],
   "source": [
    "d1 = {'name': 'Gaurav',\n",
    " 'subject': ['data science ', 'big data ', 'data analytics'],\n",
    " 'number': 43242424}"
   ]
  },
  {
   "cell_type": "code",
   "execution_count": 27,
   "id": "34d19b59",
   "metadata": {},
   "outputs": [
    {
     "data": {
      "text/plain": [
       "{'name': 'Gaurav',\n",
       " 'subject': ['data science ', 'big data ', 'data analytics'],\n",
       " 'number': 43242424}"
      ]
     },
     "execution_count": 27,
     "metadata": {},
     "output_type": "execute_result"
    }
   ],
   "source": [
    "d1"
   ]
  },
  {
   "cell_type": "code",
   "execution_count": 28,
   "id": "ea5d7fd8",
   "metadata": {},
   "outputs": [
    {
     "data": {
      "text/plain": [
       "dict_keys(['name', 'subject', 'number'])"
      ]
     },
     "execution_count": 28,
     "metadata": {},
     "output_type": "execute_result"
    }
   ],
   "source": [
    "d1.keys()"
   ]
  },
  {
   "cell_type": "code",
   "execution_count": 29,
   "id": "cad9eb35",
   "metadata": {},
   "outputs": [
    {
     "data": {
      "text/plain": [
       "dict_values(['Gaurav', ['data science ', 'big data ', 'data analytics'], 43242424])"
      ]
     },
     "execution_count": 29,
     "metadata": {},
     "output_type": "execute_result"
    }
   ],
   "source": [
    "d1.values()"
   ]
  },
  {
   "cell_type": "code",
   "execution_count": 33,
   "id": "d8c6767a",
   "metadata": {},
   "outputs": [
    {
     "data": {
      "text/plain": [
       "[('name', 'Gaurav'),\n",
       " ('subject', ['data science ', 'big data ', 'data analytics']),\n",
       " ('number', 43242424)]"
      ]
     },
     "execution_count": 33,
     "metadata": {},
     "output_type": "execute_result"
    }
   ],
   "source": [
    "x = list(d1.items())\n",
    "x"
   ]
  },
  {
   "cell_type": "code",
   "execution_count": 37,
   "id": "1d21f5e5",
   "metadata": {},
   "outputs": [
    {
     "data": {
      "text/plain": [
       "'Gaurav'"
      ]
     },
     "execution_count": 37,
     "metadata": {},
     "output_type": "execute_result"
    }
   ],
   "source": [
    "d1['name']"
   ]
  },
  {
   "cell_type": "code",
   "execution_count": 38,
   "id": "67895f2b",
   "metadata": {},
   "outputs": [
    {
     "data": {
      "text/plain": [
       "'Gaurav'"
      ]
     },
     "execution_count": 38,
     "metadata": {},
     "output_type": "execute_result"
    }
   ],
   "source": [
    "d1.get('name')"
   ]
  },
  {
   "cell_type": "code",
   "execution_count": 39,
   "id": "0a3a5e8a",
   "metadata": {},
   "outputs": [
    {
     "data": {
      "text/plain": [
       "{'name': 'Gaurav',\n",
       " 'subject': ['data science ', 'big data ', 'data analytics'],\n",
       " 'number': 43242424}"
      ]
     },
     "execution_count": 39,
     "metadata": {},
     "output_type": "execute_result"
    }
   ],
   "source": [
    "d1"
   ]
  },
  {
   "cell_type": "code",
   "execution_count": 40,
   "id": "41e8c970",
   "metadata": {},
   "outputs": [
    {
     "data": {
      "text/plain": [
       "43242424"
      ]
     },
     "execution_count": 40,
     "metadata": {},
     "output_type": "execute_result"
    }
   ],
   "source": [
    "d1.pop('number')"
   ]
  },
  {
   "cell_type": "code",
   "execution_count": 41,
   "id": "8892f2d8",
   "metadata": {},
   "outputs": [
    {
     "data": {
      "text/plain": [
       "{'name': 'Gaurav', 'subject': ['data science ', 'big data ', 'data analytics']}"
      ]
     },
     "execution_count": 41,
     "metadata": {},
     "output_type": "execute_result"
    }
   ],
   "source": [
    "d1"
   ]
  },
  {
   "cell_type": "code",
   "execution_count": 42,
   "id": "32992e67",
   "metadata": {},
   "outputs": [],
   "source": [
    "d1['city'] = 123"
   ]
  },
  {
   "cell_type": "code",
   "execution_count": 43,
   "id": "a72f1958",
   "metadata": {},
   "outputs": [
    {
     "data": {
      "text/plain": [
       "{'name': 'Gaurav',\n",
       " 'subject': ['data science ', 'big data ', 'data analytics'],\n",
       " 'city': 123}"
      ]
     },
     "execution_count": 43,
     "metadata": {},
     "output_type": "execute_result"
    }
   ],
   "source": [
    "d1"
   ]
  },
  {
   "cell_type": "code",
   "execution_count": 69,
   "id": "7b633d37",
   "metadata": {
    "id": "410f3cdc-95e6-41a3-aae3-30fa6c0972b8",
    "outputId": "0a08abd6-d8c7-4cc8-c93f-b859d5d8a2be"
   },
   "outputs": [],
   "source": [
    "d4 = {'course': ['dsa', 'java', 'webdev', 'blockchain', 'cloud'],\n",
    " 'mentor': ('gaurav', 'krishna', 'aditiya', 'vinay', 'sunny '),\n",
    " 'price': {3500, 11000, 15000, 20000},\n",
    " 'duration': 1,\n",
    " 'access year': 1,\n",
    " 'syllabus': {'python': ['core python',\n",
    "   'oops',\n",
    "   'pandas',\n",
    "   'numpy',\n",
    "   'db',\n",
    "   'mongodb'],\n",
    "  'ml': ['supervised', 'unsupervised', 'semisupervised']},\n",
    " 'course ': ['dsa', 'java', 'webdev', 'blockchain', 'cloud', 'python']}"
   ]
  },
  {
   "cell_type": "code",
   "execution_count": 73,
   "id": "545e5d30",
   "metadata": {},
   "outputs": [],
   "source": [
    "d4['syllabus']['price'] = d4['price']"
   ]
  },
  {
   "cell_type": "code",
   "execution_count": 74,
   "id": "4c41f455",
   "metadata": {},
   "outputs": [
    {
     "data": {
      "text/plain": [
       "{'course': ['dsa', 'java', 'webdev', 'blockchain', 'cloud'],\n",
       " 'mentor': ('gaurav', 'krishna', 'aditiya', 'vinay', 'sunny '),\n",
       " 'price': {3500, 11000, 15000, 20000},\n",
       " 'duration': 1,\n",
       " 'access year': 1,\n",
       " 'syllabus': {'python': ['core python',\n",
       "   'oops',\n",
       "   'pandas',\n",
       "   'numpy',\n",
       "   'db',\n",
       "   'mongodb'],\n",
       "  'ml': ['supervised', 'unsupervised', 'semisupervised'],\n",
       "  'price': {3500, 11000, 15000, 20000}},\n",
       " 'course ': ['dsa', 'java', 'webdev', 'blockchain', 'cloud', 'python']}"
      ]
     },
     "execution_count": 74,
     "metadata": {},
     "output_type": "execute_result"
    }
   ],
   "source": [
    "d4"
   ]
  },
  {
   "cell_type": "code",
   "execution_count": null,
   "id": "6e7058bb",
   "metadata": {},
   "outputs": [],
   "source": []
  },
  {
   "cell_type": "code",
   "execution_count": null,
   "id": "5f270792",
   "metadata": {},
   "outputs": [],
   "source": []
  },
  {
   "cell_type": "code",
   "execution_count": null,
   "id": "e062bb4e",
   "metadata": {},
   "outputs": [],
   "source": []
  },
  {
   "cell_type": "code",
   "execution_count": null,
   "id": "5b8d5888",
   "metadata": {},
   "outputs": [],
   "source": []
  },
  {
   "cell_type": "code",
   "execution_count": null,
   "id": "bf7d627f",
   "metadata": {},
   "outputs": [],
   "source": []
  },
  {
   "cell_type": "code",
   "execution_count": null,
   "id": "2f4ec857",
   "metadata": {},
   "outputs": [],
   "source": []
  },
  {
   "cell_type": "code",
   "execution_count": null,
   "id": "b6a71f86",
   "metadata": {},
   "outputs": [],
   "source": []
  },
  {
   "cell_type": "code",
   "execution_count": null,
   "id": "d816b3ca",
   "metadata": {},
   "outputs": [],
   "source": []
  },
  {
   "cell_type": "code",
   "execution_count": null,
   "id": "00e2233e",
   "metadata": {},
   "outputs": [],
   "source": []
  },
  {
   "cell_type": "code",
   "execution_count": null,
   "id": "72e4a5ed",
   "metadata": {},
   "outputs": [],
   "source": []
  },
  {
   "cell_type": "code",
   "execution_count": 65,
   "id": "ecd9437f",
   "metadata": {},
   "outputs": [],
   "source": [
    "d4['syllabus']['price'] = d4['price']"
   ]
  },
  {
   "cell_type": "code",
   "execution_count": 66,
   "id": "7d9a3022",
   "metadata": {},
   "outputs": [
    {
     "data": {
      "text/plain": [
       "{'course': ['dsa', 'java', 'webdev', 'blockchain', 'cloud'],\n",
       " 'mentor': ('gaurav', 'krishna', 'aditiya', 'vinay', 'sunny '),\n",
       " 'price': {3500, 11000, 15000, 20000},\n",
       " 'duration': 1,\n",
       " 'access year': 1,\n",
       " 'syllabus': {'python': ['core python',\n",
       "   'oops',\n",
       "   'pandas',\n",
       "   'numpy',\n",
       "   'db',\n",
       "   'mongodb'],\n",
       "  'ml': ['supervised', 'unsupervised', 'semisupervised'],\n",
       "  'price': {3500, 11000, 15000, 20000}},\n",
       " 'course ': ['dsa', 'java', 'webdev', 'blockchain', 'cloud', 'python']}"
      ]
     },
     "execution_count": 66,
     "metadata": {},
     "output_type": "execute_result"
    }
   ],
   "source": [
    "d4"
   ]
  },
  {
   "cell_type": "code",
   "execution_count": null,
   "id": "d436df57",
   "metadata": {},
   "outputs": [],
   "source": []
  },
  {
   "cell_type": "code",
   "execution_count": null,
   "id": "8af84206",
   "metadata": {},
   "outputs": [],
   "source": []
  },
  {
   "cell_type": "code",
   "execution_count": null,
   "id": "03229717",
   "metadata": {},
   "outputs": [],
   "source": []
  },
  {
   "cell_type": "code",
   "execution_count": 47,
   "id": "8d69863b",
   "metadata": {},
   "outputs": [
    {
     "data": {
      "text/plain": [
       "{'course': ['dsa', 'java', 'webdev', 'blockchain', 'cloud', 'python'],\n",
       " 'mentor': ('gaurav', 'krishna', 'aditiya', 'vinay', 'sunny '),\n",
       " 'price': {3500, 11000, 15000, 20000},\n",
       " 'duration': 1,\n",
       " 'access year': 1,\n",
       " 'syllabus': {'python': ['core python',\n",
       "   'oops',\n",
       "   'pandas',\n",
       "   'numpy',\n",
       "   'db',\n",
       "   'mongodb'],\n",
       "  'ml': ['supervised', 'unsupervised', 'semisupervised']},\n",
       " 'course ': ['dsa', 'java', 'webdev', 'blockchain', 'cloud', 'python']}"
      ]
     },
     "execution_count": 47,
     "metadata": {},
     "output_type": "execute_result"
    }
   ],
   "source": [
    "d4"
   ]
  },
  {
   "cell_type": "code",
   "execution_count": 50,
   "id": "72298f69",
   "metadata": {},
   "outputs": [
    {
     "data": {
      "text/plain": [
       "{3500, 11000, 15000, 20000}"
      ]
     },
     "execution_count": 50,
     "metadata": {},
     "output_type": "execute_result"
    }
   ],
   "source": [
    "d4['price']"
   ]
  },
  {
   "cell_type": "code",
   "execution_count": 55,
   "id": "e8e62894",
   "metadata": {},
   "outputs": [],
   "source": [
    "d4['syllabus']['price'] = d4['price']"
   ]
  },
  {
   "cell_type": "code",
   "execution_count": 56,
   "id": "63c84855",
   "metadata": {},
   "outputs": [
    {
     "data": {
      "text/plain": [
       "{'course': ['dsa', 'java', 'webdev', 'blockchain', 'cloud', 'python'],\n",
       " 'mentor': ('gaurav', 'krishna', 'aditiya', 'vinay', 'sunny '),\n",
       " 'price': {3500, 11000, 15000, 20000},\n",
       " 'duration': 1,\n",
       " 'access year': 1,\n",
       " 'syllabus': {'python': ['core python',\n",
       "   'oops',\n",
       "   'pandas',\n",
       "   'numpy',\n",
       "   'db',\n",
       "   'mongodb'],\n",
       "  'ml': ['supervised', 'unsupervised', 'semisupervised'],\n",
       "  'ab': 1,\n",
       "  'price': {3500, 11000, 15000, 20000}},\n",
       " 'course ': ['dsa', 'java', 'webdev', 'blockchain', 'cloud', 'python']}"
      ]
     },
     "execution_count": 56,
     "metadata": {},
     "output_type": "execute_result"
    }
   ],
   "source": [
    "d4"
   ]
  },
  {
   "cell_type": "code",
   "execution_count": null,
   "id": "a9fbbf05",
   "metadata": {},
   "outputs": [],
   "source": [
    "{'course': ['dsa', 'java', 'webdev', 'blockchain', 'cloud', 'python'],\n",
    " 'mentor': ('gaurav', 'krishna', 'aditiya', 'vinay', 'sunny '),\n",
    " 'price': {3500, 11000, 15000, 20000},\n",
    " 'duration': 1,\n",
    " 'access year': 1,\n",
    " 'syllabus': {'python': ['core python',\n",
    "   'oops',\n",
    "   'pandas',\n",
    "   'numpy',\n",
    "   'db',\n",
    "   'mongodb'],\n",
    "  'ml': ['supervised', 'unsupervised', 'semisupervised'],\n",
    "    'price': {3500, 11000, 15000, 20000}},\n",
    " 'course ': ['dsa', 'java', 'webdev', 'blockchain', 'cloud', 'python']}"
   ]
  },
  {
   "cell_type": "code",
   "execution_count": null,
   "id": "b9758ee7",
   "metadata": {},
   "outputs": [],
   "source": []
  },
  {
   "cell_type": "code",
   "execution_count": null,
   "id": "cdde169d",
   "metadata": {},
   "outputs": [],
   "source": []
  },
  {
   "cell_type": "code",
   "execution_count": null,
   "id": "3312bbd4",
   "metadata": {},
   "outputs": [],
   "source": []
  },
  {
   "cell_type": "code",
   "execution_count": null,
   "id": "0813e3e9",
   "metadata": {},
   "outputs": [],
   "source": []
  },
  {
   "cell_type": "code",
   "execution_count": null,
   "id": "d48a8cf8",
   "metadata": {},
   "outputs": [],
   "source": []
  },
  {
   "cell_type": "code",
   "execution_count": null,
   "id": "5d9eeb76",
   "metadata": {},
   "outputs": [],
   "source": []
  },
  {
   "cell_type": "code",
   "execution_count": null,
   "id": "8eefae5f",
   "metadata": {},
   "outputs": [],
   "source": []
  },
  {
   "cell_type": "code",
   "execution_count": null,
   "id": "74e5b3d1",
   "metadata": {},
   "outputs": [],
   "source": []
  },
  {
   "cell_type": "code",
   "execution_count": null,
   "id": "d9e6a9b3",
   "metadata": {},
   "outputs": [],
   "source": []
  },
  {
   "cell_type": "code",
   "execution_count": null,
   "id": "88143e06",
   "metadata": {},
   "outputs": [],
   "source": []
  },
  {
   "cell_type": "code",
   "execution_count": null,
   "id": "c004f088",
   "metadata": {},
   "outputs": [],
   "source": []
  }
 ],
 "metadata": {
  "colab": {
   "provenance": []
  },
  "kernelspec": {
   "display_name": "Python 3 (ipykernel)",
   "language": "python",
   "name": "python3"
  },
  "language_info": {
   "codemirror_mode": {
    "name": "ipython",
    "version": 3
   },
   "file_extension": ".py",
   "mimetype": "text/x-python",
   "name": "python",
   "nbconvert_exporter": "python",
   "pygments_lexer": "ipython3",
   "version": "3.9.13"
  }
 },
 "nbformat": 4,
 "nbformat_minor": 5
}
