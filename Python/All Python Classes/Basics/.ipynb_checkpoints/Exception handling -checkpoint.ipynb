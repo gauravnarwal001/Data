{
 "cells": [
  {
   "cell_type": "code",
   "execution_count": 3,
   "id": "771aea9e-c2cc-4e3e-a9db-ba0cb792bac5",
   "metadata": {},
   "outputs": [
    {
     "name": "stdout",
     "output_type": "stream",
     "text": [
      "enter a value for a sdfgh\n"
     ]
    },
    {
     "ename": "ValueError",
     "evalue": "invalid literal for int() with base 10: 'sdfgh'",
     "output_type": "error",
     "traceback": [
      "\u001b[1;31m---------------------------------------------------------------------------\u001b[0m",
      "\u001b[1;31mValueError\u001b[0m                                Traceback (most recent call last)",
      "\u001b[1;32m~\\AppData\\Local\\Temp\\ipykernel_17760\\154636007.py\u001b[0m in \u001b[0;36m<module>\u001b[1;34m\u001b[0m\n\u001b[1;32m----> 1\u001b[1;33m \u001b[0ma\u001b[0m \u001b[1;33m=\u001b[0m \u001b[0mint\u001b[0m\u001b[1;33m(\u001b[0m\u001b[0minput\u001b[0m\u001b[1;33m(\u001b[0m\u001b[1;34m\"enter a value for a \"\u001b[0m\u001b[1;33m)\u001b[0m\u001b[1;33m)\u001b[0m\u001b[1;33m\u001b[0m\u001b[1;33m\u001b[0m\u001b[0m\n\u001b[0m\u001b[0;32m      2\u001b[0m \u001b[0mb\u001b[0m \u001b[1;33m=\u001b[0m \u001b[0mint\u001b[0m\u001b[1;33m(\u001b[0m\u001b[0minput\u001b[0m\u001b[1;33m(\u001b[0m\u001b[1;34m\"enter a value for b\"\u001b[0m\u001b[1;33m)\u001b[0m\u001b[1;33m)\u001b[0m\u001b[1;33m\u001b[0m\u001b[1;33m\u001b[0m\u001b[0m\n\u001b[0;32m      3\u001b[0m \u001b[0ma\u001b[0m\u001b[1;33m/\u001b[0m\u001b[0mb\u001b[0m\u001b[1;33m\u001b[0m\u001b[1;33m\u001b[0m\u001b[0m\n",
      "\u001b[1;31mValueError\u001b[0m: invalid literal for int() with base 10: 'sdfgh'"
     ]
    }
   ],
   "source": [
    "a = int(input(\"enter a value for a \"))\n",
    "b = int(input(\"enter a value for b\"))\n",
    "a/b"
   ]
  },
  {
   "cell_type": "code",
   "execution_count": 5,
   "id": "e5ee1c15-4ce1-4551-95dd-81228519b569",
   "metadata": {},
   "outputs": [
    {
     "data": {
      "text/plain": [
       "8"
      ]
     },
     "execution_count": 5,
     "metadata": {},
     "output_type": "execute_result"
    }
   ],
   "source": [
    "a+b"
   ]
  },
  {
   "cell_type": "code",
   "execution_count": 8,
   "id": "d59f8a0d-b088-4511-89b5-8f85adde1638",
   "metadata": {},
   "outputs": [
    {
     "name": "stdout",
     "output_type": "stream",
     "text": [
      "enter a value for a 8\n",
      "enter a value for b0\n",
      "Wrong Input\n"
     ]
    }
   ],
   "source": [
    "try :\n",
    "    a=int(input(\"enter a value for a \"))\n",
    "    b = int(input(\"enter a value for b\"))\n",
    "    c = a/b\n",
    "    print(c)\n",
    "except : \n",
    "    print(\"Wrong Input\")"
   ]
  },
  {
   "cell_type": "code",
   "execution_count": 10,
   "id": "40ac0701-2c8d-4eff-b682-5c7c25c08d28",
   "metadata": {},
   "outputs": [
    {
     "name": "stdout",
     "output_type": "stream",
     "text": [
      "enter any number685\n",
      "685\n"
     ]
    }
   ],
   "source": [
    "try:\n",
    "    a=int(input(\"enter any number\"))\n",
    "    print(a)\n",
    "except:\n",
    "    pass"
   ]
  },
  {
   "cell_type": "code",
   "execution_count": 13,
   "id": "8cbf8f66-ac7c-48b3-8775-babbee8252e2",
   "metadata": {},
   "outputs": [],
   "source": [
    "l = [4,5,6,7,8,9,0,'asdf']\n",
    "\n",
    "def even(l):\n",
    "    l1 = []\n",
    "    try :\n",
    "        for i in l :\n",
    "            if i%2 == 0 :\n",
    "                l1.append(i)\n",
    "        return l1\n",
    "    except :\n",
    "        print(l1)\n",
    "        print('Invalid Argument -',i)\n",
    "        "
   ]
  },
  {
   "cell_type": "code",
   "execution_count": 16,
   "id": "c4bb3e35-5189-4348-83dd-1e0dc22967bf",
   "metadata": {},
   "outputs": [
    {
     "name": "stdout",
     "output_type": "stream",
     "text": [
      "[584, 8, 2]\n",
      "Invalid Argument - asdf\n"
     ]
    }
   ],
   "source": [
    "even([584,8,9,1,5,2,'asdf',4,8])"
   ]
  },
  {
   "cell_type": "code",
   "execution_count": 6,
   "id": "1bf3f3ef",
   "metadata": {},
   "outputs": [
    {
     "name": "stdout",
     "output_type": "stream",
     "text": [
      "\n"
     ]
    },
    {
     "ename": "ValueError",
     "evalue": "invalid literal for int() with base 10: ''",
     "output_type": "error",
     "traceback": [
      "\u001b[1;31m---------------------------------------------------------------------------\u001b[0m",
      "\u001b[1;31mValueError\u001b[0m                                Traceback (most recent call last)",
      "\u001b[1;32m~\\AppData\\Local\\Temp\\ipykernel_616\\4025546921.py\u001b[0m in \u001b[0;36m<module>\u001b[1;34m\u001b[0m\n\u001b[1;32m----> 1\u001b[1;33m \u001b[0mint\u001b[0m\u001b[1;33m(\u001b[0m\u001b[0minput\u001b[0m\u001b[1;33m(\u001b[0m\u001b[1;33m)\u001b[0m\u001b[1;33m)\u001b[0m\u001b[1;33m\u001b[0m\u001b[1;33m\u001b[0m\u001b[0m\n\u001b[0m",
      "\u001b[1;31mValueError\u001b[0m: invalid literal for int() with base 10: ''"
     ]
    }
   ],
   "source": [
    "int(input())"
   ]
  },
  {
   "cell_type": "code",
   "execution_count": 20,
   "id": "d1c69992-f301-44cb-a9d5-a1ac309e45e2",
   "metadata": {},
   "outputs": [
    {
     "name": "stdout",
     "output_type": "stream",
     "text": [
      "8\n",
      "0\n",
      "division by zero\n"
     ]
    }
   ],
   "source": [
    "try :\n",
    "    a = int(input())\n",
    "    b = int(input())\n",
    "    c = a/b\n",
    "    print(c)\n",
    "except Exception as e:\n",
    "    print(e)"
   ]
  },
  {
   "cell_type": "code",
   "execution_count": 35,
   "id": "307105d3-44c3-472f-9721-2014743ffe99",
   "metadata": {},
   "outputs": [
    {
     "ename": "ZeroDivisionError",
     "evalue": "division by zero",
     "output_type": "error",
     "traceback": [
      "\u001b[1;31m---------------------------------------------------------------------------\u001b[0m",
      "\u001b[1;31mZeroDivisionError\u001b[0m                         Traceback (most recent call last)",
      "\u001b[1;32m~\\AppData\\Local\\Temp\\ipykernel_1752\\390385674.py\u001b[0m in \u001b[0;36m<module>\u001b[1;34m\u001b[0m\n\u001b[1;32m----> 1\u001b[1;33m \u001b[0mc\u001b[0m \u001b[1;33m=\u001b[0m \u001b[1;36m6\u001b[0m\u001b[1;33m/\u001b[0m\u001b[1;36m0\u001b[0m\u001b[1;33m\u001b[0m\u001b[1;33m\u001b[0m\u001b[0m\n\u001b[0m",
      "\u001b[1;31mZeroDivisionError\u001b[0m: division by zero"
     ]
    }
   ],
   "source": [
    "c = 6/0"
   ]
  },
  {
   "cell_type": "code",
   "execution_count": 31,
   "id": "8ff739bb",
   "metadata": {},
   "outputs": [
    {
     "ename": "TypeError",
     "evalue": "can only concatenate str (not \"int\") to str",
     "output_type": "error",
     "traceback": [
      "\u001b[1;31m---------------------------------------------------------------------------\u001b[0m",
      "\u001b[1;31mTypeError\u001b[0m                                 Traceback (most recent call last)",
      "\u001b[1;32m~\\AppData\\Local\\Temp\\ipykernel_17760\\958809238.py\u001b[0m in \u001b[0;36m<module>\u001b[1;34m\u001b[0m\n\u001b[1;32m----> 1\u001b[1;33m \u001b[1;34m'asdf'\u001b[0m \u001b[1;33m+\u001b[0m \u001b[1;36m574\u001b[0m\u001b[1;33m\u001b[0m\u001b[1;33m\u001b[0m\u001b[0m\n\u001b[0m",
      "\u001b[1;31mTypeError\u001b[0m: can only concatenate str (not \"int\") to str"
     ]
    }
   ],
   "source": [
    "'asdf' + 574"
   ]
  },
  {
   "cell_type": "code",
   "execution_count": 36,
   "id": "85e888ae-25c8-4069-9ed0-96caabaa03db",
   "metadata": {},
   "outputs": [
    {
     "name": "stdout",
     "output_type": "stream",
     "text": [
      "8\n",
      "2\n",
      "4.0\n"
     ]
    }
   ],
   "source": [
    "try:\n",
    "    a = int(input())\n",
    "    b = int(input())\n",
    "    c = a/b\n",
    "    print(c)\n",
    "# except TypeError as t  :\n",
    "#     print(t)\n",
    "# except ZeroDivisionError as z :\n",
    "#     print(z)\n",
    "# except ValueError as v :\n",
    "#     print(v)\n",
    "\n",
    "except Exception as e:\n",
    "    print(e)"
   ]
  },
  {
   "cell_type": "code",
   "execution_count": 38,
   "id": "16162898-b027-4d1a-8bf8-2cc4cb63d7e3",
   "metadata": {},
   "outputs": [
    {
     "name": "stdout",
     "output_type": "stream",
     "text": [
      "division by zero\n",
      "\n",
      "invalid literal for int() with base 10: 'gaurav'\n"
     ]
    }
   ],
   "source": [
    "try :\n",
    "    x = 5/0\n",
    "except ZeroDivisionError as z :\n",
    "    print(z,end = '\\n\\n')\n",
    "    try : \n",
    "        y = int(\"gaurav\")\n",
    "    except ValueError as v:\n",
    "        print(v)\n",
    "    "
   ]
  },
  {
   "cell_type": "code",
   "execution_count": 41,
   "id": "3a96341e-357f-4c34-bda0-5ffe9ff8bc11",
   "metadata": {},
   "outputs": [
    {
     "name": "stdout",
     "output_type": "stream",
     "text": [
      "this will execute itself once try will execute without and error\n",
      "this will be executed always\n"
     ]
    }
   ],
   "source": [
    "try :\n",
    "    x = 5/3\n",
    "except ZeroDivisionError as z :\n",
    "    print(z)\n",
    "else:\n",
    "    print(\"this will execute itself once try will execute without and error\")\n",
    "finally : \n",
    "    print(\"this will be executed always\")"
   ]
  },
  {
   "cell_type": "code",
   "execution_count": 51,
   "id": "c18ccfcd-0a28-4a8f-8606-70da33df0be8",
   "metadata": {},
   "outputs": [
    {
     "name": "stdout",
     "output_type": "stream",
     "text": [
      "'roll_no'\n",
      "this is a keyerror\n"
     ]
    }
   ],
   "source": [
    "try:\n",
    "    d = {\"name\" : \"gaurav\" , \"mobile_no\" : 65465 , \"email_id\": \"gaurav@gmail.com\"}\n",
    "    print(d[\"roll_no\"])\n",
    "except Exception as e :\n",
    "    print(e)\n",
    "    print(\"this is a keyerror\")"
   ]
  },
  {
   "cell_type": "code",
   "execution_count": 52,
   "id": "78074d56-f85f-4267-ad8b-fa6bc919fe94",
   "metadata": {},
   "outputs": [
    {
     "data": {
      "text/plain": [
       "{'name': 'gaurav', 'mobile_no': 65465, 'email_id': 'gaurav@gmail.com'}"
      ]
     },
     "execution_count": 52,
     "metadata": {},
     "output_type": "execute_result"
    }
   ],
   "source": [
    "d"
   ]
  },
  {
   "cell_type": "code",
   "execution_count": 53,
   "id": "d8b83944-2569-453d-bb83-e1fc45a421d1",
   "metadata": {},
   "outputs": [
    {
     "name": "stdout",
     "output_type": "stream",
     "text": [
      "list index out of range\n"
     ]
    }
   ],
   "source": [
    "try:\n",
    "    l = [4,5,6,7,7,8]\n",
    "    print(l[10])\n",
    "except Exception as e :\n",
    "    print(e)"
   ]
  },
  {
   "cell_type": "code",
   "execution_count": 54,
   "id": "8ee57660-379a-4572-b6d8-03d3d65c6064",
   "metadata": {},
   "outputs": [
    {
     "name": "stdout",
     "output_type": "stream",
     "text": [
      "invalid literal for int() with base 10: 'gaurav'\n"
     ]
    }
   ],
   "source": [
    "try:    \n",
    "    a = \"gaurav\"\n",
    "    int(a)\n",
    "except Exception as e :\n",
    "    print(e)"
   ]
  },
  {
   "cell_type": "code",
   "execution_count": 47,
   "id": "cc14c0d9-f36a-44ae-a8f0-21f7212df2a2",
   "metadata": {},
   "outputs": [
    {
     "name": "stdout",
     "output_type": "stream",
     "text": [
      "enter a number541\n",
      "0.6321626617375231\n"
     ]
    }
   ],
   "source": [
    "try :\n",
    "    \n",
    "    n = int(input(\"enter a number\"))\n",
    "    div  = 342/n\n",
    "    print(div)\n",
    "except (ValueError,ZeroDivisionError) :\n",
    "    print(\"user has entered invalid input or may b zero\")"
   ]
  },
  {
   "cell_type": "code",
   "execution_count": 48,
   "id": "615bb57c-aad9-4907-aa53-9271337ea3bd",
   "metadata": {},
   "outputs": [
    {
     "name": "stdout",
     "output_type": "stream",
     "text": [
      "enter a number574\n",
      "0.5958188153310104\n"
     ]
    }
   ],
   "source": [
    "try :\n",
    "    try :\n",
    "        n = int(input(\"enter a number\"))\n",
    "        div  = 342/n\n",
    "        print(div)\n",
    "    except ZeroDivisionError :\n",
    "        print(\"user has entered zero\")\n",
    "except ValueError :\n",
    "    print(\"user has entered invalid input\")"
   ]
  },
  {
   "cell_type": "code",
   "execution_count": 23,
   "id": "04af3237-e5e2-4898-bdd6-66c6022af93a",
   "metadata": {},
   "outputs": [
    {
     "name": "stdout",
     "output_type": "stream",
     "text": [
      "enter a numberhj\n",
      "user has entered finvalid input or may b zero\n"
     ]
    }
   ],
   "source": [
    "try :\n",
    "    n = int(input(\"enter a number\"))\n",
    "    div  = 342/n\n",
    "    print(div)\n",
    "except Exception :\n",
    "    print(\"user has entered finvalid input or may b zero\")"
   ]
  },
  {
   "cell_type": "code",
   "execution_count": null,
   "id": "195b036f",
   "metadata": {},
   "outputs": [],
   "source": []
  },
  {
   "cell_type": "markdown",
   "id": "ccd5df5d",
   "metadata": {},
   "source": [
    "# File Handling"
   ]
  },
  {
   "cell_type": "code",
   "execution_count": 55,
   "id": "87fbe8ea",
   "metadata": {},
   "outputs": [
    {
     "data": {
      "text/plain": [
       "'C:\\\\Users\\\\gaura\\\\SoftCrayons\\\\Basics'"
      ]
     },
     "execution_count": 55,
     "metadata": {},
     "output_type": "execute_result"
    }
   ],
   "source": [
    "pwd     # Print Working Directory"
   ]
  },
  {
   "cell_type": "code",
   "execution_count": 56,
   "id": "ae2fc427",
   "metadata": {},
   "outputs": [
    {
     "name": "stdout",
     "output_type": "stream",
     "text": [
      " Volume in drive C has no label.\n",
      " Volume Serial Number is 1A47-6AF3\n",
      "\n",
      " Directory of C:\\Users\\gaura\\SoftCrayons\\Basics\n",
      "\n",
      "28-08-2024  10:35 AM    <DIR>          .\n",
      "14-08-2024  10:37 AM    <DIR>          ..\n",
      "03-08-2024  02:53 PM    <DIR>          .ipynb_checkpoints\n",
      "05-08-2024  01:05 PM                19 Aryan.txt\n",
      "08-06-2024  01:37 PM                 0 asdf.txt\n",
      "07-07-2024  03:14 PM                25 bhoomi.txt\n",
      "06-07-2024  12:26 PM            11,649 chart.pdf\n",
      "27-06-2024  11:48 AM            16,239 chart.png\n",
      "06-07-2024  12:28 PM            16,239 chart1.png\n",
      "27-08-2024  09:38 PM            41,425 Class_1_python_basic_variables_.ipynb\n",
      "08-06-2024  10:31 AM            41,950 Class_10_functions_Practice.ipynb\n",
      "22-08-2024  12:13 PM            98,873 Class_2_python_basic_data_type_.ipynb\n",
      "22-08-2024  12:37 PM            16,466 Class_3_Operators.ipynb\n",
      "26-08-2024  12:29 PM            33,125 Class_4_if else statement For Loop.ipynb\n",
      "22-08-2024  09:50 AM            20,828 Class_5_revision_conditional statement and loops.ipynb\n",
      "27-08-2024  12:35 PM             8,527 Class_6_While - break, continue, pass.ipynb\n",
      "27-08-2024  01:18 PM            45,908 Class_7_define_functions.ipynb\n",
      "06-07-2024  02:59 PM            15,400 class_8_revision.ipynb\n",
      "27-08-2024  04:43 PM            43,607 Class_9_ for loop , lambda , map , reduce ,filter.ipynb\n",
      "08-06-2024  01:36 PM                15 D.txt\n",
      "07-08-2024  12:46 PM                20 Drishti.txt\n",
      "28-08-2024  10:35 AM            31,707 Exception handling .ipynb\n",
      "25-07-2024  01:11 PM             8,083 Game.ipynb\n",
      "08-06-2024  01:49 PM                25 hello.txt\n",
      "05-08-2024  01:06 PM                19 i.txt\n",
      "05-08-2024  12:47 PM                 0 Igor.txt\n",
      "07-07-2024  03:05 PM                 0 jqw;eorkupaoew.txt\n",
      "17-07-2024  10:50 AM           961,882 Matplotlib and seaborn.ipynb\n",
      "13-05-2024  05:09 PM            33,386 Numpy advance 2.ipynb\n",
      "30-06-2024  11:53 AM            15,610 Numpy Practice.ipynb\n",
      "30-06-2024  12:04 PM            69,009 Numpy_advance.ipynb\n",
      "11-04-2024  07:50 PM             5,291 numpy_arrays_faster_than_list.ipynb\n",
      "06-07-2024  11:28 AM            37,576 Numpy_basics.ipynb\n",
      "28-05-2024  04:44 PM            24,087 Pareen_revision.ipynb\n",
      "09-06-2024  12:48 PM                 0 practice.txt\n",
      "08-06-2024  01:45 PM                25 q.txt\n",
      "04-08-2024  03:21 PM    <DIR>          Raw_file\n",
      "07-07-2024  03:04 PM                56 Suraj.txt\n",
      "08-06-2024  11:02 AM               158 test.log\n",
      "27-07-2024  06:17 PM    <DIR>          Untitled Folder\n",
      "22-05-2024  04:21 PM            17,116 Untitled.ipynb\n",
      "              36 File(s)      1,614,345 bytes\n",
      "               5 Dir(s)  108,605,067,264 bytes free\n"
     ]
    }
   ],
   "source": [
    "ls"
   ]
  },
  {
   "cell_type": "code",
   "execution_count": null,
   "id": "b9e5895f",
   "metadata": {},
   "outputs": [],
   "source": []
  },
  {
   "cell_type": "code",
   "execution_count": 78,
   "id": "49708255",
   "metadata": {},
   "outputs": [],
   "source": [
    "f = open(\"Aryan.txt\" , 'w')"
   ]
  },
  {
   "cell_type": "code",
   "execution_count": 79,
   "id": "7c27bb06",
   "metadata": {},
   "outputs": [
    {
     "data": {
      "text/plain": [
       "30"
      ]
     },
     "execution_count": 79,
     "metadata": {},
     "output_type": "execute_result"
    }
   ],
   "source": [
    "f.write(\"this is yash and dhairya class\")"
   ]
  },
  {
   "cell_type": "code",
   "execution_count": 80,
   "id": "2488e5fc",
   "metadata": {},
   "outputs": [],
   "source": [
    "f.close()"
   ]
  },
  {
   "cell_type": "code",
   "execution_count": null,
   "id": "f88b4891",
   "metadata": {},
   "outputs": [],
   "source": []
  },
  {
   "cell_type": "code",
   "execution_count": null,
   "id": "8186f12f",
   "metadata": {},
   "outputs": [],
   "source": []
  },
  {
   "cell_type": "code",
   "execution_count": 34,
   "id": "4e3dd892",
   "metadata": {},
   "outputs": [],
   "source": [
    "f = open(\"Drishti.txt\" , 'a')"
   ]
  },
  {
   "cell_type": "code",
   "execution_count": 35,
   "id": "c0d1c49e",
   "metadata": {},
   "outputs": [
    {
     "data": {
      "text/plain": [
       "224"
      ]
     },
     "execution_count": 35,
     "metadata": {},
     "output_type": "execute_result"
    }
   ],
   "source": [
    "f.write(\"Python is a general-purpose, high-level programming language. It is used for web development, data science, machine learning, and artificial intelligence. Python is also used for rapid prototyping, scripting, and automation.\")"
   ]
  },
  {
   "cell_type": "code",
   "execution_count": 36,
   "id": "18a7ef2f",
   "metadata": {},
   "outputs": [],
   "source": [
    "f.close()"
   ]
  },
  {
   "cell_type": "code",
   "execution_count": null,
   "id": "ce51f422",
   "metadata": {},
   "outputs": [],
   "source": []
  },
  {
   "cell_type": "code",
   "execution_count": 48,
   "id": "58531454",
   "metadata": {},
   "outputs": [],
   "source": [
    "f = open(\"Drishti.txt\" , 'r')"
   ]
  },
  {
   "cell_type": "code",
   "execution_count": 51,
   "id": "e3252691",
   "metadata": {},
   "outputs": [
    {
     "data": {
      "text/plain": [
       "'lo this is my txt filePython is a general-purpose, high-level programming language. It is used for web development, data science, machine learning, and artificial intelligence. Python is also used for rapid prototyping, scripting, and automation.'"
      ]
     },
     "execution_count": 51,
     "metadata": {},
     "output_type": "execute_result"
    }
   ],
   "source": [
    "f.read()"
   ]
  },
  {
   "cell_type": "code",
   "execution_count": 52,
   "id": "3267a99f",
   "metadata": {},
   "outputs": [
    {
     "data": {
      "text/plain": [
       "3"
      ]
     },
     "execution_count": 52,
     "metadata": {},
     "output_type": "execute_result"
    }
   ],
   "source": [
    "f.seek(3)"
   ]
  },
  {
   "cell_type": "code",
   "execution_count": 53,
   "id": "e5f81018",
   "metadata": {},
   "outputs": [],
   "source": [
    "f.close()"
   ]
  },
  {
   "cell_type": "code",
   "execution_count": null,
   "id": "cd42b93f",
   "metadata": {},
   "outputs": [],
   "source": []
  },
  {
   "cell_type": "code",
   "execution_count": 54,
   "id": "e6a716d8",
   "metadata": {},
   "outputs": [],
   "source": [
    "import os"
   ]
  },
  {
   "cell_type": "code",
   "execution_count": 56,
   "id": "d0442deb",
   "metadata": {},
   "outputs": [
    {
     "data": {
      "text/plain": [
       "249"
      ]
     },
     "execution_count": 56,
     "metadata": {},
     "output_type": "execute_result"
    }
   ],
   "source": [
    "os.path.getsize('Drishti.txt')"
   ]
  },
  {
   "cell_type": "code",
   "execution_count": 57,
   "id": "00a84569",
   "metadata": {},
   "outputs": [],
   "source": [
    "os.remove(\"Drishti.txt\")"
   ]
  },
  {
   "cell_type": "code",
   "execution_count": 58,
   "id": "155e3f7f",
   "metadata": {},
   "outputs": [
    {
     "name": "stdout",
     "output_type": "stream",
     "text": [
      " Volume in drive C has no label.\n",
      " Volume Serial Number is 1A47-6AF3\n",
      "\n",
      " Directory of C:\\Users\\gaura\\SoftCrayons\\Basics\n",
      "\n",
      "05-08-2024  01:02 PM    <DIR>          .\n",
      "08-07-2024  03:20 PM    <DIR>          ..\n",
      "03-08-2024  02:53 PM    <DIR>          .ipynb_checkpoints\n",
      "05-08-2024  12:53 PM                19 Aryan.txt\n",
      "08-06-2024  01:37 PM                 0 asdf.txt\n",
      "07-07-2024  03:14 PM                25 bhoomi.txt\n",
      "06-07-2024  12:26 PM            11,649 chart.pdf\n",
      "27-06-2024  11:48 AM            16,239 chart.png\n",
      "06-07-2024  12:28 PM            16,239 chart1.png\n",
      "04-08-2024  04:27 PM            41,168 Class_1_python_basic_variables_.ipynb\n",
      "08-06-2024  10:31 AM            41,950 Class_10_functions_Practice.ipynb\n",
      "05-08-2024  10:58 AM           102,628 Class_2_python_basic_data_type_.ipynb\n",
      "25-07-2024  09:54 AM            15,932 Class_3_Operators.ipynb\n",
      "29-07-2024  04:34 PM            31,738 Class_4_if else statement For Loop.ipynb\n",
      "11-07-2024  10:29 AM            20,969 Class_5_revision_conditional statement and loops.ipynb\n",
      "30-07-2024  04:57 PM            10,281 Class_6_While - break, continue, pass.ipynb\n",
      "01-08-2024  12:57 PM            48,064 Class_7_define_functions.ipynb\n",
      "06-07-2024  02:59 PM            15,400 class_8_revision.ipynb\n",
      "03-08-2024  02:53 PM            40,975 Class_9_ for loop , lambda , map , reduce ,filter.ipynb\n",
      "05-08-2024  01:00 PM            28,903 Exception handling .ipynb\n",
      "25-07-2024  01:11 PM             8,083 Game.ipynb\n",
      "08-06-2024  01:49 PM                25 hello.txt\n",
      "05-08-2024  12:47 PM                 0 Igor.txt\n",
      "07-07-2024  03:05 PM                 0 jqw;eorkupaoew.txt\n",
      "17-07-2024  10:50 AM           961,882 Matplotlib and seaborn.ipynb\n",
      "13-05-2024  05:09 PM            33,386 Numpy advance 2.ipynb\n",
      "30-06-2024  11:53 AM            15,610 Numpy Practice.ipynb\n",
      "30-06-2024  12:04 PM            69,009 Numpy_advance.ipynb\n",
      "11-04-2024  07:50 PM             5,291 numpy_arrays_faster_than_list.ipynb\n",
      "06-07-2024  11:28 AM            37,576 Numpy_basics.ipynb\n",
      "28-05-2024  04:44 PM            24,087 Pareen_revision.ipynb\n",
      "09-06-2024  12:48 PM                 0 practice.txt\n",
      "04-08-2024  03:21 PM    <DIR>          Raw_file\n",
      "07-07-2024  03:04 PM                56 Suraj.txt\n",
      "08-06-2024  01:45 PM                25 temp.txt\n",
      "08-06-2024  11:02 AM               158 test.log\n",
      "08-06-2024  01:36 PM                15 test.txt\n",
      "27-07-2024  06:17 PM    <DIR>          Untitled Folder\n",
      "22-05-2024  04:21 PM            17,116 Untitled.ipynb\n",
      "              34 File(s)      1,614,498 bytes\n",
      "               5 Dir(s)  87,289,921,536 bytes free\n"
     ]
    }
   ],
   "source": [
    "ls"
   ]
  },
  {
   "cell_type": "code",
   "execution_count": 101,
   "id": "5172d704",
   "metadata": {},
   "outputs": [],
   "source": [
    "os.rename('abc.txt','Drishti.txt')"
   ]
  },
  {
   "cell_type": "code",
   "execution_count": 103,
   "id": "ce7026d3",
   "metadata": {},
   "outputs": [
    {
     "name": "stdout",
     "output_type": "stream",
     "text": [
      " Volume in drive C has no label.\n",
      " Volume Serial Number is 1A47-6AF3\n",
      "\n",
      " Directory of C:\\Users\\gaura\\SoftCrayons\\Basics\n",
      "\n",
      "18-07-2024  10:57 AM    <DIR>          .\n",
      "08-07-2024  03:20 PM    <DIR>          ..\n",
      "30-06-2024  02:06 PM    <DIR>          .ipynb_checkpoints\n",
      "08-06-2024  01:37 PM                 0 asdf.txt\n",
      "07-07-2024  03:14 PM                25 bhoomi.txt\n",
      "06-07-2024  12:26 PM            11,649 chart.pdf\n",
      "27-06-2024  11:48 AM            16,239 chart.png\n",
      "06-07-2024  12:28 PM            16,239 chart1.png\n",
      "15-07-2024  04:46 PM            38,941 Class_1_python_basic_variables_.ipynb\n",
      "08-06-2024  10:31 AM            41,950 Class_10_functions.ipynb\n",
      "17-07-2024  05:00 PM           103,469 Class_2_python_basic_data_type_.ipynb\n",
      "17-07-2024  12:36 PM            16,470 Class_3_Operators.ipynb\n",
      "15-07-2024  03:42 PM            33,535 Class_4_if else statement For Loop.ipynb\n",
      "11-07-2024  10:29 AM            20,969 Class_5_revision_conditional statement and loops.ipynb\n",
      "15-07-2024  04:04 PM             8,492 Class_6_While - break, continue, pass.ipynb\n",
      "17-07-2024  09:55 AM            42,034 Class_7_define_functions.ipynb\n",
      "06-07-2024  02:59 PM            15,400 class_8_revision.ipynb\n",
      "17-07-2024  03:29 PM            36,411 Class_9_ for loop , lambda , map , reduce ,filter.ipynb\n",
      "07-07-2024  03:05 PM                 0 Drishti.txt\n",
      "18-07-2024  10:56 AM            32,121 Exception handling .ipynb\n",
      "08-06-2024  01:49 PM                25 hello.txt\n",
      "07-07-2024  03:05 PM                 0 jqw;eorkupaoew.txt\n",
      "17-07-2024  10:50 AM           961,882 Matplotlib and seaborn.ipynb\n",
      "13-05-2024  05:09 PM            33,386 Numpy advance 2.ipynb\n",
      "30-06-2024  11:53 AM            15,610 Numpy Practice.ipynb\n",
      "30-06-2024  12:04 PM            69,009 Numpy_advance.ipynb\n",
      "11-04-2024  07:50 PM             5,291 numpy_arrays_faster_than_list.ipynb\n",
      "06-07-2024  11:28 AM            37,576 Numpy_basics.ipynb\n",
      "28-05-2024  04:44 PM            24,087 Pareen_revision.ipynb\n",
      "09-06-2024  12:48 PM                 0 practice.txt\n",
      "11-07-2024  11:48 AM    <DIR>          Raw_file\n",
      "07-07-2024  03:04 PM                56 Suraj.txt\n",
      "08-06-2024  01:45 PM                25 temp.txt\n",
      "08-06-2024  11:02 AM               158 test.log\n",
      "08-06-2024  01:36 PM                15 test.txt\n",
      "16-07-2024  03:23 PM    <DIR>          Untitled Folder\n",
      "22-05-2024  04:21 PM            17,116 Untitled.ipynb\n",
      "              32 File(s)      1,598,180 bytes\n",
      "               5 Dir(s)  88,605,421,568 bytes free\n"
     ]
    }
   ],
   "source": [
    "ls"
   ]
  },
  {
   "cell_type": "code",
   "execution_count": 3,
   "id": "dabf420c",
   "metadata": {},
   "outputs": [],
   "source": [
    "with open('Drishti.txt','w') as a:\n",
    "    a.write('hii this is my class')    #this method close your file without use close methods"
   ]
  },
  {
   "cell_type": "code",
   "execution_count": 4,
   "id": "4ac335ca",
   "metadata": {},
   "outputs": [
    {
     "ename": "ValueError",
     "evalue": "I/O operation on closed file.",
     "output_type": "error",
     "traceback": [
      "\u001b[1;31m---------------------------------------------------------------------------\u001b[0m",
      "\u001b[1;31mValueError\u001b[0m                                Traceback (most recent call last)",
      "\u001b[1;32m~\\AppData\\Local\\Temp\\ipykernel_16688\\2435689431.py\u001b[0m in \u001b[0;36m<module>\u001b[1;34m\u001b[0m\n\u001b[1;32m----> 1\u001b[1;33m \u001b[0ma\u001b[0m\u001b[1;33m.\u001b[0m\u001b[0mwrite\u001b[0m\u001b[1;33m(\u001b[0m\u001b[1;34m'asdfasdfadfs'\u001b[0m\u001b[1;33m)\u001b[0m\u001b[1;33m\u001b[0m\u001b[1;33m\u001b[0m\u001b[0m\n\u001b[0m",
      "\u001b[1;31mValueError\u001b[0m: I/O operation on closed file."
     ]
    }
   ],
   "source": [
    "a.write('asdfasdfadfs')"
   ]
  },
  {
   "cell_type": "code",
   "execution_count": 5,
   "id": "5fa4ff8f",
   "metadata": {},
   "outputs": [
    {
     "name": "stdout",
     "output_type": "stream",
     "text": [
      "hello this is my txt file\n"
     ]
    }
   ],
   "source": [
    "with open('bhoomi.txt','r') as a:\n",
    "    print(a.read())"
   ]
  },
  {
   "cell_type": "code",
   "execution_count": 6,
   "id": "31459b66",
   "metadata": {},
   "outputs": [
    {
     "ename": "FileNotFoundError",
     "evalue": "[Errno 2] No such file or directory: 'temp.txt'",
     "output_type": "error",
     "traceback": [
      "\u001b[1;31m---------------------------------------------------------------------------\u001b[0m",
      "\u001b[1;31mFileNotFoundError\u001b[0m                         Traceback (most recent call last)",
      "\u001b[1;32m~\\AppData\\Local\\Temp\\ipykernel_16688\\2224796906.py\u001b[0m in \u001b[0;36m<module>\u001b[1;34m\u001b[0m\n\u001b[1;32m----> 1\u001b[1;33m \u001b[0mf\u001b[0m \u001b[1;33m=\u001b[0m \u001b[0mopen\u001b[0m\u001b[1;33m(\u001b[0m\u001b[1;34m'temp.txt'\u001b[0m\u001b[1;33m,\u001b[0m\u001b[1;34m'r'\u001b[0m\u001b[1;33m)\u001b[0m\u001b[1;33m\u001b[0m\u001b[1;33m\u001b[0m\u001b[0m\n\u001b[0m",
      "\u001b[1;31mFileNotFoundError\u001b[0m: [Errno 2] No such file or directory: 'temp.txt'"
     ]
    }
   ],
   "source": [
    "f = open('temp.txt','r')"
   ]
  },
  {
   "cell_type": "code",
   "execution_count": 7,
   "id": "8fcd097b",
   "metadata": {},
   "outputs": [
    {
     "ename": "NameError",
     "evalue": "name 'f' is not defined",
     "output_type": "error",
     "traceback": [
      "\u001b[1;31m---------------------------------------------------------------------------\u001b[0m",
      "\u001b[1;31mNameError\u001b[0m                                 Traceback (most recent call last)",
      "\u001b[1;32m~\\AppData\\Local\\Temp\\ipykernel_16688\\3059900045.py\u001b[0m in \u001b[0;36m<module>\u001b[1;34m\u001b[0m\n\u001b[1;32m----> 1\u001b[1;33m \u001b[0mf\u001b[0m\u001b[1;33m.\u001b[0m\u001b[0mread\u001b[0m\u001b[1;33m(\u001b[0m\u001b[1;33m)\u001b[0m\u001b[1;33m\u001b[0m\u001b[1;33m\u001b[0m\u001b[0m\n\u001b[0m",
      "\u001b[1;31mNameError\u001b[0m: name 'f' is not defined"
     ]
    }
   ],
   "source": [
    "f.read()"
   ]
  },
  {
   "cell_type": "code",
   "execution_count": 113,
   "id": "e3e4798e",
   "metadata": {},
   "outputs": [],
   "source": [
    "f.close()"
   ]
  },
  {
   "cell_type": "code",
   "execution_count": null,
   "id": "6059e20e",
   "metadata": {},
   "outputs": [],
   "source": []
  }
 ],
 "metadata": {
  "kernelspec": {
   "display_name": "Python 3 (ipykernel)",
   "language": "python",
   "name": "python3"
  },
  "language_info": {
   "codemirror_mode": {
    "name": "ipython",
    "version": 3
   },
   "file_extension": ".py",
   "mimetype": "text/x-python",
   "name": "python",
   "nbconvert_exporter": "python",
   "pygments_lexer": "ipython3",
   "version": "3.9.13"
  }
 },
 "nbformat": 4,
 "nbformat_minor": 5
}
