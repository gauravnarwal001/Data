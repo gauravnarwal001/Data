{
 "cells": [
  {
   "cell_type": "code",
   "execution_count": 2,
   "id": "6d2c5c80",
   "metadata": {
    "id": "6d2c5c80"
   },
   "outputs": [],
   "source": [
    "import numpy as np"
   ]
  },
  {
   "cell_type": "code",
   "execution_count": 3,
   "id": "b63f9cbc",
   "metadata": {
    "scrolled": true
   },
   "outputs": [
    {
     "data": {
      "text/plain": [
       "array([[1., 1., 1.],\n",
       "       [1., 1., 1.],\n",
       "       [1., 1., 1.]])"
      ]
     },
     "execution_count": 3,
     "metadata": {},
     "output_type": "execute_result"
    }
   ],
   "source": [
    "np.ones((3,3))"
   ]
  },
  {
   "cell_type": "code",
   "execution_count": 4,
   "id": "89c799fd",
   "metadata": {},
   "outputs": [
    {
     "data": {
      "text/plain": [
       "array([[0., 0., 0., 0., 0.],\n",
       "       [0., 0., 0., 0., 0.],\n",
       "       [0., 0., 0., 0., 0.],\n",
       "       [0., 0., 0., 0., 0.],\n",
       "       [0., 0., 0., 0., 0.],\n",
       "       [0., 0., 0., 0., 0.],\n",
       "       [0., 0., 0., 0., 0.]])"
      ]
     },
     "execution_count": 4,
     "metadata": {},
     "output_type": "execute_result"
    }
   ],
   "source": [
    "np.zeros((7,5))"
   ]
  },
  {
   "cell_type": "code",
   "execution_count": null,
   "id": "43b5bb0c",
   "metadata": {},
   "outputs": [],
   "source": []
  },
  {
   "cell_type": "code",
   "execution_count": 5,
   "id": "78e280f3",
   "metadata": {},
   "outputs": [],
   "source": [
    "arr = np.ones((3, 4))"
   ]
  },
  {
   "cell_type": "code",
   "execution_count": 6,
   "id": "0cf245ff",
   "metadata": {
    "id": "0cf245ff",
    "outputId": "d52e270e-7626-42e4-c3d9-015e8577e8c2"
   },
   "outputs": [
    {
     "data": {
      "text/plain": [
       "array([[1., 1., 1., 1.],\n",
       "       [1., 1., 1., 1.],\n",
       "       [1., 1., 1., 1.]])"
      ]
     },
     "execution_count": 6,
     "metadata": {},
     "output_type": "execute_result"
    }
   ],
   "source": [
    "arr"
   ]
  },
  {
   "cell_type": "code",
   "execution_count": 7,
   "id": "3e3453da",
   "metadata": {
    "id": "3e3453da",
    "outputId": "e7221802-d853-4452-96cd-e60a7fbc9208"
   },
   "outputs": [
    {
     "data": {
      "text/plain": [
       "array([[6., 6., 6., 6.],\n",
       "       [6., 6., 6., 6.],\n",
       "       [6., 6., 6., 6.]])"
      ]
     },
     "execution_count": 7,
     "metadata": {},
     "output_type": "execute_result"
    }
   ],
   "source": [
    "arr + 5"
   ]
  },
  {
   "cell_type": "code",
   "execution_count": 8,
   "id": "d8ee1828",
   "metadata": {
    "id": "d8ee1828",
    "outputId": "ddfbe077-c7aa-486c-9a44-d9ca55b9cdea"
   },
   "outputs": [
    {
     "data": {
      "text/plain": [
       "array([[5., 5., 5., 5.],\n",
       "       [5., 5., 5., 5.],\n",
       "       [5., 5., 5., 5.]])"
      ]
     },
     "execution_count": 8,
     "metadata": {},
     "output_type": "execute_result"
    }
   ],
   "source": [
    "arr*5"
   ]
  },
  {
   "cell_type": "code",
   "execution_count": 10,
   "id": "5276a22f",
   "metadata": {
    "id": "5276a22f",
    "outputId": "2ca6fc74-d1c7-4dec-9aa9-e6f2893b1100"
   },
   "outputs": [
    {
     "data": {
      "text/plain": [
       "array([[1., 0., 0., 0., 0., 0., 0., 0., 0., 0.],\n",
       "       [0., 1., 0., 0., 0., 0., 0., 0., 0., 0.],\n",
       "       [0., 0., 1., 0., 0., 0., 0., 0., 0., 0.],\n",
       "       [0., 0., 0., 1., 0., 0., 0., 0., 0., 0.],\n",
       "       [0., 0., 0., 0., 1., 0., 0., 0., 0., 0.],\n",
       "       [0., 0., 0., 0., 0., 1., 0., 0., 0., 0.],\n",
       "       [0., 0., 0., 0., 0., 0., 1., 0., 0., 0.],\n",
       "       [0., 0., 0., 0., 0., 0., 0., 1., 0., 0.],\n",
       "       [0., 0., 0., 0., 0., 0., 0., 0., 1., 0.],\n",
       "       [0., 0., 0., 0., 0., 0., 0., 0., 0., 1.]])"
      ]
     },
     "execution_count": 10,
     "metadata": {},
     "output_type": "execute_result"
    }
   ],
   "source": [
    "np.eye(10)"
   ]
  },
  {
   "cell_type": "code",
   "execution_count": 11,
   "id": "fa09cc61",
   "metadata": {
    "id": "fa09cc61",
    "outputId": "b50269a7-1941-4dcb-f205-632603be8a98"
   },
   "outputs": [
    {
     "data": {
      "text/plain": [
       "array([[1., 1., 1., 1.],\n",
       "       [1., 1., 1., 1.],\n",
       "       [1., 1., 1., 1.]])"
      ]
     },
     "execution_count": 11,
     "metadata": {},
     "output_type": "execute_result"
    }
   ],
   "source": [
    "arr"
   ]
  },
  {
   "cell_type": "markdown",
   "id": "0a7481b7",
   "metadata": {},
   "source": [
    "#### We do all this things in numpy library without importing random library"
   ]
  },
  {
   "cell_type": "code",
   "execution_count": 12,
   "id": "34b125c0",
   "metadata": {},
   "outputs": [],
   "source": [
    "import random"
   ]
  },
  {
   "cell_type": "code",
   "execution_count": 20,
   "id": "453acaae",
   "metadata": {},
   "outputs": [
    {
     "data": {
      "text/plain": [
       "1"
      ]
     },
     "execution_count": 20,
     "metadata": {},
     "output_type": "execute_result"
    }
   ],
   "source": [
    "random.randint(1,6)"
   ]
  },
  {
   "cell_type": "code",
   "execution_count": 21,
   "id": "9f883174",
   "metadata": {
    "scrolled": true
   },
   "outputs": [
    {
     "data": {
      "text/plain": [
       "7"
      ]
     },
     "execution_count": 21,
     "metadata": {},
     "output_type": "execute_result"
    }
   ],
   "source": [
    "random.randint(2,10)"
   ]
  },
  {
   "cell_type": "code",
   "execution_count": 37,
   "id": "8dcf77a7",
   "metadata": {},
   "outputs": [
    {
     "data": {
      "text/plain": [
       "array([5, 3, 4, 5, 2, 3, 1, 1, 3, 1])"
      ]
     },
     "execution_count": 37,
     "metadata": {},
     "output_type": "execute_result"
    }
   ],
   "source": [
    "np.random.randint(1,6,size = 10)"
   ]
  },
  {
   "cell_type": "code",
   "execution_count": 58,
   "id": "1112871e",
   "metadata": {
    "id": "1112871e",
    "outputId": "fc375595-e5a6-49f9-939e-1e4ccb78b11b"
   },
   "outputs": [
    {
     "data": {
      "text/plain": [
       "array([[0.85307799, 0.44019337, 0.29610996, 0.13275244, 0.08553061],\n",
       "       [0.77297881, 0.27012268, 0.97687922, 0.85331701, 0.50236643],\n",
       "       [0.54931377, 0.83431233, 0.70047848, 0.79121893, 0.04713867],\n",
       "       [0.06055315, 0.21917428, 0.97295289, 0.18331983, 0.3599516 ],\n",
       "       [0.69210054, 0.01386401, 0.0322972 , 0.19284139, 0.3516468 ],\n",
       "       [0.5212548 , 0.3003188 , 0.23273767, 0.6906659 , 0.22153356],\n",
       "       [0.4096548 , 0.46136371, 0.91317329, 0.02957846, 0.97609501],\n",
       "       [0.74597091, 0.27284017, 0.85776307, 0.57545675, 0.51983221],\n",
       "       [0.13275051, 0.43659419, 0.24157302, 0.02585321, 0.05279334]])"
      ]
     },
     "execution_count": 58,
     "metadata": {},
     "output_type": "execute_result"
    }
   ],
   "source": [
    "np.random.random_sample((9,5))"
   ]
  },
  {
   "cell_type": "code",
   "execution_count": 59,
   "id": "cc3c3603",
   "metadata": {
    "id": "cc3c3603",
    "outputId": "939444a6-2a26-4dac-c354-10da0065bca4"
   },
   "outputs": [
    {
     "data": {
      "text/plain": [
       "float"
      ]
     },
     "execution_count": 59,
     "metadata": {},
     "output_type": "execute_result"
    }
   ],
   "source": [
    "type(np.random.random_sample())"
   ]
  },
  {
   "cell_type": "code",
   "execution_count": 60,
   "id": "6515618a",
   "metadata": {
    "id": "6515618a",
    "outputId": "22fa80b0-5b3e-43f1-c5b5-7be1e835847e",
    "scrolled": true
   },
   "outputs": [
    {
     "data": {
      "text/plain": [
       "array([0.42997775, 0.16087783, 0.88136815, 0.56491354, 0.13620428,\n",
       "       0.18730194, 0.3573898 , 0.77040918, 0.6189595 , 0.14271562])"
      ]
     },
     "execution_count": 60,
     "metadata": {},
     "output_type": "execute_result"
    }
   ],
   "source": [
    "np.random.random_sample(10)"
   ]
  },
  {
   "cell_type": "code",
   "execution_count": 61,
   "id": "f016851d",
   "metadata": {
    "id": "f016851d",
    "outputId": "298be8be-560b-4e0e-8df7-8e9593c127f2"
   },
   "outputs": [
    {
     "data": {
      "text/plain": [
       "array([[0.45641644],\n",
       "       [0.67939235],\n",
       "       [0.83780004],\n",
       "       [0.13735163],\n",
       "       [0.84094817],\n",
       "       [0.94520269],\n",
       "       [0.46526254],\n",
       "       [0.50493888],\n",
       "       [0.47141732],\n",
       "       [0.09762295]])"
      ]
     },
     "execution_count": 61,
     "metadata": {},
     "output_type": "execute_result"
    }
   ],
   "source": [
    "np.random.rand(10,1)"
   ]
  },
  {
   "cell_type": "code",
   "execution_count": 62,
   "id": "b406c5cf",
   "metadata": {
    "id": "b406c5cf",
    "outputId": "7ad30432-5ac0-4dd0-a89e-ad8c92a616f7"
   },
   "outputs": [
    {
     "data": {
      "text/plain": [
       "array([[0.16658993, 0.70487328, 0.6718675 ],\n",
       "       [0.22698964, 0.07467633, 0.07170459]])"
      ]
     },
     "execution_count": 62,
     "metadata": {},
     "output_type": "execute_result"
    }
   ],
   "source": [
    "np.random.rand(2, 3)"
   ]
  },
  {
   "cell_type": "code",
   "execution_count": 63,
   "id": "cf700afb",
   "metadata": {
    "id": "cf700afb",
    "outputId": "b4fb8452-0a43-4d26-b4b2-a41f2078a137"
   },
   "outputs": [
    {
     "data": {
      "text/plain": [
       "array([[-0.45396008, -0.50191225,  1.13777625],\n",
       "       [ 0.44329591, -1.61646272,  0.25749618]])"
      ]
     },
     "execution_count": 63,
     "metadata": {},
     "output_type": "execute_result"
    }
   ],
   "source": [
    "np.random.randn(2, 3)"
   ]
  },
  {
   "cell_type": "code",
   "execution_count": 64,
   "id": "d299b157",
   "metadata": {
    "id": "d299b157",
    "outputId": "fbc9d246-1e24-405a-d51c-7bce6aef74aa"
   },
   "outputs": [
    {
     "data": {
      "text/plain": [
       "0.48573858654977453"
      ]
     },
     "execution_count": 64,
     "metadata": {},
     "output_type": "execute_result"
    }
   ],
   "source": [
    "np.random.random_sample()"
   ]
  },
  {
   "cell_type": "code",
   "execution_count": 65,
   "id": "c3c0f7ec",
   "metadata": {
    "id": "c3c0f7ec",
    "outputId": "b65e0347-9587-4cee-afc3-06ed56870c3b"
   },
   "outputs": [
    {
     "data": {
      "text/plain": [
       "6"
      ]
     },
     "execution_count": 65,
     "metadata": {},
     "output_type": "execute_result"
    }
   ],
   "source": [
    "np.random.randint(1,7)"
   ]
  },
  {
   "cell_type": "code",
   "execution_count": 66,
   "id": "630208a5",
   "metadata": {
    "id": "630208a5"
   },
   "outputs": [
    {
     "data": {
      "text/plain": [
       "array([[2, 1, 2, 2, 5, 6],\n",
       "       [3, 3, 5, 1, 2, 3],\n",
       "       [5, 2, 6, 1, 3, 2],\n",
       "       [1, 5, 5, 3, 5, 5]])"
      ]
     },
     "execution_count": 66,
     "metadata": {},
     "output_type": "execute_result"
    }
   ],
   "source": [
    "np.random.randint(1,7,(4,6))"
   ]
  },
  {
   "cell_type": "code",
   "execution_count": 67,
   "id": "90051fcc",
   "metadata": {
    "id": "90051fcc",
    "outputId": "3bdad4a0-33dd-4447-a5c0-5f49ae251a00"
   },
   "outputs": [
    {
     "data": {
      "text/plain": [
       "array([[1., 1., 1., 1.],\n",
       "       [1., 1., 1., 1.],\n",
       "       [1., 1., 1., 1.]])"
      ]
     },
     "execution_count": 67,
     "metadata": {},
     "output_type": "execute_result"
    }
   ],
   "source": [
    "arr"
   ]
  },
  {
   "cell_type": "code",
   "execution_count": 68,
   "id": "304d2c66",
   "metadata": {
    "id": "304d2c66",
    "outputId": "c757b87a-fc9b-45e5-ce01-fdfa98e34f3e"
   },
   "outputs": [
    {
     "data": {
      "text/plain": [
       "12"
      ]
     },
     "execution_count": 68,
     "metadata": {},
     "output_type": "execute_result"
    }
   ],
   "source": [
    "arr.size"
   ]
  },
  {
   "cell_type": "code",
   "execution_count": 69,
   "id": "0a04274b",
   "metadata": {
    "id": "0a04274b",
    "outputId": "5bf68c1e-1940-49b3-9378-9958fec550c4"
   },
   "outputs": [
    {
     "data": {
      "text/plain": [
       "(3, 4)"
      ]
     },
     "execution_count": 69,
     "metadata": {},
     "output_type": "execute_result"
    }
   ],
   "source": [
    "arr.shape"
   ]
  },
  {
   "cell_type": "code",
   "execution_count": 70,
   "id": "69d6405a",
   "metadata": {
    "id": "69d6405a",
    "outputId": "3a4e8159-d2c8-433b-a34f-f68c78c3646d"
   },
   "outputs": [
    {
     "data": {
      "text/plain": [
       "2"
      ]
     },
     "execution_count": 70,
     "metadata": {},
     "output_type": "execute_result"
    }
   ],
   "source": [
    "arr.ndim"
   ]
  },
  {
   "cell_type": "code",
   "execution_count": 71,
   "id": "c0267eb1",
   "metadata": {
    "id": "c0267eb1",
    "outputId": "6c55b9d5-4758-4ddd-a635-6f7c3bb7e4af"
   },
   "outputs": [
    {
     "data": {
      "text/plain": [
       "array([[1., 1., 1., 1.],\n",
       "       [1., 1., 1., 1.],\n",
       "       [1., 1., 1., 1.]])"
      ]
     },
     "execution_count": 71,
     "metadata": {},
     "output_type": "execute_result"
    }
   ],
   "source": [
    "arr"
   ]
  },
  {
   "cell_type": "code",
   "execution_count": null,
   "id": "7aae9745",
   "metadata": {},
   "outputs": [],
   "source": [
    "npShould it look like a banner, a website header, or a promotional poster?\n",
    "\n",
    "Should it look like a banner, a website header, or a promotional poster?\n",
    "\n"
   ]
  },
  {
   "cell_type": "code",
   "execution_count": null,
   "id": "da364c7d",
   "metadata": {},
   "outputs": [],
   "source": []
  },
  {
   "cell_type": "code",
   "execution_count": null,
   "id": "814c7bee",
   "metadata": {},
   "outputs": [],
   "source": []
  },
  {
   "cell_type": "code",
   "execution_count": null,
   "id": "86c83297",
   "metadata": {},
   "outputs": [],
   "source": []
  },
  {
   "cell_type": "code",
   "execution_count": null,
   "id": "bdf975af",
   "metadata": {},
   "outputs": [],
   "source": []
  },
  {
   "cell_type": "code",
   "execution_count": null,
   "id": "9a0c5736",
   "metadata": {},
   "outputs": [],
   "source": []
  },
  {
   "cell_type": "code",
   "execution_count": 75,
   "id": "cc0a7eef",
   "metadata": {
    "id": "cc0a7eef",
    "outputId": "8f668bb6-cb06-497c-fc1e-d8f84f569f76"
   },
   "outputs": [
    {
     "data": {
      "text/plain": [
       "array([[1., 1., 1., 1., 1., 1., 1., 1., 1., 1., 1., 1.]])"
      ]
     },
     "execution_count": 75,
     "metadata": {},
     "output_type": "execute_result"
    }
   ],
   "source": [
    "arr.reshape(1,12) #array size can not change, multiples of array size"
   ]
  },
  {
   "cell_type": "code",
   "execution_count": 76,
   "id": "4111d896",
   "metadata": {
    "id": "4111d896",
    "outputId": "a090fe8e-c7a8-4591-80af-a5ce6f58f123"
   },
   "outputs": [
    {
     "data": {
      "text/plain": [
       "array([[1., 1.],\n",
       "       [1., 1.],\n",
       "       [1., 1.],\n",
       "       [1., 1.],\n",
       "       [1., 1.],\n",
       "       [1., 1.]])"
      ]
     },
     "execution_count": 76,
     "metadata": {},
     "output_type": "execute_result"
    }
   ],
   "source": [
    "arr.reshape(6, 2)"
   ]
  },
  {
   "cell_type": "code",
   "execution_count": 77,
   "id": "e2a4ab22",
   "metadata": {
    "id": "e2a4ab22",
    "outputId": "a5904249-a6be-4c76-d611-c0c9d2101cdb"
   },
   "outputs": [
    {
     "data": {
      "text/plain": [
       "array([[1.],\n",
       "       [1.],\n",
       "       [1.],\n",
       "       [1.],\n",
       "       [1.],\n",
       "       [1.],\n",
       "       [1.],\n",
       "       [1.],\n",
       "       [1.],\n",
       "       [1.],\n",
       "       [1.],\n",
       "       [1.]])"
      ]
     },
     "execution_count": 77,
     "metadata": {},
     "output_type": "execute_result"
    }
   ],
   "source": [
    "arr.reshape(12, 1)"
   ]
  },
  {
   "cell_type": "code",
   "execution_count": 78,
   "id": "dd8a93d2",
   "metadata": {
    "id": "dd8a93d2",
    "outputId": "b280baab-9bb1-4658-c3ee-58a529479c6c"
   },
   "outputs": [
    {
     "ename": "ValueError",
     "evalue": "cannot reshape array of size 12 into shape (12,2)",
     "output_type": "error",
     "traceback": [
      "\u001b[1;31m---------------------------------------------------------------------------\u001b[0m",
      "\u001b[1;31mValueError\u001b[0m                                Traceback (most recent call last)",
      "\u001b[1;32m~\\AppData\\Local\\Temp\\ipykernel_15796\\3765876370.py\u001b[0m in \u001b[0;36m<module>\u001b[1;34m\u001b[0m\n\u001b[1;32m----> 1\u001b[1;33m \u001b[0marr\u001b[0m\u001b[1;33m.\u001b[0m\u001b[0mreshape\u001b[0m\u001b[1;33m(\u001b[0m\u001b[1;36m12\u001b[0m\u001b[1;33m,\u001b[0m\u001b[1;36m2\u001b[0m\u001b[1;33m)\u001b[0m\u001b[1;33m\u001b[0m\u001b[1;33m\u001b[0m\u001b[0m\n\u001b[0m",
      "\u001b[1;31mValueError\u001b[0m: cannot reshape array of size 12 into shape (12,2)"
     ]
    }
   ],
   "source": [
    "arr.reshape(12,2)"
   ]
  },
  {
   "cell_type": "code",
   "execution_count": 79,
   "id": "d27d2db9",
   "metadata": {
    "id": "d27d2db9",
    "outputId": "026b16cc-14f0-461f-e903-79b82c31eea6"
   },
   "outputs": [
    {
     "data": {
      "text/plain": [
       "array([[1., 1., 1.],\n",
       "       [1., 1., 1.],\n",
       "       [1., 1., 1.],\n",
       "       [1., 1., 1.]])"
      ]
     },
     "execution_count": 79,
     "metadata": {},
     "output_type": "execute_result"
    }
   ],
   "source": [
    "arr.reshape(4, 3)"
   ]
  },
  {
   "cell_type": "code",
   "execution_count": 80,
   "id": "88985273",
   "metadata": {
    "id": "88985273",
    "outputId": "a13f6d02-e069-4a5b-e25c-af59dac63020"
   },
   "outputs": [
    {
     "data": {
      "text/plain": [
       "array([[1., 1., 1., 1.],\n",
       "       [1., 1., 1., 1.],\n",
       "       [1., 1., 1., 1.]])"
      ]
     },
     "execution_count": 80,
     "metadata": {},
     "output_type": "execute_result"
    }
   ],
   "source": [
    "arr.reshape(3,4)"
   ]
  },
  {
   "cell_type": "code",
   "execution_count": 81,
   "id": "b1b1e75c",
   "metadata": {
    "id": "b1b1e75c",
    "outputId": "88cdfc59-4ca0-497c-fd35-677f8d72c5f4"
   },
   "outputs": [
    {
     "data": {
      "text/plain": [
       "array([[1., 1., 1., 1.],\n",
       "       [1., 1., 1., 1.],\n",
       "       [1., 1., 1., 1.]])"
      ]
     },
     "execution_count": 81,
     "metadata": {},
     "output_type": "execute_result"
    }
   ],
   "source": [
    "arr"
   ]
  },
  {
   "cell_type": "code",
   "execution_count": 85,
   "id": "2cecddd9",
   "metadata": {},
   "outputs": [
    {
     "data": {
      "text/plain": [
       "array([[1., 1.],\n",
       "       [1., 1.],\n",
       "       [1., 1.],\n",
       "       [1., 1.],\n",
       "       [1., 1.],\n",
       "       [1., 1.]])"
      ]
     },
     "execution_count": 85,
     "metadata": {},
     "output_type": "execute_result"
    }
   ],
   "source": [
    "arr.reshape(6,-1)"
   ]
  },
  {
   "cell_type": "code",
   "execution_count": null,
   "id": "e8e57b63",
   "metadata": {},
   "outputs": [],
   "source": []
  },
  {
   "cell_type": "code",
   "execution_count": 86,
   "id": "9b4a7848",
   "metadata": {
    "id": "9b4a7848",
    "outputId": "7839ad43-75f9-4a17-a5fa-1f41761aa489"
   },
   "outputs": [
    {
     "data": {
      "text/plain": [
       "array([[1., 1.],\n",
       "       [1., 1.],\n",
       "       [1., 1.],\n",
       "       [1., 1.],\n",
       "       [1., 1.],\n",
       "       [1., 1.]])"
      ]
     },
     "execution_count": 86,
     "metadata": {},
     "output_type": "execute_result"
    }
   ],
   "source": [
    "arr.reshape(6, -1)  \n",
    "# when we know how many rows wants but not know about columns so we use -1 it automatically decides the no. of columns"
   ]
  },
  {
   "cell_type": "code",
   "execution_count": 89,
   "id": "fa309e5d",
   "metadata": {},
   "outputs": [
    {
     "data": {
      "text/plain": [
       "array([[1., 1.],\n",
       "       [1., 1.],\n",
       "       [1., 1.],\n",
       "       [1., 1.],\n",
       "       [1., 1.],\n",
       "       [1., 1.]])"
      ]
     },
     "execution_count": 89,
     "metadata": {},
     "output_type": "execute_result"
    }
   ],
   "source": [
    "arr.reshape(-1,2)"
   ]
  },
  {
   "cell_type": "code",
   "execution_count": 90,
   "id": "e906e39e",
   "metadata": {
    "id": "e906e39e",
    "outputId": "b4a1dd98-9610-4c8e-d547-8ed1c22841b6"
   },
   "outputs": [
    {
     "data": {
      "text/plain": [
       "array([[1., 1., 1., 1.],\n",
       "       [1., 1., 1., 1.],\n",
       "       [1., 1., 1., 1.]])"
      ]
     },
     "execution_count": 90,
     "metadata": {},
     "output_type": "execute_result"
    }
   ],
   "source": [
    "arr.reshape(3, -100)"
   ]
  },
  {
   "cell_type": "code",
   "execution_count": 91,
   "id": "2bff1250",
   "metadata": {
    "id": "2bff1250",
    "outputId": "ff243631-f1c8-41fb-e206-55d076808239"
   },
   "outputs": [
    {
     "data": {
      "text/plain": [
       "array([[1., 1., 1., 1.],\n",
       "       [1., 1., 1., 1.],\n",
       "       [1., 1., 1., 1.]])"
      ]
     },
     "execution_count": 91,
     "metadata": {},
     "output_type": "execute_result"
    }
   ],
   "source": [
    "arr.reshape(3, -2000)"
   ]
  },
  {
   "cell_type": "code",
   "execution_count": 92,
   "id": "a068091e",
   "metadata": {
    "id": "a068091e",
    "outputId": "436af35c-e939-4da6-d512-53c0613d7893"
   },
   "outputs": [
    {
     "data": {
      "text/plain": [
       "array([[1., 1., 1., 1.],\n",
       "       [1., 1., 1., 1.],\n",
       "       [1., 1., 1., 1.]])"
      ]
     },
     "execution_count": 92,
     "metadata": {},
     "output_type": "execute_result"
    }
   ],
   "source": [
    "arr.reshape(-1, 4)"
   ]
  },
  {
   "cell_type": "code",
   "execution_count": 93,
   "id": "0774e249",
   "metadata": {
    "id": "0774e249",
    "outputId": "46a5c4fc-17c6-409d-a61c-0d849d8bca6f"
   },
   "outputs": [
    {
     "data": {
      "text/plain": [
       "12"
      ]
     },
     "execution_count": 93,
     "metadata": {},
     "output_type": "execute_result"
    }
   ],
   "source": [
    "arr.size"
   ]
  },
  {
   "cell_type": "code",
   "execution_count": 94,
   "id": "d8f1159c",
   "metadata": {
    "id": "d8f1159c",
    "outputId": "c51840d1-40b5-4d2c-ee18-633b26eb8885"
   },
   "outputs": [
    {
     "data": {
      "text/plain": [
       "array([[[1., 1., 1.],\n",
       "        [1., 1., 1.]],\n",
       "\n",
       "       [[1., 1., 1.],\n",
       "        [1., 1., 1.]]])"
      ]
     },
     "execution_count": 94,
     "metadata": {},
     "output_type": "execute_result"
    }
   ],
   "source": [
    "arr.reshape(2, 2, 3)"
   ]
  },
  {
   "cell_type": "code",
   "execution_count": 95,
   "id": "c91113ad",
   "metadata": {
    "id": "c91113ad",
    "outputId": "40a3644d-1c27-43dc-d217-3f9ab886fd19",
    "scrolled": true
   },
   "outputs": [
    {
     "data": {
      "text/plain": [
       "array([[[[1., 1., 1.],\n",
       "         [1., 1., 1.]],\n",
       "\n",
       "        [[1., 1., 1.],\n",
       "         [1., 1., 1.]]]])"
      ]
     },
     "execution_count": 95,
     "metadata": {},
     "output_type": "execute_result"
    }
   ],
   "source": [
    "arr.reshape(1, 2, 2, 3)"
   ]
  },
  {
   "cell_type": "code",
   "execution_count": 96,
   "id": "a561838c",
   "metadata": {
    "id": "a561838c",
    "outputId": "01d4ff7f-4da8-4ff5-ba91-840b225c836b"
   },
   "outputs": [
    {
     "data": {
      "text/plain": [
       "array([[[1.],\n",
       "        [1.],\n",
       "        [1.]],\n",
       "\n",
       "       [[1.],\n",
       "        [1.],\n",
       "        [1.]],\n",
       "\n",
       "       [[1.],\n",
       "        [1.],\n",
       "        [1.]],\n",
       "\n",
       "       [[1.],\n",
       "        [1.],\n",
       "        [1.]]])"
      ]
     },
     "execution_count": 96,
     "metadata": {},
     "output_type": "execute_result"
    }
   ],
   "source": [
    "arr.reshape(4, 3, 1)"
   ]
  },
  {
   "cell_type": "code",
   "execution_count": 97,
   "id": "a1b34382",
   "metadata": {
    "id": "a1b34382",
    "outputId": "31c930bf-d9a6-401f-a583-f3602c056723"
   },
   "outputs": [
    {
     "data": {
      "text/plain": [
       "array([[[[[[[[[[[[1., 1., 1.],\n",
       "                 [1., 1., 1.]],\n",
       "\n",
       "                [[1., 1., 1.],\n",
       "                 [1., 1., 1.]]]]]]]]]]]])"
      ]
     },
     "execution_count": 97,
     "metadata": {},
     "output_type": "execute_result"
    }
   ],
   "source": [
    "arr.reshape(1, 1, 1, 1, 1, 1, 1, 1, 1, 2, 2, 3)"
   ]
  },
  {
   "cell_type": "code",
   "execution_count": 98,
   "id": "ca5d4613",
   "metadata": {
    "id": "ca5d4613"
   },
   "outputs": [],
   "source": [
    "lis = [1, 2, 3, 4]\n",
    "arr = np.array(lis)"
   ]
  },
  {
   "cell_type": "code",
   "execution_count": 99,
   "id": "c11b423b",
   "metadata": {
    "id": "c11b423b",
    "outputId": "d5aeae7b-1a2e-4b0b-897e-04d57b793212"
   },
   "outputs": [
    {
     "data": {
      "text/plain": [
       "array([1, 2, 3, 4])"
      ]
     },
     "execution_count": 99,
     "metadata": {},
     "output_type": "execute_result"
    }
   ],
   "source": [
    "arr"
   ]
  },
  {
   "cell_type": "code",
   "execution_count": 100,
   "id": "2264e026",
   "metadata": {
    "id": "2264e026",
    "outputId": "ed3a3f1f-3aeb-4d83-9de0-56bbd9b61323"
   },
   "outputs": [
    {
     "data": {
      "text/plain": [
       "1"
      ]
     },
     "execution_count": 100,
     "metadata": {},
     "output_type": "execute_result"
    }
   ],
   "source": [
    "arr.ndim"
   ]
  },
  {
   "cell_type": "code",
   "execution_count": 101,
   "id": "ae1b54a7",
   "metadata": {
    "id": "ae1b54a7",
    "outputId": "1e5630c4-0c60-4607-d741-d8fdf033a6e9"
   },
   "outputs": [
    {
     "data": {
      "text/plain": [
       "array([[2, 3],\n",
       "       [4, 5]])"
      ]
     },
     "execution_count": 101,
     "metadata": {},
     "output_type": "execute_result"
    }
   ],
   "source": [
    "arr2 = np.array([[2, 3], [4, 5]])\n",
    "arr2"
   ]
  },
  {
   "cell_type": "code",
   "execution_count": 102,
   "id": "8399c0c7",
   "metadata": {
    "id": "8399c0c7",
    "outputId": "17ab9ea9-9ce0-48c3-ebd0-faf61ba0dfaa"
   },
   "outputs": [
    {
     "data": {
      "text/plain": [
       "2"
      ]
     },
     "execution_count": 102,
     "metadata": {},
     "output_type": "execute_result"
    }
   ],
   "source": [
    "arr2.ndim"
   ]
  },
  {
   "cell_type": "code",
   "execution_count": 103,
   "id": "3f743f0d",
   "metadata": {
    "id": "3f743f0d",
    "outputId": "9254c6e5-d6a4-45cc-92c0-40d1b4d04e29"
   },
   "outputs": [
    {
     "data": {
      "text/plain": [
       "array([[0., 0., 0., 0.],\n",
       "       [0., 0., 0., 0.],\n",
       "       [0., 0., 0., 0.]])"
      ]
     },
     "execution_count": 103,
     "metadata": {},
     "output_type": "execute_result"
    }
   ],
   "source": [
    "arr2 = np.zeros((3, 4))\n",
    "arr2"
   ]
  },
  {
   "cell_type": "code",
   "execution_count": 104,
   "id": "dbfe0fe6",
   "metadata": {
    "id": "dbfe0fe6",
    "outputId": "7e8e9074-4430-4cca-e497-08ab84e32b7a"
   },
   "outputs": [
    {
     "data": {
      "text/plain": [
       "2"
      ]
     },
     "execution_count": 104,
     "metadata": {},
     "output_type": "execute_result"
    }
   ],
   "source": [
    "arr2.ndim"
   ]
  },
  {
   "cell_type": "code",
   "execution_count": 105,
   "id": "f98f0ec1",
   "metadata": {
    "id": "f98f0ec1",
    "outputId": "82b983f6-148b-4cec-98c5-28813b819ce4"
   },
   "outputs": [
    {
     "data": {
      "text/plain": [
       "array([[[0., 0., 0., 0.],\n",
       "        [0., 0., 0., 0.],\n",
       "        [0., 0., 0., 0.]]])"
      ]
     },
     "execution_count": 105,
     "metadata": {},
     "output_type": "execute_result"
    }
   ],
   "source": [
    "arr3 = np.zeros((1, 3, 4)) # 3 rows, 4 columns >> 2d array + 1d\n",
    "arr3"
   ]
  },
  {
   "cell_type": "code",
   "execution_count": 106,
   "id": "23160134",
   "metadata": {
    "id": "23160134",
    "outputId": "b39a3532-6ca0-4d2f-aa35-840059d039c9"
   },
   "outputs": [
    {
     "data": {
      "text/plain": [
       "3"
      ]
     },
     "execution_count": 106,
     "metadata": {},
     "output_type": "execute_result"
    }
   ],
   "source": [
    "arr3.ndim"
   ]
  },
  {
   "cell_type": "code",
   "execution_count": 107,
   "id": "07f9c9ca",
   "metadata": {
    "id": "07f9c9ca",
    "outputId": "9c8965a9-75d0-4ae9-9d0e-f6e8b347d6fc"
   },
   "outputs": [
    {
     "data": {
      "text/plain": [
       "(1, 3, 4)"
      ]
     },
     "execution_count": 107,
     "metadata": {},
     "output_type": "execute_result"
    }
   ],
   "source": [
    "arr3.shape"
   ]
  },
  {
   "cell_type": "code",
   "execution_count": 108,
   "id": "288b7fab",
   "metadata": {
    "id": "288b7fab",
    "outputId": "9aa00def-6bae-406a-ccb5-f89cafea63c0"
   },
   "outputs": [
    {
     "data": {
      "text/plain": [
       "array([[[[0., 0., 0., 0.],\n",
       "         [0., 0., 0., 0.],\n",
       "         [0., 0., 0., 0.]]]])"
      ]
     },
     "execution_count": 108,
     "metadata": {},
     "output_type": "execute_result"
    }
   ],
   "source": [
    "arr4 = np.zeros((1, 1, 3, 4)) # 3 rows, 4 columns >> 2d array + 1d +1d\n",
    "arr4"
   ]
  },
  {
   "cell_type": "code",
   "execution_count": 109,
   "id": "108874e3",
   "metadata": {
    "id": "108874e3",
    "outputId": "209ed768-2370-4c37-ad50-280aed589599"
   },
   "outputs": [
    {
     "data": {
      "text/plain": [
       "4"
      ]
     },
     "execution_count": 109,
     "metadata": {},
     "output_type": "execute_result"
    }
   ],
   "source": [
    "arr4.ndim"
   ]
  },
  {
   "cell_type": "code",
   "execution_count": 110,
   "id": "4908b59b",
   "metadata": {
    "id": "4908b59b",
    "outputId": "08604db3-acc3-4ddd-e0c8-3aa4a868628d"
   },
   "outputs": [
    {
     "data": {
      "text/plain": [
       "(1, 1, 3, 4)"
      ]
     },
     "execution_count": 110,
     "metadata": {},
     "output_type": "execute_result"
    }
   ],
   "source": [
    "arr4.shape"
   ]
  },
  {
   "cell_type": "code",
   "execution_count": 111,
   "id": "239ee299",
   "metadata": {
    "id": "239ee299",
    "outputId": "a555f1fa-e7f1-4751-afb2-65cb4a6a1392"
   },
   "outputs": [
    {
     "data": {
      "text/plain": [
       "array([[[0., 0., 0., 0.],\n",
       "        [0., 0., 0., 0.],\n",
       "        [0., 0., 0., 0.]],\n",
       "\n",
       "       [[0., 0., 0., 0.],\n",
       "        [0., 0., 0., 0.],\n",
       "        [0., 0., 0., 0.]],\n",
       "\n",
       "       [[0., 0., 0., 0.],\n",
       "        [0., 0., 0., 0.],\n",
       "        [0., 0., 0., 0.]]])"
      ]
     },
     "execution_count": 111,
     "metadata": {},
     "output_type": "execute_result"
    }
   ],
   "source": [
    "arr3 = np.zeros((3, 3, 4))\n",
    "arr3"
   ]
  },
  {
   "cell_type": "code",
   "execution_count": 112,
   "id": "f0858ac2",
   "metadata": {
    "id": "f0858ac2",
    "outputId": "aa5bdb49-b46b-4014-9a01-191041c4257c",
    "scrolled": true
   },
   "outputs": [
    {
     "data": {
      "text/plain": [
       "3"
      ]
     },
     "execution_count": 112,
     "metadata": {},
     "output_type": "execute_result"
    }
   ],
   "source": [
    "arr3.ndim"
   ]
  },
  {
   "cell_type": "code",
   "execution_count": 113,
   "id": "7789f2cc",
   "metadata": {
    "id": "7789f2cc",
    "outputId": "38fe7aa3-9327-4ef4-e471-e864ea17e355",
    "scrolled": true
   },
   "outputs": [
    {
     "data": {
      "text/plain": [
       "(3, 3, 4)"
      ]
     },
     "execution_count": 113,
     "metadata": {},
     "output_type": "execute_result"
    }
   ],
   "source": [
    "arr3.shape"
   ]
  },
  {
   "cell_type": "code",
   "execution_count": 114,
   "id": "bd85dfdc",
   "metadata": {
    "id": "bd85dfdc"
   },
   "outputs": [
    {
     "data": {
      "text/plain": [
       "array([[3, 1, 6, 3, 5, 9],\n",
       "       [6, 4, 8, 1, 5, 7],\n",
       "       [7, 5, 2, 2, 6, 1],\n",
       "       [3, 8, 4, 9, 5, 8],\n",
       "       [1, 5, 6, 7, 4, 4]])"
      ]
     },
     "execution_count": 114,
     "metadata": {},
     "output_type": "execute_result"
    }
   ],
   "source": [
    "arr1 = np.random.randint(1, 10, (5, 6))\n",
    "arr1"
   ]
  },
  {
   "cell_type": "code",
   "execution_count": 115,
   "id": "d7604706",
   "metadata": {
    "id": "d7604706",
    "outputId": "8cb8d884-4a15-4445-c49c-300d197248af"
   },
   "outputs": [
    {
     "data": {
      "text/plain": [
       "array([[False, False,  True, False, False,  True],\n",
       "       [ True, False,  True, False, False,  True],\n",
       "       [ True, False, False, False,  True, False],\n",
       "       [False,  True, False,  True, False,  True],\n",
       "       [False, False,  True,  True, False, False]])"
      ]
     },
     "execution_count": 115,
     "metadata": {},
     "output_type": "execute_result"
    }
   ],
   "source": [
    "arr1 > 5"
   ]
  },
  {
   "cell_type": "code",
   "execution_count": 116,
   "id": "36c1a227",
   "metadata": {},
   "outputs": [
    {
     "data": {
      "text/plain": [
       "array([6, 5, 9, 6, 4, 8, 5, 7, 7, 5, 6, 8, 4, 9, 5, 8, 5, 6, 7, 4, 4])"
      ]
     },
     "execution_count": 116,
     "metadata": {},
     "output_type": "execute_result"
    }
   ],
   "source": [
    "arr1[arr1>3]"
   ]
  },
  {
   "cell_type": "code",
   "execution_count": null,
   "id": "59f012c4",
   "metadata": {},
   "outputs": [],
   "source": []
  },
  {
   "cell_type": "code",
   "execution_count": 117,
   "id": "3ef7c073",
   "metadata": {
    "id": "3ef7c073",
    "outputId": "ebbb0c9c-d4cc-44ca-92d9-5052ed639024"
   },
   "outputs": [
    {
     "data": {
      "text/plain": [
       "array([6, 9, 6, 8, 7, 7, 6, 8, 9, 8, 6, 7])"
      ]
     },
     "execution_count": 117,
     "metadata": {},
     "output_type": "execute_result"
    }
   ],
   "source": [
    "arr1[arr1 > 5]"
   ]
  },
  {
   "cell_type": "code",
   "execution_count": 118,
   "id": "1d34ad7c",
   "metadata": {
    "id": "1d34ad7c",
    "outputId": "5a370f36-4e09-4472-8288-1389f34213af"
   },
   "outputs": [
    {
     "data": {
      "text/plain": [
       "array([3, 1, 3, 4, 1, 2, 2, 1, 3, 4, 1, 4, 4])"
      ]
     },
     "execution_count": 118,
     "metadata": {},
     "output_type": "execute_result"
    }
   ],
   "source": [
    "arr1[arr1 < 5]"
   ]
  },
  {
   "cell_type": "code",
   "execution_count": 119,
   "id": "73ed1e20",
   "metadata": {
    "id": "73ed1e20",
    "outputId": "8b8f3138-6cfc-4428-b02e-11eb847ad789"
   },
   "outputs": [
    {
     "data": {
      "text/plain": [
       "array([[3, 1, 6, 3, 5, 9],\n",
       "       [6, 4, 8, 1, 5, 7],\n",
       "       [7, 5, 2, 2, 6, 1],\n",
       "       [3, 8, 4, 9, 5, 8],\n",
       "       [1, 5, 6, 7, 4, 4]])"
      ]
     },
     "execution_count": 119,
     "metadata": {},
     "output_type": "execute_result"
    }
   ],
   "source": [
    "arr1"
   ]
  },
  {
   "cell_type": "code",
   "execution_count": 120,
   "id": "a2564283",
   "metadata": {
    "id": "a2564283",
    "outputId": "dfa1fda5-1eb1-490f-e884-0eb92e17635c"
   },
   "outputs": [
    {
     "data": {
      "text/plain": [
       "array([1, 2, 3, 4])"
      ]
     },
     "execution_count": 120,
     "metadata": {},
     "output_type": "execute_result"
    }
   ],
   "source": [
    "arr"
   ]
  },
  {
   "cell_type": "code",
   "execution_count": 121,
   "id": "5adb3a1f",
   "metadata": {
    "id": "5adb3a1f",
    "outputId": "8f1a9ade-1ee0-4b36-cfb4-d3869136181a"
   },
   "outputs": [
    {
     "data": {
      "text/plain": [
       "1"
      ]
     },
     "execution_count": 121,
     "metadata": {},
     "output_type": "execute_result"
    }
   ],
   "source": [
    "arr[0]"
   ]
  },
  {
   "cell_type": "code",
   "execution_count": 122,
   "id": "5da9d061",
   "metadata": {
    "id": "5da9d061",
    "outputId": "93dc4666-d7f5-4573-8c3e-13e4ac6fa9ac"
   },
   "outputs": [
    {
     "data": {
      "text/plain": [
       "3"
      ]
     },
     "execution_count": 122,
     "metadata": {},
     "output_type": "execute_result"
    }
   ],
   "source": [
    "arr[2]"
   ]
  },
  {
   "cell_type": "code",
   "execution_count": 123,
   "id": "427f6fa8",
   "metadata": {
    "id": "427f6fa8",
    "outputId": "3dbe1e92-edbc-4fe1-828b-2b2e6e2db76f",
    "scrolled": true
   },
   "outputs": [
    {
     "data": {
      "text/plain": [
       "array([[3, 1, 6, 3, 5, 9],\n",
       "       [6, 4, 8, 1, 5, 7],\n",
       "       [7, 5, 2, 2, 6, 1],\n",
       "       [3, 8, 4, 9, 5, 8],\n",
       "       [1, 5, 6, 7, 4, 4]])"
      ]
     },
     "execution_count": 123,
     "metadata": {},
     "output_type": "execute_result"
    }
   ],
   "source": [
    "arr1"
   ]
  },
  {
   "cell_type": "code",
   "execution_count": 124,
   "id": "fa180a08",
   "metadata": {},
   "outputs": [
    {
     "data": {
      "text/plain": [
       "array([[3, 1, 6, 3, 5, 9],\n",
       "       [6, 4, 8, 1, 5, 7],\n",
       "       [7, 5, 2, 2, 6, 1],\n",
       "       [3, 8, 4, 9, 5, 8],\n",
       "       [1, 5, 6, 7, 4, 4]])"
      ]
     },
     "execution_count": 124,
     "metadata": {},
     "output_type": "execute_result"
    }
   ],
   "source": [
    "arr1"
   ]
  },
  {
   "cell_type": "code",
   "execution_count": 131,
   "id": "d3d4d8a0",
   "metadata": {},
   "outputs": [
    {
     "data": {
      "text/plain": [
       "array([[5, 6],\n",
       "       [8, 5]])"
      ]
     },
     "execution_count": 131,
     "metadata": {},
     "output_type": "execute_result"
    }
   ],
   "source": [
    "arr1[2:4,[1,4]]"
   ]
  },
  {
   "cell_type": "code",
   "execution_count": 132,
   "id": "f17fb8a4",
   "metadata": {},
   "outputs": [
    {
     "data": {
      "text/plain": [
       "6"
      ]
     },
     "execution_count": 132,
     "metadata": {},
     "output_type": "execute_result"
    }
   ],
   "source": [
    "arr1[2,4]"
   ]
  },
  {
   "cell_type": "code",
   "execution_count": 133,
   "id": "74ec535f",
   "metadata": {},
   "outputs": [
    {
     "data": {
      "text/plain": [
       "array([[2, 2],\n",
       "       [4, 9]])"
      ]
     },
     "execution_count": 133,
     "metadata": {},
     "output_type": "execute_result"
    }
   ],
   "source": [
    "arr1[2:4,2:4]"
   ]
  },
  {
   "cell_type": "code",
   "execution_count": 126,
   "id": "71cc59ea",
   "metadata": {},
   "outputs": [
    {
     "data": {
      "text/plain": [
       "4"
      ]
     },
     "execution_count": 126,
     "metadata": {},
     "output_type": "execute_result"
    }
   ],
   "source": [
    "arr1[3,2]"
   ]
  },
  {
   "cell_type": "code",
   "execution_count": null,
   "id": "dc1c8fd9",
   "metadata": {},
   "outputs": [],
   "source": []
  },
  {
   "cell_type": "code",
   "execution_count": 134,
   "id": "7bbf3bdb",
   "metadata": {},
   "outputs": [
    {
     "data": {
      "text/plain": [
       "array([[6, 8],\n",
       "       [3, 4]])"
      ]
     },
     "execution_count": 134,
     "metadata": {},
     "output_type": "execute_result"
    }
   ],
   "source": [
    "arr1[1:4:2,[0,2]]"
   ]
  },
  {
   "cell_type": "code",
   "execution_count": 135,
   "id": "1f8d45e4",
   "metadata": {},
   "outputs": [
    {
     "data": {
      "text/plain": [
       "array([[6, 8],\n",
       "       [3, 4]])"
      ]
     },
     "execution_count": 135,
     "metadata": {},
     "output_type": "execute_result"
    }
   ],
   "source": [
    "arr1[[1,3],0:3:2]"
   ]
  },
  {
   "cell_type": "code",
   "execution_count": 136,
   "id": "919bea3e",
   "metadata": {},
   "outputs": [
    {
     "data": {
      "text/plain": [
       "array([[5, 1],\n",
       "       [8, 8]])"
      ]
     },
     "execution_count": 136,
     "metadata": {},
     "output_type": "execute_result"
    }
   ],
   "source": [
    "arr1[2:4,[1,5]]"
   ]
  },
  {
   "cell_type": "code",
   "execution_count": 137,
   "id": "afd9b981",
   "metadata": {},
   "outputs": [
    {
     "data": {
      "text/plain": [
       "array([[2, 6],\n",
       "       [9, 5]])"
      ]
     },
     "execution_count": 137,
     "metadata": {},
     "output_type": "execute_result"
    }
   ],
   "source": [
    "arr1[2:4,3:-1]"
   ]
  },
  {
   "cell_type": "code",
   "execution_count": 138,
   "id": "2a034bac",
   "metadata": {},
   "outputs": [
    {
     "data": {
      "text/plain": [
       "array([[8, 1],\n",
       "       [2, 2]])"
      ]
     },
     "execution_count": 138,
     "metadata": {},
     "output_type": "execute_result"
    }
   ],
   "source": [
    "arr1[1:3,2:4]"
   ]
  },
  {
   "cell_type": "code",
   "execution_count": 139,
   "id": "8101248b",
   "metadata": {},
   "outputs": [
    {
     "data": {
      "text/plain": [
       "array([[4, 5, 7],\n",
       "       [5, 6, 1],\n",
       "       [8, 5, 8]])"
      ]
     },
     "execution_count": 139,
     "metadata": {},
     "output_type": "execute_result"
    }
   ],
   "source": [
    "arr1[1:4,[1,-2,-1]]"
   ]
  },
  {
   "cell_type": "code",
   "execution_count": 142,
   "id": "9a520056",
   "metadata": {},
   "outputs": [
    {
     "data": {
      "text/plain": [
       "array([[3, 8],\n",
       "       [1, 5]])"
      ]
     },
     "execution_count": 142,
     "metadata": {},
     "output_type": "execute_result"
    }
   ],
   "source": [
    "arr1[3:,[0,1]]"
   ]
  },
  {
   "cell_type": "code",
   "execution_count": 143,
   "id": "280b14bd",
   "metadata": {},
   "outputs": [
    {
     "data": {
      "text/plain": [
       "array([[6, 1],\n",
       "       [5, 8]])"
      ]
     },
     "execution_count": 143,
     "metadata": {},
     "output_type": "execute_result"
    }
   ],
   "source": [
    "arr1[2:4,[4,5]]"
   ]
  },
  {
   "cell_type": "code",
   "execution_count": 144,
   "id": "e633ef1f",
   "metadata": {},
   "outputs": [
    {
     "data": {
      "text/plain": [
       "array([[2, 2],\n",
       "       [4, 9]])"
      ]
     },
     "execution_count": 144,
     "metadata": {},
     "output_type": "execute_result"
    }
   ],
   "source": [
    "arr1[2:4, 2:4]"
   ]
  },
  {
   "cell_type": "code",
   "execution_count": null,
   "id": "d3295322",
   "metadata": {},
   "outputs": [],
   "source": []
  },
  {
   "cell_type": "code",
   "execution_count": 145,
   "id": "4e07f200",
   "metadata": {},
   "outputs": [],
   "source": [
    "import numpy as np"
   ]
  },
  {
   "cell_type": "code",
   "execution_count": 146,
   "id": "15556875",
   "metadata": {
    "id": "15556875"
   },
   "outputs": [],
   "source": [
    "arr1 = np.random.randint(1, 3, (3,3))\n",
    "arr2 = np.random.randint(1, 3, (3,3))"
   ]
  },
  {
   "cell_type": "code",
   "execution_count": 147,
   "id": "3843c982",
   "metadata": {
    "id": "3843c982",
    "outputId": "7e7acdf4-631d-478a-b33b-399c01f771cc"
   },
   "outputs": [
    {
     "data": {
      "text/plain": [
       "array([[1, 2, 2],\n",
       "       [1, 1, 1],\n",
       "       [1, 2, 2]])"
      ]
     },
     "execution_count": 147,
     "metadata": {},
     "output_type": "execute_result"
    }
   ],
   "source": [
    "arr1"
   ]
  },
  {
   "cell_type": "code",
   "execution_count": 148,
   "id": "41c381ed",
   "metadata": {
    "id": "41c381ed",
    "outputId": "4365d84a-b7dc-425d-fc29-c8397845f4bc"
   },
   "outputs": [
    {
     "data": {
      "text/plain": [
       "array([[1, 2, 1],\n",
       "       [2, 2, 2],\n",
       "       [1, 2, 2]])"
      ]
     },
     "execution_count": 148,
     "metadata": {},
     "output_type": "execute_result"
    }
   ],
   "source": [
    "arr2"
   ]
  },
  {
   "cell_type": "code",
   "execution_count": 152,
   "id": "10b0c059",
   "metadata": {
    "id": "10b0c059",
    "outputId": "67ac95e8-a59a-46ab-dada-e565f5d864b7"
   },
   "outputs": [
    {
     "data": {
      "text/plain": [
       "array([[2, 4, 3],\n",
       "       [3, 3, 3],\n",
       "       [2, 4, 4]])"
      ]
     },
     "execution_count": 152,
     "metadata": {},
     "output_type": "execute_result"
    }
   ],
   "source": [
    "arr1 + arr2"
   ]
  },
  {
   "cell_type": "code",
   "execution_count": 153,
   "id": "2378ec63",
   "metadata": {
    "id": "2378ec63",
    "outputId": "f0042970-2393-4caa-a4fb-0641d0da1af4"
   },
   "outputs": [
    {
     "data": {
      "text/plain": [
       "array([[ 0,  0,  1],\n",
       "       [-1, -1, -1],\n",
       "       [ 0,  0,  0]])"
      ]
     },
     "execution_count": 153,
     "metadata": {},
     "output_type": "execute_result"
    }
   ],
   "source": [
    "arr1 - arr2"
   ]
  },
  {
   "cell_type": "code",
   "execution_count": 154,
   "id": "ac7fa4b4",
   "metadata": {},
   "outputs": [
    {
     "data": {
      "text/plain": [
       "array([[ 0,  0, -1],\n",
       "       [ 1,  1,  1],\n",
       "       [ 0,  0,  0]])"
      ]
     },
     "execution_count": 154,
     "metadata": {},
     "output_type": "execute_result"
    }
   ],
   "source": [
    "arr2 - arr1"
   ]
  },
  {
   "cell_type": "code",
   "execution_count": 155,
   "id": "0790ddc7",
   "metadata": {},
   "outputs": [
    {
     "data": {
      "text/plain": [
       "array([[1, 2, 2],\n",
       "       [1, 1, 1],\n",
       "       [1, 2, 2]])"
      ]
     },
     "execution_count": 155,
     "metadata": {},
     "output_type": "execute_result"
    }
   ],
   "source": [
    "arr1"
   ]
  },
  {
   "cell_type": "code",
   "execution_count": 156,
   "id": "986c8946",
   "metadata": {},
   "outputs": [
    {
     "data": {
      "text/plain": [
       "array([[1, 2, 1],\n",
       "       [2, 2, 2],\n",
       "       [1, 2, 2]])"
      ]
     },
     "execution_count": 156,
     "metadata": {},
     "output_type": "execute_result"
    }
   ],
   "source": [
    "arr2"
   ]
  },
  {
   "cell_type": "code",
   "execution_count": 157,
   "id": "e47ef821",
   "metadata": {
    "id": "e47ef821",
    "outputId": "db8b5c2f-891c-4a22-aeac-917b2add6202"
   },
   "outputs": [
    {
     "data": {
      "text/plain": [
       "array([[1, 4, 2],\n",
       "       [2, 2, 2],\n",
       "       [1, 4, 4]])"
      ]
     },
     "execution_count": 157,
     "metadata": {},
     "output_type": "execute_result"
    }
   ],
   "source": [
    "arr1 * arr2"
   ]
  },
  {
   "cell_type": "code",
   "execution_count": 158,
   "id": "5deffbb2",
   "metadata": {
    "id": "5deffbb2",
    "outputId": "792b4186-367a-4536-a12c-6a234afc442e"
   },
   "outputs": [
    {
     "data": {
      "text/plain": [
       "array([[1, 2, 2],\n",
       "       [1, 1, 1],\n",
       "       [1, 2, 2]])"
      ]
     },
     "execution_count": 158,
     "metadata": {},
     "output_type": "execute_result"
    }
   ],
   "source": [
    "#matrix multiplication\n",
    "\n",
    "\n",
    "arr1"
   ]
  },
  {
   "cell_type": "code",
   "execution_count": 159,
   "id": "7c831294",
   "metadata": {
    "id": "7c831294",
    "outputId": "5bc3f9bc-8192-41a9-eab7-fe5365e6719b"
   },
   "outputs": [
    {
     "data": {
      "text/plain": [
       "array([[1, 2, 1],\n",
       "       [2, 2, 2],\n",
       "       [1, 2, 2]])"
      ]
     },
     "execution_count": 159,
     "metadata": {},
     "output_type": "execute_result"
    }
   ],
   "source": [
    "arr2"
   ]
  },
  {
   "cell_type": "code",
   "execution_count": 160,
   "id": "c3c78008",
   "metadata": {
    "id": "c3c78008",
    "outputId": "821304b6-7804-4213-e284-f0611b24ce09"
   },
   "outputs": [
    {
     "data": {
      "text/plain": [
       "array([[ 7, 10,  9],\n",
       "       [ 4,  6,  5],\n",
       "       [ 7, 10,  9]])"
      ]
     },
     "execution_count": 160,
     "metadata": {},
     "output_type": "execute_result"
    }
   ],
   "source": [
    "arr1 @ arr2"
   ]
  },
  {
   "cell_type": "code",
   "execution_count": 169,
   "id": "41bc2e3c",
   "metadata": {},
   "outputs": [],
   "source": [
    "arr3 = np.random.randint(1, 3, (2,3))\n",
    "arr4 = np.random.randint(1, 3, (3,2))"
   ]
  },
  {
   "cell_type": "code",
   "execution_count": 170,
   "id": "374282e8",
   "metadata": {},
   "outputs": [
    {
     "data": {
      "text/plain": [
       "array([[1, 2, 2],\n",
       "       [2, 1, 2]])"
      ]
     },
     "execution_count": 170,
     "metadata": {},
     "output_type": "execute_result"
    }
   ],
   "source": [
    "arr3"
   ]
  },
  {
   "cell_type": "code",
   "execution_count": 171,
   "id": "2a4b7b21",
   "metadata": {},
   "outputs": [
    {
     "data": {
      "text/plain": [
       "array([[2, 2],\n",
       "       [1, 2],\n",
       "       [1, 1]])"
      ]
     },
     "execution_count": 171,
     "metadata": {},
     "output_type": "execute_result"
    }
   ],
   "source": [
    "arr4"
   ]
  },
  {
   "cell_type": "code",
   "execution_count": 172,
   "id": "81625e34",
   "metadata": {},
   "outputs": [
    {
     "data": {
      "text/plain": [
       "array([[6, 8],\n",
       "       [7, 8]])"
      ]
     },
     "execution_count": 172,
     "metadata": {},
     "output_type": "execute_result"
    }
   ],
   "source": [
    "arr3 @ arr4"
   ]
  },
  {
   "cell_type": "code",
   "execution_count": 173,
   "id": "34cabb04",
   "metadata": {},
   "outputs": [
    {
     "data": {
      "text/plain": [
       "array([1, 2, 3, 4])"
      ]
     },
     "execution_count": 173,
     "metadata": {},
     "output_type": "execute_result"
    }
   ],
   "source": [
    "arr"
   ]
  },
  {
   "cell_type": "code",
   "execution_count": 174,
   "id": "c69beefc",
   "metadata": {
    "id": "c69beefc",
    "outputId": "4609875c-e6e4-49e8-d1a1-03145d00a3e6"
   },
   "outputs": [
    {
     "data": {
      "text/plain": [
       "array([[1, 2, 2],\n",
       "       [1, 1, 1],\n",
       "       [1, 2, 2]])"
      ]
     },
     "execution_count": 174,
     "metadata": {},
     "output_type": "execute_result"
    }
   ],
   "source": [
    "arr1"
   ]
  },
  {
   "cell_type": "code",
   "execution_count": 175,
   "id": "7a2660f8",
   "metadata": {
    "id": "7a2660f8",
    "outputId": "02684fb7-7a98-4eb1-f1e3-d3ba53be3d1d"
   },
   "outputs": [
    {
     "data": {
      "text/plain": [
       "array([[1, 2, 1],\n",
       "       [2, 2, 2],\n",
       "       [1, 2, 2]])"
      ]
     },
     "execution_count": 175,
     "metadata": {},
     "output_type": "execute_result"
    }
   ],
   "source": [
    "arr2"
   ]
  },
  {
   "cell_type": "code",
   "execution_count": 176,
   "id": "0d4823ce",
   "metadata": {
    "id": "0d4823ce",
    "outputId": "b5fd6cd9-38c2-41c8-be18-660032ea5516"
   },
   "outputs": [
    {
     "data": {
      "text/plain": [
       "array([[1. , 1. , 2. ],\n",
       "       [0.5, 0.5, 0.5],\n",
       "       [1. , 1. , 1. ]])"
      ]
     },
     "execution_count": 176,
     "metadata": {},
     "output_type": "execute_result"
    }
   ],
   "source": [
    "arr1 / arr2 #index wise divison"
   ]
  },
  {
   "cell_type": "code",
   "execution_count": 177,
   "id": "d83ad767",
   "metadata": {
    "id": "d83ad767",
    "outputId": "3e80b76b-6f7d-461a-a6e8-e7b9a6cff2ba"
   },
   "outputs": [
    {
     "data": {
      "text/plain": [
       "array([[1, 2, 2],\n",
       "       [1, 1, 1],\n",
       "       [1, 2, 2]])"
      ]
     },
     "execution_count": 177,
     "metadata": {},
     "output_type": "execute_result"
    }
   ],
   "source": [
    "arr1"
   ]
  },
  {
   "cell_type": "code",
   "execution_count": 178,
   "id": "f28fff19",
   "metadata": {
    "id": "f28fff19",
    "outputId": "d3526741-40a3-4627-d11c-7ff2dee36098"
   },
   "outputs": [
    {
     "name": "stderr",
     "output_type": "stream",
     "text": [
      "C:\\Users\\gaura\\AppData\\Local\\Temp\\ipykernel_15796\\824215542.py:1: RuntimeWarning: divide by zero encountered in true_divide\n",
      "  arr1 / 0\n"
     ]
    },
    {
     "data": {
      "text/plain": [
       "array([[inf, inf, inf],\n",
       "       [inf, inf, inf],\n",
       "       [inf, inf, inf]])"
      ]
     },
     "execution_count": 178,
     "metadata": {},
     "output_type": "execute_result"
    }
   ],
   "source": [
    "arr1 / 0"
   ]
  },
  {
   "cell_type": "code",
   "execution_count": 179,
   "id": "ed83f78a",
   "metadata": {},
   "outputs": [],
   "source": [
    "a = np.array([[1, 2, 3]])"
   ]
  },
  {
   "cell_type": "code",
   "execution_count": 180,
   "id": "9e5f9e07",
   "metadata": {},
   "outputs": [
    {
     "data": {
      "text/plain": [
       "(1, 3)"
      ]
     },
     "execution_count": 180,
     "metadata": {},
     "output_type": "execute_result"
    }
   ],
   "source": [
    "a.shape"
   ]
  },
  {
   "cell_type": "code",
   "execution_count": 181,
   "id": "200aab46",
   "metadata": {
    "id": "200aab46",
    "outputId": "79ac639f-699b-4d37-cdfa-74d06dc0e732"
   },
   "outputs": [
    {
     "data": {
      "text/plain": [
       "array([[1],\n",
       "       [2],\n",
       "       [3]])"
      ]
     },
     "execution_count": 181,
     "metadata": {},
     "output_type": "execute_result"
    }
   ],
   "source": [
    "a.T"
   ]
  },
  {
   "cell_type": "code",
   "execution_count": 182,
   "id": "f2be4d51",
   "metadata": {
    "id": "f2be4d51",
    "outputId": "a8525e70-36df-4373-8d7f-c7fc7ee96918",
    "scrolled": true
   },
   "outputs": [],
   "source": [
    "arr = np.array([[1, 1., 1., 1.],\n",
    "       [2., 2., 2., 2.],\n",
    "       [3., 3., 3., 3.]])"
   ]
  },
  {
   "cell_type": "code",
   "execution_count": 183,
   "id": "518f92e8",
   "metadata": {},
   "outputs": [
    {
     "data": {
      "text/plain": [
       "array([[1., 1., 1., 1.],\n",
       "       [2., 2., 2., 2.],\n",
       "       [3., 3., 3., 3.]])"
      ]
     },
     "execution_count": 183,
     "metadata": {},
     "output_type": "execute_result"
    }
   ],
   "source": [
    "arr"
   ]
  },
  {
   "cell_type": "code",
   "execution_count": 184,
   "id": "923ea3eb",
   "metadata": {},
   "outputs": [
    {
     "data": {
      "text/plain": [
       "array([[1., 2., 3.],\n",
       "       [1., 2., 3.],\n",
       "       [1., 2., 3.],\n",
       "       [1., 2., 3.]])"
      ]
     },
     "execution_count": 184,
     "metadata": {},
     "output_type": "execute_result"
    }
   ],
   "source": [
    "arr.T"
   ]
  },
  {
   "cell_type": "code",
   "execution_count": 185,
   "id": "c1d91aa4",
   "metadata": {
    "id": "c1d91aa4",
    "outputId": "a65dcd85-e3c6-4a01-c150-89fe19a3f19c"
   },
   "outputs": [
    {
     "data": {
      "text/plain": [
       "array([[1, 2, 3]])"
      ]
     },
     "execution_count": 185,
     "metadata": {},
     "output_type": "execute_result"
    }
   ],
   "source": [
    "a"
   ]
  },
  {
   "cell_type": "code",
   "execution_count": 186,
   "id": "81197e9e",
   "metadata": {
    "id": "81197e9e",
    "outputId": "7eee3184-22d8-4f3b-d531-d9759d52e871"
   },
   "outputs": [
    {
     "data": {
      "text/plain": [
       "array([[2., 2., 2., 2.],\n",
       "       [4., 4., 4., 4.],\n",
       "       [6., 6., 6., 6.]])"
      ]
     },
     "execution_count": 186,
     "metadata": {},
     "output_type": "execute_result"
    }
   ],
   "source": [
    "arr + a.T"
   ]
  },
  {
   "cell_type": "code",
   "execution_count": 187,
   "id": "86439d80",
   "metadata": {
    "id": "86439d80",
    "outputId": "4d5ed508-45e9-4d86-d958-b8af61554e68"
   },
   "outputs": [
    {
     "data": {
      "text/plain": [
       "array([1, 2, 3])"
      ]
     },
     "execution_count": 187,
     "metadata": {},
     "output_type": "execute_result"
    }
   ],
   "source": [
    "a = np.array([1, 2, 3])\n",
    "a.T"
   ]
  },
  {
   "cell_type": "code",
   "execution_count": 188,
   "id": "9a3d6d14",
   "metadata": {
    "id": "9a3d6d14",
    "outputId": "e8dbc96d-8743-48b8-c804-94c188aedc6e"
   },
   "outputs": [
    {
     "data": {
      "text/plain": [
       "array([[1, 2, 2],\n",
       "       [1, 1, 1],\n",
       "       [1, 2, 2]])"
      ]
     },
     "execution_count": 188,
     "metadata": {},
     "output_type": "execute_result"
    }
   ],
   "source": [
    "arr1"
   ]
  },
  {
   "cell_type": "code",
   "execution_count": 189,
   "id": "82b980a2",
   "metadata": {
    "id": "82b980a2",
    "outputId": "0f233448-9cc6-4503-ba26-ab367c47804c"
   },
   "outputs": [
    {
     "data": {
      "text/plain": [
       "array([[1.        , 1.41421356, 1.41421356],\n",
       "       [1.        , 1.        , 1.        ],\n",
       "       [1.        , 1.41421356, 1.41421356]])"
      ]
     },
     "execution_count": 189,
     "metadata": {},
     "output_type": "execute_result"
    }
   ],
   "source": [
    "np.sqrt(arr1)"
   ]
  },
  {
   "cell_type": "code",
   "execution_count": 190,
   "id": "7dd0a1a0",
   "metadata": {
    "id": "7dd0a1a0",
    "outputId": "26d40362-a40c-46b1-cefa-f84d938630e8"
   },
   "outputs": [
    {
     "data": {
      "text/plain": [
       "array([[0.     , 0.30103, 0.30103],\n",
       "       [0.     , 0.     , 0.     ],\n",
       "       [0.     , 0.30103, 0.30103]])"
      ]
     },
     "execution_count": 190,
     "metadata": {},
     "output_type": "execute_result"
    }
   ],
   "source": [
    "np.log10(arr1)"
   ]
  },
  {
   "cell_type": "code",
   "execution_count": 191,
   "id": "0f87492c",
   "metadata": {
    "id": "0f87492c",
    "outputId": "888aa66f-d9e6-4bc3-fca3-50c48c510166"
   },
   "outputs": [
    {
     "data": {
      "text/plain": [
       "array([1, 2, 3])"
      ]
     },
     "execution_count": 191,
     "metadata": {},
     "output_type": "execute_result"
    }
   ],
   "source": [
    "a"
   ]
  },
  {
   "cell_type": "code",
   "execution_count": 192,
   "id": "854f7be9",
   "metadata": {
    "id": "854f7be9",
    "outputId": "303b34f0-88de-4ee2-8688-d051fa811396"
   },
   "outputs": [
    {
     "data": {
      "text/plain": [
       "1"
      ]
     },
     "execution_count": 192,
     "metadata": {},
     "output_type": "execute_result"
    }
   ],
   "source": [
    "np.min(a)"
   ]
  },
  {
   "cell_type": "code",
   "execution_count": 193,
   "id": "a6029775",
   "metadata": {
    "id": "a6029775",
    "outputId": "c01fd712-9f32-43a1-8526-06f556e73613"
   },
   "outputs": [
    {
     "data": {
      "text/plain": [
       "array([[1, 2, 2],\n",
       "       [1, 1, 1],\n",
       "       [1, 2, 2]])"
      ]
     },
     "execution_count": 193,
     "metadata": {},
     "output_type": "execute_result"
    }
   ],
   "source": [
    "arr1"
   ]
  },
  {
   "cell_type": "code",
   "execution_count": 194,
   "id": "1f91f13b",
   "metadata": {
    "id": "1f91f13b",
    "outputId": "e1e304ba-60f9-4a2f-aec5-45cbabec7727"
   },
   "outputs": [
    {
     "data": {
      "text/plain": [
       "1"
      ]
     },
     "execution_count": 194,
     "metadata": {},
     "output_type": "execute_result"
    }
   ],
   "source": [
    "np.min(arr1)"
   ]
  },
  {
   "cell_type": "code",
   "execution_count": 195,
   "id": "87265817",
   "metadata": {
    "id": "87265817",
    "outputId": "f9ee6d10-66fe-46ac-ad70-75a31bc88c16"
   },
   "outputs": [
    {
     "data": {
      "text/plain": [
       "2"
      ]
     },
     "execution_count": 195,
     "metadata": {},
     "output_type": "execute_result"
    }
   ],
   "source": [
    "np.max(arr1)"
   ]
  },
  {
   "cell_type": "code",
   "execution_count": 196,
   "id": "41e1309e",
   "metadata": {
    "id": "41e1309e",
    "outputId": "8252e18e-cf10-4aeb-e955-e274647ca962"
   },
   "outputs": [
    {
     "data": {
      "text/plain": [
       "array([[1, 2, 2],\n",
       "       [1, 1, 1],\n",
       "       [1, 2, 2]])"
      ]
     },
     "execution_count": 196,
     "metadata": {},
     "output_type": "execute_result"
    }
   ],
   "source": [
    "arr1"
   ]
  },
  {
   "cell_type": "code",
   "execution_count": 197,
   "id": "f63f6a3b",
   "metadata": {
    "id": "f63f6a3b",
    "outputId": "e0382a51-3943-4c79-d6aa-ccead203a451"
   },
   "outputs": [
    {
     "data": {
      "text/plain": [
       "array([[1, 1, 1],\n",
       "       [2, 1, 2],\n",
       "       [2, 1, 2]])"
      ]
     },
     "execution_count": 197,
     "metadata": {},
     "output_type": "execute_result"
    }
   ],
   "source": [
    "arr1.T"
   ]
  },
  {
   "cell_type": "code",
   "execution_count": 198,
   "id": "dd2ba35e",
   "metadata": {},
   "outputs": [],
   "source": [
    "a = np.array([[[[[1,2,3],[4,5,6]]]]])"
   ]
  },
  {
   "cell_type": "code",
   "execution_count": 199,
   "id": "832f033d",
   "metadata": {},
   "outputs": [
    {
     "data": {
      "text/plain": [
       "array([[[[[1, 2, 3],\n",
       "          [4, 5, 6]]]]])"
      ]
     },
     "execution_count": 199,
     "metadata": {},
     "output_type": "execute_result"
    }
   ],
   "source": [
    "a"
   ]
  },
  {
   "cell_type": "code",
   "execution_count": 200,
   "id": "57190680",
   "metadata": {},
   "outputs": [
    {
     "data": {
      "text/plain": [
       "array([1, 2, 3, 4, 5, 6])"
      ]
     },
     "execution_count": 200,
     "metadata": {},
     "output_type": "execute_result"
    }
   ],
   "source": [
    "a.flatten()"
   ]
  },
  {
   "cell_type": "code",
   "execution_count": 201,
   "id": "e2a97e60",
   "metadata": {
    "id": "e2a97e60",
    "outputId": "23c15265-39e6-48fd-91ec-5f30117505bf"
   },
   "outputs": [
    {
     "data": {
      "text/plain": [
       "array([1, 2, 2, 1, 1, 1, 1, 2, 2])"
      ]
     },
     "execution_count": 201,
     "metadata": {},
     "output_type": "execute_result"
    }
   ],
   "source": [
    "arr1.flatten() #reduce higher dimension to 1 d"
   ]
  },
  {
   "cell_type": "code",
   "execution_count": 202,
   "id": "cbddb1a5",
   "metadata": {},
   "outputs": [
    {
     "data": {
      "text/plain": [
       "array([[1, 2, 2],\n",
       "       [1, 1, 1],\n",
       "       [1, 2, 2]])"
      ]
     },
     "execution_count": 202,
     "metadata": {},
     "output_type": "execute_result"
    }
   ],
   "source": [
    "arr1"
   ]
  },
  {
   "cell_type": "code",
   "execution_count": 215,
   "id": "48a65036",
   "metadata": {
    "id": "48a65036"
   },
   "outputs": [],
   "source": [
    "arr = np.array([[1, 2, 3], [4, 5, 6], [1, 2, 3]])"
   ]
  },
  {
   "cell_type": "code",
   "execution_count": 217,
   "id": "d68d5563",
   "metadata": {
    "id": "d68d5563",
    "outputId": "43d3897f-ac13-43d5-ee5f-880c0970aa2b"
   },
   "outputs": [
    {
     "data": {
      "text/plain": [
       "array([[1, 2, 3],\n",
       "       [4, 5, 6],\n",
       "       [1, 2, 3]])"
      ]
     },
     "execution_count": 217,
     "metadata": {},
     "output_type": "execute_result"
    }
   ],
   "source": [
    "arr"
   ]
  },
  {
   "cell_type": "code",
   "execution_count": 205,
   "id": "e13ccc5e",
   "metadata": {
    "id": "e13ccc5e",
    "outputId": "a7cf451e-d5fe-44f7-d212-e0638464532e"
   },
   "outputs": [
    {
     "data": {
      "text/plain": [
       "27"
      ]
     },
     "execution_count": 205,
     "metadata": {},
     "output_type": "execute_result"
    }
   ],
   "source": [
    "np.sum(arr)"
   ]
  },
  {
   "cell_type": "code",
   "execution_count": 218,
   "id": "aa58a3a3",
   "metadata": {},
   "outputs": [
    {
     "data": {
      "text/plain": [
       "array([ 6,  9, 12])"
      ]
     },
     "execution_count": 218,
     "metadata": {},
     "output_type": "execute_result"
    }
   ],
   "source": [
    "np.sum(arr,axis = 0)"
   ]
  },
  {
   "cell_type": "code",
   "execution_count": 219,
   "id": "c4e92cc1",
   "metadata": {},
   "outputs": [
    {
     "data": {
      "text/plain": [
       "array([ 6, 15,  6])"
      ]
     },
     "execution_count": 219,
     "metadata": {},
     "output_type": "execute_result"
    }
   ],
   "source": [
    "np.sum(arr,axis = 1)"
   ]
  },
  {
   "cell_type": "code",
   "execution_count": null,
   "id": "2273edef",
   "metadata": {},
   "outputs": [],
   "source": []
  },
  {
   "cell_type": "code",
   "execution_count": 220,
   "id": "f19cc723",
   "metadata": {
    "id": "f19cc723",
    "outputId": "7122b7f6-3461-4e2f-d49c-b5611c3c964a"
   },
   "outputs": [
    {
     "data": {
      "text/plain": [
       "array([ 6, 15,  6])"
      ]
     },
     "execution_count": 220,
     "metadata": {},
     "output_type": "execute_result"
    }
   ],
   "source": [
    "np.sum(arr, axis = 1)"
   ]
  },
  {
   "cell_type": "code",
   "execution_count": 221,
   "id": "0bccd187",
   "metadata": {
    "id": "0bccd187",
    "outputId": "b35f3e05-432d-4b07-8431-8e84d1237dbe",
    "scrolled": true
   },
   "outputs": [
    {
     "data": {
      "text/plain": [
       "array([ 6,  9, 12])"
      ]
     },
     "execution_count": 221,
     "metadata": {},
     "output_type": "execute_result"
    }
   ],
   "source": [
    "np.sum(arr, axis = 0)"
   ]
  },
  {
   "cell_type": "code",
   "execution_count": 258,
   "id": "cb8dd6cc",
   "metadata": {
    "id": "cb8dd6cc",
    "outputId": "c2afb581-e509-478c-b81e-11b369a2f77e"
   },
   "outputs": [
    {
     "data": {
      "text/plain": [
       "array([[1, 2, 3, 4],\n",
       "       [1, 2, 3, 4]])"
      ]
     },
     "execution_count": 258,
     "metadata": {},
     "output_type": "execute_result"
    }
   ],
   "source": [
    "#expand_dims >>expand the dimension of array\n",
    "arr = np.array([[1, 2, 3, 4],[1, 2, 3, 4]])\n",
    "arr"
   ]
  },
  {
   "cell_type": "code",
   "execution_count": 259,
   "id": "8dac2abb",
   "metadata": {
    "id": "8dac2abb",
    "outputId": "7b856c84-1730-4992-d990-c8db6279386b"
   },
   "outputs": [
    {
     "data": {
      "text/plain": [
       "2"
      ]
     },
     "execution_count": 259,
     "metadata": {},
     "output_type": "execute_result"
    }
   ],
   "source": [
    "arr.ndim"
   ]
  },
  {
   "cell_type": "code",
   "execution_count": 261,
   "id": "d2c32faa",
   "metadata": {
    "id": "d2c32faa",
    "outputId": "da54cf80-da54-4904-e845-f947f0198fbd"
   },
   "outputs": [
    {
     "data": {
      "text/plain": [
       "array([[[[1, 2, 3, 4]]],\n",
       "\n",
       "\n",
       "       [[[1, 2, 3, 4]]]])"
      ]
     },
     "execution_count": 261,
     "metadata": {},
     "output_type": "execute_result"
    }
   ],
   "source": [
    "arr = np.expand_dims(arr, axis = 1)\n",
    "arr"
   ]
  },
  {
   "cell_type": "code",
   "execution_count": 255,
   "id": "16c72f70",
   "metadata": {
    "id": "16c72f70",
    "outputId": "25c5be56-a55f-4018-f732-cebf2a767c1e"
   },
   "outputs": [
    {
     "data": {
      "text/plain": [
       "3"
      ]
     },
     "execution_count": 255,
     "metadata": {},
     "output_type": "execute_result"
    }
   ],
   "source": [
    "arr1.ndim"
   ]
  },
  {
   "cell_type": "code",
   "execution_count": 243,
   "id": "aee06f68",
   "metadata": {
    "id": "aee06f68",
    "outputId": "c7e62a8f-cf76-472f-e011-d0f0bea304bb"
   },
   "outputs": [
    {
     "data": {
      "text/plain": [
       "array([[[1, 2, 2],\n",
       "        [1, 1, 1],\n",
       "        [1, 2, 2]]])"
      ]
     },
     "execution_count": 243,
     "metadata": {},
     "output_type": "execute_result"
    }
   ],
   "source": [
    "arr2 = np.expand_dims(arr1, axis = 0)\n",
    "arr2"
   ]
  },
  {
   "cell_type": "code",
   "execution_count": 244,
   "id": "6b0d0564",
   "metadata": {
    "id": "6b0d0564",
    "outputId": "de2e3ebe-ad37-4ae7-da0f-b98aece158f0"
   },
   "outputs": [
    {
     "data": {
      "text/plain": [
       "(1, 3, 3)"
      ]
     },
     "execution_count": 244,
     "metadata": {},
     "output_type": "execute_result"
    }
   ],
   "source": [
    "arr2.shape"
   ]
  },
  {
   "cell_type": "code",
   "execution_count": 245,
   "id": "0e2c334a",
   "metadata": {
    "id": "0e2c334a",
    "outputId": "d0285e70-251a-4e95-bb68-7d5f50e3c9b9"
   },
   "outputs": [
    {
     "data": {
      "text/plain": [
       "array([[[[[[[[[[[[[[[[[[[1, 2, 3, 4]]]]]]]]]]]]]]]]]]])"
      ]
     },
     "execution_count": 245,
     "metadata": {},
     "output_type": "execute_result"
    }
   ],
   "source": [
    "arr"
   ]
  },
  {
   "cell_type": "code",
   "execution_count": 246,
   "id": "776f2f79",
   "metadata": {
    "id": "776f2f79",
    "outputId": "6fe547ca-d1e1-4b9b-c9e1-9f6b6be4b34f"
   },
   "outputs": [
    {
     "data": {
      "text/plain": [
       "array([[[[[[[[[[[[[[[[[[[[1, 2, 3, 4]]]]]]]]]]]]]]]]]]]])"
      ]
     },
     "execution_count": 246,
     "metadata": {},
     "output_type": "execute_result"
    }
   ],
   "source": [
    "arr1 = np.expand_dims(arr, axis = 1)\n",
    "arr1"
   ]
  },
  {
   "cell_type": "code",
   "execution_count": 247,
   "id": "5c457c71",
   "metadata": {},
   "outputs": [
    {
     "data": {
      "text/plain": [
       "array([1, 2, 3, 4])"
      ]
     },
     "execution_count": 247,
     "metadata": {},
     "output_type": "execute_result"
    }
   ],
   "source": [
    "arr.flatten()"
   ]
  },
  {
   "cell_type": "code",
   "execution_count": 248,
   "id": "5355ca8f",
   "metadata": {
    "id": "5355ca8f"
   },
   "outputs": [],
   "source": [
    "arr = np.zeros((3, 4))"
   ]
  },
  {
   "cell_type": "code",
   "execution_count": 249,
   "id": "94077756",
   "metadata": {
    "id": "94077756",
    "outputId": "b15f84ca-0bb2-4293-9fa3-0fadebcd6f9f"
   },
   "outputs": [
    {
     "data": {
      "text/plain": [
       "array([[0., 0., 0., 0.],\n",
       "       [0., 0., 0., 0.],\n",
       "       [0., 0., 0., 0.]])"
      ]
     },
     "execution_count": 249,
     "metadata": {},
     "output_type": "execute_result"
    }
   ],
   "source": [
    "arr"
   ]
  },
  {
   "cell_type": "code",
   "execution_count": 250,
   "id": "3d3e77d7",
   "metadata": {
    "id": "3d3e77d7",
    "outputId": "6b5d6887-7715-4fec-ec1d-6bad6dd6e15f"
   },
   "outputs": [
    {
     "data": {
      "text/plain": [
       "array([[[0., 0., 0., 0.]],\n",
       "\n",
       "       [[0., 0., 0., 0.]],\n",
       "\n",
       "       [[0., 0., 0., 0.]]])"
      ]
     },
     "execution_count": 250,
     "metadata": {},
     "output_type": "execute_result"
    }
   ],
   "source": [
    "arr1 = np.expand_dims(arr, axis = 1)\n",
    "arr1"
   ]
  },
  {
   "cell_type": "code",
   "execution_count": 251,
   "id": "5b28036c",
   "metadata": {
    "id": "5b28036c",
    "outputId": "25a6f2b4-aea0-488f-b519-c20b44995309"
   },
   "outputs": [
    {
     "data": {
      "text/plain": [
       "array([[[[0., 0., 0., 0.]],\n",
       "\n",
       "        [[0., 0., 0., 0.]],\n",
       "\n",
       "        [[0., 0., 0., 0.]]]])"
      ]
     },
     "execution_count": 251,
     "metadata": {},
     "output_type": "execute_result"
    }
   ],
   "source": [
    "arr2 = np.expand_dims(arr1, axis = 0)\n",
    "arr2"
   ]
  },
  {
   "cell_type": "code",
   "execution_count": null,
   "id": "f7f66d49",
   "metadata": {
    "id": "f7f66d49"
   },
   "outputs": [],
   "source": []
  }
 ],
 "metadata": {
  "colab": {
   "provenance": []
  },
  "kernelspec": {
   "display_name": "Python 3 (ipykernel)",
   "language": "python",
   "name": "python3"
  },
  "language_info": {
   "codemirror_mode": {
    "name": "ipython",
    "version": 3
   },
   "file_extension": ".py",
   "mimetype": "text/x-python",
   "name": "python",
   "nbconvert_exporter": "python",
   "pygments_lexer": "ipython3",
   "version": "3.9.13"
  }
 },
 "nbformat": 4,
 "nbformat_minor": 5
}
