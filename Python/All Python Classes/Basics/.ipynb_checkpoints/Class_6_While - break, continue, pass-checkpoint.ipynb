{
 "cells": [
  {
   "cell_type": "code",
   "execution_count": null,
   "id": "fb858e3e",
   "metadata": {},
   "outputs": [],
   "source": [
    "*     *\n",
    " *   *\n",
    "  * *\n",
    "   *"
   ]
  },
  {
   "cell_type": "code",
   "execution_count": 59,
   "id": "5270d6b0",
   "metadata": {},
   "outputs": [
    {
     "name": "stdout",
     "output_type": "stream",
     "text": [
      "5\n",
      "3\n",
      "1\n"
     ]
    }
   ],
   "source": [
    "for i in range(5,0,-2):\n",
    "    print(i)"
   ]
  },
  {
   "cell_type": "code",
   "execution_count": 87,
   "id": "97472b9b",
   "metadata": {},
   "outputs": [
    {
     "name": "stdout",
     "output_type": "stream",
     "text": [
      "*     *\n",
      " *   *\n",
      "  * *\n",
      "   **\n"
     ]
    }
   ],
   "source": [
    "l = [5,3,1]\n",
    "temp = 5\n",
    "for i in range(4):\n",
    "    for j in range(i):\n",
    "        print(\" \",end = \"\")\n",
    "    for k in range(1):\n",
    "        print(\"*\",end = \"\")\n",
    "    for i in range(3):\n",
    "        y = l[i]\n",
    "    for a in range(temp, 0, -1): \n",
    "        print(\" \",end = \"\")\n",
    "       \n",
    "    if i != 3:\n",
    "        for k in range(1):\n",
    "            print(\"*\",end = \"\")\n",
    "    temp -= 2\n",
    "    print()"
   ]
  },
  {
   "cell_type": "code",
   "execution_count": 89,
   "id": "b722e8a8",
   "metadata": {},
   "outputs": [
    {
     "name": "stdout",
     "output_type": "stream",
     "text": [
      "*     *\n",
      " *   *\n",
      "  * *\n",
      "   *\n"
     ]
    }
   ],
   "source": [
    "l = [5,3,1]\n",
    "temp = 5\n",
    "for i in range(4):\n",
    "    for j in range(i):\n",
    "        print(\" \",end = \"\")\n",
    "    for k in range(1):\n",
    "        print(\"*\",end = \"\")\n",
    "    for a in range(temp, 0, -1): \n",
    "        print(\" \",end = \"\")\n",
    "       \n",
    "    if i != 3:\n",
    "        for k in range(1):\n",
    "            print(\"*\",end = \"\")\n",
    "    temp -= 2\n",
    "    print()"
   ]
  },
  {
   "cell_type": "code",
   "execution_count": 85,
   "id": "1a986535",
   "metadata": {},
   "outputs": [
    {
     "name": "stdout",
     "output_type": "stream",
     "text": [
      "*    *\n",
      " *  *\n",
      "  **\n",
      "   *\n"
     ]
    }
   ],
   "source": [
    "l = [5,3,1]\n",
    "temp = 5\n",
    "for i in range(4):\n",
    "    for j in range(i):\n",
    "        print(\" \",end = \"\")\n",
    "    for k in range(1):\n",
    "        print(\"*\",end = \"\")\n",
    "    for a in range(temp, 1, -1): \n",
    "        print(\" \",end = \"\")\n",
    "       \n",
    "    if i != 3:\n",
    "        for k in range(1):\n",
    "            print(\"*\",end = \"\")\n",
    "    temp -= 2\n",
    "    print()"
   ]
  },
  {
   "cell_type": "code",
   "execution_count": null,
   "id": "73b5933f",
   "metadata": {},
   "outputs": [],
   "source": []
  },
  {
   "cell_type": "code",
   "execution_count": null,
   "id": "feb1fd33",
   "metadata": {},
   "outputs": [],
   "source": []
  },
  {
   "cell_type": "code",
   "execution_count": null,
   "id": "28603d9a",
   "metadata": {},
   "outputs": [],
   "source": []
  },
  {
   "cell_type": "code",
   "execution_count": 28,
   "id": "8be47c8c",
   "metadata": {},
   "outputs": [
    {
     "ename": "IndentationError",
     "evalue": "expected an indented block (1925085379.py, line 1)",
     "output_type": "error",
     "traceback": [
      "\u001b[1;36m  File \u001b[1;32m\"C:\\Users\\gaura\\AppData\\Local\\Temp\\ipykernel_19060\\1925085379.py\"\u001b[1;36m, line \u001b[1;32m1\u001b[0m\n\u001b[1;33m    for i in range(5):\u001b[0m\n\u001b[1;37m                      ^\u001b[0m\n\u001b[1;31mIndentationError\u001b[0m\u001b[1;31m:\u001b[0m expected an indented block\n"
     ]
    }
   ],
   "source": [
    "for i in range(5):"
   ]
  },
  {
   "cell_type": "code",
   "execution_count": null,
   "id": "0a9a530f",
   "metadata": {},
   "outputs": [],
   "source": []
  },
  {
   "cell_type": "code",
   "execution_count": null,
   "id": "a775a8f1",
   "metadata": {},
   "outputs": [],
   "source": []
  },
  {
   "cell_type": "raw",
   "id": "3a62c29f",
   "metadata": {},
   "source": [
    "while <condition>:\n",
    "    Code "
   ]
  },
  {
   "cell_type": "code",
   "execution_count": 2,
   "id": "3ca0aa49",
   "metadata": {},
   "outputs": [
    {
     "name": "stdout",
     "output_type": "stream",
     "text": [
      "1\n",
      "2\n",
      "3\n",
      "4\n",
      "5\n",
      "6\n",
      "7\n",
      "8\n",
      "9\n"
     ]
    }
   ],
   "source": [
    "a = 1\n",
    "while a < 10:\n",
    "    print(a)\n",
    "    a += 1"
   ]
  },
  {
   "cell_type": "code",
   "execution_count": null,
   "id": "7a386e35",
   "metadata": {},
   "outputs": [],
   "source": []
  },
  {
   "cell_type": "code",
   "execution_count": 3,
   "id": "fac80e04",
   "metadata": {},
   "outputs": [
    {
     "name": "stdout",
     "output_type": "stream",
     "text": [
      "Enter your table number :- 41\n",
      "41\n",
      "82\n",
      "123\n",
      "164\n",
      "205\n",
      "246\n",
      "287\n",
      "328\n",
      "369\n",
      "410\n"
     ]
    }
   ],
   "source": [
    "num = int(input('Enter your table number :- '))\n",
    "\n",
    "x = 1\n",
    "\n",
    "while x<=10:\n",
    "    print(x*num)\n",
    "    x += 1"
   ]
  },
  {
   "cell_type": "code",
   "execution_count": 6,
   "id": "bcb55d0f",
   "metadata": {},
   "outputs": [
    {
     "ename": "KeyboardInterrupt",
     "evalue": "Interrupted by user",
     "output_type": "error",
     "traceback": [
      "\u001b[1;31m---------------------------------------------------------------------------\u001b[0m",
      "\u001b[1;31mKeyboardInterrupt\u001b[0m                         Traceback (most recent call last)",
      "\u001b[1;32m~\\AppData\\Local\\Temp\\ipykernel_19060\\1254052388.py\u001b[0m in \u001b[0;36m<module>\u001b[1;34m\u001b[0m\n\u001b[1;32m----> 1\u001b[1;33m \u001b[0mtable_num\u001b[0m \u001b[1;33m=\u001b[0m \u001b[0mint\u001b[0m\u001b[1;33m(\u001b[0m\u001b[0minput\u001b[0m\u001b[1;33m(\u001b[0m\u001b[1;34m\"Enter your table number:- \"\u001b[0m\u001b[1;33m)\u001b[0m\u001b[1;33m)\u001b[0m\u001b[1;33m\u001b[0m\u001b[1;33m\u001b[0m\u001b[0m\n\u001b[0m\u001b[0;32m      2\u001b[0m \u001b[1;33m\u001b[0m\u001b[0m\n\u001b[0;32m      3\u001b[0m \u001b[1;32mfor\u001b[0m \u001b[0mi\u001b[0m \u001b[1;32min\u001b[0m \u001b[0mrange\u001b[0m\u001b[1;33m(\u001b[0m\u001b[1;36m1\u001b[0m\u001b[1;33m,\u001b[0m\u001b[1;36m11\u001b[0m\u001b[1;33m)\u001b[0m\u001b[1;33m:\u001b[0m\u001b[1;33m\u001b[0m\u001b[1;33m\u001b[0m\u001b[0m\n\u001b[0;32m      4\u001b[0m     \u001b[0mprint\u001b[0m\u001b[1;33m(\u001b[0m\u001b[0mtable_num\u001b[0m\u001b[1;33m*\u001b[0m\u001b[0mi\u001b[0m\u001b[1;33m)\u001b[0m\u001b[1;33m\u001b[0m\u001b[1;33m\u001b[0m\u001b[0m\n",
      "\u001b[1;32m~\\anaconda3\\lib\\site-packages\\ipykernel\\kernelbase.py\u001b[0m in \u001b[0;36mraw_input\u001b[1;34m(self, prompt)\u001b[0m\n\u001b[0;32m   1175\u001b[0m                 \u001b[1;34m\"raw_input was called, but this frontend does not support input requests.\"\u001b[0m\u001b[1;33m\u001b[0m\u001b[1;33m\u001b[0m\u001b[0m\n\u001b[0;32m   1176\u001b[0m             )\n\u001b[1;32m-> 1177\u001b[1;33m         return self._input_request(\n\u001b[0m\u001b[0;32m   1178\u001b[0m             \u001b[0mstr\u001b[0m\u001b[1;33m(\u001b[0m\u001b[0mprompt\u001b[0m\u001b[1;33m)\u001b[0m\u001b[1;33m,\u001b[0m\u001b[1;33m\u001b[0m\u001b[1;33m\u001b[0m\u001b[0m\n\u001b[0;32m   1179\u001b[0m             \u001b[0mself\u001b[0m\u001b[1;33m.\u001b[0m\u001b[0m_parent_ident\u001b[0m\u001b[1;33m[\u001b[0m\u001b[1;34m\"shell\"\u001b[0m\u001b[1;33m]\u001b[0m\u001b[1;33m,\u001b[0m\u001b[1;33m\u001b[0m\u001b[1;33m\u001b[0m\u001b[0m\n",
      "\u001b[1;32m~\\anaconda3\\lib\\site-packages\\ipykernel\\kernelbase.py\u001b[0m in \u001b[0;36m_input_request\u001b[1;34m(self, prompt, ident, parent, password)\u001b[0m\n\u001b[0;32m   1217\u001b[0m             \u001b[1;32mexcept\u001b[0m \u001b[0mKeyboardInterrupt\u001b[0m\u001b[1;33m:\u001b[0m\u001b[1;33m\u001b[0m\u001b[1;33m\u001b[0m\u001b[0m\n\u001b[0;32m   1218\u001b[0m                 \u001b[1;31m# re-raise KeyboardInterrupt, to truncate traceback\u001b[0m\u001b[1;33m\u001b[0m\u001b[1;33m\u001b[0m\u001b[0m\n\u001b[1;32m-> 1219\u001b[1;33m                 \u001b[1;32mraise\u001b[0m \u001b[0mKeyboardInterrupt\u001b[0m\u001b[1;33m(\u001b[0m\u001b[1;34m\"Interrupted by user\"\u001b[0m\u001b[1;33m)\u001b[0m \u001b[1;32mfrom\u001b[0m \u001b[1;32mNone\u001b[0m\u001b[1;33m\u001b[0m\u001b[1;33m\u001b[0m\u001b[0m\n\u001b[0m\u001b[0;32m   1220\u001b[0m             \u001b[1;32mexcept\u001b[0m \u001b[0mException\u001b[0m\u001b[1;33m:\u001b[0m\u001b[1;33m\u001b[0m\u001b[1;33m\u001b[0m\u001b[0m\n\u001b[0;32m   1221\u001b[0m                 \u001b[0mself\u001b[0m\u001b[1;33m.\u001b[0m\u001b[0mlog\u001b[0m\u001b[1;33m.\u001b[0m\u001b[0mwarning\u001b[0m\u001b[1;33m(\u001b[0m\u001b[1;34m\"Invalid Message:\"\u001b[0m\u001b[1;33m,\u001b[0m \u001b[0mexc_info\u001b[0m\u001b[1;33m=\u001b[0m\u001b[1;32mTrue\u001b[0m\u001b[1;33m)\u001b[0m\u001b[1;33m\u001b[0m\u001b[1;33m\u001b[0m\u001b[0m\n",
      "\u001b[1;31mKeyboardInterrupt\u001b[0m: Interrupted by user"
     ]
    }
   ],
   "source": [
    "table_num = int(input(\"Enter your table number:- \"))\n",
    "\n",
    "for i in range(1,11):\n",
    "    print(table_num*i)"
   ]
  },
  {
   "cell_type": "code",
   "execution_count": null,
   "id": "23531131",
   "metadata": {},
   "outputs": [],
   "source": [
    "num = int(input('Enter your table number :- '))\n",
    "\n",
    "for i in range(1,11):\n",
    "    print(f\"{i} * {num} = {num*i}\")"
   ]
  },
  {
   "cell_type": "code",
   "execution_count": null,
   "id": "7ae85bf8",
   "metadata": {},
   "outputs": [],
   "source": []
  },
  {
   "cell_type": "code",
   "execution_count": 7,
   "id": "128774b2",
   "metadata": {},
   "outputs": [
    {
     "name": "stdout",
     "output_type": "stream",
     "text": [
      "0\n",
      "1\n",
      "2\n",
      "3\n",
      "4\n",
      "5\n"
     ]
    }
   ],
   "source": [
    "for i in range(10):\n",
    "    print(i)\n",
    "    if i == 5 :\n",
    "        break\n",
    "#     print(i)"
   ]
  },
  {
   "cell_type": "code",
   "execution_count": 8,
   "id": "3305ccb1",
   "metadata": {},
   "outputs": [
    {
     "name": "stdout",
     "output_type": "stream",
     "text": [
      "0\n",
      "1\n",
      "2\n",
      "3\n",
      "4\n",
      "5\n",
      "6\n",
      "7\n",
      "8\n",
      "9\n"
     ]
    }
   ],
   "source": [
    "for i in range(10):\n",
    "    print(i)\n",
    "    if i == 5:\n",
    "        continue\n",
    "#     print(i) "
   ]
  },
  {
   "cell_type": "code",
   "execution_count": 9,
   "id": "a0f162df",
   "metadata": {},
   "outputs": [
    {
     "name": "stdout",
     "output_type": "stream",
     "text": [
      "0\n",
      "1\n",
      "2\n",
      "3\n",
      "4\n"
     ]
    }
   ],
   "source": [
    "for i in range(5):\n",
    "    print(i)\n",
    "    continue\n",
    "    print('Python')"
   ]
  },
  {
   "cell_type": "code",
   "execution_count": 11,
   "id": "18fc42b3",
   "metadata": {},
   "outputs": [],
   "source": [
    "l = [\"asdf\",58,2,47,2,8,\"asdf\",542,\"arfds\"]"
   ]
  },
  {
   "cell_type": "code",
   "execution_count": 17,
   "id": "d4cdc7ad",
   "metadata": {},
   "outputs": [
    {
     "name": "stdout",
     "output_type": "stream",
     "text": [
      "[58, 2, 2, 8, 542]\n",
      "[47]\n"
     ]
    }
   ],
   "source": [
    "even_list = []\n",
    "odd_list = []\n",
    "\n",
    "for i in l:\n",
    "    if type(i) == str:\n",
    "        pass\n",
    "    elif i % 2 == 0:\n",
    "        even_list.append(i)\n",
    "    else:\n",
    "        odd_list.append(i)\n",
    "        \n",
    "print(even_list)\n",
    "print(odd_list)"
   ]
  },
  {
   "cell_type": "code",
   "execution_count": null,
   "id": "11e2c8bb",
   "metadata": {},
   "outputs": [],
   "source": []
  },
  {
   "cell_type": "code",
   "execution_count": 19,
   "id": "112f1260",
   "metadata": {},
   "outputs": [
    {
     "name": "stdout",
     "output_type": "stream",
     "text": [
      "1\n",
      "2\n",
      "3\n",
      "4\n",
      "5\n",
      "6\n"
     ]
    }
   ],
   "source": [
    "a = 1\n",
    "while a < 10:\n",
    "    if a == 7:\n",
    "        break\n",
    "    print(a)\n",
    "    a += 1"
   ]
  },
  {
   "cell_type": "code",
   "execution_count": 27,
   "id": "31d38dfa",
   "metadata": {},
   "outputs": [
    {
     "name": "stdout",
     "output_type": "stream",
     "text": [
      "1\n",
      "2\n",
      "3\n",
      "5\n",
      "6\n",
      "7\n",
      "8\n",
      "9\n"
     ]
    }
   ],
   "source": [
    "a = 1\n",
    "while a < 10:\n",
    "    if a == 4:\n",
    "        a += 1\n",
    "        continue\n",
    "        \n",
    "        \n",
    "    print(a)\n",
    "    a += 1"
   ]
  },
  {
   "cell_type": "code",
   "execution_count": null,
   "id": "a7d0f46e",
   "metadata": {},
   "outputs": [],
   "source": []
  },
  {
   "cell_type": "code",
   "execution_count": null,
   "id": "97995151",
   "metadata": {},
   "outputs": [],
   "source": []
  },
  {
   "cell_type": "code",
   "execution_count": null,
   "id": "ac6f30d5",
   "metadata": {},
   "outputs": [],
   "source": []
  },
  {
   "cell_type": "code",
   "execution_count": null,
   "id": "0f357039",
   "metadata": {},
   "outputs": [],
   "source": []
  },
  {
   "cell_type": "code",
   "execution_count": 22,
   "id": "b366dc28",
   "metadata": {},
   "outputs": [
    {
     "name": "stdout",
     "output_type": "stream",
     "text": [
      "0\n",
      "1\n",
      "2\n",
      "3\n",
      "4\n",
      "5\n",
      "6\n"
     ]
    }
   ],
   "source": [
    "a = 0\n",
    "while a <= 10:\n",
    "    if a == 7:\n",
    "        break\n",
    "    \n",
    "    print(a)\n",
    "    a += 1"
   ]
  },
  {
   "cell_type": "code",
   "execution_count": 28,
   "id": "0d89898f",
   "metadata": {},
   "outputs": [
    {
     "name": "stdout",
     "output_type": "stream",
     "text": [
      "0\n",
      "1\n",
      "2\n",
      "3\n",
      "5\n",
      "6\n",
      "7\n",
      "8\n",
      "9\n",
      "10\n"
     ]
    }
   ],
   "source": [
    "a = 0\n",
    "while a <= 10:\n",
    "    if a == 4:\n",
    "        a += 1\n",
    "        continue\n",
    "        \n",
    "    print(a)\n",
    "    a += 1"
   ]
  },
  {
   "cell_type": "code",
   "execution_count": null,
   "id": "c7fbab1a",
   "metadata": {},
   "outputs": [],
   "source": []
  },
  {
   "cell_type": "code",
   "execution_count": 29,
   "id": "cc7f1a98",
   "metadata": {},
   "outputs": [],
   "source": [
    "l = [\"abc\",'Himanshu',\"Sunny\",'Mukta']"
   ]
  },
  {
   "cell_type": "code",
   "execution_count": 30,
   "id": "e631bd23",
   "metadata": {
    "scrolled": true
   },
   "outputs": [
    {
     "name": "stdout",
     "output_type": "stream",
     "text": [
      "abc\n",
      "Himanshu\n"
     ]
    }
   ],
   "source": [
    "for i in l:\n",
    "    if i == \"Sunny\":\n",
    "        break\n",
    "    print(i)"
   ]
  },
  {
   "cell_type": "code",
   "execution_count": 31,
   "id": "996cc1d8",
   "metadata": {},
   "outputs": [
    {
     "name": "stdout",
     "output_type": "stream",
     "text": [
      "abc\n",
      "Sunny\n",
      "Mukta\n"
     ]
    }
   ],
   "source": [
    "for i in l:\n",
    "    if i == \"Himanshu\":\n",
    "        continue\n",
    "        \n",
    "    print(i)"
   ]
  },
  {
   "cell_type": "code",
   "execution_count": 32,
   "id": "d2aa5823",
   "metadata": {},
   "outputs": [
    {
     "name": "stdout",
     "output_type": "stream",
     "text": [
      "0\n",
      "1\n",
      "3\n",
      "4\n",
      "5\n",
      "6\n",
      "7\n",
      "8\n",
      "9\n"
     ]
    }
   ],
   "source": [
    "i = 0\n",
    "while i < 10:\n",
    "    if i == 2:\n",
    "        i += 1\n",
    "        continue\n",
    "        \n",
    "    \n",
    "    print(i)\n",
    "    i += 1\n",
    "    "
   ]
  },
  {
   "cell_type": "code",
   "execution_count": null,
   "id": "598a7084",
   "metadata": {},
   "outputs": [],
   "source": []
  },
  {
   "cell_type": "code",
   "execution_count": 33,
   "id": "306a9148",
   "metadata": {},
   "outputs": [],
   "source": [
    "while i == 100:\n",
    "    pass"
   ]
  },
  {
   "cell_type": "code",
   "execution_count": 34,
   "id": "9ed13cdb",
   "metadata": {},
   "outputs": [],
   "source": [
    "for i in range(10):\n",
    "    pass"
   ]
  },
  {
   "cell_type": "code",
   "execution_count": 35,
   "id": "0a74e045",
   "metadata": {},
   "outputs": [],
   "source": [
    "if True:\n",
    "    pass"
   ]
  },
  {
   "cell_type": "code",
   "execution_count": null,
   "id": "78274100",
   "metadata": {},
   "outputs": [],
   "source": []
  },
  {
   "cell_type": "code",
   "execution_count": 36,
   "id": "6ca23a3e",
   "metadata": {},
   "outputs": [
    {
     "data": {
      "text/plain": [
       "False"
      ]
     },
     "execution_count": 36,
     "metadata": {},
     "output_type": "execute_result"
    }
   ],
   "source": [
    "4 > 5"
   ]
  },
  {
   "cell_type": "code",
   "execution_count": 37,
   "id": "be4955d6",
   "metadata": {},
   "outputs": [],
   "source": [
    "while False:\n",
    "    pass"
   ]
  },
  {
   "cell_type": "code",
   "execution_count": 15,
   "id": "8acb3da2",
   "metadata": {},
   "outputs": [],
   "source": [
    "i = True\n",
    "while not i:\n",
    "    pass"
   ]
  },
  {
   "cell_type": "code",
   "execution_count": 6,
   "id": "01a58651-afb5-4172-9169-ca30b764cb01",
   "metadata": {
    "scrolled": false
   },
   "outputs": [
    {
     "name": "stdout",
     "output_type": "stream",
     "text": [
      "How much money you have:- 200\n",
      "\n",
      "money_in_hand :-  200\n",
      "enter your choice(1.biscuit , 2.chips , 3.snacks , 4.burger , 5. For Exit:- )2\n",
      "take your chips\n",
      "\n",
      "money_in_hand :-  195\n",
      "enter your choice(1.biscuit , 2.chips , 3.snacks , 4.burger , 5. For Exit:- )4\n",
      "take your burger\n",
      "\n",
      "money_in_hand :-  187\n",
      "enter your choice(1.biscuit , 2.chips , 3.snacks , 4.burger , 5. For Exit:- )5\n",
      "Thank you for coming\n"
     ]
    }
   ],
   "source": [
    "money_in_hand = int(input(\"How much money you have:- \"))\n",
    "while money_in_hand >= 4 :\n",
    "    print('\\nmoney_in_hand :- ',money_in_hand)\n",
    "    choice = input(\"enter your choice(1.biscuit , 2.chips , 3.snacks , 4.burger , 5. For Exit:- )\")\n",
    "    if choice == '1':\n",
    "        print(\"take your biscuit\")\n",
    "        money_in_hand = money_in_hand - 4 \n",
    "    elif choice == '2' :\n",
    "        print(\"take your chips\")\n",
    "        money_in_hand = money_in_hand - 5\n",
    "        \n",
    "    elif choice == '3' :\n",
    "        print(\"take your snacks\")\n",
    "        money_in_hand = money_in_hand - 10 \n",
    "    elif choice == '4' :\n",
    "        print(\"take your burger\")\n",
    "        money_in_hand = money_in_hand - 8 \n",
    "        \n",
    "    elif choice == '5':\n",
    "        print(\"Thank you for coming\")\n",
    "        break\n",
    "        \n",
    "    else :\n",
    "        print(\"you have not entered the correct choice\")\n",
    "        \n",
    "else:\n",
    "    print(\"you don't have enough balance in you wallet\")\n"
   ]
  },
  {
   "cell_type": "code",
   "execution_count": 30,
   "id": "56cb3ad1",
   "metadata": {},
   "outputs": [
    {
     "name": "stdout",
     "output_type": "stream",
     "text": [
      "0\n",
      "1\n",
      "2\n",
      "3\n",
      "4\n",
      "5\n",
      "6\n",
      "7\n",
      "8\n",
      "9\n",
      "Finished\n"
     ]
    }
   ],
   "source": [
    "i = 0\n",
    "while i < 10:\n",
    "    print(i)\n",
    "    i += 1\n",
    "else:\n",
    "    print(\"Finished\")"
   ]
  },
  {
   "cell_type": "code",
   "execution_count": null,
   "id": "a368783b",
   "metadata": {},
   "outputs": [],
   "source": []
  },
  {
   "cell_type": "code",
   "execution_count": 21,
   "id": "441ad055",
   "metadata": {},
   "outputs": [
    {
     "name": "stdout",
     "output_type": "stream",
     "text": [
      "enter your user id for account :- gaurav\n",
      "enter your password for respective user id :- gaurav@123\n",
      "you have logged in succefully\n"
     ]
    }
   ],
   "source": [
    "user_id = \"gaurav\"\n",
    "password = \"gaurav@123\"\n",
    "counter = 1\n",
    "user_id_check = False\n",
    "user_input = ''\n",
    "while counter <=3 :\n",
    "    if user_id != user_input:\n",
    "        user_input = input(\"enter your user id for account :- \").lower()\n",
    "        print('thi is ')\n",
    "\n",
    "    \n",
    "    if user_input == user_id :\n",
    "        user_id_check = True\n",
    "    else :\n",
    "        print(\"your user id is incorrect try again\")\n",
    "    if user_id_check == True :\n",
    "        pswd = input(\"enter your password for respective user id :- \").lower()\n",
    "        if pswd == password :\n",
    "            print(\"you have logged in succefully\")\n",
    "            break\n",
    "    counter = counter + 1\n",
    "if counter > 3 :\n",
    "    print()\n",
    "    print(\"you have attempted maximum times and your account is locked \") "
   ]
  },
  {
   "cell_type": "code",
   "execution_count": null,
   "id": "3df17862",
   "metadata": {},
   "outputs": [],
   "source": []
  },
  {
   "cell_type": "code",
   "execution_count": 31,
   "id": "d12fc10e",
   "metadata": {},
   "outputs": [
    {
     "name": "stdout",
     "output_type": "stream",
     "text": [
      "enter your user id for account :- gaurav\n",
      "this is your user_input :- gaurav\n",
      "Enter your password :- asdf\n",
      "Enter your password :- adf\n",
      "Enter your password :- asdf\n",
      "\n",
      "Id Lock\n"
     ]
    }
   ],
   "source": [
    "user_id = \"gaurav\"\n",
    "password = \"gaurav@123\"\n",
    "counter = 1\n",
    "user_input = \"\"\n",
    "user_id_check = False\n",
    "\n",
    "while counter <= 3:\n",
    "\n",
    "    if user_id != user_input:\n",
    "        user_input = input(\"enter your user id for account :- \").lower()\n",
    "        print('this is your user_input :-',user_input)\n",
    "\n",
    "    if user_id == user_input:\n",
    "        user_id_check = True\n",
    "        \n",
    "    if user_id_check:\n",
    "        input_password = input(\"Enter your password :- \")\n",
    "        if password == input_password:\n",
    "            print(\"Login\")\n",
    "            break\n",
    "\n",
    "    counter += 1\n",
    "\n",
    "else:`\n",
    "    print(\"\\nId Lock\")"
   ]
  },
  {
   "cell_type": "code",
   "execution_count": null,
   "id": "57dd9bff",
   "metadata": {},
   "outputs": [],
   "source": []
  },
  {
   "cell_type": "code",
   "execution_count": null,
   "id": "2b41238f",
   "metadata": {},
   "outputs": [],
   "source": []
  },
  {
   "cell_type": "code",
   "execution_count": null,
   "id": "90bc1e5d",
   "metadata": {},
   "outputs": [],
   "source": []
  },
  {
   "cell_type": "code",
   "execution_count": 22,
   "id": "8a049b6d-c2cd-41ad-b832-291138440870",
   "metadata": {},
   "outputs": [
    {
     "name": "stdout",
     "output_type": "stream",
     "text": [
      "enter your todo task:- reading\n",
      "enter n id you want to add in todo list or enter y if you don't want to add:- n\n",
      "enter your todo task:- aqwer\n",
      "enter n id you want to add in todo list or enter y if you don't want to add:- n\n",
      "enter your todo task:- qwer\n",
      "enter n id you want to add in todo list or enter y if you don't want to add:- y\n",
      "my todo list is  ['reading', 'aqwer', 'qwer']\n"
     ]
    }
   ],
   "source": [
    "todo_list = []\n",
    "end_of_todo = 'n'\n",
    "while end_of_todo != 'y':\n",
    "    todo_item = input(\"enter your todo task:- \")\n",
    "    todo_list.append(todo_item)\n",
    "    end_of_todo = input(\"enter n id you want to add in todo list or enter y if you don't want to add:- \")\n",
    "print(\"my todo list is \" , todo_list)"
   ]
  },
  {
   "cell_type": "code",
   "execution_count": null,
   "id": "36262681",
   "metadata": {},
   "outputs": [],
   "source": []
  },
  {
   "cell_type": "code",
   "execution_count": null,
   "id": "3aba2347",
   "metadata": {},
   "outputs": [],
   "source": []
  },
  {
   "cell_type": "code",
   "execution_count": null,
   "id": "591dfe1c",
   "metadata": {},
   "outputs": [],
   "source": []
  },
  {
   "cell_type": "code",
   "execution_count": null,
   "id": "582aea0f",
   "metadata": {},
   "outputs": [],
   "source": []
  },
  {
   "cell_type": "code",
   "execution_count": null,
   "id": "ad9cd9a9",
   "metadata": {},
   "outputs": [],
   "source": []
  },
  {
   "cell_type": "code",
   "execution_count": 37,
   "id": "3a9f51d0",
   "metadata": {},
   "outputs": [
    {
     "name": "stdout",
     "output_type": "stream",
     "text": [
      "Enter your today's task :- asdf\n",
      "your want to continue or not? Yes or No : -asdf\n",
      "Enter your today's task :- food\n",
      "your want to continue or not? Yes or No : -yes\n",
      "Enter your today's task :- weradsf\n",
      "your want to continue or not? Yes or No : -no\n",
      "['y', 'asdf', 'yes']\n"
     ]
    }
   ],
   "source": [
    "task_list = []\n",
    "\n",
    "task = \"y\"\n",
    "\n",
    "while task != \"no\":\n",
    "    task_input = input(\"Enter your today's task :- \")\n",
    "    task_list.append(task)\n",
    "    task = input(\"your want to continue or not? Yes or No : -\").lower()\n",
    "    \n",
    "else:\n",
    "    print(task_list)"
   ]
  },
  {
   "cell_type": "code",
   "execution_count": 34,
   "id": "c6d2266e",
   "metadata": {},
   "outputs": [
    {
     "data": {
      "text/plain": [
       "['asdf', 'study', 'asfasdff', 'qwera', 'esfqwer']"
      ]
     },
     "execution_count": 34,
     "metadata": {},
     "output_type": "execute_result"
    }
   ],
   "source": [
    "task_list"
   ]
  },
  {
   "cell_type": "code",
   "execution_count": null,
   "id": "8e705cd2",
   "metadata": {},
   "outputs": [],
   "source": []
  },
  {
   "cell_type": "code",
   "execution_count": null,
   "id": "ec35fafc",
   "metadata": {},
   "outputs": [],
   "source": []
  },
  {
   "cell_type": "code",
   "execution_count": 8,
   "id": "3f3bb218",
   "metadata": {},
   "outputs": [
    {
     "name": "stdout",
     "output_type": "stream",
     "text": [
      "not hii\n"
     ]
    }
   ],
   "source": [
    "i = 0\n",
    "while i > 10:\n",
    "    print('hii')\n",
    "else:\n",
    "    print('not hii')"
   ]
  },
  {
   "cell_type": "code",
   "execution_count": null,
   "id": "4b847b05",
   "metadata": {},
   "outputs": [],
   "source": []
  }
 ],
 "metadata": {
  "kernelspec": {
   "display_name": "Python 3 (ipykernel)",
   "language": "python",
   "name": "python3"
  },
  "language_info": {
   "codemirror_mode": {
    "name": "ipython",
    "version": 3
   },
   "file_extension": ".py",
   "mimetype": "text/x-python",
   "name": "python",
   "nbconvert_exporter": "python",
   "pygments_lexer": "ipython3",
   "version": "3.9.13"
  }
 },
 "nbformat": 4,
 "nbformat_minor": 5
}
