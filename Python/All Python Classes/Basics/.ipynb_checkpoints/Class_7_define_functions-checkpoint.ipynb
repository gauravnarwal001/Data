{
 "cells": [
  {
   "cell_type": "raw",
   "id": "9f335ca6",
   "metadata": {},
   "source": [
    "print\n",
    "type\n",
    "len\n",
    "str\n",
    "int\n",
    "float\n",
    "list"
   ]
  },
  {
   "cell_type": "code",
   "execution_count": 1,
   "id": "95a1f03d",
   "metadata": {},
   "outputs": [
    {
     "name": "stdout",
     "output_type": "stream",
     "text": [
      "asdf\n"
     ]
    }
   ],
   "source": [
    "print(\"asdf\")"
   ]
  },
  {
   "cell_type": "code",
   "execution_count": 2,
   "id": "eff6676a",
   "metadata": {},
   "outputs": [
    {
     "data": {
      "text/plain": [
       "6"
      ]
     },
     "execution_count": 2,
     "metadata": {},
     "output_type": "execute_result"
    }
   ],
   "source": [
    "len('asdfgf')"
   ]
  },
  {
   "cell_type": "code",
   "execution_count": 3,
   "id": "9cfb5622",
   "metadata": {},
   "outputs": [],
   "source": [
    "a = \"abcdefgh\""
   ]
  },
  {
   "cell_type": "code",
   "execution_count": 6,
   "id": "849455ac",
   "metadata": {},
   "outputs": [
    {
     "name": "stdout",
     "output_type": "stream",
     "text": [
      "8\n"
     ]
    }
   ],
   "source": [
    "c = 0\n",
    "for i in a:\n",
    "    c += 1\n",
    "print(c)"
   ]
  },
  {
   "cell_type": "code",
   "execution_count": 7,
   "id": "34804675",
   "metadata": {},
   "outputs": [
    {
     "name": "stdout",
     "output_type": "stream",
     "text": [
      "5\n"
     ]
    }
   ],
   "source": [
    "a = \"Rohan\"\n",
    "\n",
    "c = 0\n",
    "for i in a:\n",
    "    c += 1\n",
    "print(c)"
   ]
  },
  {
   "cell_type": "code",
   "execution_count": 8,
   "id": "1169d60f",
   "metadata": {},
   "outputs": [
    {
     "name": "stdout",
     "output_type": "stream",
     "text": [
      "12\n"
     ]
    }
   ],
   "source": [
    "a = \"Python Class\"\n",
    "\n",
    "c = 0\n",
    "for i in a:\n",
    "    c += 1\n",
    "print(c)"
   ]
  },
  {
   "cell_type": "code",
   "execution_count": null,
   "id": "046ddd69",
   "metadata": {},
   "outputs": [],
   "source": []
  },
  {
   "cell_type": "code",
   "execution_count": 12,
   "id": "54f5204d",
   "metadata": {},
   "outputs": [],
   "source": [
    "def first_fun():\n",
    "    print(\"Hello Everyone\")"
   ]
  },
  {
   "cell_type": "code",
   "execution_count": 13,
   "id": "770b9902",
   "metadata": {},
   "outputs": [
    {
     "name": "stdout",
     "output_type": "stream",
     "text": [
      "Hello Everyone\n"
     ]
    }
   ],
   "source": [
    "first_fun()"
   ]
  },
  {
   "cell_type": "code",
   "execution_count": 14,
   "id": "58e4c796",
   "metadata": {},
   "outputs": [
    {
     "name": "stdout",
     "output_type": "stream",
     "text": [
      "Hello Everyone\n"
     ]
    }
   ],
   "source": [
    "first_fun()"
   ]
  },
  {
   "cell_type": "code",
   "execution_count": 17,
   "id": "add360e3",
   "metadata": {},
   "outputs": [],
   "source": [
    "def str_len(str_value):          # Parameter\n",
    "    count = 0\n",
    "    for i in str_value:\n",
    "        count += 1\n",
    "    print(count)"
   ]
  },
  {
   "cell_type": "code",
   "execution_count": 22,
   "id": "a5a882de",
   "metadata": {},
   "outputs": [
    {
     "name": "stdout",
     "output_type": "stream",
     "text": [
      "10\n"
     ]
    }
   ],
   "source": [
    "str_len(\"asdffbvcx \")"
   ]
  },
  {
   "cell_type": "code",
   "execution_count": 23,
   "id": "1619b892",
   "metadata": {},
   "outputs": [
    {
     "ename": "TypeError",
     "evalue": "len() takes exactly one argument (0 given)",
     "output_type": "error",
     "traceback": [
      "\u001b[1;31m---------------------------------------------------------------------------\u001b[0m",
      "\u001b[1;31mTypeError\u001b[0m                                 Traceback (most recent call last)",
      "\u001b[1;32m~\\AppData\\Local\\Temp\\ipykernel_4696\\3175031574.py\u001b[0m in \u001b[0;36m<module>\u001b[1;34m\u001b[0m\n\u001b[1;32m----> 1\u001b[1;33m \u001b[0mlen\u001b[0m\u001b[1;33m(\u001b[0m\u001b[1;33m)\u001b[0m\u001b[1;33m\u001b[0m\u001b[1;33m\u001b[0m\u001b[0m\n\u001b[0m",
      "\u001b[1;31mTypeError\u001b[0m: len() takes exactly one argument (0 given)"
     ]
    }
   ],
   "source": [
    "len()"
   ]
  },
  {
   "cell_type": "code",
   "execution_count": null,
   "id": "ca9b9a2c",
   "metadata": {},
   "outputs": [],
   "source": []
  },
  {
   "cell_type": "code",
   "execution_count": null,
   "id": "1651e9ca",
   "metadata": {},
   "outputs": [],
   "source": []
  },
  {
   "cell_type": "code",
   "execution_count": 18,
   "id": "186a0d81",
   "metadata": {},
   "outputs": [
    {
     "name": "stdout",
     "output_type": "stream",
     "text": [
      "16\n"
     ]
    }
   ],
   "source": [
    "str_len(\"This is my class\")      # Argument"
   ]
  },
  {
   "cell_type": "code",
   "execution_count": 19,
   "id": "f9e042b1",
   "metadata": {},
   "outputs": [
    {
     "data": {
      "text/plain": [
       "16"
      ]
     },
     "execution_count": 19,
     "metadata": {},
     "output_type": "execute_result"
    }
   ],
   "source": [
    "len(\"This is my class\")"
   ]
  },
  {
   "cell_type": "code",
   "execution_count": 20,
   "id": "d5d7e9d4",
   "metadata": {},
   "outputs": [
    {
     "name": "stdout",
     "output_type": "stream",
     "text": [
      "9\n"
     ]
    }
   ],
   "source": [
    "str_len(\"Jai kumar\")"
   ]
  },
  {
   "cell_type": "code",
   "execution_count": null,
   "id": "401d73a3",
   "metadata": {},
   "outputs": [],
   "source": []
  },
  {
   "cell_type": "code",
   "execution_count": null,
   "id": "708fa979",
   "metadata": {},
   "outputs": [],
   "source": []
  },
  {
   "cell_type": "code",
   "execution_count": null,
   "id": "68844b72",
   "metadata": {},
   "outputs": [],
   "source": []
  },
  {
   "cell_type": "code",
   "execution_count": null,
   "id": "9deaca3c",
   "metadata": {},
   "outputs": [],
   "source": []
  },
  {
   "cell_type": "code",
   "execution_count": 8,
   "id": "0c504f35",
   "metadata": {},
   "outputs": [
    {
     "data": {
      "text/plain": [
       "8"
      ]
     },
     "execution_count": 8,
     "metadata": {},
     "output_type": "execute_result"
    }
   ],
   "source": [
    "count = 0\n",
    "for i in a:\n",
    "    count += 1\n",
    "count"
   ]
  },
  {
   "cell_type": "code",
   "execution_count": 16,
   "id": "ba11bbe6",
   "metadata": {},
   "outputs": [
    {
     "data": {
      "text/plain": [
       "19"
      ]
     },
     "execution_count": 16,
     "metadata": {},
     "output_type": "execute_result"
    }
   ],
   "source": [
    "count = 0\n",
    "a = \"tryuihijkdfasklsdjf\"\n",
    "for i in a:\n",
    "    count += 1\n",
    "count"
   ]
  },
  {
   "cell_type": "code",
   "execution_count": 17,
   "id": "d32e10f0",
   "metadata": {},
   "outputs": [
    {
     "data": {
      "text/plain": [
       "6"
      ]
     },
     "execution_count": 17,
     "metadata": {},
     "output_type": "execute_result"
    }
   ],
   "source": [
    "a = \"Python\"\n",
    "count = 0\n",
    "for i in a:\n",
    "    count += 1\n",
    "count"
   ]
  },
  {
   "cell_type": "code",
   "execution_count": 18,
   "id": "a5359aa1",
   "metadata": {},
   "outputs": [
    {
     "data": {
      "text/plain": [
       "6"
      ]
     },
     "execution_count": 18,
     "metadata": {},
     "output_type": "execute_result"
    }
   ],
   "source": [
    "len(\"python\")"
   ]
  },
  {
   "cell_type": "code",
   "execution_count": 19,
   "id": "caa26ef0",
   "metadata": {},
   "outputs": [
    {
     "data": {
      "text/plain": [
       "3"
      ]
     },
     "execution_count": 19,
     "metadata": {},
     "output_type": "execute_result"
    }
   ],
   "source": [
    "len(\"abc\")"
   ]
  },
  {
   "cell_type": "code",
   "execution_count": null,
   "id": "05c5f240",
   "metadata": {},
   "outputs": [],
   "source": []
  },
  {
   "cell_type": "code",
   "execution_count": 42,
   "id": "c72f7bf8",
   "metadata": {},
   "outputs": [
    {
     "name": "stdout",
     "output_type": "stream",
     "text": [
      "asdf*"
     ]
    }
   ],
   "source": [
    "print(\"asdf\",end = \"*\")"
   ]
  },
  {
   "cell_type": "code",
   "execution_count": 65,
   "id": "e5bb27f1",
   "metadata": {},
   "outputs": [],
   "source": [
    "i = 1"
   ]
  },
  {
   "cell_type": "code",
   "execution_count": 66,
   "id": "b4869075",
   "metadata": {},
   "outputs": [
    {
     "data": {
      "text/plain": [
       "True"
      ]
     },
     "execution_count": 66,
     "metadata": {},
     "output_type": "execute_result"
    }
   ],
   "source": [
    "i == 1"
   ]
  },
  {
   "cell_type": "code",
   "execution_count": 67,
   "id": "dd7a4159",
   "metadata": {},
   "outputs": [
    {
     "data": {
      "text/plain": [
       "False"
      ]
     },
     "execution_count": 67,
     "metadata": {},
     "output_type": "execute_result"
    }
   ],
   "source": [
    "i != 1"
   ]
  },
  {
   "cell_type": "code",
   "execution_count": 30,
   "id": "d4183672",
   "metadata": {},
   "outputs": [],
   "source": [
    "def count_len(value):\n",
    "    count = 0\n",
    "    for i in value:\n",
    "        count += 1\n",
    "    return count\n"
   ]
  },
  {
   "cell_type": "code",
   "execution_count": 64,
   "id": "657c3f79",
   "metadata": {},
   "outputs": [
    {
     "data": {
      "text/plain": [
       "4"
      ]
     },
     "execution_count": 64,
     "metadata": {},
     "output_type": "execute_result"
    }
   ],
   "source": [
    "count_len(\"abcd\")"
   ]
  },
  {
   "cell_type": "code",
   "execution_count": 36,
   "id": "b3be5156",
   "metadata": {},
   "outputs": [
    {
     "data": {
      "text/plain": [
       "int"
      ]
     },
     "execution_count": 36,
     "metadata": {},
     "output_type": "execute_result"
    }
   ],
   "source": [
    "type(count_len(\"abcd\"))"
   ]
  },
  {
   "cell_type": "code",
   "execution_count": 37,
   "id": "475884f9",
   "metadata": {},
   "outputs": [
    {
     "data": {
      "text/plain": [
       "25"
      ]
     },
     "execution_count": 37,
     "metadata": {},
     "output_type": "execute_result"
    }
   ],
   "source": [
    "count_len(\"this is my first function\")"
   ]
  },
  {
   "cell_type": "code",
   "execution_count": 38,
   "id": "d7471673",
   "metadata": {},
   "outputs": [
    {
     "name": "stdout",
     "output_type": "stream",
     "text": [
      "0\n",
      "1\n",
      "2\n",
      "3\n",
      "4\n",
      "5\n"
     ]
    }
   ],
   "source": [
    "for i in range(count_len(\"python\")):\n",
    "    print(i)"
   ]
  },
  {
   "cell_type": "code",
   "execution_count": null,
   "id": "c5519cd4",
   "metadata": {},
   "outputs": [],
   "source": [
    "print()"
   ]
  },
  {
   "cell_type": "code",
   "execution_count": null,
   "id": "dff943c1",
   "metadata": {},
   "outputs": [],
   "source": []
  },
  {
   "cell_type": "code",
   "execution_count": null,
   "id": "c4a6ccbd",
   "metadata": {},
   "outputs": [],
   "source": [
    "print()"
   ]
  },
  {
   "cell_type": "code",
   "execution_count": null,
   "id": "7305ed87",
   "metadata": {},
   "outputs": [],
   "source": []
  },
  {
   "cell_type": "code",
   "execution_count": 10,
   "id": "d00e4241",
   "metadata": {},
   "outputs": [],
   "source": [
    "def new_add(num_value):\n",
    "    \n",
    "    print(num_value + 5)"
   ]
  },
  {
   "cell_type": "code",
   "execution_count": 11,
   "id": "7bf90123",
   "metadata": {},
   "outputs": [
    {
     "name": "stdout",
     "output_type": "stream",
     "text": [
      "10\n"
     ]
    }
   ],
   "source": [
    "new_add(5)"
   ]
  },
  {
   "cell_type": "code",
   "execution_count": 5,
   "id": "e54dc0c9",
   "metadata": {},
   "outputs": [
    {
     "name": "stdout",
     "output_type": "stream",
     "text": [
      "10\n"
     ]
    },
    {
     "data": {
      "text/plain": [
       "NoneType"
      ]
     },
     "execution_count": 5,
     "metadata": {},
     "output_type": "execute_result"
    }
   ],
   "source": [
    "type(new_add(5))"
   ]
  },
  {
   "cell_type": "code",
   "execution_count": 15,
   "id": "685729cf",
   "metadata": {},
   "outputs": [],
   "source": [
    "def new_add(num_value):\n",
    "    \n",
    "    return num_value + 5\n",
    "    return num_value + 50     # not run\n",
    "    return num_value + 10     # not run"
   ]
  },
  {
   "cell_type": "code",
   "execution_count": 16,
   "id": "da4fe20b",
   "metadata": {},
   "outputs": [
    {
     "data": {
      "text/plain": [
       "10"
      ]
     },
     "execution_count": 16,
     "metadata": {},
     "output_type": "execute_result"
    }
   ],
   "source": [
    "new_add(5)"
   ]
  },
  {
   "cell_type": "code",
   "execution_count": 36,
   "id": "f9b8a0ee",
   "metadata": {},
   "outputs": [],
   "source": [
    "def new_add(num_value):\n",
    "    \n",
    "    \"\"\"\n",
    "    num_value : allow only numeric values.\n",
    "    \"\"\"\n",
    "    \n",
    "    if type(num_value) not in [int,float]:\n",
    "        raise TypeError(f\"'{num_value}' This is not Valid argument. Argument must be in numeric form\")\n",
    "    \n",
    "    return num_value + 5"
   ]
  },
  {
   "cell_type": "code",
   "execution_count": 37,
   "id": "f66afcbc",
   "metadata": {},
   "outputs": [
    {
     "data": {
      "text/plain": [
       "10"
      ]
     },
     "execution_count": 37,
     "metadata": {},
     "output_type": "execute_result"
    }
   ],
   "source": [
    "new_add(5)"
   ]
  },
  {
   "cell_type": "code",
   "execution_count": 55,
   "id": "3c6c990d",
   "metadata": {},
   "outputs": [],
   "source": [
    "a = 10"
   ]
  },
  {
   "cell_type": "code",
   "execution_count": 56,
   "id": "d8bd9223",
   "metadata": {},
   "outputs": [
    {
     "name": "stdout",
     "output_type": "stream",
     "text": [
      "10\n"
     ]
    }
   ],
   "source": [
    "print(a)"
   ]
  },
  {
   "cell_type": "code",
   "execution_count": null,
   "id": "74d8955b",
   "metadata": {},
   "outputs": [],
   "source": []
  },
  {
   "cell_type": "code",
   "execution_count": null,
   "id": "c96fe6de",
   "metadata": {},
   "outputs": [],
   "source": []
  },
  {
   "cell_type": "code",
   "execution_count": 70,
   "id": "5364afe5",
   "metadata": {},
   "outputs": [],
   "source": [
    "x = 123   # Global"
   ]
  },
  {
   "cell_type": "code",
   "execution_count": 71,
   "id": "adfa4fcd",
   "metadata": {},
   "outputs": [
    {
     "data": {
      "text/plain": [
       "123"
      ]
     },
     "execution_count": 71,
     "metadata": {},
     "output_type": "execute_result"
    }
   ],
   "source": [
    "x"
   ]
  },
  {
   "cell_type": "code",
   "execution_count": null,
   "id": "131f5876",
   "metadata": {},
   "outputs": [],
   "source": [
    "abcd = 123"
   ]
  },
  {
   "cell_type": "code",
   "execution_count": 80,
   "id": "036d94bc",
   "metadata": {},
   "outputs": [
    {
     "ename": "NameError",
     "evalue": "name 'abcd' is not defined",
     "output_type": "error",
     "traceback": [
      "\u001b[1;31m---------------------------------------------------------------------------\u001b[0m",
      "\u001b[1;31mNameError\u001b[0m                                 Traceback (most recent call last)",
      "\u001b[1;32m~\\AppData\\Local\\Temp\\ipykernel_13920\\804720481.py\u001b[0m in \u001b[0;36m<module>\u001b[1;34m\u001b[0m\n\u001b[1;32m----> 1\u001b[1;33m \u001b[0mabcd\u001b[0m\u001b[1;33m\u001b[0m\u001b[1;33m\u001b[0m\u001b[0m\n\u001b[0m",
      "\u001b[1;31mNameError\u001b[0m: name 'abcd' is not defined"
     ]
    }
   ],
   "source": [
    "abcd"
   ]
  },
  {
   "cell_type": "code",
   "execution_count": null,
   "id": "77e162ba",
   "metadata": {},
   "outputs": [],
   "source": []
  },
  {
   "cell_type": "code",
   "execution_count": null,
   "id": "4b0ef962",
   "metadata": {},
   "outputs": [],
   "source": []
  },
  {
   "cell_type": "code",
   "execution_count": 87,
   "id": "abb0e5fb",
   "metadata": {},
   "outputs": [],
   "source": [
    "a = 123"
   ]
  },
  {
   "cell_type": "code",
   "execution_count": 88,
   "id": "0aa7f40b",
   "metadata": {},
   "outputs": [
    {
     "data": {
      "text/plain": [
       "int"
      ]
     },
     "execution_count": 88,
     "metadata": {},
     "output_type": "execute_result"
    }
   ],
   "source": [
    "type(a)"
   ]
  },
  {
   "cell_type": "code",
   "execution_count": 98,
   "id": "9c7a855b",
   "metadata": {},
   "outputs": [],
   "source": [
    "def manohar():\n",
    "    print(\"Manohar\")\n",
    "    return 1"
   ]
  },
  {
   "cell_type": "code",
   "execution_count": 100,
   "id": "f9b7c27d",
   "metadata": {},
   "outputs": [
    {
     "data": {
      "text/plain": [
       "function"
      ]
     },
     "execution_count": 100,
     "metadata": {},
     "output_type": "execute_result"
    }
   ],
   "source": [
    "type(manohar)"
   ]
  },
  {
   "cell_type": "code",
   "execution_count": 99,
   "id": "63cf9cef",
   "metadata": {},
   "outputs": [
    {
     "name": "stdout",
     "output_type": "stream",
     "text": [
      "Manohar\n"
     ]
    },
    {
     "data": {
      "text/plain": [
       "int"
      ]
     },
     "execution_count": 99,
     "metadata": {},
     "output_type": "execute_result"
    }
   ],
   "source": [
    "type(manohar())"
   ]
  },
  {
   "cell_type": "code",
   "execution_count": 92,
   "id": "931343d1",
   "metadata": {},
   "outputs": [
    {
     "name": "stdout",
     "output_type": "stream",
     "text": [
      "Manohar\n"
     ]
    },
    {
     "data": {
      "text/plain": [
       "'Hero'"
      ]
     },
     "execution_count": 92,
     "metadata": {},
     "output_type": "execute_result"
    }
   ],
   "source": [
    "manohar()"
   ]
  },
  {
   "cell_type": "code",
   "execution_count": null,
   "id": "1ee13258",
   "metadata": {},
   "outputs": [],
   "source": []
  },
  {
   "cell_type": "code",
   "execution_count": 83,
   "id": "f7fa4249",
   "metadata": {},
   "outputs": [],
   "source": [
    "def abc():\n",
    "    global c\n",
    "    c = 10       # Local\n",
    "    \n",
    "    return c"
   ]
  },
  {
   "cell_type": "code",
   "execution_count": 84,
   "id": "fb2caa80",
   "metadata": {},
   "outputs": [
    {
     "ename": "NameError",
     "evalue": "name 'c' is not defined",
     "output_type": "error",
     "traceback": [
      "\u001b[1;31m---------------------------------------------------------------------------\u001b[0m",
      "\u001b[1;31mNameError\u001b[0m                                 Traceback (most recent call last)",
      "\u001b[1;32m~\\AppData\\Local\\Temp\\ipykernel_13920\\3235490055.py\u001b[0m in \u001b[0;36m<module>\u001b[1;34m\u001b[0m\n\u001b[1;32m----> 1\u001b[1;33m \u001b[0mc\u001b[0m\u001b[1;33m\u001b[0m\u001b[1;33m\u001b[0m\u001b[0m\n\u001b[0m",
      "\u001b[1;31mNameError\u001b[0m: name 'c' is not defined"
     ]
    }
   ],
   "source": [
    "c"
   ]
  },
  {
   "cell_type": "code",
   "execution_count": 85,
   "id": "204c9b6c",
   "metadata": {},
   "outputs": [
    {
     "data": {
      "text/plain": [
       "10"
      ]
     },
     "execution_count": 85,
     "metadata": {},
     "output_type": "execute_result"
    }
   ],
   "source": [
    "abc()"
   ]
  },
  {
   "cell_type": "code",
   "execution_count": 86,
   "id": "c99a856d",
   "metadata": {},
   "outputs": [
    {
     "data": {
      "text/plain": [
       "10"
      ]
     },
     "execution_count": 86,
     "metadata": {},
     "output_type": "execute_result"
    }
   ],
   "source": [
    "c"
   ]
  },
  {
   "cell_type": "code",
   "execution_count": null,
   "id": "34b9d826",
   "metadata": {},
   "outputs": [],
   "source": []
  },
  {
   "cell_type": "code",
   "execution_count": 102,
   "id": "35167cf3",
   "metadata": {},
   "outputs": [],
   "source": [
    "def count_len(str_value):\n",
    "    \n",
    "    count = 0\n",
    "    for i in str_value:\n",
    "        count += 1\n",
    "        \n",
    "    return count\n",
    "    "
   ]
  },
  {
   "cell_type": "code",
   "execution_count": 103,
   "id": "6e16419e",
   "metadata": {},
   "outputs": [
    {
     "data": {
      "text/plain": [
       "3"
      ]
     },
     "execution_count": 103,
     "metadata": {},
     "output_type": "execute_result"
    }
   ],
   "source": [
    "count_len(\"abc\")"
   ]
  },
  {
   "cell_type": "code",
   "execution_count": null,
   "id": "f566183c",
   "metadata": {},
   "outputs": [],
   "source": []
  },
  {
   "cell_type": "code",
   "execution_count": null,
   "id": "74fa07f4",
   "metadata": {},
   "outputs": [],
   "source": []
  },
  {
   "cell_type": "code",
   "execution_count": 49,
   "id": "a8fa3a13",
   "metadata": {},
   "outputs": [
    {
     "data": {
      "text/plain": [
       "13"
      ]
     },
     "execution_count": 49,
     "metadata": {},
     "output_type": "execute_result"
    }
   ],
   "source": [
    "count_len(\"Gaurav Narwal\")"
   ]
  },
  {
   "cell_type": "code",
   "execution_count": 50,
   "id": "e9aac3fe",
   "metadata": {},
   "outputs": [
    {
     "name": "stdout",
     "output_type": "stream",
     "text": [
      "0\n",
      "1\n",
      "2\n",
      "3\n",
      "4\n",
      "5\n",
      "6\n",
      "7\n",
      "8\n",
      "9\n",
      "10\n",
      "11\n",
      "12\n"
     ]
    }
   ],
   "source": [
    "for i in range(count_len(\"Gaurav Narwal\")):\n",
    "    print(i)"
   ]
  },
  {
   "cell_type": "code",
   "execution_count": null,
   "id": "24a881b7",
   "metadata": {},
   "outputs": [],
   "source": []
  },
  {
   "cell_type": "code",
   "execution_count": null,
   "id": "8ec7579d",
   "metadata": {},
   "outputs": [],
   "source": []
  },
  {
   "cell_type": "code",
   "execution_count": null,
   "id": "4d0d711f",
   "metadata": {},
   "outputs": [],
   "source": []
  },
  {
   "cell_type": "code",
   "execution_count": null,
   "id": "a345fc22",
   "metadata": {},
   "outputs": [],
   "source": []
  },
  {
   "cell_type": "code",
   "execution_count": null,
   "id": "5c9fe7da",
   "metadata": {},
   "outputs": [],
   "source": []
  },
  {
   "cell_type": "code",
   "execution_count": 40,
   "id": "6dd1b2bf",
   "metadata": {},
   "outputs": [],
   "source": [
    "count = 0\n",
    "for i in \"Python\":\n",
    "    \n",
    "    count += 1"
   ]
  },
  {
   "cell_type": "code",
   "execution_count": 41,
   "id": "ef70bddb",
   "metadata": {},
   "outputs": [
    {
     "data": {
      "text/plain": [
       "6"
      ]
     },
     "execution_count": 41,
     "metadata": {},
     "output_type": "execute_result"
    }
   ],
   "source": [
    "count"
   ]
  },
  {
   "cell_type": "code",
   "execution_count": null,
   "id": "7d2a1854",
   "metadata": {},
   "outputs": [],
   "source": []
  },
  {
   "cell_type": "code",
   "execution_count": 27,
   "id": "8714b09c",
   "metadata": {},
   "outputs": [],
   "source": [
    "def modify_count_len(value,with_space = True):\n",
    "    \n",
    "    \"\"\"\n",
    "    Value : only string value\n",
    "    with_space : True (Default)\n",
    "                 If you want to skip space then use with_space = False\n",
    "    \"\"\"\n",
    "    \n",
    "    if type(value) != str:\n",
    "        raise TypeError(f\"{value} must be string\")\n",
    "    \n",
    "    count = 0\n",
    "    for i in value:\n",
    "        if with_space == False:\n",
    "            if i == \" \":\n",
    "                continue\n",
    "            count += 1\n",
    "        else:\n",
    "            count += 1\n",
    "    return count\n"
   ]
  },
  {
   "cell_type": "code",
   "execution_count": 28,
   "id": "1ac697eb",
   "metadata": {
    "scrolled": true
   },
   "outputs": [
    {
     "ename": "TypeError",
     "evalue": "65431 must be string",
     "output_type": "error",
     "traceback": [
      "\u001b[1;31m---------------------------------------------------------------------------\u001b[0m",
      "\u001b[1;31mTypeError\u001b[0m                                 Traceback (most recent call last)",
      "\u001b[1;32m~\\AppData\\Local\\Temp\\ipykernel_15256\\3234927698.py\u001b[0m in \u001b[0;36m<module>\u001b[1;34m\u001b[0m\n\u001b[1;32m----> 1\u001b[1;33m \u001b[0mmodify_count_len\u001b[0m\u001b[1;33m(\u001b[0m\u001b[1;36m65431\u001b[0m\u001b[1;33m)\u001b[0m\u001b[1;33m\u001b[0m\u001b[1;33m\u001b[0m\u001b[0m\n\u001b[0m",
      "\u001b[1;32m~\\AppData\\Local\\Temp\\ipykernel_15256\\2773416587.py\u001b[0m in \u001b[0;36mmodify_count_len\u001b[1;34m(value, with_space)\u001b[0m\n\u001b[0;32m      8\u001b[0m \u001b[1;33m\u001b[0m\u001b[0m\n\u001b[0;32m      9\u001b[0m     \u001b[1;32mif\u001b[0m \u001b[0mtype\u001b[0m\u001b[1;33m(\u001b[0m\u001b[0mvalue\u001b[0m\u001b[1;33m)\u001b[0m \u001b[1;33m!=\u001b[0m \u001b[0mstr\u001b[0m\u001b[1;33m:\u001b[0m\u001b[1;33m\u001b[0m\u001b[1;33m\u001b[0m\u001b[0m\n\u001b[1;32m---> 10\u001b[1;33m         \u001b[1;32mraise\u001b[0m \u001b[0mTypeError\u001b[0m\u001b[1;33m(\u001b[0m\u001b[1;34mf\"{value} must be string\"\u001b[0m\u001b[1;33m)\u001b[0m\u001b[1;33m\u001b[0m\u001b[1;33m\u001b[0m\u001b[0m\n\u001b[0m\u001b[0;32m     11\u001b[0m \u001b[1;33m\u001b[0m\u001b[0m\n\u001b[0;32m     12\u001b[0m     \u001b[0mcount\u001b[0m \u001b[1;33m=\u001b[0m \u001b[1;36m0\u001b[0m\u001b[1;33m\u001b[0m\u001b[1;33m\u001b[0m\u001b[0m\n",
      "\u001b[1;31mTypeError\u001b[0m: 65431 must be string"
     ]
    }
   ],
   "source": [
    "modify_count_len(65431)"
   ]
  },
  {
   "cell_type": "code",
   "execution_count": null,
   "id": "b20ec555",
   "metadata": {},
   "outputs": [],
   "source": []
  },
  {
   "cell_type": "code",
   "execution_count": 50,
   "id": "1f395fbe",
   "metadata": {},
   "outputs": [
    {
     "data": {
      "text/plain": [
       "8"
      ]
     },
     "execution_count": 50,
     "metadata": {},
     "output_type": "execute_result"
    }
   ],
   "source": [
    "modify_count_len(\"This is my\",with_space=False)"
   ]
  },
  {
   "cell_type": "code",
   "execution_count": null,
   "id": "d7f6ae0a",
   "metadata": {},
   "outputs": [],
   "source": []
  },
  {
   "cell_type": "code",
   "execution_count": 31,
   "id": "2f29b481",
   "metadata": {},
   "outputs": [
    {
     "data": {
      "text/plain": [
       "4"
      ]
     },
     "execution_count": 31,
     "metadata": {},
     "output_type": "execute_result"
    }
   ],
   "source": [
    "count_len('abcd')        # Argument"
   ]
  },
  {
   "cell_type": "code",
   "execution_count": 33,
   "id": "13007e46",
   "metadata": {},
   "outputs": [
    {
     "ename": "TypeError",
     "evalue": "len() takes exactly one argument (0 given)",
     "output_type": "error",
     "traceback": [
      "\u001b[1;31m---------------------------------------------------------------------------\u001b[0m",
      "\u001b[1;31mTypeError\u001b[0m                                 Traceback (most recent call last)",
      "\u001b[1;32m~\\AppData\\Local\\Temp\\ipykernel_15256\\3175031574.py\u001b[0m in \u001b[0;36m<module>\u001b[1;34m\u001b[0m\n\u001b[1;32m----> 1\u001b[1;33m \u001b[0mlen\u001b[0m\u001b[1;33m(\u001b[0m\u001b[1;33m)\u001b[0m\u001b[1;33m\u001b[0m\u001b[1;33m\u001b[0m\u001b[0m\n\u001b[0m",
      "\u001b[1;31mTypeError\u001b[0m: len() takes exactly one argument (0 given)"
     ]
    }
   ],
   "source": [
    "len()"
   ]
  },
  {
   "cell_type": "code",
   "execution_count": 32,
   "id": "8a239985",
   "metadata": {},
   "outputs": [
    {
     "ename": "TypeError",
     "evalue": "count_len() missing 1 required positional argument: 'value'",
     "output_type": "error",
     "traceback": [
      "\u001b[1;31m---------------------------------------------------------------------------\u001b[0m",
      "\u001b[1;31mTypeError\u001b[0m                                 Traceback (most recent call last)",
      "\u001b[1;32m~\\AppData\\Local\\Temp\\ipykernel_15256\\3966937409.py\u001b[0m in \u001b[0;36m<module>\u001b[1;34m\u001b[0m\n\u001b[1;32m----> 1\u001b[1;33m \u001b[0mcount_len\u001b[0m\u001b[1;33m(\u001b[0m\u001b[1;33m)\u001b[0m\u001b[1;33m\u001b[0m\u001b[1;33m\u001b[0m\u001b[0m\n\u001b[0m",
      "\u001b[1;31mTypeError\u001b[0m: count_len() missing 1 required positional argument: 'value'"
     ]
    }
   ],
   "source": [
    "count_len()"
   ]
  },
  {
   "cell_type": "code",
   "execution_count": 34,
   "id": "0cb58fa1",
   "metadata": {},
   "outputs": [
    {
     "data": {
      "text/plain": [
       "7"
      ]
     },
     "execution_count": 34,
     "metadata": {},
     "output_type": "execute_result"
    }
   ],
   "source": [
    "count_len(\"sanjeet\")"
   ]
  },
  {
   "cell_type": "code",
   "execution_count": 35,
   "id": "90061766",
   "metadata": {},
   "outputs": [
    {
     "data": {
      "text/plain": [
       "7"
      ]
     },
     "execution_count": 35,
     "metadata": {},
     "output_type": "execute_result"
    }
   ],
   "source": [
    "len(\"sanjeet\")"
   ]
  },
  {
   "cell_type": "code",
   "execution_count": null,
   "id": "4dd61163",
   "metadata": {},
   "outputs": [],
   "source": [
    "def validate_age(age):\n",
    "    return f\"Valid age: {age}\" if 18 <= age <= 80 else \"Age must be between 18 and 80.\"\n",
    "\n",
    "age = int(input(\"Enter your age: \"))\n",
    "print(validate_age(age))"
   ]
  },
  {
   "cell_type": "code",
   "execution_count": 44,
   "id": "1ee98487",
   "metadata": {},
   "outputs": [],
   "source": [
    "l = [5,8,63,9]"
   ]
  },
  {
   "cell_type": "code",
   "execution_count": 45,
   "id": "f29867c3",
   "metadata": {},
   "outputs": [],
   "source": [
    "x = \"abc\""
   ]
  },
  {
   "cell_type": "code",
   "execution_count": 46,
   "id": "8216cc47",
   "metadata": {},
   "outputs": [],
   "source": [
    "l.append('abc')"
   ]
  },
  {
   "cell_type": "code",
   "execution_count": 47,
   "id": "44e0ac1c",
   "metadata": {},
   "outputs": [
    {
     "data": {
      "text/plain": [
       "[5, 8, 63, 9, 'abc']"
      ]
     },
     "execution_count": 47,
     "metadata": {},
     "output_type": "execute_result"
    }
   ],
   "source": [
    "l"
   ]
  },
  {
   "cell_type": "code",
   "execution_count": null,
   "id": "a0415280",
   "metadata": {},
   "outputs": [],
   "source": []
  },
  {
   "cell_type": "code",
   "execution_count": 50,
   "id": "1931ade2",
   "metadata": {},
   "outputs": [
    {
     "data": {
      "text/plain": [
       "[5, 8, 63, 9, 'abc', 'xyz']"
      ]
     },
     "execution_count": 50,
     "metadata": {},
     "output_type": "execute_result"
    }
   ],
   "source": [
    "add_list(l,\"xyz\")"
   ]
  },
  {
   "cell_type": "code",
   "execution_count": 51,
   "id": "effaa6d1",
   "metadata": {},
   "outputs": [
    {
     "data": {
      "text/plain": [
       "[5, 8, 63, 9, 'abc', 'xyz']"
      ]
     },
     "execution_count": 51,
     "metadata": {},
     "output_type": "execute_result"
    }
   ],
   "source": [
    "l"
   ]
  },
  {
   "cell_type": "code",
   "execution_count": 52,
   "id": "771d9db5",
   "metadata": {},
   "outputs": [
    {
     "data": {
      "text/plain": [
       "[5, 8, 63, 9, 'abc', 'xyz', 85]"
      ]
     },
     "execution_count": 52,
     "metadata": {},
     "output_type": "execute_result"
    }
   ],
   "source": [
    "add_list(l,85)"
   ]
  },
  {
   "cell_type": "code",
   "execution_count": 53,
   "id": "5b3dd62a",
   "metadata": {},
   "outputs": [
    {
     "data": {
      "text/plain": [
       "[5, 8, 63, 9, 'abc', 'xyz', 85]"
      ]
     },
     "execution_count": 53,
     "metadata": {},
     "output_type": "execute_result"
    }
   ],
   "source": [
    "l"
   ]
  },
  {
   "cell_type": "code",
   "execution_count": 54,
   "id": "4e9016e5",
   "metadata": {},
   "outputs": [
    {
     "data": {
      "text/plain": [
       "[1, 5, 48, 52, 85, 'Avika']"
      ]
     },
     "execution_count": 54,
     "metadata": {},
     "output_type": "execute_result"
    }
   ],
   "source": [
    "add_list([1,5,48,52,85],\"Avika\")"
   ]
  },
  {
   "cell_type": "code",
   "execution_count": null,
   "id": "0f3fe7f8",
   "metadata": {},
   "outputs": [],
   "source": []
  },
  {
   "cell_type": "code",
   "execution_count": 58,
   "id": "7cd02628",
   "metadata": {},
   "outputs": [],
   "source": [
    "def print_num(num):\n",
    "    for i in range(1,num+1):\n",
    "        print(i)"
   ]
  },
  {
   "cell_type": "code",
   "execution_count": 59,
   "id": "0fddabde",
   "metadata": {
    "scrolled": true
   },
   "outputs": [
    {
     "name": "stdout",
     "output_type": "stream",
     "text": [
      "1\n",
      "2\n",
      "3\n",
      "4\n",
      "5\n"
     ]
    }
   ],
   "source": [
    "print_num(5)"
   ]
  },
  {
   "cell_type": "code",
   "execution_count": null,
   "id": "6d78b771",
   "metadata": {},
   "outputs": [],
   "source": []
  },
  {
   "cell_type": "code",
   "execution_count": 3,
   "id": "d91ef8d0",
   "metadata": {},
   "outputs": [],
   "source": [
    "l = [1,2,3,\"ABC\"]"
   ]
  },
  {
   "cell_type": "code",
   "execution_count": 4,
   "id": "8b017527",
   "metadata": {},
   "outputs": [],
   "source": [
    "l.append(\"adsfklajdf\")"
   ]
  },
  {
   "cell_type": "code",
   "execution_count": 5,
   "id": "20cb6e5c",
   "metadata": {},
   "outputs": [
    {
     "data": {
      "text/plain": [
       "[1, 2, 3, 'ABC', 'adsfklajdf']"
      ]
     },
     "execution_count": 5,
     "metadata": {},
     "output_type": "execute_result"
    }
   ],
   "source": [
    "l"
   ]
  },
  {
   "cell_type": "code",
   "execution_count": 6,
   "id": "63ac5fb3",
   "metadata": {},
   "outputs": [],
   "source": [
    "def append_value(list_value,append_value):\n",
    "    list_value.append(append_value)\n",
    "    return list_value"
   ]
  },
  {
   "cell_type": "code",
   "execution_count": 7,
   "id": "c599d964",
   "metadata": {},
   "outputs": [
    {
     "data": {
      "text/plain": [
       "[1, 2, 3, 'ABC', 'adsfklajdf', 'Nitin']"
      ]
     },
     "execution_count": 7,
     "metadata": {},
     "output_type": "execute_result"
    }
   ],
   "source": [
    "append_value(l,\"Nitin\")"
   ]
  },
  {
   "cell_type": "code",
   "execution_count": 8,
   "id": "7ac0bd52",
   "metadata": {},
   "outputs": [
    {
     "data": {
      "text/plain": [
       "[1, 2, 3, 'ABC', 'adsfklajdf', 'Nitin']"
      ]
     },
     "execution_count": 8,
     "metadata": {},
     "output_type": "execute_result"
    }
   ],
   "source": [
    "l"
   ]
  },
  {
   "cell_type": "code",
   "execution_count": null,
   "id": "db14fdf0",
   "metadata": {},
   "outputs": [],
   "source": []
  },
  {
   "cell_type": "code",
   "execution_count": 1,
   "id": "36f97078",
   "metadata": {},
   "outputs": [],
   "source": [
    "l = [1,2,58,7,85,5,95,1,7,85]"
   ]
  },
  {
   "cell_type": "code",
   "execution_count": 2,
   "id": "806741c1",
   "metadata": {},
   "outputs": [],
   "source": [
    "even = []\n",
    "odd = []\n",
    "for i in l:\n",
    "    if i % 2 == 0:\n",
    "        even.append(i)\n",
    "    else:\n",
    "        odd.append(i)"
   ]
  },
  {
   "cell_type": "code",
   "execution_count": 4,
   "id": "f4a1f4af",
   "metadata": {},
   "outputs": [
    {
     "name": "stdout",
     "output_type": "stream",
     "text": [
      "[2, 58]\n",
      "[1, 7, 85, 5, 95, 1, 7, 85]\n"
     ]
    }
   ],
   "source": [
    "print(even)\n",
    "print(odd)"
   ]
  },
  {
   "cell_type": "code",
   "execution_count": 6,
   "id": "69c1526d",
   "metadata": {},
   "outputs": [],
   "source": [
    "def filter_list(lst):\n",
    "    even = []\n",
    "    odd = []\n",
    "    for i in lst:\n",
    "        if i % 2 == 0:\n",
    "            even.append(i)\n",
    "        else:\n",
    "            odd.append(i)\n",
    "            \n",
    "    print(even)\n",
    "    print(odd)"
   ]
  },
  {
   "cell_type": "code",
   "execution_count": 8,
   "id": "1cff7ff4",
   "metadata": {},
   "outputs": [
    {
     "name": "stdout",
     "output_type": "stream",
     "text": [
      "[2, 58]\n",
      "[1, 7, 85, 5, 95, 1, 7, 85]\n"
     ]
    }
   ],
   "source": [
    "filter_list(l)"
   ]
  },
  {
   "cell_type": "code",
   "execution_count": 12,
   "id": "21facf2b",
   "metadata": {},
   "outputs": [],
   "source": [
    "l = [1,5,7,2,8,\"asdf\",6,9,4,78,\"as\",63,8,52,8]"
   ]
  },
  {
   "cell_type": "code",
   "execution_count": 15,
   "id": "d95bcd79",
   "metadata": {},
   "outputs": [
    {
     "data": {
      "text/plain": [
       "int"
      ]
     },
     "execution_count": 15,
     "metadata": {},
     "output_type": "execute_result"
    }
   ],
   "source": [
    "type(58)"
   ]
  },
  {
   "cell_type": "code",
   "execution_count": 24,
   "id": "d36995ce",
   "metadata": {},
   "outputs": [],
   "source": [
    "def filter_list(neeti):\n",
    "    even = []\n",
    "    odd = []\n",
    "    waste_list = []\n",
    "    for i in neeti:\n",
    "        if type(i) in [int,float]:\n",
    "            if i % 2 == 0:\n",
    "                even.append(i)\n",
    "            else:\n",
    "                odd.append(i)\n",
    "        else:\n",
    "            waste_list.append(i)\n",
    "            \n",
    "    print(even)\n",
    "    print(odd)\n",
    "    print(waste_list)"
   ]
  },
  {
   "cell_type": "code",
   "execution_count": 25,
   "id": "60c142e2",
   "metadata": {},
   "outputs": [
    {
     "name": "stdout",
     "output_type": "stream",
     "text": [
      "[2, 8, 6, 4, 78, 8, 52, 8]\n",
      "[1, 5, 7, 9, 63]\n",
      "['asdf', 'as']\n"
     ]
    }
   ],
   "source": [
    "filter_list(l)"
   ]
  },
  {
   "cell_type": "code",
   "execution_count": null,
   "id": "494f8d4c",
   "metadata": {},
   "outputs": [],
   "source": []
  },
  {
   "cell_type": "code",
   "execution_count": 26,
   "id": "73e87c16",
   "metadata": {},
   "outputs": [],
   "source": [
    "even_list = []\n",
    "odd_list = []\n",
    "for i in l:\n",
    "    if type(i) == str:\n",
    "        continue\n",
    "    if i % 2 == 0:\n",
    "        even_list.append(i)\n",
    "    else:\n",
    "        odd_list.append(i)"
   ]
  },
  {
   "cell_type": "code",
   "execution_count": 27,
   "id": "7b7f4b7a",
   "metadata": {},
   "outputs": [
    {
     "data": {
      "text/plain": [
       "[2, 8, 6, 4, 78, 8, 52, 8]"
      ]
     },
     "execution_count": 27,
     "metadata": {},
     "output_type": "execute_result"
    }
   ],
   "source": [
    "even_list"
   ]
  },
  {
   "cell_type": "code",
   "execution_count": 28,
   "id": "e4379b9b",
   "metadata": {},
   "outputs": [
    {
     "data": {
      "text/plain": [
       "[1, 5, 7, 9, 63]"
      ]
     },
     "execution_count": 28,
     "metadata": {},
     "output_type": "execute_result"
    }
   ],
   "source": [
    "odd_list"
   ]
  },
  {
   "cell_type": "code",
   "execution_count": null,
   "id": "99c54fd8",
   "metadata": {},
   "outputs": [],
   "source": []
  },
  {
   "cell_type": "code",
   "execution_count": null,
   "id": "fe8f8310",
   "metadata": {},
   "outputs": [],
   "source": []
  },
  {
   "cell_type": "code",
   "execution_count": 29,
   "id": "54fdaac9",
   "metadata": {},
   "outputs": [],
   "source": [
    "def filter_list(list_value):\n",
    "    odd_list = []\n",
    "    even_list = []\n",
    "    str_list = []\n",
    "    for i in list_value:\n",
    "        if type(i) == str:\n",
    "            str_list.append(i)\n",
    "        else:\n",
    "\n",
    "            if i % 2 == 0:\n",
    "                even_list.append(i)\n",
    "            else:\n",
    "                odd_list.append(i)\n",
    "                \n",
    "    print(odd_list)\n",
    "    print(even_list)\n",
    "    print(str_list)"
   ]
  },
  {
   "cell_type": "code",
   "execution_count": 30,
   "id": "6ad632ce",
   "metadata": {},
   "outputs": [
    {
     "name": "stdout",
     "output_type": "stream",
     "text": [
      "[1, 5, 7, 9, 63]\n",
      "[2, 8, 6, 4, 78, 8, 52, 8]\n",
      "['asdf', 'as']\n"
     ]
    }
   ],
   "source": [
    "filter_list(l)"
   ]
  },
  {
   "cell_type": "code",
   "execution_count": 31,
   "id": "2e21e34d",
   "metadata": {},
   "outputs": [
    {
     "data": {
      "text/plain": [
       "[1, 5, 7, 9, 63]"
      ]
     },
     "execution_count": 31,
     "metadata": {},
     "output_type": "execute_result"
    }
   ],
   "source": [
    "odd_list"
   ]
  },
  {
   "cell_type": "code",
   "execution_count": 32,
   "id": "5ee1a7d6",
   "metadata": {},
   "outputs": [
    {
     "data": {
      "text/plain": [
       "[2, 8, 6, 4, 78, 8, 52, 8]"
      ]
     },
     "execution_count": 32,
     "metadata": {},
     "output_type": "execute_result"
    }
   ],
   "source": [
    "even_list"
   ]
  },
  {
   "cell_type": "code",
   "execution_count": null,
   "id": "c2028bd5",
   "metadata": {},
   "outputs": [],
   "source": []
  },
  {
   "cell_type": "code",
   "execution_count": 34,
   "id": "5ed3e757",
   "metadata": {},
   "outputs": [],
   "source": [
    "n = \"Avika\""
   ]
  },
  {
   "cell_type": "code",
   "execution_count": 41,
   "id": "d27c5c6f",
   "metadata": {},
   "outputs": [
    {
     "name": "stdout",
     "output_type": "stream",
     "text": [
      "avika\n"
     ]
    }
   ],
   "source": [
    "count = 0\n",
    "print(n.lower())\n",
    "for i in n.lower():\n",
    "    if i == \"a\":\n",
    "        count += 1"
   ]
  },
  {
   "cell_type": "code",
   "execution_count": 42,
   "id": "d5110f3f",
   "metadata": {},
   "outputs": [
    {
     "data": {
      "text/plain": [
       "2"
      ]
     },
     "execution_count": 42,
     "metadata": {},
     "output_type": "execute_result"
    }
   ],
   "source": [
    "count"
   ]
  },
  {
   "cell_type": "code",
   "execution_count": null,
   "id": "4e534244",
   "metadata": {},
   "outputs": [],
   "source": []
  },
  {
   "cell_type": "code",
   "execution_count": 3,
   "id": "4b0a2f82",
   "metadata": {},
   "outputs": [],
   "source": [
    "a = \"abcasdbsacaa\""
   ]
  },
  {
   "cell_type": "code",
   "execution_count": 4,
   "id": "37c61e8b",
   "metadata": {},
   "outputs": [
    {
     "data": {
      "text/plain": [
       "5"
      ]
     },
     "execution_count": 4,
     "metadata": {},
     "output_type": "execute_result"
    }
   ],
   "source": [
    "a.count(\"a\")"
   ]
  },
  {
   "cell_type": "code",
   "execution_count": 9,
   "id": "277d58f2",
   "metadata": {},
   "outputs": [],
   "source": [
    "def count_char(str_value,find_char,case_sensitive = False):\n",
    "    count = 0\n",
    "    if case_sensitive:\n",
    "        for i in str_value:\n",
    "            if i == find_char:\n",
    "                count += 1\n",
    "    else:\n",
    "        for i in str_value.lower():\n",
    "            if i == find_char.lower():\n",
    "                count += 1\n",
    "            \n",
    "    return count"
   ]
  },
  {
   "cell_type": "code",
   "execution_count": 11,
   "id": "0a549c26",
   "metadata": {},
   "outputs": [
    {
     "data": {
      "text/plain": [
       "0"
      ]
     },
     "execution_count": 11,
     "metadata": {},
     "output_type": "execute_result"
    }
   ],
   "source": [
    "count_char(\"pppython\",\"P\",case_sensitive = True)"
   ]
  },
  {
   "cell_type": "code",
   "execution_count": 2,
   "id": "5a8d43b7",
   "metadata": {},
   "outputs": [
    {
     "data": {
      "text/plain": [
       "2"
      ]
     },
     "execution_count": 2,
     "metadata": {},
     "output_type": "execute_result"
    }
   ],
   "source": [
    "count_specific_char(\"Nitin\",\"n\",case_sensitive=False)"
   ]
  },
  {
   "cell_type": "code",
   "execution_count": 13,
   "id": "28a4efde",
   "metadata": {},
   "outputs": [],
   "source": [
    "def count_specific_char2(str_value,count_char,case_sensitive = True):\n",
    "    \n",
    "    \"\"\"\n",
    "    str_value : str_value must be an string.\n",
    "    \n",
    "    count_char : Find out Value only\n",
    "    \n",
    "    case_sensitive : case_sensitive default value is `True`. If you want count all letters \n",
    "    then make case_sensitive `False`.\n",
    "    \"\"\"\n",
    "    if type(str_value) != str:\n",
    "        return 0\n",
    "    \n",
    "    count = 0\n",
    "    if case_sensitive:\n",
    "        str_value = str_value\n",
    "    else:\n",
    "        str_value = str_value.lower()\n",
    "        count_char = count_char.lower()\n",
    "    for i in str_value:\n",
    "        if i == count_char:\n",
    "            count += 1\n",
    "    \n",
    "    return count"
   ]
  },
  {
   "cell_type": "code",
   "execution_count": 14,
   "id": "7e73d306",
   "metadata": {},
   "outputs": [
    {
     "data": {
      "text/plain": [
       "2"
      ]
     },
     "execution_count": 14,
     "metadata": {},
     "output_type": "execute_result"
    }
   ],
   "source": [
    "count_specific_char2(\"NeEti\",\"e\",case_sensitive=False)"
   ]
  },
  {
   "cell_type": "code",
   "execution_count": 15,
   "id": "a25abbc2",
   "metadata": {},
   "outputs": [
    {
     "data": {
      "text/plain": [
       "0"
      ]
     },
     "execution_count": 15,
     "metadata": {},
     "output_type": "execute_result"
    }
   ],
   "source": [
    "count_specific_char2(8754,\"N\",case_sensitive=True)"
   ]
  },
  {
   "cell_type": "code",
   "execution_count": 16,
   "id": "800c9823",
   "metadata": {},
   "outputs": [],
   "source": [
    "a = \"python\""
   ]
  },
  {
   "cell_type": "code",
   "execution_count": 18,
   "id": "0e360e36",
   "metadata": {},
   "outputs": [
    {
     "ename": "TypeError",
     "evalue": "must be str, not float",
     "output_type": "error",
     "traceback": [
      "\u001b[1;31m---------------------------------------------------------------------------\u001b[0m",
      "\u001b[1;31mTypeError\u001b[0m                                 Traceback (most recent call last)",
      "\u001b[1;32m~\\AppData\\Local\\Temp\\ipykernel_4896\\1968434240.py\u001b[0m in \u001b[0;36m<module>\u001b[1;34m\u001b[0m\n\u001b[1;32m----> 1\u001b[1;33m \u001b[0ma\u001b[0m\u001b[1;33m.\u001b[0m\u001b[0mcount\u001b[0m\u001b[1;33m(\u001b[0m\u001b[1;36m1.25\u001b[0m\u001b[1;33m)\u001b[0m\u001b[1;33m\u001b[0m\u001b[1;33m\u001b[0m\u001b[0m\n\u001b[0m",
      "\u001b[1;31mTypeError\u001b[0m: must be str, not float"
     ]
    }
   ],
   "source": [
    "a.count(1.25)"
   ]
  },
  {
   "cell_type": "raw",
   "id": "3349c7d1",
   "metadata": {},
   "source": [
    "TypeError\n",
    "ValueError\n",
    "KeyError\n",
    "NameError\n",
    "ZeroDivisionError\n",
    "SyntaxError\n",
    "IndentationError"
   ]
  },
  {
   "cell_type": "code",
   "execution_count": 116,
   "id": "c6384f7e",
   "metadata": {},
   "outputs": [],
   "source": [
    "def count_specific_char3(str_value,count_char,case_sensitive = True):\n",
    "    \n",
    "    \"\"\"\n",
    "    str_value : str_value must be an string.\n",
    "    \n",
    "    count_char : Find out Value only\n",
    "    \n",
    "    case_sensitive : case_sensitive default value is `True`. If you want count all letters \n",
    "    then make case_sensitive `False`.\n",
    "    \"\"\"\n",
    "    if type(str_value) != str:\n",
    "        raise TypeError(f\"{str_value} is not {str}\")\n",
    "    \n",
    "    count = 0\n",
    "    if case_sensitive:\n",
    "        str_value = str_value\n",
    "    else:\n",
    "        str_value = str_value.lower()\n",
    "        count_char = count_char.lower()\n",
    "    for i in str_value:\n",
    "        if i == count_char:\n",
    "            count += 1\n",
    "    \n",
    "    return count"
   ]
  },
  {
   "cell_type": "code",
   "execution_count": 117,
   "id": "8606da37",
   "metadata": {},
   "outputs": [
    {
     "ename": "TypeError",
     "evalue": "8754 is not <class 'str'>",
     "output_type": "error",
     "traceback": [
      "\u001b[1;31m---------------------------------------------------------------------------\u001b[0m",
      "\u001b[1;31mTypeError\u001b[0m                                 Traceback (most recent call last)",
      "\u001b[1;32m~\\AppData\\Local\\Temp\\ipykernel_20224\\4047509103.py\u001b[0m in \u001b[0;36m<module>\u001b[1;34m\u001b[0m\n\u001b[1;32m----> 1\u001b[1;33m \u001b[0mcount_specific_char3\u001b[0m\u001b[1;33m(\u001b[0m\u001b[1;36m8754\u001b[0m\u001b[1;33m,\u001b[0m\u001b[1;34m\"N\"\u001b[0m\u001b[1;33m,\u001b[0m\u001b[0mcase_sensitive\u001b[0m\u001b[1;33m=\u001b[0m\u001b[1;32mTrue\u001b[0m\u001b[1;33m)\u001b[0m\u001b[1;33m\u001b[0m\u001b[1;33m\u001b[0m\u001b[0m\n\u001b[0m",
      "\u001b[1;32m~\\AppData\\Local\\Temp\\ipykernel_20224\\395271544.py\u001b[0m in \u001b[0;36mcount_specific_char3\u001b[1;34m(str_value, count_char, case_sensitive)\u001b[0m\n\u001b[0;32m     10\u001b[0m     \"\"\"\n\u001b[0;32m     11\u001b[0m     \u001b[1;32mif\u001b[0m \u001b[0mtype\u001b[0m\u001b[1;33m(\u001b[0m\u001b[0mstr_value\u001b[0m\u001b[1;33m)\u001b[0m \u001b[1;33m!=\u001b[0m \u001b[0mstr\u001b[0m\u001b[1;33m:\u001b[0m\u001b[1;33m\u001b[0m\u001b[1;33m\u001b[0m\u001b[0m\n\u001b[1;32m---> 12\u001b[1;33m         \u001b[1;32mraise\u001b[0m \u001b[0mTypeError\u001b[0m\u001b[1;33m(\u001b[0m\u001b[1;34mf\"{str_value} is not {str}\"\u001b[0m\u001b[1;33m)\u001b[0m\u001b[1;33m\u001b[0m\u001b[1;33m\u001b[0m\u001b[0m\n\u001b[0m\u001b[0;32m     13\u001b[0m \u001b[1;33m\u001b[0m\u001b[0m\n\u001b[0;32m     14\u001b[0m     \u001b[0mcount\u001b[0m \u001b[1;33m=\u001b[0m \u001b[1;36m0\u001b[0m\u001b[1;33m\u001b[0m\u001b[1;33m\u001b[0m\u001b[0m\n",
      "\u001b[1;31mTypeError\u001b[0m: 8754 is not <class 'str'>"
     ]
    }
   ],
   "source": [
    "count_specific_char3(8754,\"N\",case_sensitive=True)"
   ]
  },
  {
   "cell_type": "code",
   "execution_count": null,
   "id": "c7d31c7f",
   "metadata": {},
   "outputs": [],
   "source": []
  },
  {
   "cell_type": "code",
   "execution_count": 42,
   "id": "d07c9e83",
   "metadata": {},
   "outputs": [
    {
     "name": "stdout",
     "output_type": "stream",
     "text": [
      "2\n"
     ]
    }
   ],
   "source": [
    "count = 0\n",
    "for i in n:\n",
    "    if i == \"n\":\n",
    "        count += 1\n",
    "print(count)"
   ]
  },
  {
   "cell_type": "code",
   "execution_count": 49,
   "id": "51b0b7eb",
   "metadata": {},
   "outputs": [],
   "source": [
    "def count_value(str_value,find_value):\n",
    "    count = 0\n",
    "    for i in str_value:\n",
    "        if i == find_value:\n",
    "            count += 1\n",
    "    return count"
   ]
  },
  {
   "cell_type": "code",
   "execution_count": 50,
   "id": "abe3a485",
   "metadata": {},
   "outputs": [
    {
     "data": {
      "text/plain": [
       "2"
      ]
     },
     "execution_count": 50,
     "metadata": {},
     "output_type": "execute_result"
    }
   ],
   "source": [
    "count_value(\"Akriti\",\"i\")"
   ]
  },
  {
   "cell_type": "code",
   "execution_count": null,
   "id": "d49b64b9",
   "metadata": {},
   "outputs": [],
   "source": []
  },
  {
   "cell_type": "code",
   "execution_count": 25,
   "id": "6808ff95",
   "metadata": {},
   "outputs": [],
   "source": [
    "def find_char_count(str_value,find_char):\n",
    "    count = 0\n",
    "    if str_value == \"\":\n",
    "        count = 0\n",
    "    else:\n",
    "        for i in str_value:\n",
    "            if i == find_char:\n",
    "                count += 1\n",
    "            \n",
    "    return count"
   ]
  },
  {
   "cell_type": "code",
   "execution_count": null,
   "id": "c31b35ca",
   "metadata": {},
   "outputs": [],
   "source": []
  },
  {
   "cell_type": "code",
   "execution_count": null,
   "id": "c4055e47",
   "metadata": {},
   "outputs": [],
   "source": []
  },
  {
   "cell_type": "code",
   "execution_count": 22,
   "id": "3eaa1ac4",
   "metadata": {},
   "outputs": [],
   "source": [
    "x = \"this is my python clAss\""
   ]
  },
  {
   "cell_type": "code",
   "execution_count": 32,
   "id": "fade4f71",
   "metadata": {},
   "outputs": [
    {
     "name": "stdout",
     "output_type": "stream",
     "text": [
      "4\n"
     ]
    }
   ],
   "source": [
    "v = \"aeiou\"\n",
    "count = 0\n",
    "for i in x.lower():\n",
    "    if i in v:\n",
    "        count += 1\n",
    "        \n",
    "print(count)"
   ]
  },
  {
   "cell_type": "code",
   "execution_count": 28,
   "id": "11083000",
   "metadata": {},
   "outputs": [],
   "source": [
    "def find_number_of_vowels(str_value):\n",
    "    count = 0\n",
    "    vowels = \"aeiou\"\n",
    "    for i in str_value:\n",
    "        if i.lower() in vowels:\n",
    "            count += 1\n",
    "    return count"
   ]
  },
  {
   "cell_type": "code",
   "execution_count": 29,
   "id": "4daeec27",
   "metadata": {},
   "outputs": [
    {
     "data": {
      "text/plain": [
       "3"
      ]
     },
     "execution_count": 29,
     "metadata": {},
     "output_type": "execute_result"
    }
   ],
   "source": [
    "find_number_of_vowels(\"Gaurav\")"
   ]
  },
  {
   "cell_type": "code",
   "execution_count": 30,
   "id": "1145ede1",
   "metadata": {},
   "outputs": [
    {
     "data": {
      "text/plain": [
       "2"
      ]
     },
     "execution_count": 30,
     "metadata": {},
     "output_type": "execute_result"
    }
   ],
   "source": [
    "find_number_of_vowels(\"Mukta\")"
   ]
  },
  {
   "cell_type": "code",
   "execution_count": 31,
   "id": "d4bf1264",
   "metadata": {},
   "outputs": [
    {
     "data": {
      "text/plain": [
       "2"
      ]
     },
     "execution_count": 31,
     "metadata": {},
     "output_type": "execute_result"
    }
   ],
   "source": [
    "find_number_of_vowels(\"Aman\")"
   ]
  },
  {
   "cell_type": "code",
   "execution_count": 33,
   "id": "1571fb53-e561-4e56-9ad4-3d43d64210e7",
   "metadata": {},
   "outputs": [
    {
     "name": "stdout",
     "output_type": "stream",
     "text": [
      "1\n",
      "4\n",
      "7\n"
     ]
    }
   ],
   "source": [
    "for i in range(1,9,3) :\n",
    "    print(i)"
   ]
  },
  {
   "cell_type": "code",
   "execution_count": 34,
   "id": "0f9c9807",
   "metadata": {},
   "outputs": [
    {
     "data": {
      "text/plain": [
       "[0, 1, 2, 3, 4, 5, 6, 7, 8, 9]"
      ]
     },
     "execution_count": 34,
     "metadata": {},
     "output_type": "execute_result"
    }
   ],
   "source": [
    "list(range(10))"
   ]
  },
  {
   "cell_type": "code",
   "execution_count": 35,
   "id": "53b63452",
   "metadata": {},
   "outputs": [
    {
     "data": {
      "text/plain": [
       "range(0, 10)"
      ]
     },
     "execution_count": 35,
     "metadata": {},
     "output_type": "execute_result"
    }
   ],
   "source": [
    "range(10)"
   ]
  },
  {
   "cell_type": "code",
   "execution_count": 50,
   "id": "16221f70",
   "metadata": {},
   "outputs": [],
   "source": [
    "x = iter(range(10))"
   ]
  },
  {
   "cell_type": "code",
   "execution_count": 58,
   "id": "2cc0cacb",
   "metadata": {},
   "outputs": [
    {
     "data": {
      "text/plain": [
       "7"
      ]
     },
     "execution_count": 58,
     "metadata": {},
     "output_type": "execute_result"
    }
   ],
   "source": [
    "next(x)"
   ]
  },
  {
   "cell_type": "code",
   "execution_count": 60,
   "id": "517bfbf5",
   "metadata": {},
   "outputs": [],
   "source": [
    "l = [8,6,7,2,8]"
   ]
  },
  {
   "cell_type": "code",
   "execution_count": 61,
   "id": "99c00e28",
   "metadata": {},
   "outputs": [],
   "source": [
    "l = iter(l)"
   ]
  },
  {
   "cell_type": "code",
   "execution_count": 67,
   "id": "a19e558b",
   "metadata": {},
   "outputs": [
    {
     "data": {
      "text/plain": [
       "8"
      ]
     },
     "execution_count": 67,
     "metadata": {},
     "output_type": "execute_result"
    }
   ],
   "source": [
    "next(l)"
   ]
  },
  {
   "cell_type": "code",
   "execution_count": 75,
   "id": "565553e8",
   "metadata": {},
   "outputs": [],
   "source": [
    "l = (0, 1, 2, 3, 4, 5, 6, 7, 8, 9)"
   ]
  },
  {
   "cell_type": "code",
   "execution_count": 76,
   "id": "02262785",
   "metadata": {},
   "outputs": [],
   "source": [
    "l = iter(l)"
   ]
  },
  {
   "cell_type": "code",
   "execution_count": 87,
   "id": "3b407cc2",
   "metadata": {},
   "outputs": [
    {
     "ename": "StopIteration",
     "evalue": "",
     "output_type": "error",
     "traceback": [
      "\u001b[1;31m---------------------------------------------------------------------------\u001b[0m",
      "\u001b[1;31mStopIteration\u001b[0m                             Traceback (most recent call last)",
      "\u001b[1;32m~\\AppData\\Local\\Temp\\ipykernel_4896\\2016234150.py\u001b[0m in \u001b[0;36m<module>\u001b[1;34m\u001b[0m\n\u001b[1;32m----> 1\u001b[1;33m \u001b[0mnext\u001b[0m\u001b[1;33m(\u001b[0m\u001b[0ml\u001b[0m\u001b[1;33m)\u001b[0m\u001b[1;33m\u001b[0m\u001b[1;33m\u001b[0m\u001b[0m\n\u001b[0m",
      "\u001b[1;31mStopIteration\u001b[0m: "
     ]
    }
   ],
   "source": [
    "next(l)"
   ]
  },
  {
   "cell_type": "code",
   "execution_count": 94,
   "id": "33fd1a76-13bd-40ee-8db2-a86f00552625",
   "metadata": {},
   "outputs": [
    {
     "name": "stdout",
     "output_type": "stream",
     "text": [
      "H\n",
      "i\n",
      "m\n",
      "a\n",
      "n\n",
      "s\n",
      "h\n",
      "u\n"
     ]
    }
   ],
   "source": [
    "name = 'Himanshu'\n",
    "count = 0\n",
    "iterator_name = iter(name)\n",
    "l = []\n",
    "while count < len('himanshu'):\n",
    "    count += 1 \n",
    "#     l.append(next(iterator_name))\n",
    "    print(next(iterator_name))"
   ]
  },
  {
   "cell_type": "code",
   "execution_count": 98,
   "id": "7aee54a6",
   "metadata": {},
   "outputs": [],
   "source": [
    "def local_range(end_point):\n",
    "    \n",
    "    \"\"\"    \n",
    "    this is my local_range function just like python range function\n",
    "    \"\"\"\n",
    "    \n",
    "    \n",
    "    count = 0\n",
    "    l = []\n",
    "    while count <= end_point:\n",
    "        l.append(count)\n",
    "        count += 1\n",
    "        \n",
    "    return l"
   ]
  },
  {
   "cell_type": "code",
   "execution_count": 99,
   "id": "308c1ff0",
   "metadata": {},
   "outputs": [
    {
     "data": {
      "text/plain": [
       "[0, 1, 2, 3, 4, 5, 6, 7, 8, 9, 10]"
      ]
     },
     "execution_count": 99,
     "metadata": {},
     "output_type": "execute_result"
    }
   ],
   "source": [
    "local_range(10)"
   ]
  },
  {
   "cell_type": "code",
   "execution_count": 100,
   "id": "b7c9d37b",
   "metadata": {},
   "outputs": [],
   "source": [
    "def updated_local_range(start=0,stop=0,step=1):\n",
    "    \n",
    "    \"\"\"\n",
    "    updated_local_range(stop) -> range object\n",
    "    updated_local_range(start, stop[, step]) -> range object\n",
    "\n",
    "    Return an object that produces a sequence of integers from start (inclusive)\n",
    "    to stop (exclusive) by step.  updated_local_range(i, j) produces i, i+1, i+2, ..., j-1.\n",
    "    start defaults to 0, and stop is omitted!  updated_local_range(4) produces 0, 1, 2, 3.\n",
    "    These are exactly the valid indices for a list of 4 elements.\n",
    "    When step is given, it specifies the increment (or decrement).\n",
    "    \"\"\"\n",
    "    \n",
    "    count = start\n",
    "    l = []\n",
    "    \n",
    "    if step < 0:\n",
    "        while count > stop:\n",
    "            l.append(count)\n",
    "            count += step\n",
    "    else:\n",
    "        while count < stop:\n",
    "            l.append(count)\n",
    "            count += step\n",
    "        \n",
    "    return l"
   ]
  },
  {
   "cell_type": "code",
   "execution_count": 101,
   "id": "675ecca8",
   "metadata": {
    "scrolled": true
   },
   "outputs": [
    {
     "data": {
      "text/plain": [
       "[1000, 900, 800, 700, 600, 500, 400, 300, 200, 100]"
      ]
     },
     "execution_count": 101,
     "metadata": {},
     "output_type": "execute_result"
    }
   ],
   "source": [
    "updated_local_range(1000,99,-100)"
   ]
  },
  {
   "cell_type": "code",
   "execution_count": 102,
   "id": "a53cf07d",
   "metadata": {},
   "outputs": [
    {
     "data": {
      "text/plain": [
       "[0, 1, 2, 3, 4]"
      ]
     },
     "execution_count": 102,
     "metadata": {},
     "output_type": "execute_result"
    }
   ],
   "source": [
    "updated_local_range(stop = 5)"
   ]
  },
  {
   "cell_type": "code",
   "execution_count": 103,
   "id": "ff357b2f",
   "metadata": {},
   "outputs": [
    {
     "data": {
      "text/plain": [
       "range(0, 5)"
      ]
     },
     "execution_count": 103,
     "metadata": {},
     "output_type": "execute_result"
    }
   ],
   "source": [
    "range(5)"
   ]
  },
  {
   "cell_type": "code",
   "execution_count": 104,
   "id": "8bedd475",
   "metadata": {},
   "outputs": [],
   "source": [
    "def print_new(value):\n",
    "    if type(value) == str:\n",
    "        print(value)\n",
    "    else:\n",
    "        raise ValueError(f\"Ye {value} glt ha\")"
   ]
  },
  {
   "cell_type": "code",
   "execution_count": 106,
   "id": "59f4fe96",
   "metadata": {},
   "outputs": [
    {
     "ename": "ValueError",
     "evalue": "Ye 421 glt ha",
     "output_type": "error",
     "traceback": [
      "\u001b[1;31m---------------------------------------------------------------------------\u001b[0m",
      "\u001b[1;31mValueError\u001b[0m                                Traceback (most recent call last)",
      "\u001b[1;32m~\\AppData\\Local\\Temp\\ipykernel_4896\\1117687670.py\u001b[0m in \u001b[0;36m<module>\u001b[1;34m\u001b[0m\n\u001b[1;32m----> 1\u001b[1;33m \u001b[0mprint_new\u001b[0m\u001b[1;33m(\u001b[0m\u001b[1;36m421\u001b[0m\u001b[1;33m)\u001b[0m\u001b[1;33m\u001b[0m\u001b[1;33m\u001b[0m\u001b[0m\n\u001b[0m",
      "\u001b[1;32m~\\AppData\\Local\\Temp\\ipykernel_4896\\3081537544.py\u001b[0m in \u001b[0;36mprint_new\u001b[1;34m(value)\u001b[0m\n\u001b[0;32m      3\u001b[0m         \u001b[0mprint\u001b[0m\u001b[1;33m(\u001b[0m\u001b[0mvalue\u001b[0m\u001b[1;33m)\u001b[0m\u001b[1;33m\u001b[0m\u001b[1;33m\u001b[0m\u001b[0m\n\u001b[0;32m      4\u001b[0m     \u001b[1;32melse\u001b[0m\u001b[1;33m:\u001b[0m\u001b[1;33m\u001b[0m\u001b[1;33m\u001b[0m\u001b[0m\n\u001b[1;32m----> 5\u001b[1;33m         \u001b[1;32mraise\u001b[0m \u001b[0mValueError\u001b[0m\u001b[1;33m(\u001b[0m\u001b[1;34mf\"Ye {value} glt ha\"\u001b[0m\u001b[1;33m)\u001b[0m\u001b[1;33m\u001b[0m\u001b[1;33m\u001b[0m\u001b[0m\n\u001b[0m",
      "\u001b[1;31mValueError\u001b[0m: Ye 421 glt ha"
     ]
    }
   ],
   "source": [
    "print_new(421)"
   ]
  },
  {
   "cell_type": "markdown",
   "id": "1fd22dcb",
   "metadata": {},
   "source": [
    "###### What Is Yield In Python? The Yield keyword in Python is similar to a return statement used for returning values or objects in Python."
   ]
  },
  {
   "cell_type": "code",
   "execution_count": 4,
   "id": "d85a2f5a",
   "metadata": {},
   "outputs": [],
   "source": [
    "def even(value):\n",
    "    for i in value:\n",
    "        if i % 2 == 0:\n",
    "            yield i"
   ]
  },
  {
   "cell_type": "code",
   "execution_count": 7,
   "id": "98b67482",
   "metadata": {},
   "outputs": [
    {
     "data": {
      "text/plain": [
       "[0, 2, 4, 6, 8]"
      ]
     },
     "execution_count": 7,
     "metadata": {},
     "output_type": "execute_result"
    }
   ],
   "source": [
    "list(even(range(10)))"
   ]
  },
  {
   "cell_type": "code",
   "execution_count": 8,
   "id": "e2df8fdb",
   "metadata": {},
   "outputs": [],
   "source": [
    "def fun(range_number):\n",
    "    \n",
    "    for i in range(range_number):\n",
    "        yield i"
   ]
  },
  {
   "cell_type": "code",
   "execution_count": 10,
   "id": "98636615",
   "metadata": {},
   "outputs": [
    {
     "data": {
      "text/plain": [
       "(0, 1, 2, 3, 4, 5, 6, 7, 8, 9)"
      ]
     },
     "execution_count": 10,
     "metadata": {},
     "output_type": "execute_result"
    }
   ],
   "source": [
    "tuple(fun(10))"
   ]
  },
  {
   "cell_type": "code",
   "execution_count": null,
   "id": "403e3be5",
   "metadata": {},
   "outputs": [],
   "source": []
  },
  {
   "cell_type": "code",
   "execution_count": 11,
   "id": "cf0ed14c",
   "metadata": {},
   "outputs": [],
   "source": [
    "def func1(range_number):\n",
    "    \n",
    "    for i in range(range_number):\n",
    "        yield i"
   ]
  },
  {
   "cell_type": "code",
   "execution_count": 12,
   "id": "61d1f840",
   "metadata": {},
   "outputs": [
    {
     "name": "stdout",
     "output_type": "stream",
     "text": [
      "0\n",
      "1\n",
      "2\n",
      "3\n",
      "4\n",
      "5\n",
      "6\n",
      "7\n",
      "8\n",
      "9\n"
     ]
    }
   ],
   "source": [
    "for i in func1(10):\n",
    "    print(i)"
   ]
  },
  {
   "cell_type": "code",
   "execution_count": null,
   "id": "8ba3b2b8",
   "metadata": {},
   "outputs": [],
   "source": []
  },
  {
   "cell_type": "code",
   "execution_count": 14,
   "id": "dcc81b22",
   "metadata": {},
   "outputs": [],
   "source": [
    "def simple_range(n):\n",
    "    temp = 0\n",
    "    \n",
    "    while temp < n:\n",
    "        yield temp\n",
    "        temp += 1\n"
   ]
  },
  {
   "cell_type": "code",
   "execution_count": 16,
   "id": "f78a3398",
   "metadata": {},
   "outputs": [
    {
     "data": {
      "text/plain": [
       "{0, 1, 2, 3, 4, 5, 6, 7, 8, 9, 10, 11, 12, 13, 14, 15, 16, 17, 18, 19}"
      ]
     },
     "execution_count": 16,
     "metadata": {},
     "output_type": "execute_result"
    }
   ],
   "source": [
    "set(simple_range(20))"
   ]
  },
  {
   "cell_type": "code",
   "execution_count": 17,
   "id": "b0e4c574",
   "metadata": {},
   "outputs": [
    {
     "data": {
      "text/plain": [
       "[0, 1, 2, 3, 4, 5, 6, 7, 8, 9]"
      ]
     },
     "execution_count": 17,
     "metadata": {},
     "output_type": "execute_result"
    }
   ],
   "source": [
    "list(simple_range(10))"
   ]
  },
  {
   "cell_type": "code",
   "execution_count": null,
   "id": "15c5ed00",
   "metadata": {},
   "outputs": [],
   "source": []
  },
  {
   "cell_type": "code",
   "execution_count": 18,
   "id": "cab2effe",
   "metadata": {},
   "outputs": [
    {
     "data": {
      "text/plain": [
       "[0, 1, 2, 3, 4]"
      ]
     },
     "execution_count": 18,
     "metadata": {},
     "output_type": "execute_result"
    }
   ],
   "source": [
    "list(simple_range(5))"
   ]
  },
  {
   "cell_type": "code",
   "execution_count": null,
   "id": "4c48f7db",
   "metadata": {},
   "outputs": [],
   "source": []
  },
  {
   "cell_type": "code",
   "execution_count": 19,
   "id": "2886b83d",
   "metadata": {},
   "outputs": [],
   "source": [
    "def new_range(start = 0,end= 5,jump = 1):\n",
    "    count = start\n",
    "    if jump > 0:\n",
    "        while count < end:\n",
    "            yield count\n",
    "            count += jump\n",
    "    else:\n",
    "        while count > end:\n",
    "            yield count\n",
    "            count += jump"
   ]
  },
  {
   "cell_type": "code",
   "execution_count": 20,
   "id": "8fa28671",
   "metadata": {},
   "outputs": [
    {
     "data": {
      "text/plain": [
       "[100, 80, 60, 40, 20]"
      ]
     },
     "execution_count": 20,
     "metadata": {},
     "output_type": "execute_result"
    }
   ],
   "source": [
    "list(new_range(100,10,-20))"
   ]
  },
  {
   "cell_type": "code",
   "execution_count": 21,
   "id": "e5bbbd39",
   "metadata": {},
   "outputs": [],
   "source": [
    "def for_loop(string):\n",
    "    i_value = iter(string)\n",
    "    i = 0\n",
    "    while i < len(string):\n",
    "        i += 1\n",
    "        temp = next(i_value)\n",
    "        print(temp)"
   ]
  },
  {
   "cell_type": "code",
   "execution_count": 22,
   "id": "b4a3ac55",
   "metadata": {
    "scrolled": true
   },
   "outputs": [
    {
     "name": "stdout",
     "output_type": "stream",
     "text": [
      "n\n",
      "i\n",
      "k\n",
      "h\n",
      "i\n",
      "l\n"
     ]
    }
   ],
   "source": [
    "for_loop('nikhil')"
   ]
  },
  {
   "cell_type": "code",
   "execution_count": null,
   "id": "5bc60434",
   "metadata": {},
   "outputs": [],
   "source": []
  }
 ],
 "metadata": {
  "kernelspec": {
   "display_name": "Python 3 (ipykernel)",
   "language": "python",
   "name": "python3"
  },
  "language_info": {
   "codemirror_mode": {
    "name": "ipython",
    "version": 3
   },
   "file_extension": ".py",
   "mimetype": "text/x-python",
   "name": "python",
   "nbconvert_exporter": "python",
   "pygments_lexer": "ipython3",
   "version": "3.9.13"
  }
 },
 "nbformat": 4,
 "nbformat_minor": 5
}
