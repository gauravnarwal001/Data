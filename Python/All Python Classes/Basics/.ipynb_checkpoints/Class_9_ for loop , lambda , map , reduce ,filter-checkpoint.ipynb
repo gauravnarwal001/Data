{
 "cells": [
  {
   "cell_type": "raw",
   "id": "a31f3d77",
   "metadata": {},
   "source": [
    "type()\n",
    "print()\n",
    "len()\n",
    "range()"
   ]
  },
  {
   "cell_type": "code",
   "execution_count": null,
   "id": "9b55389b",
   "metadata": {},
   "outputs": [],
   "source": []
  },
  {
   "cell_type": "code",
   "execution_count": 1,
   "id": "8733e347",
   "metadata": {},
   "outputs": [],
   "source": [
    "a = 123                 # Global Variable"
   ]
  },
  {
   "cell_type": "code",
   "execution_count": 2,
   "id": "479c5d32",
   "metadata": {},
   "outputs": [],
   "source": [
    "def abc():\n",
    "    return a"
   ]
  },
  {
   "cell_type": "code",
   "execution_count": 3,
   "id": "5141c434",
   "metadata": {},
   "outputs": [
    {
     "data": {
      "text/plain": [
       "123"
      ]
     },
     "execution_count": 3,
     "metadata": {},
     "output_type": "execute_result"
    }
   ],
   "source": [
    "abc()"
   ]
  },
  {
   "cell_type": "code",
   "execution_count": 7,
   "id": "3b107c2b",
   "metadata": {},
   "outputs": [],
   "source": [
    "def a():\n",
    "    b = 123\n",
    "    print(b)"
   ]
  },
  {
   "cell_type": "code",
   "execution_count": 5,
   "id": "e11ad8a4",
   "metadata": {},
   "outputs": [
    {
     "name": "stdout",
     "output_type": "stream",
     "text": [
      "123\n"
     ]
    }
   ],
   "source": [
    "a()"
   ]
  },
  {
   "cell_type": "code",
   "execution_count": 6,
   "id": "f51f61b2",
   "metadata": {},
   "outputs": [
    {
     "ename": "NameError",
     "evalue": "name 'b' is not defined",
     "output_type": "error",
     "traceback": [
      "\u001b[1;31m---------------------------------------------------------------------------\u001b[0m",
      "\u001b[1;31mNameError\u001b[0m                                 Traceback (most recent call last)",
      "\u001b[1;32m~\\AppData\\Local\\Temp\\ipykernel_17124\\1685013873.py\u001b[0m in \u001b[0;36m<module>\u001b[1;34m\u001b[0m\n\u001b[1;32m----> 1\u001b[1;33m \u001b[0mb\u001b[0m\u001b[1;33m\u001b[0m\u001b[1;33m\u001b[0m\u001b[0m\n\u001b[0m",
      "\u001b[1;31mNameError\u001b[0m: name 'b' is not defined"
     ]
    }
   ],
   "source": [
    "b"
   ]
  },
  {
   "cell_type": "code",
   "execution_count": 18,
   "id": "db524578",
   "metadata": {},
   "outputs": [],
   "source": [
    "def temp():\n",
    "    global x\n",
    "    x = 123\n",
    "    return x"
   ]
  },
  {
   "cell_type": "code",
   "execution_count": 20,
   "id": "d9ffe3dd",
   "metadata": {},
   "outputs": [
    {
     "data": {
      "text/plain": [
       "123"
      ]
     },
     "execution_count": 20,
     "metadata": {},
     "output_type": "execute_result"
    }
   ],
   "source": [
    "temp()"
   ]
  },
  {
   "cell_type": "code",
   "execution_count": 21,
   "id": "3c016c60",
   "metadata": {},
   "outputs": [
    {
     "data": {
      "text/plain": [
       "123"
      ]
     },
     "execution_count": 21,
     "metadata": {},
     "output_type": "execute_result"
    }
   ],
   "source": [
    "x"
   ]
  },
  {
   "cell_type": "code",
   "execution_count": null,
   "id": "f9368405",
   "metadata": {},
   "outputs": [],
   "source": []
  },
  {
   "cell_type": "markdown",
   "id": "ffad4621",
   "metadata": {},
   "source": [
    "# Functions"
   ]
  },
  {
   "cell_type": "code",
   "execution_count": 22,
   "id": "0502a537-6f39-49e9-950d-008efcbcebc0",
   "metadata": {},
   "outputs": [],
   "source": [
    "def test5(x):\n",
    "    \n",
    "    return x     "
   ]
  },
  {
   "cell_type": "code",
   "execution_count": 23,
   "id": "04a174d8-efe2-4c5f-8630-a1bf998979ed",
   "metadata": {},
   "outputs": [
    {
     "data": {
      "text/plain": [
       "[5, 2]"
      ]
     },
     "execution_count": 23,
     "metadata": {},
     "output_type": "execute_result"
    }
   ],
   "source": [
    "test5([5,2])"
   ]
  },
  {
   "cell_type": "code",
   "execution_count": 24,
   "id": "0e041eb8-7031-49d3-b315-baa3d09672a7",
   "metadata": {},
   "outputs": [
    {
     "data": {
      "text/plain": [
       "'Gaurav'"
      ]
     },
     "execution_count": 24,
     "metadata": {},
     "output_type": "execute_result"
    }
   ],
   "source": [
    "test5(\"Gaurav\")"
   ]
  },
  {
   "cell_type": "code",
   "execution_count": 25,
   "id": "14ee1fce-2d00-42ce-a235-73c22aab483e",
   "metadata": {},
   "outputs": [
    {
     "ename": "TypeError",
     "evalue": "test5() takes 1 positional argument but 2 were given",
     "output_type": "error",
     "traceback": [
      "\u001b[1;31m---------------------------------------------------------------------------\u001b[0m",
      "\u001b[1;31mTypeError\u001b[0m                                 Traceback (most recent call last)",
      "\u001b[1;32m~\\AppData\\Local\\Temp\\ipykernel_17124\\3309278187.py\u001b[0m in \u001b[0;36m<module>\u001b[1;34m\u001b[0m\n\u001b[1;32m----> 1\u001b[1;33m \u001b[0mtest5\u001b[0m\u001b[1;33m(\u001b[0m\u001b[1;33m[\u001b[0m\u001b[1;36m2\u001b[0m\u001b[1;33m,\u001b[0m\u001b[1;36m3\u001b[0m\u001b[1;33m,\u001b[0m\u001b[1;36m4\u001b[0m\u001b[1;33m,\u001b[0m\u001b[1;36m5\u001b[0m\u001b[1;33m]\u001b[0m\u001b[1;33m,\u001b[0m\u001b[1;36m754\u001b[0m\u001b[1;33m)\u001b[0m\u001b[1;33m\u001b[0m\u001b[1;33m\u001b[0m\u001b[0m\n\u001b[0m",
      "\u001b[1;31mTypeError\u001b[0m: test5() takes 1 positional argument but 2 were given"
     ]
    }
   ],
   "source": [
    "test5([2,3,4,5],754)"
   ]
  },
  {
   "cell_type": "code",
   "execution_count": 26,
   "id": "b9c2d423-3e1c-46a7-81d8-47cbcc5d869f",
   "metadata": {},
   "outputs": [],
   "source": [
    "def student(name,age,marks = 0):\n",
    "    return name,age,marks"
   ]
  },
  {
   "cell_type": "code",
   "execution_count": 34,
   "id": "d6a3d022",
   "metadata": {},
   "outputs": [
    {
     "data": {
      "text/plain": [
       "('abc', 2, 0)"
      ]
     },
     "execution_count": 34,
     "metadata": {},
     "output_type": "execute_result"
    }
   ],
   "source": [
    "student(\"abc\",2)"
   ]
  },
  {
   "cell_type": "code",
   "execution_count": 30,
   "id": "2a901805",
   "metadata": {},
   "outputs": [
    {
     "data": {
      "text/plain": [
       "('asdf', 5, 30)"
      ]
     },
     "execution_count": 30,
     "metadata": {},
     "output_type": "execute_result"
    }
   ],
   "source": [
    "student(\"asdf\",5,30)"
   ]
  },
  {
   "cell_type": "code",
   "execution_count": 31,
   "id": "5fbdec36",
   "metadata": {},
   "outputs": [
    {
     "data": {
      "text/plain": [
       "('abc', 12, 50)"
      ]
     },
     "execution_count": 31,
     "metadata": {},
     "output_type": "execute_result"
    }
   ],
   "source": [
    "student(\"abc\",12,50)"
   ]
  },
  {
   "cell_type": "code",
   "execution_count": 32,
   "id": "4c4c8de1",
   "metadata": {},
   "outputs": [
    {
     "data": {
      "text/plain": [
       "('abc', 12, 50)"
      ]
     },
     "execution_count": 32,
     "metadata": {},
     "output_type": "execute_result"
    }
   ],
   "source": [
    "student(\"abc\",age = 12,marks = 50)"
   ]
  },
  {
   "cell_type": "code",
   "execution_count": 33,
   "id": "3334a13f",
   "metadata": {},
   "outputs": [
    {
     "data": {
      "text/plain": [
       "('abc', 12, 50)"
      ]
     },
     "execution_count": 33,
     "metadata": {},
     "output_type": "execute_result"
    }
   ],
   "source": [
    "student(\"abc\",12,marks = 50)"
   ]
  },
  {
   "cell_type": "code",
   "execution_count": null,
   "id": "15df6046",
   "metadata": {},
   "outputs": [],
   "source": []
  },
  {
   "cell_type": "code",
   "execution_count": 37,
   "id": "15801418",
   "metadata": {
    "scrolled": true
   },
   "outputs": [
    {
     "name": "stdout",
     "output_type": "stream",
     "text": [
      "abhay 8 0 7 8 gauri 5 58 2 23 65 84 9 5 7 6 8 8 54 5 5 7 7 6 1 7 6\n"
     ]
    }
   ],
   "source": [
    "print('abhay',8,0,7,8,'gauri',5,58,2,23,65,84,9,5,7,6,8,8,54,5,5,7,7,6,1,7,6)"
   ]
  },
  {
   "cell_type": "code",
   "execution_count": null,
   "id": "23c0bf7b",
   "metadata": {},
   "outputs": [],
   "source": []
  },
  {
   "cell_type": "code",
   "execution_count": null,
   "id": "87eec44e",
   "metadata": {},
   "outputs": [],
   "source": []
  },
  {
   "cell_type": "code",
   "execution_count": 9,
   "id": "a4a9aede",
   "metadata": {},
   "outputs": [],
   "source": [
    "def fac_func(num):\n",
    "    if num == 1:\n",
    "        return 1\n",
    "    \n",
    "    return num * fac_func(num-1)"
   ]
  },
  {
   "cell_type": "code",
   "execution_count": 10,
   "id": "51a8a1d4",
   "metadata": {},
   "outputs": [
    {
     "data": {
      "text/plain": [
       "120"
      ]
     },
     "execution_count": 10,
     "metadata": {},
     "output_type": "execute_result"
    }
   ],
   "source": [
    "fac_func(5)"
   ]
  },
  {
   "cell_type": "markdown",
   "id": "bf0195a3",
   "metadata": {},
   "source": [
    "## Arbitrary Arguments"
   ]
  },
  {
   "cell_type": "code",
   "execution_count": 42,
   "id": "9e7648fe",
   "metadata": {},
   "outputs": [],
   "source": [
    "def abc(*args):\n",
    "    return args"
   ]
  },
  {
   "cell_type": "code",
   "execution_count": 43,
   "id": "37b10628",
   "metadata": {},
   "outputs": [
    {
     "data": {
      "text/plain": [
       "('7854', 52, 8, 7, 896, 9, 98, 7, 5, 59, 5, 7, 2, 1, 3, 5, 6, 7)"
      ]
     },
     "execution_count": 43,
     "metadata": {},
     "output_type": "execute_result"
    }
   ],
   "source": [
    "abc(\"7854\",52,8,7,896,9,98,7,5,59,5,7,2,1,3,5,6,7)"
   ]
  },
  {
   "cell_type": "code",
   "execution_count": 44,
   "id": "5f27f89a",
   "metadata": {},
   "outputs": [
    {
     "data": {
      "text/plain": [
       "('Mukta', 'Geeta', 'Manisha', 'Himanshu', 'Ansh', 1, 5, 7, 1, 8, 9, 2)"
      ]
     },
     "execution_count": 44,
     "metadata": {},
     "output_type": "execute_result"
    }
   ],
   "source": [
    "abc(\"Mukta\",\"Geeta\",\"Manisha\",\"Himanshu\",'Ansh',1,5,7,1,8,9,2)"
   ]
  },
  {
   "cell_type": "code",
   "execution_count": 49,
   "id": "451f4e8c",
   "metadata": {},
   "outputs": [],
   "source": [
    "def fun(*details,name,age):\n",
    "    return name, age, details"
   ]
  },
  {
   "cell_type": "code",
   "execution_count": 51,
   "id": "e7f8d849",
   "metadata": {},
   "outputs": [
    {
     "data": {
      "text/plain": [
       "(5, 4, ('abc', 9, 'asdfghrew', 'qregf', 15, 9))"
      ]
     },
     "execution_count": 51,
     "metadata": {},
     "output_type": "execute_result"
    }
   ],
   "source": [
    "fun(\"abc\",9,\"asdfghrew\",\"qregf\",15,9,name = 5,age = 4)"
   ]
  },
  {
   "cell_type": "code",
   "execution_count": 52,
   "id": "bbe2cb85",
   "metadata": {},
   "outputs": [
    {
     "name": "stdout",
     "output_type": "stream",
     "text": [
      "asdf-2-5-65-3\n"
     ]
    }
   ],
   "source": [
    "print('asdf',2,5,65,3,sep = \"-\")"
   ]
  },
  {
   "cell_type": "code",
   "execution_count": 63,
   "id": "467431b2",
   "metadata": {},
   "outputs": [],
   "source": [
    "def filter_value(*args):\n",
    "    e_list = []\n",
    "    o_list = []\n",
    "\n",
    "    for i in args:\n",
    "        if type(i) == str:\n",
    "            pass\n",
    "        elif i%2==0:\n",
    "            e_list.append(i)\n",
    "        else:\n",
    "            o_list.append(i)\n",
    "    print(e_list)\n",
    "    print(o_list)"
   ]
  },
  {
   "cell_type": "code",
   "execution_count": 64,
   "id": "0eba60c3",
   "metadata": {},
   "outputs": [
    {
     "name": "stdout",
     "output_type": "stream",
     "text": [
      "[8, 6, 6]\n",
      "[7, 5, 1]\n"
     ]
    }
   ],
   "source": [
    "filter_value(8,6,7,\"asdfs\",5,1,6)"
   ]
  },
  {
   "cell_type": "code",
   "execution_count": 54,
   "id": "4541eccc",
   "metadata": {},
   "outputs": [],
   "source": [
    "def filter_list(*value):\n",
    "    str_list = []\n",
    "    int_list = []\n",
    "    float_list = []\n",
    "    \n",
    "    for i in value:\n",
    "        if type(i) == str:\n",
    "            str_list.append(i)\n",
    "        elif type(i) == int:\n",
    "            int_list.append(i)\n",
    "        else:\n",
    "            float_list.append(i)\n",
    "            \n",
    "            \n",
    "    return str_list,int_list,float_list"
   ]
  },
  {
   "cell_type": "code",
   "execution_count": 65,
   "id": "07c7ba1a",
   "metadata": {},
   "outputs": [],
   "source": [
    "str_list, int_list , float_list = filter_list(1,2,5,5,8,'asdfa',\"q34treg\",1.5,8.6,4,6,7,52.3,9.7,1.666)"
   ]
  },
  {
   "cell_type": "code",
   "execution_count": 66,
   "id": "5e7bdcf4",
   "metadata": {},
   "outputs": [
    {
     "data": {
      "text/plain": [
       "['asdfa', 'q34treg']"
      ]
     },
     "execution_count": 66,
     "metadata": {},
     "output_type": "execute_result"
    }
   ],
   "source": [
    "str_list"
   ]
  },
  {
   "cell_type": "code",
   "execution_count": 67,
   "id": "4fe2c566",
   "metadata": {},
   "outputs": [],
   "source": [
    "def even_odd(*number):\n",
    "    even_num = []\n",
    "    odd_num = []\n",
    "    for i in number:\n",
    "        if i % 2 == 0:\n",
    "            even_num.append(i)\n",
    "        else:\n",
    "            odd_num.append(i)\n",
    "            \n",
    "    print('even_num',even_num)\n",
    "    print('odd_num',odd_num)"
   ]
  },
  {
   "cell_type": "code",
   "execution_count": 68,
   "id": "b3abe01c",
   "metadata": {},
   "outputs": [
    {
     "name": "stdout",
     "output_type": "stream",
     "text": [
      "even_num [4, 8, 4, 4]\n",
      "odd_num [5, 5, 89, 7]\n"
     ]
    }
   ],
   "source": [
    "even_odd(4,5,8,4,5,89,4,7)"
   ]
  },
  {
   "cell_type": "code",
   "execution_count": 69,
   "id": "381a8cfe",
   "metadata": {},
   "outputs": [
    {
     "name": "stdout",
     "output_type": "stream",
     "text": [
      "even_num [8, 8, 52, 10, 52, 2, 2, 4, 4]\n",
      "odd_num [5, 7, 1, 65, 89, 47, 65, 25, 7, 47, 1, 1]\n"
     ]
    }
   ],
   "source": [
    "even_odd(8,5,7,1,8,65,89,52,47,65,25,10,52,7,2,47,2,4,1,4,1)"
   ]
  },
  {
   "cell_type": "code",
   "execution_count": null,
   "id": "553c0889",
   "metadata": {},
   "outputs": [],
   "source": []
  },
  {
   "cell_type": "markdown",
   "id": "e9b6aaa8",
   "metadata": {},
   "source": [
    "### KeyWord Argument"
   ]
  },
  {
   "cell_type": "code",
   "execution_count": 79,
   "id": "b157a6a6",
   "metadata": {},
   "outputs": [],
   "source": [
    "def keyword_function(**kwargs):\n",
    "    return kwargs"
   ]
  },
  {
   "cell_type": "code",
   "execution_count": 80,
   "id": "216a5613-c1d5-48a2-bbf6-5b97a7a95e95",
   "metadata": {},
   "outputs": [
    {
     "data": {
      "text/plain": [
       "{'a': 4, 'b': 5, 'c': 6, 'd': 'python', 'asdf': 'asdfasdf'}"
      ]
     },
     "execution_count": 80,
     "metadata": {},
     "output_type": "execute_result"
    }
   ],
   "source": [
    "keyword_function(a = 4,b = 5,c = 6,d = 'python',asdf = \"asdfasdf\")"
   ]
  },
  {
   "cell_type": "code",
   "execution_count": 81,
   "id": "92dce7c1-d9cb-4c5d-abee-c906de7fd2e4",
   "metadata": {},
   "outputs": [
    {
     "data": {
      "text/plain": [
       "{'a': 4, 'b': 5, 'c': 6, 'ass': 'adsf'}"
      ]
     },
     "execution_count": 81,
     "metadata": {},
     "output_type": "execute_result"
    }
   ],
   "source": [
    "keyword_function(a= 4, b= 5, c= 6,ass = 'adsf')"
   ]
  },
  {
   "cell_type": "code",
   "execution_count": null,
   "id": "4ab41730",
   "metadata": {},
   "outputs": [],
   "source": []
  },
  {
   "cell_type": "code",
   "execution_count": 82,
   "id": "81983e5c",
   "metadata": {},
   "outputs": [],
   "source": [
    "def practice_func(a,b,c,*args,d = 5):\n",
    "    return a,b,c,args,d"
   ]
  },
  {
   "cell_type": "code",
   "execution_count": 83,
   "id": "25a074c2",
   "metadata": {
    "scrolled": false
   },
   "outputs": [
    {
     "data": {
      "text/plain": [
       "(1, 4, 54, (7, 5, 7, 1, 87, 54, 5), 5)"
      ]
     },
     "execution_count": 83,
     "metadata": {},
     "output_type": "execute_result"
    }
   ],
   "source": [
    "practice_func(1,4,54,7,5,7,1,87,54,5)"
   ]
  },
  {
   "cell_type": "code",
   "execution_count": 84,
   "id": "e2644e71",
   "metadata": {},
   "outputs": [],
   "source": [
    "def func(a,b,c):\n",
    "    return a,b,c"
   ]
  },
  {
   "cell_type": "code",
   "execution_count": 85,
   "id": "a35dd2b1",
   "metadata": {},
   "outputs": [
    {
     "data": {
      "text/plain": [
       "(1, 2, 3)"
      ]
     },
     "execution_count": 85,
     "metadata": {},
     "output_type": "execute_result"
    }
   ],
   "source": [
    "func(1,2,c = 3)"
   ]
  },
  {
   "cell_type": "code",
   "execution_count": null,
   "id": "26996a94",
   "metadata": {},
   "outputs": [],
   "source": []
  },
  {
   "cell_type": "code",
   "execution_count": 86,
   "id": "c47f6b0b",
   "metadata": {},
   "outputs": [
    {
     "data": {
      "text/plain": [
       "(1, 2, 3)"
      ]
     },
     "execution_count": 86,
     "metadata": {},
     "output_type": "execute_result"
    }
   ],
   "source": [
    "func(1,2,c=3)"
   ]
  },
  {
   "cell_type": "code",
   "execution_count": 87,
   "id": "4b0bfb46",
   "metadata": {},
   "outputs": [
    {
     "data": {
      "text/plain": [
       "(5, 7, 2)"
      ]
     },
     "execution_count": 87,
     "metadata": {},
     "output_type": "execute_result"
    }
   ],
   "source": [
    "func(c= 2,a= 5,b= 7)"
   ]
  },
  {
   "cell_type": "code",
   "execution_count": null,
   "id": "04826a6e",
   "metadata": {},
   "outputs": [],
   "source": []
  },
  {
   "cell_type": "code",
   "execution_count": null,
   "id": "72a85084",
   "metadata": {},
   "outputs": [],
   "source": []
  },
  {
   "cell_type": "code",
   "execution_count": 88,
   "id": "520c71e4",
   "metadata": {},
   "outputs": [],
   "source": [
    "def add(*num):\n",
    "    total = 0\n",
    "    for i in num:\n",
    "        total += i\n",
    "    return total"
   ]
  },
  {
   "cell_type": "code",
   "execution_count": 89,
   "id": "decad5c6",
   "metadata": {
    "scrolled": true
   },
   "outputs": [
    {
     "data": {
      "text/plain": [
       "76"
      ]
     },
     "execution_count": 89,
     "metadata": {},
     "output_type": "execute_result"
    }
   ],
   "source": [
    "add(8,5,47,9,1,2,1,3)"
   ]
  },
  {
   "cell_type": "markdown",
   "id": "23cf0fd8",
   "metadata": {},
   "source": [
    "# Lambda"
   ]
  },
  {
   "cell_type": "code",
   "execution_count": 90,
   "id": "7e45ac05",
   "metadata": {},
   "outputs": [],
   "source": [
    "add = lambda x, y : x + y"
   ]
  },
  {
   "cell_type": "code",
   "execution_count": 91,
   "id": "62017aa2",
   "metadata": {},
   "outputs": [
    {
     "data": {
      "text/plain": [
       "10"
      ]
     },
     "execution_count": 91,
     "metadata": {},
     "output_type": "execute_result"
    }
   ],
   "source": [
    "add(9,1)"
   ]
  },
  {
   "cell_type": "code",
   "execution_count": 92,
   "id": "49b235b2",
   "metadata": {},
   "outputs": [],
   "source": [
    "check_num = lambda x : \"Even\" if x % 2 == 0 else \"Odd\""
   ]
  },
  {
   "cell_type": "code",
   "execution_count": 94,
   "id": "5c1d6691",
   "metadata": {},
   "outputs": [
    {
     "data": {
      "text/plain": [
       "'Even'"
      ]
     },
     "execution_count": 94,
     "metadata": {},
     "output_type": "execute_result"
    }
   ],
   "source": [
    "check_num(6)"
   ]
  },
  {
   "cell_type": "code",
   "execution_count": 95,
   "id": "74816bc8",
   "metadata": {},
   "outputs": [],
   "source": [
    "def check(a):\n",
    "    if a % 2 == 0:\n",
    "        return \"Even\"\n",
    "    else:\n",
    "        return \"Odd\""
   ]
  },
  {
   "cell_type": "code",
   "execution_count": 96,
   "id": "dfe3c147",
   "metadata": {},
   "outputs": [
    {
     "data": {
      "text/plain": [
       "'Odd'"
      ]
     },
     "execution_count": 96,
     "metadata": {},
     "output_type": "execute_result"
    }
   ],
   "source": [
    "check(520147115215)"
   ]
  },
  {
   "cell_type": "code",
   "execution_count": 98,
   "id": "bddbfb65",
   "metadata": {},
   "outputs": [
    {
     "data": {
      "text/plain": [
       "'Odd'"
      ]
     },
     "execution_count": 98,
     "metadata": {},
     "output_type": "execute_result"
    }
   ],
   "source": [
    "check_num(4765432186542541)"
   ]
  },
  {
   "cell_type": "code",
   "execution_count": 99,
   "id": "d066619c",
   "metadata": {},
   "outputs": [],
   "source": [
    "sq_value = lambda x : x * x"
   ]
  },
  {
   "cell_type": "code",
   "execution_count": 100,
   "id": "e5dcfb5b",
   "metadata": {},
   "outputs": [
    {
     "data": {
      "text/plain": [
       "25"
      ]
     },
     "execution_count": 100,
     "metadata": {},
     "output_type": "execute_result"
    }
   ],
   "source": [
    "sq_value(5)"
   ]
  },
  {
   "cell_type": "code",
   "execution_count": 101,
   "id": "ff155fd3",
   "metadata": {},
   "outputs": [],
   "source": [
    "#### lambda function\n",
    "\n",
    "m = lambda a,b,c,d : a+b+c+d"
   ]
  },
  {
   "cell_type": "code",
   "execution_count": 102,
   "id": "b017839f-80d5-499f-afc2-7a22e2f5a0dc",
   "metadata": {
    "scrolled": true
   },
   "outputs": [
    {
     "data": {
      "text/plain": [
       "25"
      ]
     },
     "execution_count": 102,
     "metadata": {},
     "output_type": "execute_result"
    }
   ],
   "source": [
    "m(5,6,9,5)"
   ]
  },
  {
   "cell_type": "code",
   "execution_count": 103,
   "id": "be7534f5-3678-4545-a6d5-aa9e955de42a",
   "metadata": {},
   "outputs": [
    {
     "ename": "TypeError",
     "evalue": "<lambda>() missing 2 required positional arguments: 'c' and 'd'",
     "output_type": "error",
     "traceback": [
      "\u001b[1;31m---------------------------------------------------------------------------\u001b[0m",
      "\u001b[1;31mTypeError\u001b[0m                                 Traceback (most recent call last)",
      "\u001b[1;32m~\\AppData\\Local\\Temp\\ipykernel_17124\\2799846582.py\u001b[0m in \u001b[0;36m<module>\u001b[1;34m\u001b[0m\n\u001b[1;32m----> 1\u001b[1;33m \u001b[0mm\u001b[0m\u001b[1;33m(\u001b[0m\u001b[1;36m3\u001b[0m\u001b[1;33m,\u001b[0m\u001b[1;36m4\u001b[0m\u001b[1;33m)\u001b[0m\u001b[1;33m\u001b[0m\u001b[1;33m\u001b[0m\u001b[0m\n\u001b[0m",
      "\u001b[1;31mTypeError\u001b[0m: <lambda>() missing 2 required positional arguments: 'c' and 'd'"
     ]
    }
   ],
   "source": [
    "m(3,4)"
   ]
  },
  {
   "cell_type": "code",
   "execution_count": 104,
   "id": "0d72afed-b436-4c00-8d1f-49f2fd94fd36",
   "metadata": {},
   "outputs": [
    {
     "data": {
      "text/plain": [
       "1"
      ]
     },
     "execution_count": 104,
     "metadata": {},
     "output_type": "execute_result"
    }
   ],
   "source": [
    "3%2"
   ]
  },
  {
   "cell_type": "code",
   "execution_count": 110,
   "id": "c726469c-29ee-4e2e-bdd1-14f58d12e235",
   "metadata": {},
   "outputs": [],
   "source": [
    "l = [3,4,5,76,3,2,3,4,5]\n",
    "min_list = lambda l : min(l)"
   ]
  },
  {
   "cell_type": "code",
   "execution_count": 111,
   "id": "1110beb6-8c88-4617-9a36-e99397505a7c",
   "metadata": {},
   "outputs": [
    {
     "data": {
      "text/plain": [
       "2"
      ]
     },
     "execution_count": 111,
     "metadata": {},
     "output_type": "execute_result"
    }
   ],
   "source": [
    "min_list(l)"
   ]
  },
  {
   "cell_type": "code",
   "execution_count": 112,
   "id": "1e7aa439",
   "metadata": {},
   "outputs": [
    {
     "data": {
      "text/plain": [
       "'1'"
      ]
     },
     "execution_count": 112,
     "metadata": {},
     "output_type": "execute_result"
    }
   ],
   "source": [
    "min_list('548915')"
   ]
  },
  {
   "cell_type": "code",
   "execution_count": 113,
   "id": "2293bb01-bf34-4dbc-873e-7064e207417d",
   "metadata": {},
   "outputs": [],
   "source": [
    "div = lambda a,b: a/b"
   ]
  },
  {
   "cell_type": "code",
   "execution_count": 114,
   "id": "fae834d5-bbbc-41b7-8b83-bc5f42171c81",
   "metadata": {},
   "outputs": [
    {
     "data": {
      "text/plain": [
       "0.8333333333333334"
      ]
     },
     "execution_count": 114,
     "metadata": {},
     "output_type": "execute_result"
    }
   ],
   "source": [
    "div(5,6)"
   ]
  },
  {
   "cell_type": "code",
   "execution_count": 115,
   "id": "425cdab0-28f5-4381-8275-ff46086ec5c2",
   "metadata": {},
   "outputs": [],
   "source": [
    "upper = lambda s : s.upper()"
   ]
  },
  {
   "cell_type": "code",
   "execution_count": 116,
   "id": "1f2d821c-9a58-41fe-a150-e2e64a788705",
   "metadata": {},
   "outputs": [
    {
     "data": {
      "text/plain": [
       "'GAURAV'"
      ]
     },
     "execution_count": 116,
     "metadata": {},
     "output_type": "execute_result"
    }
   ],
   "source": [
    "upper(\"Gaurav\")"
   ]
  },
  {
   "cell_type": "code",
   "execution_count": 105,
   "id": "f38991df",
   "metadata": {},
   "outputs": [],
   "source": [
    "def unlimited_add(*add_value):\n",
    "    sum_value = 0\n",
    "    for i in add_value:\n",
    "        sum_value += i\n",
    "    \n",
    "    return sum_value"
   ]
  },
  {
   "cell_type": "code",
   "execution_count": 106,
   "id": "82671bf6",
   "metadata": {},
   "outputs": [
    {
     "data": {
      "text/plain": [
       "4098"
      ]
     },
     "execution_count": 106,
     "metadata": {},
     "output_type": "execute_result"
    }
   ],
   "source": [
    "unlimited_add(4,3,9,47,2,6,1,1,9,5,8,9,5,2,3987)"
   ]
  },
  {
   "cell_type": "code",
   "execution_count": null,
   "id": "f4303e8c",
   "metadata": {},
   "outputs": [],
   "source": []
  },
  {
   "cell_type": "code",
   "execution_count": 120,
   "id": "b0e47f41",
   "metadata": {},
   "outputs": [],
   "source": [
    "def add_list(lst):\n",
    "    add = 0\n",
    "    for i in lst:\n",
    "        add += i\n",
    "    return add"
   ]
  },
  {
   "cell_type": "code",
   "execution_count": 108,
   "id": "3afcf2c0-6f52-4141-9f72-c13eea61aecc",
   "metadata": {},
   "outputs": [],
   "source": [
    "def sum_odd(lst):\n",
    "    odd_list = []\n",
    "    \n",
    "    for i in lst:\n",
    "        if i%2 != 0:\n",
    "            odd_list.append(i)\n",
    "   \n",
    "        \n",
    "#     return add_list(odd_list)\n",
    "    return odd_list"
   ]
  },
  {
   "cell_type": "code",
   "execution_count": 109,
   "id": "248ded39",
   "metadata": {},
   "outputs": [
    {
     "data": {
      "text/plain": [
       "[3, 5, 7, 3, 5]"
      ]
     },
     "execution_count": 109,
     "metadata": {},
     "output_type": "execute_result"
    }
   ],
   "source": [
    "l = [3, 4, 5, 6, 7, 2, 3, 34, 5, 56]\n",
    "sum_odd(l)"
   ]
  },
  {
   "cell_type": "code",
   "execution_count": null,
   "id": "f8c86dc0",
   "metadata": {},
   "outputs": [],
   "source": []
  },
  {
   "cell_type": "code",
   "execution_count": 110,
   "id": "31fdd8f1",
   "metadata": {},
   "outputs": [
    {
     "data": {
      "text/plain": [
       "[3, 4, 5, 6, 7, 2, 3, 34, 5, 56]"
      ]
     },
     "execution_count": 110,
     "metadata": {},
     "output_type": "execute_result"
    }
   ],
   "source": [
    "l"
   ]
  },
  {
   "cell_type": "code",
   "execution_count": 111,
   "id": "bb7d00e0",
   "metadata": {},
   "outputs": [
    {
     "data": {
      "text/plain": [
       "[4, 6, 2, 34, 56]"
      ]
     },
     "execution_count": 111,
     "metadata": {},
     "output_type": "execute_result"
    }
   ],
   "source": [
    "[i for i in l if i % 2 == 0]"
   ]
  },
  {
   "cell_type": "code",
   "execution_count": null,
   "id": "a4005352",
   "metadata": {},
   "outputs": [],
   "source": []
  },
  {
   "cell_type": "code",
   "execution_count": 12,
   "id": "2a7ff283",
   "metadata": {},
   "outputs": [
    {
     "data": {
      "text/plain": [
       "[3, 4, 5, 6, 7, 2, 3, 34, 5, 56]"
      ]
     },
     "execution_count": 12,
     "metadata": {},
     "output_type": "execute_result"
    }
   ],
   "source": [
    "l"
   ]
  },
  {
   "cell_type": "code",
   "execution_count": 13,
   "id": "917b0cbd",
   "metadata": {},
   "outputs": [
    {
     "data": {
      "text/plain": [
       "[4, 6, 2, 34, 56]"
      ]
     },
     "execution_count": 13,
     "metadata": {},
     "output_type": "execute_result"
    }
   ],
   "source": [
    "[i for i in l if i % 2 == 0]"
   ]
  },
  {
   "cell_type": "code",
   "execution_count": null,
   "id": "e82facab",
   "metadata": {},
   "outputs": [],
   "source": []
  },
  {
   "cell_type": "markdown",
   "id": "e86879c4",
   "metadata": {},
   "source": [
    "### List Comprehension\n",
    "List comprehension offers a shorter syntax when you want to create a new list based on the values of an existing list.\n",
    "\n",
    "[expression for item in iterable if condition == True]"
   ]
  },
  {
   "cell_type": "raw",
   "id": "c88ca4ab",
   "metadata": {},
   "source": [
    "[expression for item in iterable if condition == True]"
   ]
  },
  {
   "cell_type": "code",
   "execution_count": 1,
   "id": "e0f4659b",
   "metadata": {},
   "outputs": [],
   "source": [
    "l = [3, 4, 5, 6, 7, 2, 3, 34, 5, 56]"
   ]
  },
  {
   "cell_type": "code",
   "execution_count": 2,
   "id": "8bffded9",
   "metadata": {},
   "outputs": [
    {
     "data": {
      "text/plain": [
       "[5, 6, 7, 8, 9, 4, 5, 36, 7, 58]"
      ]
     },
     "execution_count": 2,
     "metadata": {},
     "output_type": "execute_result"
    }
   ],
   "source": [
    "[i + 2 for i in l]"
   ]
  },
  {
   "cell_type": "code",
   "execution_count": 3,
   "id": "ab8d93c2",
   "metadata": {},
   "outputs": [
    {
     "data": {
      "text/plain": [
       "[9, 16, 25, 36, 49, 4, 9, 1156, 25, 3136]"
      ]
     },
     "execution_count": 3,
     "metadata": {},
     "output_type": "execute_result"
    }
   ],
   "source": [
    "[i*i for i in l]"
   ]
  },
  {
   "cell_type": "code",
   "execution_count": 4,
   "id": "792a397e",
   "metadata": {},
   "outputs": [
    {
     "data": {
      "text/plain": [
       "['P', 'y', 't', 'h', 'o', 'n']"
      ]
     },
     "execution_count": 4,
     "metadata": {},
     "output_type": "execute_result"
    }
   ],
   "source": [
    "[a for a in \"Python\"]"
   ]
  },
  {
   "cell_type": "code",
   "execution_count": 5,
   "id": "af17fa69",
   "metadata": {},
   "outputs": [
    {
     "data": {
      "text/plain": [
       "[4, 6, 2, 34, 56]"
      ]
     },
     "execution_count": 5,
     "metadata": {},
     "output_type": "execute_result"
    }
   ],
   "source": [
    "[i for i in l if i % 2 == 0]"
   ]
  },
  {
   "cell_type": "code",
   "execution_count": 6,
   "id": "d44f86d1",
   "metadata": {},
   "outputs": [
    {
     "data": {
      "text/plain": [
       "[3, 5, 7, 3, 5]"
      ]
     },
     "execution_count": 6,
     "metadata": {},
     "output_type": "execute_result"
    }
   ],
   "source": [
    "[i for i in l if i % 2 != 0]"
   ]
  },
  {
   "cell_type": "code",
   "execution_count": 7,
   "id": "d8f56084",
   "metadata": {
    "scrolled": true
   },
   "outputs": [
    {
     "data": {
      "text/plain": [
       "[3, 4, 5, 6, 7, 2, 3, 34, 5, 56]"
      ]
     },
     "execution_count": 7,
     "metadata": {},
     "output_type": "execute_result"
    }
   ],
   "source": [
    "l = [3, 4, 5, 6, 7, 2, 3, 34, 5, 56]\n",
    "l"
   ]
  },
  {
   "cell_type": "code",
   "execution_count": 8,
   "id": "dcfe5f18",
   "metadata": {},
   "outputs": [
    {
     "data": {
      "text/plain": [
       "[3, 5, 7, 3, 5]"
      ]
     },
     "execution_count": 8,
     "metadata": {},
     "output_type": "execute_result"
    }
   ],
   "source": [
    "[i for i in l if i%2 != 0]"
   ]
  },
  {
   "cell_type": "code",
   "execution_count": 9,
   "id": "dc3538db",
   "metadata": {},
   "outputs": [
    {
     "data": {
      "text/plain": [
       "[3, 5, 7, 3, 5]"
      ]
     },
     "execution_count": 9,
     "metadata": {},
     "output_type": "execute_result"
    }
   ],
   "source": [
    "[i for i in l if i%2 != 0]"
   ]
  },
  {
   "cell_type": "code",
   "execution_count": 11,
   "id": "c9af6af3",
   "metadata": {},
   "outputs": [
    {
     "data": {
      "text/plain": [
       "[4, 6, 2, 34, 56]"
      ]
     },
     "execution_count": 11,
     "metadata": {},
     "output_type": "execute_result"
    }
   ],
   "source": [
    "even_list = []\n",
    "for i in l:\n",
    "    if i % 2 ==0:\n",
    "        even_list.append(i)\n",
    "even_list"
   ]
  },
  {
   "cell_type": "code",
   "execution_count": 12,
   "id": "af2cbf75",
   "metadata": {},
   "outputs": [
    {
     "name": "stdout",
     "output_type": "stream",
     "text": [
      "[2, 4]\n"
     ]
    }
   ],
   "source": [
    "get_evens = lambda nums: [x for x in nums if x % 2 == 0]\n",
    "print(get_evens([1, 2, 3, 4]))"
   ]
  },
  {
   "cell_type": "code",
   "execution_count": 13,
   "id": "3ffaed1f",
   "metadata": {},
   "outputs": [],
   "source": [
    "odd = lambda x : [i for i in x if i % 2 != 0]"
   ]
  },
  {
   "cell_type": "code",
   "execution_count": 14,
   "id": "55a3c7e9",
   "metadata": {},
   "outputs": [
    {
     "data": {
      "text/plain": [
       "[9, 9, 3, 3, 5]"
      ]
     },
     "execution_count": 14,
     "metadata": {},
     "output_type": "execute_result"
    }
   ],
   "source": [
    "odd([9,6,52,8,9,3,12,3,5])"
   ]
  },
  {
   "cell_type": "code",
   "execution_count": 15,
   "id": "534c863e-7dd9-4da7-9db0-85e133474291",
   "metadata": {},
   "outputs": [],
   "source": [
    "sum_of_odd_num = lambda lst : sum([i for i in lst if i%2!=0])"
   ]
  },
  {
   "cell_type": "code",
   "execution_count": 16,
   "id": "d6026785-6612-4616-9b04-5f4ded6e1f25",
   "metadata": {},
   "outputs": [
    {
     "data": {
      "text/plain": [
       "23"
      ]
     },
     "execution_count": 16,
     "metadata": {},
     "output_type": "execute_result"
    }
   ],
   "source": [
    "sum_of_odd_num(l)"
   ]
  },
  {
   "cell_type": "code",
   "execution_count": 18,
   "id": "fccb7ad1",
   "metadata": {},
   "outputs": [],
   "source": [
    "def fact(num):\n",
    "    total = 1\n",
    "    for i in range(2,num+1):\n",
    "        total *= i\n",
    "    return total"
   ]
  },
  {
   "cell_type": "code",
   "execution_count": 27,
   "id": "70fe154e",
   "metadata": {},
   "outputs": [
    {
     "data": {
      "text/plain": [
       "3628800"
      ]
     },
     "execution_count": 27,
     "metadata": {},
     "output_type": "execute_result"
    }
   ],
   "source": [
    "fact(10)"
   ]
  },
  {
   "cell_type": "code",
   "execution_count": 28,
   "id": "20102f65",
   "metadata": {},
   "outputs": [],
   "source": [
    "def fact(n):\n",
    "    p = 1\n",
    "    for i in range(1,n+1):\n",
    "        p *= i\n",
    "    return p"
   ]
  },
  {
   "cell_type": "code",
   "execution_count": 29,
   "id": "008f3827",
   "metadata": {},
   "outputs": [
    {
     "data": {
      "text/plain": [
       "120"
      ]
     },
     "execution_count": 29,
     "metadata": {},
     "output_type": "execute_result"
    }
   ],
   "source": [
    "fact(5)"
   ]
  },
  {
   "cell_type": "code",
   "execution_count": 30,
   "id": "e0a9322d",
   "metadata": {},
   "outputs": [],
   "source": [
    "def rec_fun(n):\n",
    "    if n == 1:\n",
    "        return 1\n",
    "    else:\n",
    "        return n * rec_fun(n-1)"
   ]
  },
  {
   "cell_type": "code",
   "execution_count": 31,
   "id": "29cb97dc",
   "metadata": {},
   "outputs": [
    {
     "data": {
      "text/plain": [
       "120"
      ]
     },
     "execution_count": 31,
     "metadata": {},
     "output_type": "execute_result"
    }
   ],
   "source": [
    "rec_fun(5)"
   ]
  },
  {
   "cell_type": "code",
   "execution_count": null,
   "id": "57f0f617",
   "metadata": {},
   "outputs": [],
   "source": []
  },
  {
   "cell_type": "code",
   "execution_count": 32,
   "id": "782768b0-ead2-45a1-90ae-008047fde851",
   "metadata": {},
   "outputs": [],
   "source": [
    "def fact_number(n):\n",
    "    if n == 0 :\n",
    "        return 1 \n",
    "    else :\n",
    "        return n*fact_number(n-1)"
   ]
  },
  {
   "cell_type": "code",
   "execution_count": 29,
   "id": "58ea4aa6",
   "metadata": {},
   "outputs": [
    {
     "data": {
      "text/plain": [
       "120"
      ]
     },
     "execution_count": 29,
     "metadata": {},
     "output_type": "execute_result"
    }
   ],
   "source": [
    "fact_number(5)"
   ]
  },
  {
   "cell_type": "code",
   "execution_count": 30,
   "id": "09b20bba",
   "metadata": {},
   "outputs": [],
   "source": [
    "def fact(n):\n",
    "    prod = 1\n",
    "    for i in range(1,n+1):\n",
    "        prod *= i\n",
    "    return prod"
   ]
  },
  {
   "cell_type": "code",
   "execution_count": 7,
   "id": "b1f9e98e",
   "metadata": {},
   "outputs": [
    {
     "data": {
      "text/plain": [
       "120"
      ]
     },
     "execution_count": 7,
     "metadata": {},
     "output_type": "execute_result"
    }
   ],
   "source": [
    "fact(5)"
   ]
  },
  {
   "cell_type": "code",
   "execution_count": null,
   "id": "6b36cc13",
   "metadata": {},
   "outputs": [],
   "source": []
  },
  {
   "cell_type": "code",
   "execution_count": 8,
   "id": "7d9ae675",
   "metadata": {},
   "outputs": [
    {
     "data": {
      "text/plain": [
       "120"
      ]
     },
     "execution_count": 8,
     "metadata": {},
     "output_type": "execute_result"
    }
   ],
   "source": [
    "fact_number(5)"
   ]
  },
  {
   "cell_type": "code",
   "execution_count": 9,
   "id": "7a677e69-8f10-4fea-b040-031d149e5d34",
   "metadata": {},
   "outputs": [],
   "source": [
    "fact_num_lambda = lambda n : 1 if n == 0 else n*fact_num_lambda(n-1)"
   ]
  },
  {
   "cell_type": "code",
   "execution_count": 10,
   "id": "0591c659-f743-45fc-a1e1-3ba85baaa816",
   "metadata": {},
   "outputs": [
    {
     "data": {
      "text/plain": [
       "120"
      ]
     },
     "execution_count": 10,
     "metadata": {},
     "output_type": "execute_result"
    }
   ],
   "source": [
    "fact_num_lambda(5)"
   ]
  },
  {
   "cell_type": "code",
   "execution_count": 11,
   "id": "68126728-3dab-4c2a-a6d0-58f16b3cbc58",
   "metadata": {},
   "outputs": [
    {
     "data": {
      "text/plain": [
       "24"
      ]
     },
     "execution_count": 11,
     "metadata": {},
     "output_type": "execute_result"
    }
   ],
   "source": [
    "fact_number(4)"
   ]
  },
  {
   "cell_type": "code",
   "execution_count": 12,
   "id": "6d5a8323-97f9-4d2e-bf25-1eb6ccebc6d1",
   "metadata": {},
   "outputs": [
    {
     "data": {
      "text/plain": [
       "1"
      ]
     },
     "execution_count": 12,
     "metadata": {},
     "output_type": "execute_result"
    }
   ],
   "source": [
    "fact_number(0)"
   ]
  },
  {
   "cell_type": "code",
   "execution_count": 13,
   "id": "8bba4313-fbd7-4a66-a7cf-7b237139113e",
   "metadata": {},
   "outputs": [],
   "source": [
    "def fact_num(n) :\n",
    "    a = 1 \n",
    "    for i in range(1,n+1):\n",
    "        a = i*a\n",
    "    return a"
   ]
  },
  {
   "cell_type": "code",
   "execution_count": 14,
   "id": "28ac2ad1-b64c-4244-9341-a6ff4aa71375",
   "metadata": {},
   "outputs": [
    {
     "data": {
      "text/plain": [
       "24"
      ]
     },
     "execution_count": 14,
     "metadata": {},
     "output_type": "execute_result"
    }
   ],
   "source": [
    "fact_num(4)"
   ]
  },
  {
   "cell_type": "code",
   "execution_count": 15,
   "id": "05bda53f-1efe-45b9-aec5-c8dc69f141c9",
   "metadata": {},
   "outputs": [],
   "source": [
    "l = [5,6,7,8,89]\n",
    "\n",
    "l1 = []\n",
    "for i in l:\n",
    "    l1.append(i+2)"
   ]
  },
  {
   "cell_type": "code",
   "execution_count": 16,
   "id": "b9c6c819-f7d6-4ae4-80e3-7a7e02cd984c",
   "metadata": {},
   "outputs": [
    {
     "data": {
      "text/plain": [
       "[7, 8, 9, 10, 91]"
      ]
     },
     "execution_count": 16,
     "metadata": {},
     "output_type": "execute_result"
    }
   ],
   "source": [
    "l1"
   ]
  },
  {
   "cell_type": "code",
   "execution_count": 17,
   "id": "45f9453f-ca0f-4ea6-ac6e-7186a020c60e",
   "metadata": {},
   "outputs": [],
   "source": [
    "def add_list(l):\n",
    "    l1 = []\n",
    "    for i in l:\n",
    "        l1.append(i+2)\n",
    "    return l1\n",
    "        "
   ]
  },
  {
   "cell_type": "code",
   "execution_count": 18,
   "id": "274ee340-6a2a-4183-9fc8-660a8f8fe119",
   "metadata": {},
   "outputs": [
    {
     "data": {
      "text/plain": [
       "[5, 6, 7, 8, 9]"
      ]
     },
     "execution_count": 18,
     "metadata": {},
     "output_type": "execute_result"
    }
   ],
   "source": [
    "add_list([3,4,5,6,7])"
   ]
  },
  {
   "cell_type": "code",
   "execution_count": null,
   "id": "87a260cb",
   "metadata": {},
   "outputs": [],
   "source": []
  },
  {
   "cell_type": "markdown",
   "id": "c2af9c7b",
   "metadata": {},
   "source": [
    "# Map"
   ]
  },
  {
   "cell_type": "raw",
   "id": "ed823c4a",
   "metadata": {},
   "source": [
    "map(func,iterable)"
   ]
  },
  {
   "cell_type": "code",
   "execution_count": 2,
   "id": "e030a9ab-6be0-4d91-a08c-071eadd9c1b1",
   "metadata": {},
   "outputs": [],
   "source": [
    "l = [5, 6, 7, 8, 89]"
   ]
  },
  {
   "cell_type": "code",
   "execution_count": 35,
   "id": "fa196db2",
   "metadata": {},
   "outputs": [
    {
     "data": {
      "text/plain": [
       "[15, 16, 17, 18, 99]"
      ]
     },
     "execution_count": 35,
     "metadata": {},
     "output_type": "execute_result"
    }
   ],
   "source": [
    "list(map(lambda a : a + 10,l))"
   ]
  },
  {
   "cell_type": "code",
   "execution_count": 36,
   "id": "c6191282",
   "metadata": {},
   "outputs": [],
   "source": [
    "new_l = []\n",
    "for i in l:\n",
    "    x = i + 2\n",
    "    new_l.append(x)"
   ]
  },
  {
   "cell_type": "code",
   "execution_count": 37,
   "id": "24cf04c6",
   "metadata": {},
   "outputs": [
    {
     "data": {
      "text/plain": [
       "[7, 8, 9, 10, 91]"
      ]
     },
     "execution_count": 37,
     "metadata": {},
     "output_type": "execute_result"
    }
   ],
   "source": [
    "new_l"
   ]
  },
  {
   "cell_type": "code",
   "execution_count": 3,
   "id": "27df4475",
   "metadata": {},
   "outputs": [],
   "source": [
    "abc = ['abcd',\"sourav\",\"Rohan\",\"Python Class\"]"
   ]
  },
  {
   "cell_type": "code",
   "execution_count": 5,
   "id": "cece7414",
   "metadata": {},
   "outputs": [
    {
     "data": {
      "text/plain": [
       "[4, 6, 5, 12]"
      ]
     },
     "execution_count": 5,
     "metadata": {},
     "output_type": "execute_result"
    }
   ],
   "source": [
    "list(map(len,abc))"
   ]
  },
  {
   "cell_type": "code",
   "execution_count": 43,
   "id": "0de8c413",
   "metadata": {},
   "outputs": [
    {
     "data": {
      "text/plain": [
       "[4, 6, 5, 12]"
      ]
     },
     "execution_count": 43,
     "metadata": {},
     "output_type": "execute_result"
    }
   ],
   "source": [
    "list(map(len,abc))"
   ]
  },
  {
   "cell_type": "code",
   "execution_count": 44,
   "id": "bde0dd8c",
   "metadata": {},
   "outputs": [],
   "source": [
    "create_list = lambda a : [i for i in a]"
   ]
  },
  {
   "cell_type": "code",
   "execution_count": 43,
   "id": "43acdd3c",
   "metadata": {
    "scrolled": false
   },
   "outputs": [
    {
     "data": {
      "text/plain": [
       "[10, 11, 12, 13, 94]"
      ]
     },
     "execution_count": 43,
     "metadata": {},
     "output_type": "execute_result"
    }
   ],
   "source": [
    "list(map(lambda x : x + 5,l))"
   ]
  },
  {
   "cell_type": "code",
   "execution_count": 45,
   "id": "8415b54d",
   "metadata": {},
   "outputs": [],
   "source": [
    "lst = ['Gaurav','Rajeev','Sanal','Vaibhav']"
   ]
  },
  {
   "cell_type": "code",
   "execution_count": 46,
   "id": "d48626f2",
   "metadata": {},
   "outputs": [
    {
     "data": {
      "text/plain": [
       "['varuaG', 'veejaR', 'lanaS', 'vahbiaV']"
      ]
     },
     "execution_count": 46,
     "metadata": {},
     "output_type": "execute_result"
    }
   ],
   "source": [
    "list(map(lambda x : x[::-1], lst))"
   ]
  },
  {
   "cell_type": "markdown",
   "id": "488ccf55",
   "metadata": {},
   "source": [
    "# Reduce"
   ]
  },
  {
   "cell_type": "code",
   "execution_count": 47,
   "id": "2f8697de",
   "metadata": {},
   "outputs": [],
   "source": [
    "from functools import reduce"
   ]
  },
  {
   "cell_type": "raw",
   "id": "d40ca7b4",
   "metadata": {},
   "source": [
    "reduce(func,iterable)"
   ]
  },
  {
   "cell_type": "code",
   "execution_count": 48,
   "id": "e17582a9",
   "metadata": {},
   "outputs": [
    {
     "data": {
      "text/plain": [
       "[5, 6, 7, 8, 89]"
      ]
     },
     "execution_count": 48,
     "metadata": {},
     "output_type": "execute_result"
    }
   ],
   "source": [
    "l"
   ]
  },
  {
   "cell_type": "code",
   "execution_count": 50,
   "id": "58e062b9",
   "metadata": {},
   "outputs": [
    {
     "data": {
      "text/plain": [
       "115"
      ]
     },
     "execution_count": 50,
     "metadata": {},
     "output_type": "execute_result"
    }
   ],
   "source": [
    "reduce(lambda x, y : x + y, l)"
   ]
  },
  {
   "cell_type": "code",
   "execution_count": 51,
   "id": "4c79bcea",
   "metadata": {},
   "outputs": [],
   "source": [
    "ll = ['adsf',\"Hello\",\"World\"]"
   ]
  },
  {
   "cell_type": "code",
   "execution_count": 52,
   "id": "86a22161",
   "metadata": {},
   "outputs": [
    {
     "data": {
      "text/plain": [
       "'adsfHelloWorld'"
      ]
     },
     "execution_count": 52,
     "metadata": {},
     "output_type": "execute_result"
    }
   ],
   "source": [
    "reduce(lambda x, y : x + y, ll)"
   ]
  },
  {
   "cell_type": "code",
   "execution_count": null,
   "id": "ba405d63",
   "metadata": {},
   "outputs": [],
   "source": []
  },
  {
   "cell_type": "code",
   "execution_count": 53,
   "id": "33336cf3",
   "metadata": {},
   "outputs": [
    {
     "data": {
      "text/plain": [
       "115"
      ]
     },
     "execution_count": 53,
     "metadata": {},
     "output_type": "execute_result"
    }
   ],
   "source": [
    "reduce(lambda x, y : x + y,l)"
   ]
  },
  {
   "cell_type": "code",
   "execution_count": 54,
   "id": "a4e1d88a",
   "metadata": {},
   "outputs": [],
   "source": [
    "l = [5, 6, 700, 8, 10,1]"
   ]
  },
  {
   "cell_type": "code",
   "execution_count": 55,
   "id": "e4f255d6",
   "metadata": {},
   "outputs": [
    {
     "data": {
      "text/plain": [
       "730"
      ]
     },
     "execution_count": 55,
     "metadata": {},
     "output_type": "execute_result"
    }
   ],
   "source": [
    "sum(l)"
   ]
  },
  {
   "cell_type": "code",
   "execution_count": 56,
   "id": "4a9fb4cd",
   "metadata": {},
   "outputs": [
    {
     "data": {
      "text/plain": [
       "700"
      ]
     },
     "execution_count": 56,
     "metadata": {},
     "output_type": "execute_result"
    }
   ],
   "source": [
    "reduce(lambda x , y : x if x > y else y,l)"
   ]
  },
  {
   "cell_type": "code",
   "execution_count": 57,
   "id": "e6720015-940d-4b27-a0af-b93b89478a1b",
   "metadata": {},
   "outputs": [
    {
     "data": {
      "text/plain": [
       "48"
      ]
     },
     "execution_count": 57,
     "metadata": {},
     "output_type": "execute_result"
    }
   ],
   "source": [
    "l = [2,3,2,1,4]\n",
    "reduce(lambda a,b : a*b , l)"
   ]
  },
  {
   "cell_type": "code",
   "execution_count": 58,
   "id": "7084f25e",
   "metadata": {},
   "outputs": [
    {
     "data": {
      "text/plain": [
       "[2, 3, 2, 1, 4]"
      ]
     },
     "execution_count": 58,
     "metadata": {},
     "output_type": "execute_result"
    }
   ],
   "source": [
    "l"
   ]
  },
  {
   "cell_type": "code",
   "execution_count": 59,
   "id": "870f760f-6368-432d-9eaf-dc5ed7a811ad",
   "metadata": {},
   "outputs": [],
   "source": [
    "l = [2, 3, 2, 1, 4, 9]"
   ]
  },
  {
   "cell_type": "code",
   "execution_count": 60,
   "id": "9c93b2d0",
   "metadata": {},
   "outputs": [
    {
     "data": {
      "text/plain": [
       "9"
      ]
     },
     "execution_count": 60,
     "metadata": {},
     "output_type": "execute_result"
    }
   ],
   "source": [
    "max(l)"
   ]
  },
  {
   "cell_type": "code",
   "execution_count": 61,
   "id": "1b4f93b1",
   "metadata": {},
   "outputs": [
    {
     "data": {
      "text/plain": [
       "[2, 3, 2, 1, 4, 9]"
      ]
     },
     "execution_count": 61,
     "metadata": {},
     "output_type": "execute_result"
    }
   ],
   "source": [
    "l"
   ]
  },
  {
   "cell_type": "code",
   "execution_count": 62,
   "id": "b2886497",
   "metadata": {},
   "outputs": [],
   "source": [
    "large_num = lambda a , b : a if a > b else b"
   ]
  },
  {
   "cell_type": "code",
   "execution_count": 63,
   "id": "6662d0d3",
   "metadata": {},
   "outputs": [
    {
     "data": {
      "text/plain": [
       "50"
      ]
     },
     "execution_count": 63,
     "metadata": {},
     "output_type": "execute_result"
    }
   ],
   "source": [
    "large_num(50,9)"
   ]
  },
  {
   "cell_type": "code",
   "execution_count": 64,
   "id": "bc7ab190",
   "metadata": {},
   "outputs": [],
   "source": [
    "l1 = [2, 3, 20, 1, 4, 9]"
   ]
  },
  {
   "cell_type": "code",
   "execution_count": 65,
   "id": "dfb57da4",
   "metadata": {},
   "outputs": [
    {
     "data": {
      "text/plain": [
       "20"
      ]
     },
     "execution_count": 65,
     "metadata": {},
     "output_type": "execute_result"
    }
   ],
   "source": [
    "reduce(large_num,l1)"
   ]
  },
  {
   "cell_type": "code",
   "execution_count": 66,
   "id": "9d41485a-1f04-441b-9d77-9e06c0bed630",
   "metadata": {},
   "outputs": [
    {
     "data": {
      "text/plain": [
       "9"
      ]
     },
     "execution_count": 66,
     "metadata": {},
     "output_type": "execute_result"
    }
   ],
   "source": [
    "# max value\n",
    "\n",
    "reduce(lambda a,b : a if a>b else b , l)"
   ]
  },
  {
   "cell_type": "code",
   "execution_count": 67,
   "id": "3bbaec31-e433-4b80-a583-a8e1625fe129",
   "metadata": {},
   "outputs": [],
   "source": [
    "n  = 5\n",
    "fact = reduce(lambda a,b :a*b ,range(1,n+1))"
   ]
  },
  {
   "cell_type": "code",
   "execution_count": 68,
   "id": "338080d8-c2ac-4286-afdc-0e68ec2b3a48",
   "metadata": {},
   "outputs": [
    {
     "data": {
      "text/plain": [
       "120"
      ]
     },
     "execution_count": 68,
     "metadata": {},
     "output_type": "execute_result"
    }
   ],
   "source": [
    "fact"
   ]
  },
  {
   "cell_type": "code",
   "execution_count": 48,
   "id": "042c719d-1589-4b37-a56d-f98194af221b",
   "metadata": {},
   "outputs": [],
   "source": [
    "def test(a,b):\n",
    "    return a*b "
   ]
  },
  {
   "cell_type": "code",
   "execution_count": 49,
   "id": "b94adfc5-8c95-440d-9376-e90572146beb",
   "metadata": {},
   "outputs": [],
   "source": [
    "fact1 = reduce(test,range(1,n+1))"
   ]
  },
  {
   "cell_type": "code",
   "execution_count": 50,
   "id": "fc6e38bd-2fe8-4fb6-8a74-0532e00a64d1",
   "metadata": {},
   "outputs": [
    {
     "data": {
      "text/plain": [
       "120"
      ]
     },
     "execution_count": 50,
     "metadata": {},
     "output_type": "execute_result"
    }
   ],
   "source": [
    "fact1"
   ]
  },
  {
   "cell_type": "code",
   "execution_count": 51,
   "id": "09575bf8-507c-4541-b8c5-e217a28a85a7",
   "metadata": {},
   "outputs": [
    {
     "data": {
      "text/plain": [
       "16"
      ]
     },
     "execution_count": 51,
     "metadata": {},
     "output_type": "execute_result"
    }
   ],
   "source": [
    "reduce( lambda a,b : a*b,   [i for i in l if i%2==0])"
   ]
  },
  {
   "cell_type": "code",
   "execution_count": null,
   "id": "82b0f5e4",
   "metadata": {},
   "outputs": [],
   "source": []
  },
  {
   "cell_type": "markdown",
   "id": "de20ed17",
   "metadata": {},
   "source": [
    "# Filter"
   ]
  },
  {
   "cell_type": "code",
   "execution_count": 21,
   "id": "55a1937c-1824-40df-9cd5-ba76508fcff0",
   "metadata": {},
   "outputs": [],
   "source": [
    "l = [3,4,5,6,76,3,32,2,4,5,5,5]"
   ]
  },
  {
   "cell_type": "markdown",
   "id": "6fc2933f",
   "metadata": {},
   "source": [
    "filter(func,iterable)"
   ]
  },
  {
   "cell_type": "code",
   "execution_count": 7,
   "id": "0d2b9824",
   "metadata": {},
   "outputs": [],
   "source": [
    "abc = ['abcd', 'sourav', 'Rohan', 'Python Class']"
   ]
  },
  {
   "cell_type": "code",
   "execution_count": 17,
   "id": "a843d3e4",
   "metadata": {},
   "outputs": [
    {
     "data": {
      "text/plain": [
       "['sourav', 'Python Class']"
      ]
     },
     "execution_count": 17,
     "metadata": {},
     "output_type": "execute_result"
    }
   ],
   "source": [
    "list(filter(lambda x : True if len(x) > 5 else False,abc))"
   ]
  },
  {
   "cell_type": "code",
   "execution_count": 18,
   "id": "d210c02d",
   "metadata": {},
   "outputs": [
    {
     "data": {
      "text/plain": [
       "[6, 8]"
      ]
     },
     "execution_count": 18,
     "metadata": {},
     "output_type": "execute_result"
    }
   ],
   "source": [
    "[i for i in l if i % 2 == 0]"
   ]
  },
  {
   "cell_type": "code",
   "execution_count": 22,
   "id": "437d220e",
   "metadata": {},
   "outputs": [
    {
     "data": {
      "text/plain": [
       "[3, 4, 5, 6, 76, 3, 32, 2, 4, 5, 5, 5]"
      ]
     },
     "execution_count": 22,
     "metadata": {},
     "output_type": "execute_result"
    }
   ],
   "source": [
    "l"
   ]
  },
  {
   "cell_type": "code",
   "execution_count": 23,
   "id": "93888ee4",
   "metadata": {},
   "outputs": [
    {
     "data": {
      "text/plain": [
       "[6, 76, 32]"
      ]
     },
     "execution_count": 23,
     "metadata": {},
     "output_type": "execute_result"
    }
   ],
   "source": [
    "list(filter(lambda a :True if a > 5 else False,l))"
   ]
  },
  {
   "cell_type": "code",
   "execution_count": 24,
   "id": "1715bfe7",
   "metadata": {},
   "outputs": [],
   "source": [
    "even = lambda a :True if a % 2 == 0 else False"
   ]
  },
  {
   "cell_type": "code",
   "execution_count": 77,
   "id": "537d382d",
   "metadata": {},
   "outputs": [
    {
     "data": {
      "text/plain": [
       "False"
      ]
     },
     "execution_count": 77,
     "metadata": {},
     "output_type": "execute_result"
    }
   ],
   "source": [
    "even(21)"
   ]
  },
  {
   "cell_type": "code",
   "execution_count": 78,
   "id": "670108b0",
   "metadata": {},
   "outputs": [
    {
     "data": {
      "text/plain": [
       "[3, 4, 5, 6, 76, 3, 32, 2, 4, 5, 5, 5]"
      ]
     },
     "execution_count": 78,
     "metadata": {},
     "output_type": "execute_result"
    }
   ],
   "source": [
    "l"
   ]
  },
  {
   "cell_type": "code",
   "execution_count": 25,
   "id": "063477d2",
   "metadata": {},
   "outputs": [
    {
     "data": {
      "text/plain": [
       "[4, 6, 76, 32, 2, 4]"
      ]
     },
     "execution_count": 25,
     "metadata": {},
     "output_type": "execute_result"
    }
   ],
   "source": [
    "list(filter(even,l))"
   ]
  },
  {
   "cell_type": "code",
   "execution_count": 26,
   "id": "e304ac16",
   "metadata": {},
   "outputs": [
    {
     "data": {
      "text/plain": [
       "[3, 3]"
      ]
     },
     "execution_count": 26,
     "metadata": {},
     "output_type": "execute_result"
    }
   ],
   "source": [
    "list(filter(lambda b : b == 3,l))"
   ]
  },
  {
   "cell_type": "code",
   "execution_count": 27,
   "id": "9341cefe",
   "metadata": {},
   "outputs": [
    {
     "data": {
      "text/plain": [
       "[4, 6, 76, 32, 2, 4]"
      ]
     },
     "execution_count": 27,
     "metadata": {},
     "output_type": "execute_result"
    }
   ],
   "source": [
    "list(filter(lambda x : x % 2 == 0,l))"
   ]
  },
  {
   "cell_type": "code",
   "execution_count": 28,
   "id": "e6aeac7a-fe76-4730-9477-3bced9b5a31d",
   "metadata": {},
   "outputs": [],
   "source": [
    "s = \"Gaurav Narwal\""
   ]
  },
  {
   "cell_type": "code",
   "execution_count": 29,
   "id": "b419f9d5-5a6c-4e5a-ad74-a812b3514f3c",
   "metadata": {},
   "outputs": [
    {
     "data": {
      "text/plain": [
       "['G', 'N']"
      ]
     },
     "execution_count": 29,
     "metadata": {},
     "output_type": "execute_result"
    }
   ],
   "source": [
    "list(filter(lambda a : a.isupper() , s ))"
   ]
  },
  {
   "cell_type": "code",
   "execution_count": 30,
   "id": "ca75a148-9b43-4b5f-9058-88886982aa3f",
   "metadata": {},
   "outputs": [],
   "source": [
    "l = [\"Abhay\" , \"gauuri\" ,\"monu\" , \"aditya\"]"
   ]
  },
  {
   "cell_type": "code",
   "execution_count": 31,
   "id": "d0aa7ed9-354c-4401-8593-3fb457666f11",
   "metadata": {},
   "outputs": [
    {
     "data": {
      "text/plain": [
       "['Abhay', 'gauuri', 'aditya']"
      ]
     },
     "execution_count": 31,
     "metadata": {},
     "output_type": "execute_result"
    }
   ],
   "source": [
    "list(filter(lambda a : len(a)>4 , l))"
   ]
  },
  {
   "cell_type": "code",
   "execution_count": 32,
   "id": "291aa686-a56e-4fd0-9551-e3e49be2ebd9",
   "metadata": {},
   "outputs": [
    {
     "data": {
      "text/plain": [
       "['Abhay', 'gauuri', 'monu', 'aditya']"
      ]
     },
     "execution_count": 32,
     "metadata": {},
     "output_type": "execute_result"
    }
   ],
   "source": [
    "l"
   ]
  },
  {
   "cell_type": "code",
   "execution_count": 33,
   "id": "6c413c8b-33e8-47d4-a53d-7b632e16150e",
   "metadata": {},
   "outputs": [
    {
     "data": {
      "text/plain": [
       "['gauuri']"
      ]
     },
     "execution_count": 33,
     "metadata": {},
     "output_type": "execute_result"
    }
   ],
   "source": [
    "list(filter(lambda a : a[0]=='g', l))"
   ]
  },
  {
   "cell_type": "code",
   "execution_count": 34,
   "id": "d2601bbb-7ebb-4db5-b592-34fe71dd1896",
   "metadata": {},
   "outputs": [
    {
     "data": {
      "text/plain": [
       "['asdf', 'Monu']"
      ]
     },
     "execution_count": 34,
     "metadata": {},
     "output_type": "execute_result"
    }
   ],
   "source": [
    "lj=[\"asdf\",\"gaurav\",\"abhay\",\"Monu\"]\n",
    "list(filter(lambda a: len(a)<=4, lj))\n"
   ]
  },
  {
   "cell_type": "markdown",
   "id": "e8fe5c7c",
   "metadata": {},
   "source": [
    "### Zip Function"
   ]
  },
  {
   "cell_type": "code",
   "execution_count": 35,
   "id": "95261714",
   "metadata": {},
   "outputs": [],
   "source": [
    "l1 = [1,2,3,4,5]\n",
    "l2 = [\"AB\",\"CD\",\"EF\",\"GH\",\"IJ\"]"
   ]
  },
  {
   "cell_type": "code",
   "execution_count": 38,
   "id": "6ded08e7",
   "metadata": {},
   "outputs": [
    {
     "name": "stdout",
     "output_type": "stream",
     "text": [
      "1 AB\n",
      "2 CD\n",
      "3 EF\n",
      "4 GH\n",
      "5 IJ\n"
     ]
    }
   ],
   "source": [
    "for i,j in zip(l1,l2):\n",
    "    print(i,j)"
   ]
  },
  {
   "cell_type": "code",
   "execution_count": 39,
   "id": "4c993ffd",
   "metadata": {},
   "outputs": [
    {
     "name": "stdout",
     "output_type": "stream",
     "text": [
      "1 AB 1\n",
      "2 CD 2\n",
      "3 EF 3\n",
      "4 GH 4\n",
      "5 IJ 5\n"
     ]
    }
   ],
   "source": [
    "for i,j,a in zip(l1,l2,l1):\n",
    "    print(i,j,a)"
   ]
  },
  {
   "cell_type": "code",
   "execution_count": 40,
   "id": "deed3d89",
   "metadata": {},
   "outputs": [
    {
     "name": "stdout",
     "output_type": "stream",
     "text": [
      "1 AB\n",
      "2 CD\n",
      "3 EF\n",
      "4 GH\n",
      "5 IJ\n"
     ]
    }
   ],
   "source": [
    "for i, j in zip(l1,l2):\n",
    "    print(i, j)"
   ]
  },
  {
   "cell_type": "code",
   "execution_count": null,
   "id": "b2e65643",
   "metadata": {},
   "outputs": [],
   "source": []
  },
  {
   "cell_type": "markdown",
   "id": "52087bbb",
   "metadata": {},
   "source": [
    "## Enumerate"
   ]
  },
  {
   "cell_type": "code",
   "execution_count": 41,
   "id": "3ef177d7",
   "metadata": {},
   "outputs": [
    {
     "name": "stdout",
     "output_type": "stream",
     "text": [
      "(0, 'AB')\n",
      "(1, 'CD')\n",
      "(2, 'EF')\n",
      "(3, 'GH')\n",
      "(4, 'IJ')\n"
     ]
    }
   ],
   "source": [
    "for i in enumerate(l2):\n",
    "    print(i)"
   ]
  },
  {
   "cell_type": "code",
   "execution_count": 42,
   "id": "8e24aa37",
   "metadata": {},
   "outputs": [
    {
     "name": "stdout",
     "output_type": "stream",
     "text": [
      "1 AB\n",
      "2 CD\n",
      "3 EF\n",
      "4 GH\n",
      "5 IJ\n"
     ]
    }
   ],
   "source": [
    "for i,j in enumerate(l2):\n",
    "    print(i+1,j)"
   ]
  },
  {
   "cell_type": "code",
   "execution_count": 112,
   "id": "f9c2f050",
   "metadata": {},
   "outputs": [
    {
     "data": {
      "text/plain": [
       "80"
      ]
     },
     "execution_count": 112,
     "metadata": {},
     "output_type": "execute_result"
    }
   ],
   "source": [
    "large_num(10,80)"
   ]
  },
  {
   "cell_type": "code",
   "execution_count": 113,
   "id": "9c572d16",
   "metadata": {},
   "outputs": [
    {
     "name": "stdout",
     "output_type": "stream",
     "text": [
      "56\n"
     ]
    }
   ],
   "source": [
    "large_value = l[0]\n",
    "for i in l:\n",
    "    \n",
    "    large_value = large_num(i,large_value)\n",
    "print(large_value)"
   ]
  },
  {
   "cell_type": "code",
   "execution_count": 100,
   "id": "b2da53a8",
   "metadata": {},
   "outputs": [],
   "source": [
    "def new_reduce(func,iterable_value):\n",
    "    cal_num = iterable_value[0]\n",
    "    for i,j in enumerate(iterable_value):\n",
    "        if i == 0:\n",
    "            continue\n",
    "        cal_num = func(cal_num,j)\n",
    "    return cal_numz"
   ]
  },
  {
   "cell_type": "code",
   "execution_count": 115,
   "id": "822a5aa5",
   "metadata": {},
   "outputs": [],
   "source": [
    "l = [10,2,3,4,10,2,9]"
   ]
  },
  {
   "cell_type": "code",
   "execution_count": 116,
   "id": "805077b3",
   "metadata": {},
   "outputs": [
    {
     "data": {
      "text/plain": [
       "0.002314814814814815"
      ]
     },
     "execution_count": 116,
     "metadata": {},
     "output_type": "execute_result"
    }
   ],
   "source": [
    "new_reduce(lambda a,b : a / b, l)"
   ]
  },
  {
   "cell_type": "code",
   "execution_count": 117,
   "id": "ecd6a2a6",
   "metadata": {},
   "outputs": [
    {
     "data": {
      "text/plain": [
       "0.002314814814814815"
      ]
     },
     "execution_count": 117,
     "metadata": {},
     "output_type": "execute_result"
    }
   ],
   "source": [
    "reduce(lambda a,b : a / b , l)"
   ]
  },
  {
   "cell_type": "code",
   "execution_count": 118,
   "id": "6ef0da8f",
   "metadata": {},
   "outputs": [
    {
     "data": {
      "text/plain": [
       "0.002314814814814815"
      ]
     },
     "execution_count": 118,
     "metadata": {},
     "output_type": "execute_result"
    }
   ],
   "source": [
    "branded_reduce(lambda a,b : a / b , l)"
   ]
  },
  {
   "cell_type": "code",
   "execution_count": 109,
   "id": "5f78821d",
   "metadata": {},
   "outputs": [],
   "source": [
    "def branded_reduce(func,iterable_value):\n",
    "    num = iterable_value[1]\n",
    "    for x,i in enumerate(iterable_value):\n",
    "        \n",
    "        if x == 1:\n",
    "            continue\n",
    "        if x == 0:\n",
    "            num = func(i,num)\n",
    "        else:\n",
    "            num = func(num,i)\n",
    "\n",
    "    return num"
   ]
  },
  {
   "cell_type": "code",
   "execution_count": 91,
   "id": "f383a4c1",
   "metadata": {},
   "outputs": [
    {
     "data": {
      "text/plain": [
       "24"
      ]
     },
     "execution_count": 91,
     "metadata": {},
     "output_type": "execute_result"
    }
   ],
   "source": [
    "branded_reduce(lambda a,b : a * b , [1,2,3,2,2])"
   ]
  },
  {
   "cell_type": "code",
   "execution_count": 163,
   "id": "e11bf6e7",
   "metadata": {},
   "outputs": [
    {
     "data": {
      "text/plain": [
       "2.5"
      ]
     },
     "execution_count": 163,
     "metadata": {},
     "output_type": "execute_result"
    }
   ],
   "source": [
    "reduce(lambda a, b : a / b,[100,20,2])"
   ]
  },
  {
   "cell_type": "code",
   "execution_count": 165,
   "id": "dd487a27",
   "metadata": {},
   "outputs": [
    {
     "data": {
      "text/plain": [
       "2.5"
      ]
     },
     "execution_count": 165,
     "metadata": {},
     "output_type": "execute_result"
    }
   ],
   "source": [
    "branded_reduce(lambda a, b : a / b,[100,20,2])"
   ]
  },
  {
   "cell_type": "code",
   "execution_count": 166,
   "id": "8a438eac",
   "metadata": {},
   "outputs": [],
   "source": [
    "x = [1,2,3,1,2,2,4]"
   ]
  },
  {
   "cell_type": "code",
   "execution_count": 167,
   "id": "62732ad9",
   "metadata": {},
   "outputs": [],
   "source": [
    "add = lambda a, b : a + b"
   ]
  },
  {
   "cell_type": "code",
   "execution_count": 168,
   "id": "9f91232f",
   "metadata": {
    "scrolled": true
   },
   "outputs": [
    {
     "data": {
      "text/plain": [
       "15"
      ]
     },
     "execution_count": 168,
     "metadata": {},
     "output_type": "execute_result"
    }
   ],
   "source": [
    "branded_reduce(add,x)"
   ]
  },
  {
   "cell_type": "code",
   "execution_count": 169,
   "id": "71f55e8a",
   "metadata": {},
   "outputs": [
    {
     "data": {
      "text/plain": [
       "74"
      ]
     },
     "execution_count": 169,
     "metadata": {},
     "output_type": "execute_result"
    }
   ],
   "source": [
    "branded_reduce(large_num,l)"
   ]
  },
  {
   "cell_type": "code",
   "execution_count": null,
   "id": "3e01dab8",
   "metadata": {},
   "outputs": [],
   "source": []
  },
  {
   "cell_type": "code",
   "execution_count": 39,
   "id": "6ebecf72",
   "metadata": {},
   "outputs": [
    {
     "name": "stdout",
     "output_type": "stream",
     "text": [
      "9\n",
      "9\n",
      "9\n",
      "50\n",
      "50\n",
      "74\n",
      "74\n"
     ]
    },
    {
     "data": {
      "text/plain": [
       "74"
      ]
     },
     "execution_count": 39,
     "metadata": {},
     "output_type": "execute_result"
    }
   ],
   "source": [
    "branded_reduce(large_num,l)"
   ]
  },
  {
   "cell_type": "code",
   "execution_count": 40,
   "id": "46ea3f11",
   "metadata": {},
   "outputs": [],
   "source": [
    "x = [1,2,3]"
   ]
  },
  {
   "cell_type": "code",
   "execution_count": 41,
   "id": "265b5ecb",
   "metadata": {},
   "outputs": [
    {
     "name": "stdout",
     "output_type": "stream",
     "text": [
      "9\n",
      "18\n",
      "23\n",
      "73\n",
      "109\n",
      "183\n",
      "251\n"
     ]
    },
    {
     "data": {
      "text/plain": [
       "271"
      ]
     },
     "execution_count": 41,
     "metadata": {},
     "output_type": "execute_result"
    }
   ],
   "source": []
  },
  {
   "cell_type": "code",
   "execution_count": null,
   "id": "c24ef781",
   "metadata": {},
   "outputs": [],
   "source": []
  }
 ],
 "metadata": {
  "kernelspec": {
   "display_name": "Python 3 (ipykernel)",
   "language": "python",
   "name": "python3"
  },
  "language_info": {
   "codemirror_mode": {
    "name": "ipython",
    "version": 3
   },
   "file_extension": ".py",
   "mimetype": "text/x-python",
   "name": "python",
   "nbconvert_exporter": "python",
   "pygments_lexer": "ipython3",
   "version": "3.9.13"
  }
 },
 "nbformat": 4,
 "nbformat_minor": 5
}
