{
 "cells": [
  {
   "cell_type": "raw",
   "id": "63c1fcde",
   "metadata": {},
   "source": [
    "if condition:\n",
    "    code\n",
    "else:\n",
    "    code()"
   ]
  },
  {
   "cell_type": "raw",
   "id": "ec9c9014",
   "metadata": {},
   "source": [
    "if condition:\n",
    "    code\n",
    "elif condition:\n",
    "    code\n",
    "elif condition:\n",
    "    code\n",
    "else:\n",
    "    code\n",
    "    \n"
   ]
  },
  {
   "cell_type": "code",
   "execution_count": 13,
   "id": "ffd0e135",
   "metadata": {},
   "outputs": [],
   "source": [
    "s_money = 1000\n",
    "p_money = 9000"
   ]
  },
  {
   "cell_type": "code",
   "execution_count": 17,
   "id": "4ec628fa",
   "metadata": {},
   "outputs": [
    {
     "name": "stdout",
     "output_type": "stream",
     "text": [
      "Yes\n"
     ]
    }
   ],
   "source": [
    "if s_money >= 10000:\n",
    "    print(\"Yes\")\n",
    "elif (p_money + s_money) >= 10000:\n",
    "    print(\"Yes\")\n",
    "else:\n",
    "    print(\"No\")"
   ]
  },
  {
   "cell_type": "code",
   "execution_count": 20,
   "id": "e72f9eb2",
   "metadata": {},
   "outputs": [
    {
     "name": "stdout",
     "output_type": "stream",
     "text": [
      "Yes\n"
     ]
    }
   ],
   "source": [
    "if (s_money >= 10000) or ((p_money + s_money) >= 10000):\n",
    "    print(\"Yes\")\n",
    "else:\n",
    "    print(\"No\")"
   ]
  },
  {
   "cell_type": "code",
   "execution_count": 21,
   "id": "beba2e6e",
   "metadata": {},
   "outputs": [],
   "source": [
    "salary = 10000"
   ]
  },
  {
   "cell_type": "code",
   "execution_count": 22,
   "id": "501ae195",
   "metadata": {},
   "outputs": [
    {
     "name": "stdout",
     "output_type": "stream",
     "text": [
      "Good\n"
     ]
    }
   ],
   "source": [
    "if salary >= 10000:\n",
    "    print(\"Good\")\n",
    "else:\n",
    "    print(\"Not Good\")"
   ]
  },
  {
   "cell_type": "code",
   "execution_count": 23,
   "id": "c4845893",
   "metadata": {},
   "outputs": [],
   "source": [
    "salary = 3000"
   ]
  },
  {
   "cell_type": "code",
   "execution_count": 30,
   "id": "6b1145c3",
   "metadata": {},
   "outputs": [
    {
     "name": "stdout",
     "output_type": "stream",
     "text": [
      "Not Good\n"
     ]
    }
   ],
   "source": [
    "if salary >= 10000:\n",
    "    print(\"Good\")\n",
    "elif (salary >= 5000) and (salary < 10000):\n",
    "    print(\"Avg\")\n",
    "else:\n",
    "    print(\"Not Good\")"
   ]
  },
  {
   "cell_type": "code",
   "execution_count": 25,
   "id": "ad1a9f68",
   "metadata": {},
   "outputs": [
    {
     "name": "stdout",
     "output_type": "stream",
     "text": [
      "eligible for license\n"
     ]
    }
   ],
   "source": [
    "age = 50\n",
    "if age>=18:\n",
    "    print(\"eligible for license\")\n",
    "else:\n",
    "    print(\"not eligible\")"
   ]
  },
  {
   "cell_type": "code",
   "execution_count": 30,
   "id": "bc8ddfbd",
   "metadata": {},
   "outputs": [],
   "source": [
    "age = 82"
   ]
  },
  {
   "cell_type": "code",
   "execution_count": 31,
   "id": "211d652b",
   "metadata": {},
   "outputs": [
    {
     "name": "stdout",
     "output_type": "stream",
     "text": [
      "approve the license\n"
     ]
    }
   ],
   "source": [
    "if age >= 18:\n",
    "    print('approve the license')\n",
    "elif age<=80:\n",
    "    print ('approve the license')\n",
    "else:\n",
    "    print('not approve')"
   ]
  },
  {
   "cell_type": "code",
   "execution_count": 33,
   "id": "5971a236",
   "metadata": {},
   "outputs": [
    {
     "name": "stdout",
     "output_type": "stream",
     "text": [
      "no\n"
     ]
    }
   ],
   "source": [
    "age = 180\n",
    "if age >= 18 and age < 80:\n",
    "    print(\"driving license\")\n",
    "else:\n",
    "    print(\"no\")"
   ]
  },
  {
   "cell_type": "code",
   "execution_count": null,
   "id": "70327d35",
   "metadata": {},
   "outputs": [],
   "source": []
  },
  {
   "cell_type": "code",
   "execution_count": 45,
   "id": "9d49c685",
   "metadata": {
    "id": "cb9bc683-3a30-4e5e-b491-60addbe37b00",
    "outputId": "6bbc262d-7f94-4362-ffa3-464b91466f4c"
   },
   "outputs": [
    {
     "name": "stdout",
     "output_type": "stream",
     "text": [
      "excellent performance your grade is B\n"
     ]
    }
   ],
   "source": [
    "score=75\n",
    "\n",
    "if score >= 90:\n",
    "    print(\"excellent performance your grade is A+\")\n",
    "elif score >=80:\n",
    "    print(\"excellent performance your grade is A\")\n",
    "elif score >=70:\n",
    "    print(\"excellent performance your grade is B\")\n",
    "else:\n",
    "    print(\"excellent performance your grade is C\")\n"
   ]
  },
  {
   "cell_type": "code",
   "execution_count": 48,
   "id": "fdb4cee1-35c8-45d1-b490-78f47cfc95c7",
   "metadata": {
    "id": "fdb4cee1-35c8-45d1-b490-78f47cfc95c7",
    "outputId": "b9898b1a-5299-427a-be89-28bde1f8f12e",
    "scrolled": true
   },
   "outputs": [
    {
     "name": "stdout",
     "output_type": "stream",
     "text": [
      "Please enter the time 11\n",
      "Morning\n"
     ]
    }
   ],
   "source": [
    "time = int(input(\"Please enter the time \"))\n",
    "\n",
    "if time < 0:\n",
    "        print(\"Invalid\")\n",
    "elif 0 <= time <= 5:\n",
    "        print(\"Night\")\n",
    "elif 6<= time <= 11:\n",
    "        print(\"Morning\")\n",
    "elif 12 <= time <= 16:\n",
    "        print(\"Afternoon\")\n",
    "elif 17 <= time <= 23:\n",
    "        print(\"Evening\")\n",
    "else:\n",
    "        print(\"Invalid\")\n"
   ]
  },
  {
   "cell_type": "code",
   "execution_count": null,
   "id": "2936ddc7",
   "metadata": {},
   "outputs": [],
   "source": []
  },
  {
   "cell_type": "code",
   "execution_count": null,
   "id": "4ae956c8-ff4e-4b99-9d9a-3c20a46daa37",
   "metadata": {
    "id": "4ae956c8-ff4e-4b99-9d9a-3c20a46daa37"
   },
   "outputs": [],
   "source": [
    "# find largest number from 3 given numbers"
   ]
  },
  {
   "cell_type": "code",
   "execution_count": null,
   "id": "766442c0",
   "metadata": {},
   "outputs": [],
   "source": []
  },
  {
   "cell_type": "code",
   "execution_count": 1,
   "id": "ee398835",
   "metadata": {},
   "outputs": [
    {
     "name": "stdout",
     "output_type": "stream",
     "text": [
      "10000 N2 is largest number\n"
     ]
    }
   ],
   "source": [
    "n1 = 10\n",
    "n2 = 10000\n",
    "n3 = 1000\n",
    "\n",
    "if n1==n2==n3:\n",
    "    print(\"same\")\n",
    "elif n1 > n2 and n1 > n3:\n",
    "    print(n1,\"N1 is largest number\")\n",
    "elif n2 > n1 and n2 > n3:\n",
    "    print(n2,\"N2 is largest number\")\n",
    "else:\n",
    "    print(n3,\"N3 is largest number\")"
   ]
  },
  {
   "cell_type": "code",
   "execution_count": null,
   "id": "886b37d8",
   "metadata": {},
   "outputs": [],
   "source": []
  },
  {
   "cell_type": "code",
   "execution_count": 28,
   "id": "56a5eb74",
   "metadata": {},
   "outputs": [
    {
     "name": "stdout",
     "output_type": "stream",
     "text": [
      "Enter First Num 4\n",
      "Enter Second Num2\n",
      "Enter your operator (+,-,*,/):- +\n",
      "6\n"
     ]
    }
   ],
   "source": [
    "n1 = int(input(\"Enter First Num \"))\n",
    "n2 = int(input(\"Enter Second Num\"))\n",
    "operator = input(\"Enter your operator (+,-,*,/):- \")\n",
    "\n",
    "if operator == \"+\":\n",
    "    print(n1+n2)"
   ]
  },
  {
   "cell_type": "code",
   "execution_count": null,
   "id": "84d84baf",
   "metadata": {},
   "outputs": [],
   "source": []
  },
  {
   "cell_type": "code",
   "execution_count": 3,
   "id": "604d1b96",
   "metadata": {},
   "outputs": [
    {
     "name": "stdout",
     "output_type": "stream",
     "text": [
      "Enter first number:- 8\n",
      "Enter second number:- 2\n",
      "Enter your operator (+,-,*,/):- *\n",
      "Final Value is  16\n"
     ]
    }
   ],
   "source": [
    "num1 = int(input(\"Enter first number:- \"))\n",
    "num2 = int(input(\"Enter second number:- \"))\n",
    "operator = input(\"Enter your operator (+,-,*,/):- \")\n",
    "\n",
    "if operator == \"+\":\n",
    "    print(\"Final Value is \",num1+num2)\n",
    "elif operator == \"-\":\n",
    "    print(\"Final Value is \",num1 - num2)\n",
    "elif operator == \"*\":\n",
    "    print(\"Final Value is \",num1 * num2)\n",
    "elif operator == \"/\":\n",
    "    if num2 == 0:\n",
    "        print(\"0 is not allowed in Num2\")\n",
    "    else:\n",
    "        print(\"Final Value is \",num1 / num2)\n",
    "else:\n",
    "    print(\"Invalid Operator\")"
   ]
  },
  {
   "cell_type": "code",
   "execution_count": 14,
   "id": "d687a310",
   "metadata": {},
   "outputs": [],
   "source": [
    "v = \"Car\"\n",
    "money = 2000"
   ]
  },
  {
   "cell_type": "code",
   "execution_count": 16,
   "id": "0bcf20a3",
   "metadata": {},
   "outputs": [
    {
     "name": "stdout",
     "output_type": "stream",
     "text": [
      "Car\n"
     ]
    }
   ],
   "source": [
    "if v in ['Car',\"Bike\"]:\n",
    "    if money >= 100 and money < 500:\n",
    "        print(\"Then Bike\")\n",
    "    elif money >= 500:\n",
    "        print(\"Car\")\n",
    "    else:\n",
    "        print(\"Online\")\n",
    "else:\n",
    "    print(\"Online\")"
   ]
  },
  {
   "cell_type": "code",
   "execution_count": 17,
   "id": "a10d82e8",
   "metadata": {},
   "outputs": [
    {
     "name": "stdout",
     "output_type": "stream",
     "text": [
      "Enter your number5\n",
      "num is positive number\n"
     ]
    }
   ],
   "source": [
    "num = int(input(\"Enter your number\"))\n",
    "\n",
    "if num > 0:\n",
    "    print(\"num is positive number\")\n",
    "else:\n",
    "    if num == 0:\n",
    "        print(\"num is Zero\")\n",
    "    else:\n",
    "        print(\"num is negative\")"
   ]
  },
  {
   "cell_type": "code",
   "execution_count": null,
   "id": "019f0a4e",
   "metadata": {},
   "outputs": [],
   "source": []
  },
  {
   "cell_type": "code",
   "execution_count": null,
   "id": "9c742841",
   "metadata": {},
   "outputs": [],
   "source": []
  },
  {
   "cell_type": "code",
   "execution_count": 20,
   "id": "46c5c789",
   "metadata": {},
   "outputs": [
    {
     "data": {
      "text/plain": [
       "[0, 1, 2, 3, 4, 5, 6, 7, 8, 9]"
      ]
     },
     "execution_count": 20,
     "metadata": {},
     "output_type": "execute_result"
    }
   ],
   "source": [
    "list(range(10))"
   ]
  },
  {
   "cell_type": "code",
   "execution_count": 22,
   "id": "d098eec0",
   "metadata": {
    "scrolled": true
   },
   "outputs": [
    {
     "data": {
      "text/plain": [
       "[50,\n",
       " 51,\n",
       " 52,\n",
       " 53,\n",
       " 54,\n",
       " 55,\n",
       " 56,\n",
       " 57,\n",
       " 58,\n",
       " 59,\n",
       " 60,\n",
       " 61,\n",
       " 62,\n",
       " 63,\n",
       " 64,\n",
       " 65,\n",
       " 66,\n",
       " 67,\n",
       " 68,\n",
       " 69,\n",
       " 70,\n",
       " 71,\n",
       " 72,\n",
       " 73,\n",
       " 74,\n",
       " 75,\n",
       " 76,\n",
       " 77,\n",
       " 78,\n",
       " 79]"
      ]
     },
     "execution_count": 22,
     "metadata": {},
     "output_type": "execute_result"
    }
   ],
   "source": [
    "list(range(50,80))"
   ]
  },
  {
   "cell_type": "code",
   "execution_count": 24,
   "id": "437aeb0f",
   "metadata": {},
   "outputs": [
    {
     "data": {
      "text/plain": [
       "[100, 200, 300, 400, 500, 600, 700, 800, 900, 1000]"
      ]
     },
     "execution_count": 24,
     "metadata": {},
     "output_type": "execute_result"
    }
   ],
   "source": [
    "list(range(100,1001,100))"
   ]
  },
  {
   "cell_type": "code",
   "execution_count": 25,
   "id": "a8664064",
   "metadata": {},
   "outputs": [
    {
     "data": {
      "text/plain": [
       "[1000, 900, 800, 700, 600, 500, 400, 300, 200, 100]"
      ]
     },
     "execution_count": 25,
     "metadata": {},
     "output_type": "execute_result"
    }
   ],
   "source": [
    "list(range(1000,99,-100))"
   ]
  },
  {
   "cell_type": "code",
   "execution_count": 26,
   "id": "c1fb6869",
   "metadata": {},
   "outputs": [
    {
     "data": {
      "text/plain": [
       "[0, 1, 2, 3, 4]"
      ]
     },
     "execution_count": 26,
     "metadata": {},
     "output_type": "execute_result"
    }
   ],
   "source": [
    "list(range(5))"
   ]
  },
  {
   "cell_type": "code",
   "execution_count": 27,
   "id": "f2c3e5fa",
   "metadata": {},
   "outputs": [
    {
     "data": {
      "text/plain": [
       "[0, 1, 2, 3, 4, 5, 6, 7, 8, 9]"
      ]
     },
     "execution_count": 27,
     "metadata": {},
     "output_type": "execute_result"
    }
   ],
   "source": [
    "list(range(10))"
   ]
  },
  {
   "cell_type": "code",
   "execution_count": null,
   "id": "4de5778c",
   "metadata": {},
   "outputs": [],
   "source": []
  },
  {
   "cell_type": "raw",
   "id": "cc631bb9",
   "metadata": {},
   "source": [
    "for anyvalue in iterable:\n",
    "    code"
   ]
  },
  {
   "cell_type": "code",
   "execution_count": null,
   "id": "998114b1",
   "metadata": {},
   "outputs": [],
   "source": []
  },
  {
   "cell_type": "code",
   "execution_count": 29,
   "id": "b952368a",
   "metadata": {},
   "outputs": [
    {
     "data": {
      "text/plain": [
       "range(0, 10)"
      ]
     },
     "execution_count": 29,
     "metadata": {},
     "output_type": "execute_result"
    }
   ],
   "source": [
    "range(10)"
   ]
  },
  {
   "cell_type": "code",
   "execution_count": 13,
   "id": "d38b4c34",
   "metadata": {},
   "outputs": [
    {
     "name": "stdout",
     "output_type": "stream",
     "text": [
      "a python\n",
      "b python\n",
      "c python\n",
      "d python\n"
     ]
    }
   ],
   "source": [
    "for i in \"abcd\":\n",
    "    print(i,\"python\")"
   ]
  },
  {
   "cell_type": "code",
   "execution_count": 19,
   "id": "d8933a60",
   "metadata": {},
   "outputs": [
    {
     "name": "stdout",
     "output_type": "stream",
     "text": [
      "Python\n",
      "Python\n",
      "Python\n",
      "Python\n",
      "Python\n"
     ]
    }
   ],
   "source": [
    "for i in range(5):\n",
    "    print(\"Python\")"
   ]
  },
  {
   "cell_type": "code",
   "execution_count": 21,
   "id": "689485d2",
   "metadata": {},
   "outputs": [
    {
     "name": "stdout",
     "output_type": "stream",
     "text": [
      "8-7-6-4-5-"
     ]
    }
   ],
   "source": [
    "for i in \"87645\":\n",
    "    print(i,end = \"-\")"
   ]
  },
  {
   "cell_type": "code",
   "execution_count": null,
   "id": "08c3f75f",
   "metadata": {},
   "outputs": [],
   "source": []
  },
  {
   "cell_type": "code",
   "execution_count": null,
   "id": "fe85cad7",
   "metadata": {},
   "outputs": [],
   "source": []
  },
  {
   "cell_type": "code",
   "execution_count": null,
   "id": "ac0bbfca",
   "metadata": {},
   "outputs": [],
   "source": []
  },
  {
   "cell_type": "code",
   "execution_count": 30,
   "id": "2c3e8e28",
   "metadata": {
    "scrolled": true
   },
   "outputs": [
    {
     "name": "stdout",
     "output_type": "stream",
     "text": [
      "0\n",
      "1\n",
      "2\n",
      "3\n",
      "4\n",
      "5\n",
      "6\n",
      "7\n",
      "8\n",
      "9\n"
     ]
    }
   ],
   "source": [
    "for i in range(10):\n",
    "    print(i)"
   ]
  },
  {
   "cell_type": "code",
   "execution_count": 33,
   "id": "b4d95c12",
   "metadata": {},
   "outputs": [
    {
     "name": "stdout",
     "output_type": "stream",
     "text": [
      "P\n",
      "y\n",
      "t\n",
      "h\n",
      "o\n",
      "n\n"
     ]
    }
   ],
   "source": [
    "for i in \"Python\":\n",
    "    print(i)"
   ]
  },
  {
   "cell_type": "code",
   "execution_count": 42,
   "id": "81824678",
   "metadata": {},
   "outputs": [
    {
     "name": "stdout",
     "output_type": "stream",
     "text": [
      "Python👍Python👍Python👍Python👍Python👍Python👍Python👍Python👍Python👍Python👍"
     ]
    }
   ],
   "source": [
    "for i in range(10):\n",
    "    print(\"Python\",end = \"👍\")"
   ]
  },
  {
   "cell_type": "code",
   "execution_count": 39,
   "id": "f0c29aec",
   "metadata": {},
   "outputs": [
    {
     "name": "stdout",
     "output_type": "stream",
     "text": [
      "Acb0abc\n"
     ]
    }
   ],
   "source": [
    "print(\"Acb\",end = \"0\")\n",
    "print(\"abc\")"
   ]
  },
  {
   "cell_type": "code",
   "execution_count": 45,
   "id": "86b48bb5",
   "metadata": {},
   "outputs": [
    {
     "name": "stdout",
     "output_type": "stream",
     "text": [
      "Python_Class\n"
     ]
    }
   ],
   "source": [
    "print(\"Python\",\"Class\",sep = \"_\")"
   ]
  },
  {
   "cell_type": "code",
   "execution_count": 47,
   "id": "75cc95c4",
   "metadata": {},
   "outputs": [],
   "source": [
    "l = ['abcde',\"Python\",\"Mango\"]"
   ]
  },
  {
   "cell_type": "code",
   "execution_count": 55,
   "id": "ef1a9148",
   "metadata": {},
   "outputs": [
    {
     "name": "stdout",
     "output_type": "stream",
     "text": [
      "a_b_c_d_e_\n",
      "P_y_t_h_o_n_\n",
      "M_a_n_g_o_\n"
     ]
    }
   ],
   "source": [
    "for i in l:\n",
    "    for j in i:\n",
    "        print(j,end = \"_\")\n",
    "    print()"
   ]
  },
  {
   "cell_type": "code",
   "execution_count": null,
   "id": "6b07799b",
   "metadata": {},
   "outputs": [],
   "source": []
  },
  {
   "cell_type": "code",
   "execution_count": null,
   "id": "5d1b7dd3",
   "metadata": {},
   "outputs": [],
   "source": []
  },
  {
   "cell_type": "code",
   "execution_count": 48,
   "id": "7b0805f1",
   "metadata": {},
   "outputs": [
    {
     "name": "stdout",
     "output_type": "stream",
     "text": [
      "abc\n",
      "Pyt\n",
      "Man\n"
     ]
    }
   ],
   "source": [
    "for i in l:\n",
    "    print(i[0:3])"
   ]
  },
  {
   "cell_type": "code",
   "execution_count": 22,
   "id": "e1045584",
   "metadata": {},
   "outputs": [
    {
     "name": "stdout",
     "output_type": "stream",
     "text": [
      "0 1 2 3 4 5 6 7 8 9 "
     ]
    }
   ],
   "source": [
    "for i in range(10):\n",
    "    print(i,end = \" \")"
   ]
  },
  {
   "cell_type": "code",
   "execution_count": 24,
   "id": "01446977",
   "metadata": {},
   "outputs": [
    {
     "name": "stdout",
     "output_type": "stream",
     "text": [
      "abc = def\n"
     ]
    }
   ],
   "source": [
    "print(\"abc\",\"def\",sep = \" = \")"
   ]
  },
  {
   "cell_type": "code",
   "execution_count": 36,
   "id": "85a59aa0",
   "metadata": {},
   "outputs": [],
   "source": [
    "l = [45, 8, 1, 8, 2, 7,\"ABC\", 8, 4, 52, 54, 7, 8]"
   ]
  },
  {
   "cell_type": "code",
   "execution_count": 17,
   "id": "8c13893f",
   "metadata": {},
   "outputs": [
    {
     "name": "stdout",
     "output_type": "stream",
     "text": [
      "[8, 8, 2, 8, 4, 52, 54, 8]\n",
      "[45, 1, 7.2, 7]\n"
     ]
    }
   ],
   "source": [
    "l = [45, 8, 1, 8, 2, 7.2, 8, 4, 52, 54, 7, 8]\n",
    "\n",
    "e_list = []\n",
    "o_list = []\n",
    "\n",
    "for i in l:\n",
    "    if i % 2 == 0:\n",
    "        e_list.append(i)\n",
    "    else:\n",
    "        o_list.append(i)\n",
    "        \n",
    "        \n",
    "print(e_list)\n",
    "print(o_list)"
   ]
  },
  {
   "cell_type": "code",
   "execution_count": 25,
   "id": "84a4351a",
   "metadata": {},
   "outputs": [
    {
     "name": "stdout",
     "output_type": "stream",
     "text": [
      "0\n",
      "1\n",
      "2\n",
      "3\n",
      "4\n"
     ]
    }
   ],
   "source": [
    "for i in range(10):\n",
    "    print(i)\n",
    "    if i == 4:\n",
    "        break\n",
    "    "
   ]
  },
  {
   "cell_type": "code",
   "execution_count": 29,
   "id": "7e295804",
   "metadata": {},
   "outputs": [
    {
     "name": "stdout",
     "output_type": "stream",
     "text": [
      "0\n",
      "1\n",
      "2\n",
      "3\n",
      "5\n",
      "6\n",
      "7\n",
      "8\n",
      "9\n"
     ]
    }
   ],
   "source": [
    "for i in range(10):\n",
    "    if i == 4:\n",
    "        continue\n",
    "    print(i)"
   ]
  },
  {
   "cell_type": "code",
   "execution_count": 33,
   "id": "dae15d01",
   "metadata": {},
   "outputs": [],
   "source": [
    "for i in \"python class\":\n",
    "    pass"
   ]
  },
  {
   "cell_type": "raw",
   "id": "b287ec33",
   "metadata": {},
   "source": [
    "*****\n",
    "*****\n",
    "*****\n",
    "*****\n",
    "*****"
   ]
  },
  {
   "cell_type": "code",
   "execution_count": 1,
   "id": "e67f3a9a",
   "metadata": {},
   "outputs": [
    {
     "name": "stdout",
     "output_type": "stream",
     "text": [
      "*****\n",
      "*****\n",
      "*****\n",
      "*****\n",
      "*****\n"
     ]
    }
   ],
   "source": [
    "print(\"*****\")\n",
    "print(\"*****\")\n",
    "print(\"*****\")\n",
    "print(\"*****\")\n",
    "print(\"*****\")\n"
   ]
  },
  {
   "cell_type": "code",
   "execution_count": 7,
   "id": "92f14114",
   "metadata": {},
   "outputs": [
    {
     "name": "stdout",
     "output_type": "stream",
     "text": [
      "* * * * * \n",
      "* * * * * \n",
      "* * * * * \n",
      "* * * * * \n",
      "* * * * * \n"
     ]
    }
   ],
   "source": [
    "for i in range(5):\n",
    "    for j in range(5):\n",
    "        print(\"*\", end = \" \")\n",
    "    print()"
   ]
  },
  {
   "cell_type": "code",
   "execution_count": 11,
   "id": "49581f9d",
   "metadata": {},
   "outputs": [
    {
     "name": "stdout",
     "output_type": "stream",
     "text": [
      "* \n",
      "* * \n",
      "* * * \n",
      "* * * * \n",
      "* * * * * \n"
     ]
    }
   ],
   "source": [
    "for i in range(5):\n",
    "    for j in range(i+1):\n",
    "        print(\"*\", end = \" \")\n",
    "    print()"
   ]
  },
  {
   "cell_type": "code",
   "execution_count": null,
   "id": "e6c31e88",
   "metadata": {},
   "outputs": [],
   "source": []
  },
  {
   "cell_type": "code",
   "execution_count": 73,
   "id": "be296c09",
   "metadata": {},
   "outputs": [
    {
     "name": "stdout",
     "output_type": "stream",
     "text": [
      "enter your num6\n",
      "******\n",
      "******\n",
      "******\n",
      "******\n",
      "******\n",
      "******\n"
     ]
    }
   ],
   "source": [
    "n = int(input(\"enter your num\"))\n",
    "for i in range(n):\n",
    "    print(\"*\"* n)"
   ]
  },
  {
   "cell_type": "code",
   "execution_count": 5,
   "id": "b4f80142",
   "metadata": {},
   "outputs": [
    {
     "name": "stdout",
     "output_type": "stream",
     "text": [
      "* * * * * \n",
      "* * * * * \n",
      "* * * * * \n",
      "* * * * * \n",
      "* * * * * \n"
     ]
    }
   ],
   "source": [
    "for i in range(5):\n",
    "    for j in range(5):\n",
    "        print(\"*\",end = \" \")\n",
    "    print()"
   ]
  },
  {
   "cell_type": "code",
   "execution_count": 20,
   "id": "068f1f84",
   "metadata": {},
   "outputs": [
    {
     "name": "stdout",
     "output_type": "stream",
     "text": [
      "* \n",
      "* * \n",
      "* * * \n",
      "* * * * \n",
      "* * * * * \n"
     ]
    }
   ],
   "source": [
    "temp = 1\n",
    "for i in range(5):\n",
    "    for j in range(temp):\n",
    "        print(\"*\",end = \" \")\n",
    "    print()\n",
    "    temp += 1"
   ]
  },
  {
   "cell_type": "code",
   "execution_count": 27,
   "id": "6f5c9a6d",
   "metadata": {},
   "outputs": [
    {
     "name": "stdout",
     "output_type": "stream",
     "text": [
      "* \n",
      "* * \n",
      "* * * \n",
      "* * * * \n",
      "* * * * * \n"
     ]
    }
   ],
   "source": [
    "for i in range(5):\n",
    "    for j in range(i+1):\n",
    "        print(\"*\",end = \" \")\n",
    "    print()\n"
   ]
  },
  {
   "cell_type": "code",
   "execution_count": 28,
   "id": "9a7b17c1",
   "metadata": {},
   "outputs": [
    {
     "name": "stdout",
     "output_type": "stream",
     "text": [
      "* * * * * \n",
      "* * * * \n",
      "* * * \n",
      "* * \n",
      "* \n"
     ]
    }
   ],
   "source": [
    "temp = 5\n",
    "for i in range(5):\n",
    "    for j in range(temp):\n",
    "        print(\"*\",end = \" \")\n",
    "    print()\n",
    "    temp -= 1"
   ]
  },
  {
   "cell_type": "code",
   "execution_count": 31,
   "id": "677bde51",
   "metadata": {},
   "outputs": [
    {
     "name": "stdout",
     "output_type": "stream",
     "text": [
      "* * * * * \n",
      "* * * * \n",
      "* * * \n",
      "* * \n",
      "* \n"
     ]
    }
   ],
   "source": [
    "for i in range(5,0,-1):\n",
    "    for j in range(i):\n",
    "        print(\"*\",end = \" \")\n",
    "    print()"
   ]
  },
  {
   "cell_type": "code",
   "execution_count": 33,
   "id": "1dbf2f6c",
   "metadata": {},
   "outputs": [
    {
     "name": "stdout",
     "output_type": "stream",
     "text": [
      "* * * * * \n",
      "* * * * \n",
      "* * * \n",
      "* * \n",
      "* \n"
     ]
    }
   ],
   "source": [
    "for i in range(5):\n",
    "    for j in range(i,5):\n",
    "        print(\"*\",end=\" \")\n",
    "    print()"
   ]
  },
  {
   "cell_type": "code",
   "execution_count": 35,
   "id": "7702c6fb",
   "metadata": {},
   "outputs": [
    {
     "name": "stdout",
     "output_type": "stream",
     "text": [
      "* \n",
      "* * \n",
      "* * * \n",
      "* * * * \n",
      "* * * * * \n"
     ]
    }
   ],
   "source": [
    "for i in range(1,6):\n",
    "    print(\"* \"*i)"
   ]
  },
  {
   "cell_type": "code",
   "execution_count": null,
   "id": "897edb12",
   "metadata": {},
   "outputs": [],
   "source": []
  },
  {
   "cell_type": "code",
   "execution_count": null,
   "id": "97ce995f",
   "metadata": {},
   "outputs": [],
   "source": []
  },
  {
   "cell_type": "code",
   "execution_count": null,
   "id": "be80fac4",
   "metadata": {},
   "outputs": [],
   "source": []
  },
  {
   "cell_type": "code",
   "execution_count": null,
   "id": "5b0584fe",
   "metadata": {},
   "outputs": [],
   "source": []
  },
  {
   "cell_type": "code",
   "execution_count": 33,
   "id": "6ea0e0b9",
   "metadata": {},
   "outputs": [
    {
     "name": "stdout",
     "output_type": "stream",
     "text": [
      "*********\n",
      "*********\n",
      "*********\n",
      "*********\n",
      "*********\n",
      "*********\n",
      "*********\n",
      "*********\n",
      "*********\n",
      "*********\n",
      "*********\n",
      "*********\n",
      "*********\n",
      "*********\n",
      "*********\n",
      "*********\n",
      "*********\n",
      "*********\n",
      "*********\n",
      "*********\n"
     ]
    }
   ],
   "source": [
    "for i in range(20):\n",
    "    print(\"*\"*9)"
   ]
  },
  {
   "cell_type": "code",
   "execution_count": null,
   "id": "0e922fcf",
   "metadata": {},
   "outputs": [],
   "source": []
  },
  {
   "cell_type": "raw",
   "id": "8da54944",
   "metadata": {},
   "source": [
    "*\n",
    "**\n",
    "***\n",
    "****\n",
    "*****"
   ]
  },
  {
   "cell_type": "code",
   "execution_count": 45,
   "id": "6e43eb13",
   "metadata": {},
   "outputs": [
    {
     "name": "stdout",
     "output_type": "stream",
     "text": [
      "*\n",
      "**\n",
      "***\n",
      "****\n",
      "*****\n"
     ]
    }
   ],
   "source": [
    "for i in range(5):\n",
    "    for j in range(i+1):\n",
    "        print('*',end = \"\")\n",
    "    print()\n"
   ]
  },
  {
   "cell_type": "code",
   "execution_count": 50,
   "id": "7cd71c01",
   "metadata": {},
   "outputs": [
    {
     "name": "stdout",
     "output_type": "stream",
     "text": [
      "😊\n",
      "😊😊\n",
      "😊😊😊\n",
      "😊😊😊😊\n",
      "😊😊😊😊😊\n"
     ]
    }
   ],
   "source": [
    "for i in range(1,6):\n",
    "    print(i*\"😊\")"
   ]
  },
  {
   "cell_type": "code",
   "execution_count": null,
   "id": "81a139f9",
   "metadata": {},
   "outputs": [],
   "source": []
  },
  {
   "cell_type": "code",
   "execution_count": 52,
   "id": "8316227f",
   "metadata": {},
   "outputs": [
    {
     "name": "stdout",
     "output_type": "stream",
     "text": [
      "🥳 🥳 🥳 🥳 🥳 \n",
      "🥳 🥳 🥳 🥳 \n",
      "🥳 🥳 🥳 \n",
      "🥳 🥳 \n",
      "🥳 \n"
     ]
    }
   ],
   "source": [
    "for i in range(5,0,-1):\n",
    "    for j in range(i):\n",
    "        print(\"🥳\",end = \" \")\n",
    "    print()"
   ]
  },
  {
   "cell_type": "raw",
   "id": "94b8e9d4",
   "metadata": {},
   "source": [
    "     *\n",
    "    **\n",
    "   ***\n",
    "  ****\n",
    " *****"
   ]
  },
  {
   "cell_type": "code",
   "execution_count": 42,
   "id": "72bdea94",
   "metadata": {},
   "outputs": [
    {
     "name": "stdout",
     "output_type": "stream",
     "text": [
      "     * \n",
      "    * * \n",
      "   * * * \n",
      "  * * * * \n",
      " * * * * * \n"
     ]
    }
   ],
   "source": [
    "for i in range(5,0,-1):\n",
    "    for j in range(i):\n",
    "        print(\" \",end = \"\")\n",
    "    for k in range(6,i,-1):\n",
    "        print(\"* \",end = \"\")\n",
    "    print()"
   ]
  },
  {
   "cell_type": "code",
   "execution_count": 44,
   "id": "04a1c59d",
   "metadata": {},
   "outputs": [
    {
     "name": "stdout",
     "output_type": "stream",
     "text": [
      " * * * * * \n",
      "  * * * * \n",
      "   * * * \n",
      "    * * \n",
      "     * \n"
     ]
    }
   ],
   "source": [
    "for i in range(5,0,-1):\n",
    "    for k in range(6,i,-1):\n",
    "        print(\" \",end = \"\")\n",
    "    for j in range(i):\n",
    "        print(\"* \",end = \"\")\n",
    "    \n",
    "    print()"
   ]
  },
  {
   "cell_type": "code",
   "execution_count": 45,
   "id": "c41c7c4e",
   "metadata": {},
   "outputs": [
    {
     "name": "stdout",
     "output_type": "stream",
     "text": [
      "     * \n",
      "    * * \n",
      "   * * * \n",
      "  * * * * \n",
      " * * * * * \n",
      " * * * * * \n",
      "  * * * * \n",
      "   * * * \n",
      "    * * \n",
      "     * \n"
     ]
    }
   ],
   "source": [
    "for i in range(5,0,-1):\n",
    "    for j in range(i):\n",
    "        print(\" \",end = \"\")\n",
    "    for k in range(6,i,-1):\n",
    "        print(\"* \",end = \"\")\n",
    "    print()\n",
    "\n",
    "\n",
    "for i in range(5,0,-1):\n",
    "    for k in range(6,i,-1):\n",
    "        print(\" \",end = \"\")\n",
    "    for j in range(i):\n",
    "        print(\"* \",end = \"\")\n",
    "    \n",
    "    print()"
   ]
  },
  {
   "cell_type": "raw",
   "id": "d2fd246e",
   "metadata": {},
   "source": [
    "      *\n",
    "     **\n",
    "    ***\n",
    "   ****\n",
    "  *****\n",
    " ******"
   ]
  },
  {
   "cell_type": "code",
   "execution_count": null,
   "id": "e4b70301",
   "metadata": {},
   "outputs": [],
   "source": [
    "     *\n",
    "    **\n",
    "   ***\n",
    "  ****\n",
    " *****"
   ]
  },
  {
   "cell_type": "code",
   "execution_count": null,
   "id": "7ebc9055",
   "metadata": {},
   "outputs": [],
   "source": []
  },
  {
   "cell_type": "raw",
   "id": "2515d40d",
   "metadata": {},
   "source": [
    "     *\n",
    "    **\n",
    "   ***\n",
    "  ****\n",
    " *****"
   ]
  },
  {
   "cell_type": "code",
   "execution_count": 57,
   "id": "3189da9b",
   "metadata": {},
   "outputs": [
    {
     "name": "stdout",
     "output_type": "stream",
     "text": [
      "     *\n",
      "    **\n",
      "   ***\n",
      "  ****\n",
      " *****\n"
     ]
    }
   ],
   "source": [
    "for i in range(5):\n",
    "    for x in range(5-i):\n",
    "        print(end = \" \")\n",
    "    for j in range(i+1):\n",
    "        print('*',end = \"\")\n",
    "    print()\n",
    "    temp -= 1"
   ]
  },
  {
   "cell_type": "code",
   "execution_count": 58,
   "id": "59deedfa",
   "metadata": {},
   "outputs": [
    {
     "name": "stdout",
     "output_type": "stream",
     "text": [
      "     *\n",
      "    **\n",
      "   ***\n",
      "  ****\n",
      " *****\n"
     ]
    }
   ],
   "source": [
    "t = 5\n",
    "for i in range(5):\n",
    "    for j in range(t):\n",
    "        print(\" \",end = \"\")\n",
    "        \n",
    "    for k in range(i+1):\n",
    "        print(\"*\",end = \"\")\n",
    "    print()\n",
    "    t -= 1"
   ]
  },
  {
   "cell_type": "raw",
   "id": "7be8e8a1",
   "metadata": {},
   "source": [
    "     * \n",
    "    * * \n",
    "   * * * \n",
    "  * * * * \n",
    " * * * * * "
   ]
  },
  {
   "cell_type": "code",
   "execution_count": 59,
   "id": "549ffcb0",
   "metadata": {},
   "outputs": [
    {
     "name": "stdout",
     "output_type": "stream",
     "text": [
      "     * \n",
      "    * * \n",
      "   * * * \n",
      "  * * * * \n",
      " * * * * * \n"
     ]
    }
   ],
   "source": [
    "t = 5\n",
    "for i in range(5):\n",
    "    for j in range(t):\n",
    "        print(\" \",end = \"\")\n",
    "        \n",
    "    for k in range(i+1):\n",
    "        print(\"* \",end = \"\")\n",
    "    print()\n",
    "    t -= 1"
   ]
  },
  {
   "cell_type": "code",
   "execution_count": 11,
   "id": "bd0fcd88",
   "metadata": {},
   "outputs": [
    {
     "name": "stdout",
     "output_type": "stream",
     "text": [
      "     🥳\n",
      "    🥳🥳\n",
      "   🥳🥳🥳\n",
      "  🥳🥳🥳🥳\n",
      " 🥳🥳🥳🥳🥳\n"
     ]
    }
   ],
   "source": [
    "for i in range(5):\n",
    "    for j in range(5,i,-1):\n",
    "        print(\" \",end = \"\")\n",
    "    for k in range(i+1):\n",
    "        print(\"🥳\",end = \"\")\n",
    "    print()"
   ]
  },
  {
   "cell_type": "code",
   "execution_count": 18,
   "id": "7f1ffed4",
   "metadata": {},
   "outputs": [
    {
     "name": "stdout",
     "output_type": "stream",
     "text": [
      " 🥳🥳🥳🥳🥳\n",
      "  🥳🥳🥳🥳\n",
      "   🥳🥳🥳\n",
      "    🥳🥳\n",
      "     🥳\n"
     ]
    }
   ],
   "source": [
    "for i in range(5):\n",
    "    for j in range(i+1):\n",
    "        print(end = \" \")\n",
    "    for k in range(5,i,-1):\n",
    "        print(\"🥳\",end = \"\")\n",
    "    print()"
   ]
  },
  {
   "cell_type": "code",
   "execution_count": 19,
   "id": "de8b1404",
   "metadata": {},
   "outputs": [
    {
     "name": "stdout",
     "output_type": "stream",
     "text": [
      "   * * * * *\n",
      "    * * * *\n",
      "     * * *\n",
      "      * *\n",
      "       *\n"
     ]
    }
   ],
   "source": [
    "space = \" \"\n",
    "star = \" *\"\n",
    "temp = 5\n",
    "\n",
    "for i in range(1,6):\n",
    "    print(space * i,star * temp)\n",
    "    temp -= 1"
   ]
  },
  {
   "cell_type": "code",
   "execution_count": 20,
   "id": "e4bc8e1c",
   "metadata": {},
   "outputs": [
    {
     "name": "stdout",
     "output_type": "stream",
     "text": [
      "a\n",
      "s\n",
      "d\n",
      "f\n",
      "g\n",
      "f\n",
      "k\n",
      "d\n",
      "s\n"
     ]
    }
   ],
   "source": [
    "i = 5\n",
    "for i in \"asdfgfkds\":\n",
    "    print(i)"
   ]
  },
  {
   "cell_type": "code",
   "execution_count": null,
   "id": "dbf65fcf",
   "metadata": {},
   "outputs": [],
   "source": []
  },
  {
   "cell_type": "code",
   "execution_count": null,
   "id": "21edb0c2",
   "metadata": {},
   "outputs": [],
   "source": []
  },
  {
   "cell_type": "code",
   "execution_count": 60,
   "id": "5843027d",
   "metadata": {},
   "outputs": [
    {
     "name": "stdout",
     "output_type": "stream",
     "text": [
      " * * * * * \n",
      "  * * * * \n",
      "   * * * \n",
      "    * * \n",
      "     * \n"
     ]
    }
   ],
   "source": [
    "t = 5\n",
    "for i in range(5):\n",
    "    for k in range(i+1):\n",
    "        print(\" \",end = \"\")\n",
    "        \n",
    "    for j in range(t):\n",
    "        print(\"* \",end = \"\")\n",
    "        \n",
    "    print()\n",
    "    t -= 1"
   ]
  },
  {
   "cell_type": "code",
   "execution_count": 41,
   "id": "bf978113",
   "metadata": {
    "scrolled": true
   },
   "outputs": [
    {
     "name": "stdout",
     "output_type": "stream",
     "text": [
      "     * \n",
      "    * * \n",
      "   * * * \n",
      "  * * * * \n",
      " * * * * * \n",
      "  * * * * \n",
      "   * * * \n",
      "    * * \n",
      "     * \n"
     ]
    }
   ],
   "source": [
    "t = 5\n",
    "for i in range(5):\n",
    "    for j in range(t):\n",
    "        print(\" \",end = \"\")\n",
    "        \n",
    "    for k in range(i+1):\n",
    "        print(\"* \",end = \"\")\n",
    "    print()\n",
    "    t -= 1\n",
    "    \n",
    "t = 4\n",
    "for i in range(4):\n",
    "    for k in range(i+2):\n",
    "        print(\" \",end = \"\")\n",
    "        \n",
    "    for j in range(t):\n",
    "        print(\"* \",end = \"\")\n",
    "        \n",
    "    print()\n",
    "    t -= 1"
   ]
  },
  {
   "cell_type": "raw",
   "id": "2d41ba72",
   "metadata": {},
   "source": [
    "      *\n",
    "     **\n",
    "    ***\n",
    "   ****\n",
    "  *****\n",
    " ******\n",
    "*******\n",
    "  *****\n",
    "   ****\n",
    "    ***\n",
    "     **\n",
    "      *"
   ]
  },
  {
   "cell_type": "code",
   "execution_count": 22,
   "id": "62cf814c",
   "metadata": {},
   "outputs": [
    {
     "name": "stdout",
     "output_type": "stream",
     "text": [
      "      *\n",
      "     **\n",
      "    ***\n",
      "   ****\n",
      "  *****\n",
      " ******\n",
      "  *****\n",
      "   ****\n",
      "    ***\n",
      "     **\n",
      "      *\n"
     ]
    }
   ],
   "source": [
    "a=1\n",
    "for i in range(6,0,-1):\n",
    "    for j in range(i):\n",
    "        print(\" \",end=\"\")\n",
    "    for k in range(a):\n",
    "        print(\"*\",end=\"\")\n",
    "    a+=1\n",
    "    print()\n",
    "a=1\n",
    "for i in range(5,0,-1):\n",
    "    for k in range(a+1):\n",
    "        print(\" \",end=\"\")\n",
    "    for j in range(i):\n",
    "        print(\"*\",end=\"\")\n",
    "\n",
    "    a+=1\n",
    "    print()\n",
    "    \n",
    "    "
   ]
  },
  {
   "cell_type": "code",
   "execution_count": 44,
   "id": "94fff73a",
   "metadata": {},
   "outputs": [
    {
     "data": {
      "text/plain": [
       "'AAAAA'"
      ]
     },
     "execution_count": 44,
     "metadata": {},
     "output_type": "execute_result"
    }
   ],
   "source": [
    "\"A\" * 5"
   ]
  },
  {
   "cell_type": "code",
   "execution_count": 52,
   "id": "ef46599e",
   "metadata": {},
   "outputs": [
    {
     "name": "stdout",
     "output_type": "stream",
     "text": [
      "how many lines you want :- 5\n",
      " * * * * * \n",
      "  * * * * \n",
      "   * * * \n",
      "    * * \n",
      "     * \n"
     ]
    }
   ],
   "source": [
    "star = \"* \"\n",
    "space = \" \"\n",
    "\n",
    "lines = int(input(\"how many lines you want :- \"))\n",
    "\n",
    "for i in range(lines):\n",
    "    bhumi = lines - i \n",
    "    print(space * i , star * bhumi)"
   ]
  },
  {
   "cell_type": "code",
   "execution_count": null,
   "id": "98e2a873",
   "metadata": {},
   "outputs": [],
   "source": []
  },
  {
   "cell_type": "code",
   "execution_count": null,
   "id": "4843b75e",
   "metadata": {},
   "outputs": [],
   "source": []
  },
  {
   "cell_type": "code",
   "execution_count": null,
   "id": "d77f3807",
   "metadata": {},
   "outputs": [],
   "source": []
  },
  {
   "cell_type": "code",
   "execution_count": null,
   "id": "d68e0311",
   "metadata": {},
   "outputs": [],
   "source": []
  },
  {
   "cell_type": "code",
   "execution_count": null,
   "id": "1b464ff3",
   "metadata": {},
   "outputs": [],
   "source": []
  },
  {
   "cell_type": "code",
   "execution_count": 43,
   "id": "de9aab55",
   "metadata": {},
   "outputs": [
    {
     "name": "stdout",
     "output_type": "stream",
     "text": [
      "how many lines you want :- 10\n",
      "            *\n",
      "           * *\n",
      "          * * *\n",
      "         * * * *\n",
      "        * * * * *\n",
      "       * * * * * *\n",
      "      * * * * * * *\n",
      "     * * * * * * * *\n",
      "    * * * * * * * * *\n",
      "   * * * * * * * * * *\n"
     ]
    }
   ],
   "source": [
    "\n",
    "for i in range(lines):\n",
    "    s = lines - i\n",
    "    print(s * space,star * (i+1))"
   ]
  },
  {
   "cell_type": "raw",
   "id": "94b9876f",
   "metadata": {},
   "source": [
    "            *\n",
    "           * *\n",
    "          * * *\n",
    "         * * * *"
   ]
  },
  {
   "cell_type": "code",
   "execution_count": 45,
   "id": "43c10363",
   "metadata": {},
   "outputs": [
    {
     "name": "stdout",
     "output_type": "stream",
     "text": [
      "how many lines you want :- 6\n",
      "        *\n",
      "       * *\n",
      "      * * *\n",
      "     * * * *\n",
      "    * * * * *\n",
      "   * * * * * *\n"
     ]
    }
   ],
   "source": [
    "star = \" *\"\n",
    "space = \" \"\n",
    "\n",
    "lines = int(input(\"how many lines you want :- \"))\n",
    "\n",
    "for i in range(lines):\n",
    "    s = lines - i\n",
    "    print(s * space,star * (i+1))"
   ]
  },
  {
   "cell_type": "code",
   "execution_count": null,
   "id": "a042974d",
   "metadata": {},
   "outputs": [],
   "source": []
  },
  {
   "cell_type": "code",
   "execution_count": null,
   "id": "642b2565",
   "metadata": {},
   "outputs": [],
   "source": []
  },
  {
   "cell_type": "code",
   "execution_count": null,
   "id": "56d11471",
   "metadata": {},
   "outputs": [],
   "source": []
  },
  {
   "cell_type": "code",
   "execution_count": null,
   "id": "6c7dcbba",
   "metadata": {},
   "outputs": [],
   "source": []
  },
  {
   "cell_type": "code",
   "execution_count": 85,
   "id": "8e8bb205",
   "metadata": {},
   "outputs": [
    {
     "name": "stdout",
     "output_type": "stream",
     "text": [
      "😍\n",
      "😍😍\n",
      "😍😍😍\n",
      "😍😍😍😍\n",
      "😍😍😍😍😍\n"
     ]
    }
   ],
   "source": [
    "for i in range(1,6):\n",
    "    print(\"😍\"*i)"
   ]
  },
  {
   "cell_type": "code",
   "execution_count": 86,
   "id": "434d7627-cde9-4136-b0e2-bed3824f191f",
   "metadata": {
    "id": "434d7627-cde9-4136-b0e2-bed3824f191f",
    "outputId": "a9eeb954-4c6d-4198-a1e4-e60f0945ac08"
   },
   "outputs": [
    {
     "name": "stdout",
     "output_type": "stream",
     "text": [
      "* * * * * \n",
      "* * * * \n",
      "* * * \n",
      "* * \n",
      "* \n"
     ]
    }
   ],
   "source": [
    "for i in range(5,0,-1):\n",
    "    for j in range(i):\n",
    "        print('*',end = ' ')\n",
    "    print()"
   ]
  },
  {
   "cell_type": "code",
   "execution_count": null,
   "id": "eea476e2",
   "metadata": {},
   "outputs": [],
   "source": []
  },
  {
   "cell_type": "code",
   "execution_count": 87,
   "id": "fcaca9a8",
   "metadata": {},
   "outputs": [
    {
     "name": "stdout",
     "output_type": "stream",
     "text": [
      "* \n",
      "* * \n",
      "* * * \n",
      "* * * * \n",
      "* * * * * \n",
      "* * * * \n",
      "* * * \n",
      "* * \n",
      "* \n"
     ]
    }
   ],
   "source": [
    "for i in range(4):\n",
    "    for j in range(i+1):\n",
    "        print('*',end = ' ')\n",
    "    print()\n",
    "\n",
    "    \n",
    "    \n",
    "for i in range(5,0,-1):\n",
    "    for j in range(i):\n",
    "        print('*',end = \" \")\n",
    "    print()"
   ]
  },
  {
   "cell_type": "code",
   "execution_count": 92,
   "id": "46ac2872",
   "metadata": {},
   "outputs": [
    {
     "name": "stdout",
     "output_type": "stream",
     "text": [
      "Enter5\n",
      "  * * * * *\n",
      "   * * * *\n",
      "    * * *\n",
      "     * *\n",
      "      *\n"
     ]
    }
   ],
   "source": [
    "space=\" \"\n",
    "star=\" *\"\n",
    "\n",
    "\n",
    "s = int(input('Enter'))\n",
    "for i in range(s):\n",
    "    q=s-i\n",
    "    print(i*space,q*star)"
   ]
  },
  {
   "cell_type": "code",
   "execution_count": 93,
   "id": "905f794e",
   "metadata": {},
   "outputs": [
    {
     "name": "stdout",
     "output_type": "stream",
     "text": [
      "  * * * * *\n",
      "   * * * *\n",
      "    * * *\n",
      "     * *\n",
      "      *\n"
     ]
    }
   ],
   "source": [
    "x = ' '\n",
    "y = ' *'\n",
    "\n",
    "for i in range(5):\n",
    "    p = 5 - i\n",
    "    print(x * i,y * p)"
   ]
  },
  {
   "cell_type": "code",
   "execution_count": null,
   "id": "d9b81f02",
   "metadata": {},
   "outputs": [],
   "source": []
  },
  {
   "cell_type": "code",
   "execution_count": null,
   "id": "10e5f551",
   "metadata": {},
   "outputs": [],
   "source": []
  },
  {
   "cell_type": "code",
   "execution_count": 94,
   "id": "40e923e6",
   "metadata": {},
   "outputs": [
    {
     "name": "stdout",
     "output_type": "stream",
     "text": [
      "        *\n",
      "       * *\n",
      "      * * *\n",
      "     * * * *\n",
      "    * * * * *\n",
      "   * * * * * *\n",
      "    * * * * *\n",
      "     * * * *\n",
      "      * * *\n",
      "       * *\n",
      "        *\n"
     ]
    }
   ],
   "source": [
    "x=\" \"\n",
    "y=\" *\"\n",
    "\n",
    "for i in range(1,7-1):\n",
    "    j=7-i\n",
    "    print(x*j,y*i)\n",
    "for p in range(1,7):\n",
    "    q=7-p\n",
    "    print(p*x,q*y)"
   ]
  },
  {
   "cell_type": "code",
   "execution_count": 95,
   "id": "15f09757",
   "metadata": {},
   "outputs": [
    {
     "name": "stdout",
     "output_type": "stream",
     "text": [
      "Enter how many stars you want5\n",
      "  * * * * *\n",
      "   * * * *\n",
      "    * * *\n",
      "     * *\n",
      "      *\n"
     ]
    }
   ],
   "source": [
    "space = ' '\n",
    "star = ' *'\n",
    "\n",
    "number = int(input(\"Enter how many stars you want\"))\n",
    "\n",
    "for i in range(number):\n",
    "    x = number - i\n",
    "    print(space * i,star * x)"
   ]
  },
  {
   "cell_type": "code",
   "execution_count": 4,
   "id": "4988e320",
   "metadata": {},
   "outputs": [
    {
     "name": "stdout",
     "output_type": "stream",
     "text": [
      "* * * * * \n",
      " * * * * \n",
      "  * * * \n",
      "   * * \n",
      "    * \n"
     ]
    }
   ],
   "source": [
    "for i in range(5,0,-1):\n",
    "    for j in range(5-i):\n",
    "        print(' ',end = '')\n",
    "        \n",
    "    for k in range(i):\n",
    "        print('* ',end = '')\n",
    "    print()"
   ]
  },
  {
   "cell_type": "code",
   "execution_count": null,
   "id": "8151e203",
   "metadata": {},
   "outputs": [],
   "source": []
  },
  {
   "cell_type": "code",
   "execution_count": 7,
   "id": "1bc5b016",
   "metadata": {},
   "outputs": [
    {
     "name": "stdout",
     "output_type": "stream",
     "text": [
      "Enter your Units89\n",
      "Free Bill\n"
     ]
    }
   ],
   "source": [
    "unit = float(input(\"Enter your Units\"))\n",
    "\n",
    "if unit <= 100:\n",
    "    total_bill = \"Free Bill\"\n",
    "elif unit > 100 and unit <= 200:\n",
    "    payable_unit = unit - 100\n",
    "    total_bill = payable_unit * 5\n",
    "else:\n",
    "    payable_unit = unit - 200\n",
    "    total_bill = (payable_unit * 10) + 500\n",
    "\n",
    "    \n",
    "    \n",
    "print(total_bill)"
   ]
  },
  {
   "cell_type": "code",
   "execution_count": 12,
   "id": "6f2f9e1d",
   "metadata": {},
   "outputs": [
    {
     "name": "stdout",
     "output_type": "stream",
     "text": [
      "Enter your Units10.5\n",
      "21.0\n"
     ]
    }
   ],
   "source": [
    "below_100 = 2\n",
    "unit_200 = 5\n",
    "above_200 = 10\n",
    "\n",
    "\n",
    "unit = float(input(\"Enter your Units\"))\n",
    "\n",
    "if unit <= 100:\n",
    "    total_bill = unit * below_100\n",
    "elif unit > 100 and unit <= 200:\n",
    "    slot1 = 100 * below_100\n",
    "    slot2 = (unit - 100) * unit_200\n",
    "    total_bill = slot1 + slot2\n",
    "else:\n",
    "    slot1 = 100 * below_100\n",
    "    slot2 = 100 * unit_200\n",
    "    slot3 = (unit - 200) * above_200\n",
    "    total_bill = slot1 + slot2 + slot3\n",
    "\n",
    "    \n",
    "    \n",
    "print(total_bill)"
   ]
  },
  {
   "cell_type": "code",
   "execution_count": null,
   "id": "d0dfebf2",
   "metadata": {},
   "outputs": [],
   "source": []
  },
  {
   "cell_type": "code",
   "execution_count": 3,
   "id": "9e0eb7be",
   "metadata": {},
   "outputs": [
    {
     "name": "stdout",
     "output_type": "stream",
     "text": [
      "5\n",
      "      *\n",
      "     * *\n",
      "    * * *\n",
      "   * * * *\n",
      "  * * * * *\n"
     ]
    }
   ],
   "source": [
    "space  = ' '\n",
    "star = ' *'\n",
    "temp = 1\n",
    "stars = int(input())\n",
    "for i in range(stars,0,-1):\n",
    "    print(space * i,end = '')\n",
    "    print(star * temp)\n",
    "    temp += 1 "
   ]
  },
  {
   "cell_type": "code",
   "execution_count": 10,
   "id": "8c8f74a2",
   "metadata": {},
   "outputs": [
    {
     "name": "stdout",
     "output_type": "stream",
     "text": [
      "      *\n",
      "     * *\n",
      "    * * *\n",
      "   * * * *\n",
      "  * * * * *\n"
     ]
    }
   ],
   "source": [
    "for i in range(5,0,-1):\n",
    "    print(space * i,end = '')\n",
    "    for j in range(6-i):\n",
    "        print(star,end = '')\n",
    "    print()"
   ]
  },
  {
   "cell_type": "code",
   "execution_count": null,
   "id": "67a7bd6f",
   "metadata": {},
   "outputs": [],
   "source": []
  },
  {
   "cell_type": "code",
   "execution_count": 5,
   "id": "fefb330f",
   "metadata": {},
   "outputs": [
    {
     "name": "stdout",
     "output_type": "stream",
     "text": [
      "*\n",
      "****\n"
     ]
    }
   ],
   "source": [
    "count = 0\n",
    "for i in range(1,5,2):\n",
    "    count += i\n",
    "    print('*' * (count))"
   ]
  },
  {
   "cell_type": "code",
   "execution_count": 6,
   "id": "5c06169b",
   "metadata": {},
   "outputs": [
    {
     "name": "stdout",
     "output_type": "stream",
     "text": [
      "*\n",
      "***\n",
      "*****\n",
      "***\n",
      "*\n"
     ]
    }
   ],
   "source": []
  },
  {
   "cell_type": "code",
   "execution_count": 13,
   "id": "9f67d519",
   "metadata": {},
   "outputs": [
    {
     "name": "stdout",
     "output_type": "stream",
     "text": [
      "*\n",
      "***\n",
      "*****\n",
      "*******\n",
      "*****\n",
      "***\n",
      "*\n"
     ]
    }
   ],
   "source": [
    "row = 5\n",
    "\n",
    "for i in range(1,row + 1,2):\n",
    "    print('*' * i)\n",
    "    \n",
    "for i in range(row+2,0,-2):\n",
    "    print('*' * i)"
   ]
  },
  {
   "cell_type": "code",
   "execution_count": 28,
   "id": "cddbcc5e",
   "metadata": {},
   "outputs": [
    {
     "name": "stdout",
     "output_type": "stream",
     "text": [
      "      *\n",
      "     **\n",
      "    ***\n",
      "   ****\n",
      "  *****\n"
     ]
    }
   ],
   "source": [
    "num = 6\n",
    "for i in range(5,0,-1):\n",
    "    \n",
    "    j = num - i\n",
    "    print(\" \" * i,\"*\" * j)\n",
    "    "
   ]
  },
  {
   "cell_type": "code",
   "execution_count": 36,
   "id": "2668952a",
   "metadata": {},
   "outputs": [
    {
     "name": "stdout",
     "output_type": "stream",
     "text": [
      "     *\n",
      "    **\n",
      "   ***\n",
      "  ****\n",
      " *****\n"
     ]
    }
   ],
   "source": [
    "for i in range(5,0,-1):\n",
    "    print(\" \" * i,end = \"\")\n",
    "    for j in range(i,6):\n",
    "        print(\"*\",end = \"\")\n",
    "    print()"
   ]
  },
  {
   "cell_type": "code",
   "execution_count": null,
   "id": "63d77b00",
   "metadata": {},
   "outputs": [],
   "source": []
  },
  {
   "cell_type": "code",
   "execution_count": 29,
   "id": "6fbfdf4a",
   "metadata": {},
   "outputs": [
    {
     "data": {
      "text/plain": [
       "'EshaEshaEshaEshaEsha'"
      ]
     },
     "execution_count": 29,
     "metadata": {},
     "output_type": "execute_result"
    }
   ],
   "source": [
    "\"Esha\" * 5"
   ]
  },
  {
   "cell_type": "code",
   "execution_count": null,
   "id": "eaf843c4",
   "metadata": {},
   "outputs": [],
   "source": []
  },
  {
   "cell_type": "code",
   "execution_count": null,
   "id": "06a88200",
   "metadata": {},
   "outputs": [],
   "source": []
  },
  {
   "cell_type": "code",
   "execution_count": null,
   "id": "55a8eb90",
   "metadata": {},
   "outputs": [],
   "source": []
  },
  {
   "cell_type": "code",
   "execution_count": null,
   "id": "749a0fd0",
   "metadata": {},
   "outputs": [],
   "source": []
  },
  {
   "cell_type": "code",
   "execution_count": 16,
   "id": "57cf22ca",
   "metadata": {},
   "outputs": [
    {
     "name": "stdout",
     "output_type": "stream",
     "text": [
      "          \n",
      "        *****\n",
      "      \n",
      "    ****\n",
      "  \n"
     ]
    }
   ],
   "source": [
    "num = 6\n",
    "for j in range(5,0,-1):\n",
    "    for i in range(j):\n",
    "        print(' ',end = ' ')\n",
    "        \n",
    "    num = j - num\n",
    "    print(\"*\"*num,end = '')\n",
    "    \n",
    "    print()\n"
   ]
  },
  {
   "cell_type": "code",
   "execution_count": null,
   "id": "7901ef44",
   "metadata": {},
   "outputs": [],
   "source": []
  },
  {
   "cell_type": "code",
   "execution_count": null,
   "id": "8e807e25",
   "metadata": {},
   "outputs": [],
   "source": []
  },
  {
   "cell_type": "code",
   "execution_count": null,
   "id": "54c2c6c7",
   "metadata": {},
   "outputs": [],
   "source": []
  },
  {
   "cell_type": "code",
   "execution_count": null,
   "id": "617d1753",
   "metadata": {},
   "outputs": [],
   "source": [
    "      *\n",
    "    * *\n",
    "  * * *\n",
    "* * * *"
   ]
  },
  {
   "cell_type": "code",
   "execution_count": 10,
   "id": "567076e9",
   "metadata": {},
   "outputs": [
    {
     "name": "stdout",
     "output_type": "stream",
     "text": [
      "     *\n",
      "    **\n",
      "   ***\n",
      "  ****\n",
      " *****\n"
     ]
    }
   ],
   "source": [
    "temp = 1\n",
    "for i in range(5,0,-1):\n",
    "    for j in range(i):\n",
    "        print(\" \",end = \"\")\n",
    "    for k in range(temp):\n",
    "        print(\"*\",end = \"\")\n",
    "    print()\n",
    "    temp += 1"
   ]
  },
  {
   "cell_type": "code",
   "execution_count": null,
   "id": "8ee1d4cc",
   "metadata": {},
   "outputs": [],
   "source": []
  },
  {
   "cell_type": "code",
   "execution_count": 20,
   "id": "77b68dd7",
   "metadata": {},
   "outputs": [
    {
     "name": "stdout",
     "output_type": "stream",
     "text": [
      "     *\n",
      "    ***\n",
      "   *****\n",
      "  *******\n",
      " *********\n"
     ]
    }
   ],
   "source": [
    "temp = 1\n",
    "for i in range(5,0,-1):\n",
    "    for j in range(i):\n",
    "        print(\" \",end = \"\")\n",
    "    for k in range(temp):\n",
    "        print(\"*\",end = \"\")\n",
    "    for x in range(temp-1):\n",
    "        print(\"*\",end = \"\")\n",
    "        \n",
    "        \n",
    "    print()\n",
    "    temp += 1"
   ]
  },
  {
   "cell_type": "code",
   "execution_count": 32,
   "id": "c6d5b7da",
   "metadata": {},
   "outputs": [
    {
     "name": "stdout",
     "output_type": "stream",
     "text": [
      "     *\n",
      "    ***\n",
      "   *****\n",
      "  *******\n",
      " *********\n"
     ]
    }
   ],
   "source": [
    "temp = 1\n",
    "for i in range(5,0,-1):\n",
    "    for j in range(i):\n",
    "        print(\" \",end = \"\")\n",
    "    for k in range(temp):\n",
    "        print(\"*\",end = \"\")\n",
    "        if k == 0:\n",
    "            continue\n",
    "        print(\"*\",end = \"\")\n",
    "        \n",
    "    print()\n",
    "    temp += 1"
   ]
  },
  {
   "cell_type": "code",
   "execution_count": 1,
   "id": "b5e6b023",
   "metadata": {},
   "outputs": [],
   "source": [
    "s = \"This is my class\""
   ]
  },
  {
   "cell_type": "code",
   "execution_count": 3,
   "id": "ea649680",
   "metadata": {},
   "outputs": [],
   "source": [
    "c = 0\n",
    "for i in s:\n",
    "    c += 1"
   ]
  },
  {
   "cell_type": "code",
   "execution_count": 4,
   "id": "e44c8b2d",
   "metadata": {},
   "outputs": [
    {
     "name": "stdout",
     "output_type": "stream",
     "text": [
      "1\n"
     ]
    }
   ],
   "source": [
    "print()"
   ]
  },
  {
   "cell_type": "code",
   "execution_count": null,
   "id": "b9a1cc35",
   "metadata": {},
   "outputs": [],
   "source": []
  }
 ],
 "metadata": {
  "colab": {
   "provenance": []
  },
  "kernelspec": {
   "display_name": "Python 3 (ipykernel)",
   "language": "python",
   "name": "python3"
  },
  "language_info": {
   "codemirror_mode": {
    "name": "ipython",
    "version": 3
   },
   "file_extension": ".py",
   "mimetype": "text/x-python",
   "name": "python",
   "nbconvert_exporter": "python",
   "pygments_lexer": "ipython3",
   "version": "3.9.13"
  }
 },
 "nbformat": 4,
 "nbformat_minor": 5
}
